{
  "nbformat": 4,
  "nbformat_minor": 0,
  "metadata": {
    "colab": {
      "provenance": [],
      "include_colab_link": true
    },
    "kernelspec": {
      "name": "python3",
      "display_name": "Python 3"
    }
  },
  "cells": [
    {
      "cell_type": "markdown",
      "metadata": {
        "id": "view-in-github",
        "colab_type": "text"
      },
      "source": [
        "<a href=\"https://colab.research.google.com/github/malteborgmann/ITU-Natural-Language-Processing/blob/main/HW1_Notebook.ipynb\" target=\"_parent\"><img src=\"https://colab.research.google.com/assets/colab-badge.svg\" alt=\"Open In Colab\"/></a>"
      ]
    },
    {
      "cell_type": "markdown",
      "metadata": {
        "id": "sIUhQG2vbzSJ"
      },
      "source": [
        "# YZV 405E HW1: Processing Raw Text"
      ]
    },
    {
      "cell_type": "markdown",
      "metadata": {
        "id": "UJDmS7uDcLk7"
      },
      "source": [
        "The most important source of texts is undoubtedly the Web. It's convenient to have existing text collections to explore, such as a corpora. However, you probably have your own text sources in mind, and need to learn how to access them.\n",
        "\n",
        "The goal of this homework is to teach how to:\n",
        "\n",
        "*   Write programs to access text from the web, in order to get hold of an unlimited range of language material.\n",
        "*   Split documents up into individual words and punctuation symbols, so we can carry out an analysis.\n",
        "*   Write programs to produce a formatted output.\n",
        "\n",
        "In order to address these, we will be covering key concepts in NLP, including tokenization and stemming. Along the way you will consolidate your Python knowledge and learn about regular expressions. Since so much text on the web is in HTML format, we will also see how to dispense with markup.\n",
        "\n",
        "\n",
        "\n",
        "\n",
        "\n",
        "\n",
        "\n",
        "\n",
        "\n",
        "\n",
        "\n"
      ]
    },
    {
      "cell_type": "markdown",
      "metadata": {
        "id": "ON_hi6mdeJNj"
      },
      "source": [
        "**To be able to run the codes below, download nltk.**"
      ]
    },
    {
      "cell_type": "code",
      "metadata": {
        "id": "YiDc34D84vDV",
        "colab": {
          "base_uri": "https://localhost:8080/"
        },
        "outputId": "010df35a-3f52-4cf4-ac3f-ff7ab91dacce"
      },
      "source": [
        "import nltk\n",
        "nltk.download('book')\n",
        "nltk.download('nps_chat')\n",
        "nltk.download('words')\n",
        "nltk.download('punkt_tab')"
      ],
      "execution_count": 83,
      "outputs": [
        {
          "output_type": "stream",
          "name": "stderr",
          "text": [
            "[nltk_data] Downloading collection 'book'\n",
            "[nltk_data]    | \n",
            "[nltk_data]    | Downloading package abc to /root/nltk_data...\n",
            "[nltk_data]    |   Package abc is already up-to-date!\n",
            "[nltk_data]    | Downloading package brown to /root/nltk_data...\n",
            "[nltk_data]    |   Package brown is already up-to-date!\n",
            "[nltk_data]    | Downloading package chat80 to /root/nltk_data...\n",
            "[nltk_data]    |   Package chat80 is already up-to-date!\n",
            "[nltk_data]    | Downloading package cmudict to /root/nltk_data...\n",
            "[nltk_data]    |   Package cmudict is already up-to-date!\n",
            "[nltk_data]    | Downloading package conll2000 to /root/nltk_data...\n",
            "[nltk_data]    |   Package conll2000 is already up-to-date!\n",
            "[nltk_data]    | Downloading package conll2002 to /root/nltk_data...\n",
            "[nltk_data]    |   Package conll2002 is already up-to-date!\n",
            "[nltk_data]    | Downloading package dependency_treebank to\n",
            "[nltk_data]    |     /root/nltk_data...\n",
            "[nltk_data]    |   Package dependency_treebank is already up-to-date!\n",
            "[nltk_data]    | Downloading package genesis to /root/nltk_data...\n",
            "[nltk_data]    |   Package genesis is already up-to-date!\n",
            "[nltk_data]    | Downloading package gutenberg to /root/nltk_data...\n",
            "[nltk_data]    |   Package gutenberg is already up-to-date!\n",
            "[nltk_data]    | Downloading package ieer to /root/nltk_data...\n",
            "[nltk_data]    |   Package ieer is already up-to-date!\n",
            "[nltk_data]    | Downloading package inaugural to /root/nltk_data...\n",
            "[nltk_data]    |   Package inaugural is already up-to-date!\n",
            "[nltk_data]    | Downloading package movie_reviews to\n",
            "[nltk_data]    |     /root/nltk_data...\n",
            "[nltk_data]    |   Package movie_reviews is already up-to-date!\n",
            "[nltk_data]    | Downloading package nps_chat to /root/nltk_data...\n",
            "[nltk_data]    |   Package nps_chat is already up-to-date!\n",
            "[nltk_data]    | Downloading package names to /root/nltk_data...\n",
            "[nltk_data]    |   Package names is already up-to-date!\n",
            "[nltk_data]    | Downloading package ppattach to /root/nltk_data...\n",
            "[nltk_data]    |   Package ppattach is already up-to-date!\n",
            "[nltk_data]    | Downloading package reuters to /root/nltk_data...\n",
            "[nltk_data]    |   Package reuters is already up-to-date!\n",
            "[nltk_data]    | Downloading package senseval to /root/nltk_data...\n",
            "[nltk_data]    |   Package senseval is already up-to-date!\n",
            "[nltk_data]    | Downloading package state_union to /root/nltk_data...\n",
            "[nltk_data]    |   Package state_union is already up-to-date!\n",
            "[nltk_data]    | Downloading package stopwords to /root/nltk_data...\n",
            "[nltk_data]    |   Package stopwords is already up-to-date!\n",
            "[nltk_data]    | Downloading package swadesh to /root/nltk_data...\n",
            "[nltk_data]    |   Package swadesh is already up-to-date!\n",
            "[nltk_data]    | Downloading package timit to /root/nltk_data...\n",
            "[nltk_data]    |   Package timit is already up-to-date!\n",
            "[nltk_data]    | Downloading package treebank to /root/nltk_data...\n",
            "[nltk_data]    |   Package treebank is already up-to-date!\n",
            "[nltk_data]    | Downloading package toolbox to /root/nltk_data...\n",
            "[nltk_data]    |   Package toolbox is already up-to-date!\n",
            "[nltk_data]    | Downloading package udhr to /root/nltk_data...\n",
            "[nltk_data]    |   Package udhr is already up-to-date!\n",
            "[nltk_data]    | Downloading package udhr2 to /root/nltk_data...\n",
            "[nltk_data]    |   Package udhr2 is already up-to-date!\n",
            "[nltk_data]    | Downloading package unicode_samples to\n",
            "[nltk_data]    |     /root/nltk_data...\n",
            "[nltk_data]    |   Package unicode_samples is already up-to-date!\n",
            "[nltk_data]    | Downloading package webtext to /root/nltk_data...\n",
            "[nltk_data]    |   Package webtext is already up-to-date!\n",
            "[nltk_data]    | Downloading package wordnet to /root/nltk_data...\n",
            "[nltk_data]    |   Package wordnet is already up-to-date!\n",
            "[nltk_data]    | Downloading package wordnet_ic to /root/nltk_data...\n",
            "[nltk_data]    |   Package wordnet_ic is already up-to-date!\n",
            "[nltk_data]    | Downloading package words to /root/nltk_data...\n",
            "[nltk_data]    |   Package words is already up-to-date!\n",
            "[nltk_data]    | Downloading package maxent_treebank_pos_tagger to\n",
            "[nltk_data]    |     /root/nltk_data...\n",
            "[nltk_data]    |   Package maxent_treebank_pos_tagger is already up-\n",
            "[nltk_data]    |       to-date!\n",
            "[nltk_data]    | Downloading package maxent_ne_chunker to\n",
            "[nltk_data]    |     /root/nltk_data...\n",
            "[nltk_data]    |   Package maxent_ne_chunker is already up-to-date!\n",
            "[nltk_data]    | Downloading package universal_tagset to\n",
            "[nltk_data]    |     /root/nltk_data...\n",
            "[nltk_data]    |   Package universal_tagset is already up-to-date!\n",
            "[nltk_data]    | Downloading package punkt to /root/nltk_data...\n",
            "[nltk_data]    |   Package punkt is already up-to-date!\n",
            "[nltk_data]    | Downloading package book_grammars to\n",
            "[nltk_data]    |     /root/nltk_data...\n",
            "[nltk_data]    |   Package book_grammars is already up-to-date!\n",
            "[nltk_data]    | Downloading package city_database to\n",
            "[nltk_data]    |     /root/nltk_data...\n",
            "[nltk_data]    |   Package city_database is already up-to-date!\n",
            "[nltk_data]    | Downloading package tagsets to /root/nltk_data...\n",
            "[nltk_data]    |   Package tagsets is already up-to-date!\n",
            "[nltk_data]    | Downloading package panlex_swadesh to\n",
            "[nltk_data]    |     /root/nltk_data...\n",
            "[nltk_data]    |   Package panlex_swadesh is already up-to-date!\n",
            "[nltk_data]    | Downloading package averaged_perceptron_tagger to\n",
            "[nltk_data]    |     /root/nltk_data...\n",
            "[nltk_data]    |   Package averaged_perceptron_tagger is already up-\n",
            "[nltk_data]    |       to-date!\n",
            "[nltk_data]    | \n",
            "[nltk_data]  Done downloading collection book\n",
            "[nltk_data] Downloading package nps_chat to /root/nltk_data...\n",
            "[nltk_data]   Package nps_chat is already up-to-date!\n",
            "[nltk_data] Downloading package words to /root/nltk_data...\n",
            "[nltk_data]   Package words is already up-to-date!\n",
            "[nltk_data] Downloading package punkt_tab to /root/nltk_data...\n",
            "[nltk_data]   Package punkt_tab is already up-to-date!\n"
          ]
        },
        {
          "output_type": "execute_result",
          "data": {
            "text/plain": [
              "True"
            ]
          },
          "metadata": {},
          "execution_count": 83
        }
      ]
    },
    {
      "cell_type": "code",
      "metadata": {
        "id": "5n1jupLl45Vw"
      },
      "source": [
        "from nltk.book import *"
      ],
      "execution_count": 84,
      "outputs": []
    },
    {
      "cell_type": "code",
      "metadata": {
        "id": "b0uRJUfJ6f1D"
      },
      "source": [
        "import re, pprint\n",
        "from nltk import word_tokenize"
      ],
      "execution_count": 85,
      "outputs": []
    },
    {
      "cell_type": "markdown",
      "metadata": {
        "id": "7L3ODbV9xtpg"
      },
      "source": [
        "## 1. Accessing Text from the Web\n",
        "\n",
        "### Electronic Books\n",
        "\n",
        "A small sample of texts from Project Gutenberg appears in the NLTK corpus collection. However, you may be interested in analyzing other texts from Project Gutenberg. You can browse the catalog of 25,000 free online books at http://www.gutenberg.org/catalog/, and obtain a URL to an ASCII text file.\n",
        "\n",
        "Text number 2554 is an English translation of Crime and Punishment, and we can access it as follows."
      ]
    },
    {
      "cell_type": "code",
      "metadata": {
        "id": "KSSFUP5UzKXg",
        "colab": {
          "base_uri": "https://localhost:8080/"
        },
        "outputId": "433f22e7-aa3a-4ff1-b218-4e212d90544c"
      },
      "source": [
        "from urllib import request\n",
        "url = \"http://www.gutenberg.org/files/2554/2554-0.txt\"\n",
        "response = request.urlopen(url)\n",
        "raw = response.read().decode('utf8')\n",
        "print(\"Type:\", type(raw))\n",
        "print(\"Length of raw:\", len(raw))\n",
        "print(raw[:75])"
      ],
      "execution_count": 86,
      "outputs": [
        {
          "output_type": "stream",
          "name": "stdout",
          "text": [
            "Type: <class 'str'>\n",
            "Length of raw: 1135214\n",
            "*** START OF THE PROJECT GUTENBERG EBOOK 2554 ***\n",
            "\n",
            "\n",
            "\n",
            "\n",
            "CRIME AND PUNISHMENT\n",
            "\n"
          ]
        }
      ]
    },
    {
      "cell_type": "markdown",
      "metadata": {
        "id": "osSTH2Waz82M"
      },
      "source": [
        "The variable raw contains a string with 1,135,214 characters. This is the raw content of the book, including many details we are not interested in such as whitespace, line breaks and blank lines.  For our language processing, we want to break up the string into words and punctuation. This step is called **tokenization**, and it produces our familiar structure, a list of words and punctuation."
      ]
    },
    {
      "cell_type": "code",
      "metadata": {
        "id": "QylaZU1c0KzZ",
        "colab": {
          "base_uri": "https://localhost:8080/"
        },
        "outputId": "2aa410b7-9b60-40e4-99f7-c7172289e4d2"
      },
      "source": [
        "tokens = word_tokenize(raw)\n",
        "print(\"Type:\", type(tokens))\n",
        "print(\"Length of raw:\", len(tokens))\n",
        "print(tokens[:22])"
      ],
      "execution_count": 87,
      "outputs": [
        {
          "output_type": "stream",
          "name": "stdout",
          "text": [
            "Type: <class 'list'>\n",
            "Length of raw: 253688\n",
            "['*', '*', '*', 'START', 'OF', 'THE', 'PROJECT', 'GUTENBERG', 'EBOOK', '2554', '*', '*', '*', 'CRIME', 'AND', 'PUNISHMENT', 'By', 'Fyodor', 'Dostoevsky', 'Translated', 'By', 'Constance']\n"
          ]
        }
      ]
    },
    {
      "cell_type": "markdown",
      "metadata": {
        "id": "MR4Obxru5zeF"
      },
      "source": [
        " If we now take the further step of creating an NLTK text from this list, we can carry out all of the other linguistic processing we saw, along with the regular list operations like slicing:"
      ]
    },
    {
      "cell_type": "code",
      "metadata": {
        "id": "d4-ZC0ce52gs",
        "colab": {
          "base_uri": "https://localhost:8080/"
        },
        "outputId": "2aa77d64-b83d-4cce-d615-d664ac5b106f"
      },
      "source": [
        "text = nltk.Text(tokens)\n",
        "print(\"Type:\", type(text))\n",
        "print(text[1024:1038])\n",
        "print(\"Collocations:\")\n",
        "text.collocations()"
      ],
      "execution_count": 88,
      "outputs": [
        {
          "output_type": "stream",
          "name": "stdout",
          "text": [
            "Type: <class 'nltk.text.Text'>\n",
            "['kitchen', ',', 'the', 'door', 'of', 'which', 'invariably', 'stood', 'open', '.', 'And', 'each', 'time', 'he']\n",
            "Collocations:\n",
            "Katerina Ivanovna; Pyotr Petrovitch; Pulcheria Alexandrovna; Avdotya\n",
            "Romanovna; Rodion Romanovitch; Marfa Petrovna; Sofya Semyonovna; old\n",
            "woman; Porfiry Petrovitch; Amalia Ivanovna; great deal; young man;\n",
            "Nikodim Fomitch; Ilya Petrovitch; Andrey Semyonovitch; Hay Market;\n",
            "Dmitri Prokofitch; Good heavens; police station; head clerk\n"
          ]
        }
      ]
    },
    {
      "cell_type": "markdown",
      "metadata": {
        "id": "WrYhSOI98utW"
      },
      "source": [
        "### Dealing with HTML\n",
        "\n",
        "Much of the text on the web is in the form of HTML documents. You can use a web browser to save a page as text to a local file, then access this as described in the section on files below. However, if you're going to do this often, it's easiest to get Python to do the work directly."
      ]
    },
    {
      "cell_type": "code",
      "metadata": {
        "id": "xUyIt3qz9l8g",
        "colab": {
          "base_uri": "https://localhost:8080/"
        },
        "outputId": "67c5cce2-399b-49da-fe37-d81069ca5085"
      },
      "source": [
        "url = \"http://nlp.itu.edu.tr\"\n",
        "html = request.urlopen(url).read().decode('utf8')\n",
        "html[:60]\n",
        "#type print(html) to see the whole html with tags etc.\n",
        "print(html)\n"
      ],
      "execution_count": 89,
      "outputs": [
        {
          "output_type": "stream",
          "name": "stdout",
          "text": [
            "\r\n",
            "\r\n",
            "\r\n",
            "<html lang=\"en\">\r\n",
            "<head><meta charset=\"utf-8\" /><meta http-equiv=\"X-UA-Compatible\" content=\"IE=edge\" /><meta name=\"viewport\" content=\"width=device-width, initial-scale=1\" /><title>\r\n",
            "\tİT&#220; Doğal Dil İşleme Araştırma Grubu\r\n",
            "</title><link rel=\"stylesheet\" type=\"text/css\" media=\"screen\" href=\"/Sitefinity/WebsiteTemplates/GenelTemplate/App_Themes/ITUGenelTemplate/slick/slick.css\" /><link rel=\"stylesheet\" type=\"text/css\" media=\"screen\" href=\"/Sitefinity/WebsiteTemplates/GenelTemplate/App_Themes/ITUGenelTemplate/slick/slick-theme.css\" /><link rel=\"stylesheet\" type=\"text/css\" media=\"screen\" href=\"/Sitefinity/WebsiteTemplates/GenelTemplate/App_Themes/ITUGenelTemplate/slick/slick_style.css\" /><link rel=\"shortcut icon\" href=\"/Sitefinity/WebsiteTemplates/GenelTemplate/App_Themes/ITUGenelTemplate/Images/favicon.ico\" />\r\n",
            "     <style type=\"text/css\">\r\n",
            "        \r\n",
            "    </style>\r\n",
            "\r\n",
            "    <meta name=\"Generator\" content=\"Sitefinity 7.3.5619.0 PU\" /><link rel=\"canonical\" href=\"http://nlp.itu.edu.tr\" /><meta name=\"viewport\" content=\"width=device-width, initial-scale=1.0\" /><script type=\"text/javascript\">\r\n",
            "\t(function() {var _rdDeviceWidth = (window.innerWidth > 0) ? window.innerWidth : screen.width;var _rdDeviceHeight = (window.innerHeight > 0) ? window.innerHeight : screen.height;var _rdOrientation = (window.width > window.height) ? 'landscape' : 'portrait';})();\r\n",
            "</script><link href=\"/Telerik.Web.UI.WebResource.axd?d=fCHds9JIkqtCnU2Nk20SujIgjXCtOyFED64r3aC7vZqjbxK2i-GZskMjSpkYqnSyXFHZjJ_x1TYPvIu_kezL0_-XKDY3KpRuSwtVrSYQp8lp-IfmT0t10GVAEjncqqzfQkOROJIgIe-NZTc-noc22A2&amp;t=637874303798030034&amp;compress=0&amp;_TSM_CombinedScripts_=%3b%3bTelerik.Sitefinity.Resources%2c+Version%3d7.3.5619.0%2c+Culture%3dneutral%2c+PublicKeyToken%3db28c218413bdf563%3atr%3ae5b4846c-5b32-4e8c-ab42-9a7e5bcce4af%3a7a90d6a%3a83fa35c7%3a850288ef\" type=\"text/css\" rel=\"stylesheet\" /><link href=\"/Sitefinity/Public/ResponsiveDesign/layout_transformations.css?pageDataId=04c8344b-ceeb-6433-bf21-ff0000f8c30d&amp;culture=tr\" type=\"text/css\" rel=\"stylesheet\" /><link href=\"/Sitefinity/WebsiteTemplates/GenelTemplate/App_Themes/ITUGenelTemplate/global/bootstrap.min.css?v=635620885300000000\" type=\"text/css\" rel=\"stylesheet\" /><link href=\"/Sitefinity/WebsiteTemplates/GenelTemplate/App_Themes/ITUGenelTemplate/global/bxslider.css?v=635672957836552784\" type=\"text/css\" rel=\"stylesheet\" /><link href=\"/Sitefinity/WebsiteTemplates/GenelTemplate/App_Themes/ITUGenelTemplate/global/carouselSlider.css?v=636105914078083768\" type=\"text/css\" rel=\"stylesheet\" /><link href=\"/Sitefinity/WebsiteTemplates/GenelTemplate/App_Themes/ITUGenelTemplate/global/font-awesome.min--.css?v=637164579480000000\" type=\"text/css\" rel=\"stylesheet\" /><link href=\"/Sitefinity/WebsiteTemplates/GenelTemplate/App_Themes/ITUGenelTemplate/global/font-awesome.min-yedek.css?v=635649009840000000\" type=\"text/css\" rel=\"stylesheet\" /><link href=\"/Sitefinity/WebsiteTemplates/GenelTemplate/App_Themes/ITUGenelTemplate/global/font-awesome.min.css?v=638557073855870962\" type=\"text/css\" rel=\"stylesheet\" /><link href=\"/Sitefinity/WebsiteTemplates/GenelTemplate/App_Themes/ITUGenelTemplate/global/nyroModal.css?v=634626619120000000\" type=\"text/css\" rel=\"stylesheet\" /><link href=\"/Sitefinity/WebsiteTemplates/GenelTemplate/App_Themes/ITUGenelTemplate/global/style.css?v=637408726541600955\" type=\"text/css\" rel=\"stylesheet\" /><style type=\"text/css\" media=\"all\">.sfPageWrapper .sticky {\n",
            "\tposition: static !important;\n",
            "}</style><link href=\"/Sitefinity/WebsiteTemplates/GenelTemplate/App_Themes/ITUGenelTemplate/slick/slick_style.css\" type=\"text/css\" rel=\"stylesheet\" media=\"all\" /><meta name=\"description\" content=\"Doğal dil işleme, doğal dildeki metinlerin/seslerin bilgisayar ortamında işlenmesi üzerine çalışmalar yürüten bilgisayar biliminin alt dalıdır. \" /><meta name=\"keywords\" content=\"itü doğal, doğal dil, doğal dil itü, itü doğal dil, doğal dil işleme itü, itü doğal dil işleme, doğal dil işleme bilgisayar itü\" /></head>\r\n",
            "<body class=\"stickyBody ka\">\r\n",
            "    <form method=\"post\" action=\"./\" id=\"form1\">\r\n",
            "<input type=\"hidden\" name=\"ctl09_TSM\" id=\"ctl09_TSM\" value=\"\" />\r\n",
            "<input type=\"hidden\" name=\"ctl10_TSSM\" id=\"ctl10_TSSM\" value=\"\" />\r\n",
            "<input type=\"hidden\" name=\"__VIEWSTATE\" id=\"__VIEWSTATE\" value=\"/wEPDwULLTEwNDQxNTk3NDRkGAMFHl9fQ29udHJvbHNSZXF1aXJlUG9zdEJhY2tLZXlfXxYCBThjdGwwMCRjcGhTbGlkZXIkY3RsMDAkY3RsMDAkY3RsMDAkZHluYW1pY0NvbnRlbnRMaXN0VmlldwU/Y3RsMDAkY3BoSGFiZXJEdXl1cnUkQzAwNSRuZXdzRnJvbnRlbmRMaXN0JGN0bDAwJGN0bDAwJE5ld3NMaXN0BT9jdGwwMCRjcGhIYWJlckR1eXVydSRDMDA1JG5ld3NGcm9udGVuZExpc3QkY3RsMDAkY3RsMDAkTmV3c0xpc3QPFCsABWQUKwADDwUGXyFEU0lDAgYPBQtfIUl0ZW1Db3VudAIGDwUIXyFQQ291bnRkZBYCHgJfY2ZkZAU4Y3RsMDAkY3BoU2xpZGVyJGN0bDAwJGN0bDAwJGN0bDAwJGR5bmFtaWNDb250ZW50TGlzdFZpZXcPFCsABWQUKwADDwUGXyFEU0lDAhQPBQtfIUl0ZW1Db3VudAIUDwUIXyFQQ291bnRkZBYCHwBmZGTThpijLDzIaT2Gz6FsUmWAYQKzOafUs/JbsW3+IwmJQQ==\" />\r\n",
            "\r\n",
            "\r\n",
            "<script type=\"text/javascript\">\r\n",
            "//<![CDATA[\r\n",
            "var __cultureInfo = {\"name\":\"tr\",\"numberFormat\":{\"CurrencyDecimalDigits\":2,\"CurrencyDecimalSeparator\":\",\",\"IsReadOnly\":true,\"CurrencyGroupSizes\":[3],\"NumberGroupSizes\":[3],\"PercentGroupSizes\":[3],\"CurrencyGroupSeparator\":\".\",\"CurrencySymbol\":\"₺\",\"NaNSymbol\":\"NaN\",\"CurrencyNegativePattern\":8,\"NumberNegativePattern\":1,\"PercentPositivePattern\":2,\"PercentNegativePattern\":2,\"NegativeInfinitySymbol\":\"-Sonsuz\",\"NegativeSign\":\"-\",\"NumberDecimalDigits\":2,\"NumberDecimalSeparator\":\",\",\"NumberGroupSeparator\":\".\",\"CurrencyPositivePattern\":3,\"PositiveInfinitySymbol\":\"Sonsuz\",\"PositiveSign\":\"+\",\"PercentDecimalDigits\":2,\"PercentDecimalSeparator\":\",\",\"PercentGroupSeparator\":\".\",\"PercentSymbol\":\"%\",\"PerMilleSymbol\":\"‰\",\"NativeDigits\":[\"0\",\"1\",\"2\",\"3\",\"4\",\"5\",\"6\",\"7\",\"8\",\"9\"],\"DigitSubstitution\":1},\"dateTimeFormat\":{\"AMDesignator\":\"\",\"Calendar\":{\"MinSupportedDateTime\":\"\\/Date(-62135596800000)\\/\",\"MaxSupportedDateTime\":\"\\/Date(253402289999999)\\/\",\"AlgorithmType\":1,\"CalendarType\":1,\"Eras\":[1],\"TwoDigitYearMax\":2029,\"IsReadOnly\":true},\"DateSeparator\":\".\",\"FirstDayOfWeek\":1,\"CalendarWeekRule\":0,\"FullDateTimePattern\":\"d MMMM yyyy dddd HH:mm:ss\",\"LongDatePattern\":\"d MMMM yyyy dddd\",\"LongTimePattern\":\"HH:mm:ss\",\"MonthDayPattern\":\"d MMMM\",\"PMDesignator\":\"\",\"RFC1123Pattern\":\"ddd, dd MMM yyyy HH\\u0027:\\u0027mm\\u0027:\\u0027ss \\u0027GMT\\u0027\",\"ShortDatePattern\":\"d.M.yyyy\",\"ShortTimePattern\":\"HH:mm\",\"SortableDateTimePattern\":\"yyyy\\u0027-\\u0027MM\\u0027-\\u0027dd\\u0027T\\u0027HH\\u0027:\\u0027mm\\u0027:\\u0027ss\",\"TimeSeparator\":\":\",\"UniversalSortableDateTimePattern\":\"yyyy\\u0027-\\u0027MM\\u0027-\\u0027dd HH\\u0027:\\u0027mm\\u0027:\\u0027ss\\u0027Z\\u0027\",\"YearMonthPattern\":\"MMMM yyyy\",\"AbbreviatedDayNames\":[\"Paz\",\"Pzt\",\"Sal\",\"Çar\",\"Per\",\"Cum\",\"Cmt\"],\"ShortestDayNames\":[\"Pz\",\"Pt\",\"Sa\",\"Ça\",\"Pe\",\"Cu\",\"Ct\"],\"DayNames\":[\"Pazar\",\"Pazartesi\",\"Salı\",\"Çarşamba\",\"Perşembe\",\"Cuma\",\"Cumartesi\"],\"AbbreviatedMonthNames\":[\"Oca\",\"Şub\",\"Mar\",\"Nis\",\"May\",\"Haz\",\"Tem\",\"Ağu\",\"Eyl\",\"Eki\",\"Kas\",\"Ara\",\"\"],\"MonthNames\":[\"Ocak\",\"Şubat\",\"Mart\",\"Nisan\",\"Mayıs\",\"Haziran\",\"Temmuz\",\"Ağustos\",\"Eylül\",\"Ekim\",\"Kasım\",\"Aralık\",\"\"],\"IsReadOnly\":true,\"NativeCalendarName\":\"Gregoryen Takvim\",\"AbbreviatedMonthGenitiveNames\":[\"Oca\",\"Şub\",\"Mar\",\"Nis\",\"May\",\"Haz\",\"Tem\",\"Ağu\",\"Eyl\",\"Eki\",\"Kas\",\"Ara\",\"\"],\"MonthGenitiveNames\":[\"Ocak\",\"Şubat\",\"Mart\",\"Nisan\",\"Mayıs\",\"Haziran\",\"Temmuz\",\"Ağustos\",\"Eylül\",\"Ekim\",\"Kasım\",\"Aralık\",\"\"]},\"eras\":[1,\"MS\",null,0]};//]]>\r\n",
            "</script>\r\n",
            "\r\n",
            "<script src=\"/Telerik.Web.UI.WebResource.axd?_TSM_HiddenField_=ctl09_TSM&amp;compress=0&amp;_TSM_CombinedScripts_=%3b%3bSystem.Web.Extensions%2c+Version%3d4.0.0.0%2c+Culture%3dneutral%2c+PublicKeyToken%3d31bf3856ad364e35%3atr%3a9ddf364d-d65d-4f01-a69e-8b015049e026%3aea597d4b\" type=\"text/javascript\"></script>\r\n",
            "<script type=\"text/javascript\">\r\n",
            "//<![CDATA[\r\n",
            "if (typeof(Sys) === 'undefined') throw new Error('ASP.NET Ajax client-side framework failed to load.');\r\n",
            "//]]>\r\n",
            "</script>\r\n",
            "\r\n",
            "<script src=\"/ScriptResource.axd?d=70izg5G3vO91gvpgAesKn052NpDmjYFRDTbN_4fm06sZTR_yVHiC6qKZvi9HjagGPA4fjYn24_cVWVQBLrtg6GDPe_vzINV8kDvJm6vBArRCEbtozrsEDMywUcswQv71DFBBhEgHePw1yDo4tw1t-BOOIbNoCFBUXMoJa7u4-HMb7mVxAATcxMmEXHORMXp80&amp;t=ffffffffe1c1992f\" type=\"text/javascript\"></script>\r\n",
            "<script src=\"/Telerik.Web.UI.WebResource.axd?_TSM_HiddenField_=ctl09_TSM&amp;compress=0&amp;_TSM_CombinedScripts_=%3b%3bTelerik.Sitefinity.Resources%3atr%3ae5b4846c-5b32-4e8c-ab42-9a7e5bcce4af%3a472a0b31%3a7ee0bb1f%3a83eb063b\" type=\"text/javascript\"></script>\r\n",
            "<script src=\"/ScriptResource.axd?d=29l6WELBJBBizCG5fY5YdkQl5SvLjr4j4mcTkitCeK25fssbNUJuCiM1a9k_Wi-5SuxLkYDGEepv1UjgF9sxkYCRZvqjKvCggq9zxPnOfD0tIqJH1NeG89rUZgAoqy9ircxpsNf17OcHMbFhuXiZHeSE5bF34PBnuXLJ4PGLnDxwo3vztoPX8B1LfQy1111PImQV3uoezenxrCwhldnt4A2&amp;t=ffffffffe1c1992f\" type=\"text/javascript\"></script>\r\n",
            "<script src=\"/ScriptResource.axd?d=CIu21JQGmghnExNdIVhoC94GSFjVVBvhENKRwJHm3b4YTJ4pVzxfvFmKiOQDngqQ433A8Gehm1oy4rOZCwAFQpJhXMI2-9KP_JWVWyYjVZ7Xfm3JOfF3CIP77waFy85Tdmasccn8hqgWUfhIcsZ_pLEr--q-0Qj42XdRFRlma5M8PD8G3tz98l-6XpHYt0vEt1BOK4TGXwu2tUyZ_cKyiQ2&amp;t=ffffffffe1c1992f\" type=\"text/javascript\"></script>\r\n",
            "<script src=\"/Telerik.Web.UI.WebResource.axd?_TSM_HiddenField_=ctl09_TSM&amp;compress=0&amp;_TSM_CombinedScripts_=%3b%3bTelerik.Sitefinity%3atr%3ada21f471-e8de-4f3c-b5cf-0c98b36cf493%3a993d8e92%3a5b182b17%3bTelerik.Web.UI%2c+Version%3d2014.3.1209.40%2c+Culture%3dneutral%2c+PublicKeyToken%3d121fae78165ba3d4%3atr%3a4eebb404-e4be-4de2-ba69-f715c16bf6db%3a16e4e7cd%3addbfcb67%3af7645509%3bTelerik.Sitefinity%2c+Version%3d7.3.5619.0%2c+Culture%3dneutral%2c+PublicKeyToken%3db28c218413bdf563%3atr%3ada21f471-e8de-4f3c-b5cf-0c98b36cf493%3a721addc%3af77740f1%3a26cfb6dc%3a6e04508f%3a447a22b8%3bTelerik.Sitefinity.Resources%3atr%3ae5b4846c-5b32-4e8c-ab42-9a7e5bcce4af%3ac4ef6dcd%3a6f03d72a%3bTelerik.Sitefinity%2c+Version%3d7.3.5619.0%2c+Culture%3dneutral%2c+PublicKeyToken%3db28c218413bdf563%3atr%3ada21f471-e8de-4f3c-b5cf-0c98b36cf493%3ac1fc658e%3a41f6c3a7\" type=\"text/javascript\"></script>\r\n",
            "<input type=\"hidden\" name=\"__VIEWSTATEGENERATOR\" id=\"__VIEWSTATEGENERATOR\" value=\"46710D1F\" /><input type=\"hidden\" name=\"ctl00$ctl09\" id=\"ctl09\" />\r\n",
            "<script type=\"text/javascript\">\r\n",
            "//<![CDATA[\r\n",
            "Sys.Application.setServerId(\"ctl09\", \"ctl00$ctl09\");\r\n",
            "Sys.Application._enableHistoryInScriptManager();\r\n",
            "//]]>\r\n",
            "</script>\r\n",
            "\r\n",
            "\t \r\n",
            " <div id=\"navALL\" class=\"sticky\">\r\n",
            " \r\n",
            "\r\n",
            "\r\n",
            "\r\n",
            "\r\n",
            "        <div id=\"nav1\">\r\n",
            "\t\t\r\n",
            "            <nav class=\"navbar navbar-default\">\r\n",
            "\t\t\t\r\n",
            "                <div class=\"container\">\r\n",
            "                    \r\n",
            "<div class=\"sf_cols cphHeader\">\n",
            "    <div class=\"sf_colsOut sf_1col_1_100\">\n",
            "        <div id=\"cphHeader_TE820C8EB020_Col00\" class=\"sf_colsIn sf_1col_1in_100\"><div class=\"sf_cols\">\r\n",
            "    <div class=\"sf_colsOut sf_2cols_1_25\">\r\n",
            "        <div id=\"cphHeader_TE820C8EB022_Col00\" class=\"sf_colsIn sf_2cols_1in_25\"><div class='sfContentBlock'><a href=\"http://ddi.itu.edu.tr/\"><img src=\"/images/librariesprovider111/default-album/ddilogotrtext.png?sfvrsn=2\" displaymode=\"Thumbnail\" alt=\"ddilogoTRtext\" title=\"ddilogoTRtext\" style=\"width: 270px; height: 85px;\" /><br /> </a>\r\n",
            "\r\n",
            "\r\n",
            "</div>\r\n",
            "            \r\n",
            "        </div>\r\n",
            "    </div>\r\n",
            "    <div class=\"sf_colsOut sf_2cols_2_75\">\r\n",
            "        <div id=\"cphHeader_TE820C8EB022_Col01\" class=\"sf_colsIn sf_2cols_2in_75\"><div id=\"cphHeader_TF6ADCE54006\">\r\n",
            "\t<div id=\"cphHeader_TF6ADCE54006_ctl00_ctl00_controlWrapper\">\r\n",
            "\r\n",
            "    \r\n",
            "\r\n",
            "    \r\n",
            "                \r\n",
            "                        <ul class=\"sflanguagesHorizontalList\">\r\n",
            "                    \r\n",
            "                        <li id=\"cphHeader_TF6ADCE54006_ctl00_ctl00_languagesRepeater_horizontal_langHolder_0\" class=\"sflanguageItem sflang_en\">\r\n",
            "                            <a href=\"en/homepage\" id=\"cphHeader_TF6ADCE54006_ctl00_ctl00_languagesRepeater_horizontal_langLink_0\" class=\"sflanguageLnk\" lang=\"en\"><span id=\"cphHeader_TF6ADCE54006_ctl00_ctl00_languagesRepeater_horizontal_langName_0\">English</span></a>\r\n",
            "                        </li>\r\n",
            "                    \r\n",
            "                        </ul>\r\n",
            "                    \r\n",
            "            \r\n",
            "</div>\r\n",
            "\r\n",
            "</div><div class='sfContentBlock'><div class=\"navbar-collapse collapse\" id=\"navbar1\"> <ul class=\"nav navbar-nav pull-right\"> <li><a href=\"http://www.itu.edu.tr/tr/\" title=\"İTÜ ANASAYFA\">İT&Uuml; ANASAYFA</a></li> <li><a href=\"http://ninova.itu.edu.tr/tr/\" title=\"NİNOVA\">NİNOVA</a></li> <li><a href=\"http://www.sis.itu.edu.tr/\" title=\"ÖĞRENCİ İŞLERİ\">&Ouml;ĞRENCİ İŞLERİ</a></li> <li><a href=\"https://webmail.itu.edu.tr/login.php\" title=\"WEBMAIL\">WEBMAIL</a></li> <li><a href=\"http://www.kutuphane.itu.edu.tr/\" title=\"KÜTÜPHANE\">K&Uuml;T&Uuml;PHANE</a></li> <li><a href=\"http://rehber.itu.edu.tr/\" title=\"REHBER\">REHBER</a></li> </ul> </div>\r\n",
            "\r\n",
            "\r\n",
            "</div>\r\n",
            "        \r\n",
            "        </div>\r\n",
            "    </div>\r\n",
            "</div>\r\n",
            "\n",
            "            \n",
            "        </div>\n",
            "    </div>\n",
            "</div>\r\n",
            "                </div>\r\n",
            "            </nav>\r\n",
            "        </div>\r\n",
            "\t\r\n",
            "        \r\n",
            "<div class=\"sf_cols \">\n",
            "    <div class=\"sf_colsOut sf_1col_1_100 \" style=\"width: 100%;\">\n",
            "        <div id=\"cphMenu_TE820C8EB011_Col00\" class=\"sf_colsIn sf_1col_1in_100\">\n",
            "            \n",
            "        </div>\n",
            "    </div>\n",
            "</div>\n",
            "\n",
            "\n",
            "\n",
            "\n",
            "\n",
            "  <div id=\"nav2\">\n",
            "  <div class=\"navbar navbar-default\">\n",
            "  <div class=\"container\"><div class=\"navbar-header\">\n",
            "\t\t\t\t\t<button type=\"button\" class=\"navbar-toggle\" data-toggle=\"collapse\" data-target=\"#navbar2\">\n",
            "\t\t\t\t\t\t<span class=\"sr-only\">Toggle navigation</span>\n",
            "\t\t\t\t\t\t<span class=\"icon-bar\"></span>\n",
            "\t\t\t\t\t\t<span class=\"icon-bar\"></span>\n",
            "\t\t\t\t\t\t<span class=\"icon-bar\"></span>\n",
            "\t\t\t\t\t</button>\n",
            "\t\t\t\t</div>\n",
            "  <div class=\"navbar-collapse collapse \" id=\"navbar2\">\n",
            "    \n",
            "    \n",
            "    \n",
            "    \n",
            "\n",
            "    <ul id=\"cphMenu_TE820C8EB030_ctl00_ctl00_navigationUl\" class=\" nav navbar-nav sfNavHorizontalDropDown sfNavList\">\n",
            "        \n",
            "                        <li>\n",
            "                            <a href=\"/\" style=\"  background-color: rgba(0, 0, 0, 0.2);\" class=\"sfSel\">ANASAYFA</a>\n",
            "                            \n",
            "                        </li>\n",
            "                    \n",
            "                        <li>\n",
            "                            <a href=\"/hakkimizda\">HAKKIMIZDA</a>\n",
            "                            \n",
            "                        </li>\n",
            "                    \n",
            "                        <li>\n",
            "                            <a href=\"/üyeler\">ÜYELER</a>\n",
            "                            \n",
            "                        </li>\n",
            "                    \n",
            "                        <li>\n",
            "                            <a href=\"/araclarkaynaklar\">ARAÇLAR VE DİL KAYNAKLARI</a>\n",
            "                            \n",
            "                        </li>\n",
            "                    \n",
            "                        <li>\n",
            "                            <a href=\"/yayinlar\">YAYINLAR</a>\n",
            "                            \n",
            "                        </li>\n",
            "                    \n",
            "                        <li>\n",
            "                            <a href=\"/projeler\">PROJELER</a>\n",
            "                            \n",
            "                        </li>\n",
            "                    \n",
            "                        <li>\n",
            "                            <a href=\"/dersler\">DERSLER</a>\n",
            "                            \n",
            "                        </li>\n",
            "                    \n",
            "                        <li>\n",
            "                            <a href=\"/haberler\">HABERLER</a>\n",
            "                            \n",
            "                        </li>\n",
            "                    \n",
            "                        <li>\n",
            "                            <a href=\"/iletisim\">İLETİŞİM</a>\n",
            "                            \n",
            "                        </li>\n",
            "                    \n",
            "    </ul>\n",
            "</div></div></div></div></div>\n",
            "\n",
            "<script type=\"text/javascript\">\n",
            "    (function ($) {\n",
            "        var whetherToOpenOnClick = false;\n",
            "\n",
            "        var kendoMenu = $('.sfNavHorizontalDropDown').not('.k-menu').kendoMenu({\n",
            "            animation: false,\n",
            "            openOnClick: whetherToOpenOnClick,\n",
            "            open: function (e) {\n",
            "                if (window.DataIntelligenceSubmitScript) {\n",
            "                    var item = $(e.item);\n",
            "\n",
            "                    DataIntelligenceSubmitScript._client.sentenceClient.writeSentence({\n",
            "                        predicate: \"Toggle navigation\",\n",
            "                        object: item.find(\"a:first\").text(),\n",
            "                        objectMetadata: [\n",
            "                                                    {\n",
            "                                                        'K': 'PageTitle',\n",
            "                                                        'V': document.title\n",
            "                                                    },\n",
            "                                                    {\n",
            "                                                        'K': 'PageUrl',\n",
            "                                                        'V': location.href\n",
            "                                                    }\n",
            "                        ]\n",
            "                    });\n",
            "                }\n",
            "            }\n",
            "        }).data('kendoMenu');\n",
            "\n",
            "        if (whetherToOpenOnClick && kendoMenu) {\n",
            "            jQuery(kendoMenu.element).find(\"li:has(ul) > a\").attr(\"href\", \"javascript:void(0)\");\n",
            "        }\n",
            "    })(jQuery);\n",
            "</script>\n",
            "\r\n",
            "</div>\r\n",
            " <div>\r\n",
            "        \r\n",
            "<div>\r\n",
            "\t<!-- 2014.3.1209.40 -->\n",
            "       <div class=\"Jumbotron\">   \n",
            "            \n",
            "        \n",
            "      <div>\n",
            "          <div class='carousel-head'><div class='carousel-head-wrapper'><h3>ITUNLP Dünyanın En Etkili Bilim İnsanları Listesinde</h3> <p></p></div></div>\n",
            "                <a href='https://ddi.itu.edu.tr/haberler/2024/09/23/itunlp-d%C3%BCnyan%C4%B1n-en-etkili-bilim-insanlar%C4%B1-listesinde'>\n",
            "                <img src='http://nlp.itu.edu.tr/images/librariesprovider111/default-album/gulsen-h-6437885b24c674d53954684a33561ca94-(2).jpg?sfvrsn=0' class=\"rsImg\" />\n",
            "                 </a>\n",
            "      </div>\n",
            "      \n",
            "       \n",
            "    \n",
            "        \n",
            "      <div>\n",
            "          <div class='carousel-head'><div class='carousel-head-wrapper'><h3>TDK-İTÜ Doğal Dil İşleme Çalıştayı 2024</h3> <p></p></div></div>\n",
            "                <a href='https://ddi.itu.edu.tr/haberler/2024/05/02/tdk2024-1'>\n",
            "                <img src='http://nlp.itu.edu.tr/images/librariesprovider111/default-album/tdk2c3386a4bceeb6433bf21ff0000f8c30d.jpeg?sfvrsn=0' class=\"rsImg\" />\n",
            "                 </a>\n",
            "      </div>\n",
            "      \n",
            "       \n",
            "    \n",
            "        \n",
            "      <div>\n",
            "          <div class='carousel-head'><div class='carousel-head-wrapper'><h3>EELISA Çalıştayı</h3> <p></p></div></div>\n",
            "                <a href='https://ddi.itu.edu.tr/haberler/2024/03/13/üretken-yz-işığında-dil-teknolojileri-çalıştayı'>\n",
            "                <img src='http://nlp.itu.edu.tr/images/librariesprovider111/default-album/madrid29e71684bceeb6433bf21ff0000f8c30d.jpg?sfvrsn=0' class=\"rsImg\" />\n",
            "                 </a>\n",
            "      </div>\n",
            "      \n",
            "       \n",
            "    \n",
            "        \n",
            "      <div>\n",
            "          <div class='carousel-head'><div class='carousel-head-wrapper'><h3>2. Genel UniDive Toplantısı</h3> <p></p></div></div>\n",
            "                <a href='https://ddi.itu.edu.tr/haberler/2024/02/12/2.-genel-unidive-toplantısı'>\n",
            "                <img src='http://nlp.itu.edu.tr/images/librariesprovider111/default-album/colessiumslider.jpg?sfvrsn=0' class=\"rsImg\" />\n",
            "                 </a>\n",
            "      </div>\n",
            "      \n",
            "       \n",
            "    \n",
            "        \n",
            "      <div>\n",
            "          \n",
            "                <a href=''>\n",
            "                <img src='http://nlp.itu.edu.tr/images/librariesprovider111/default-album/collage.jpg?sfvrsn=0' class=\"rsImg\" />\n",
            "                 </a>\n",
            "      </div>\n",
            "      \n",
            "       \n",
            "    \n",
            "        \n",
            "      <div>\n",
            "          \n",
            "                <a href=''>\n",
            "                <img src='http://nlp.itu.edu.tr/images/librariesprovider111/default-album/itunlp-2023.jpg?sfvrsn=1' class=\"rsImg\" />\n",
            "                 </a>\n",
            "      </div>\n",
            "      \n",
            "       \n",
            "    \n",
            "        \n",
            "      <div>\n",
            "          \n",
            "                <a href='http://ddi.itu.edu.tr/en/news/2023/09/16/unidive-wg3-istanbul-meeting'>\n",
            "                <img src='http://nlp.itu.edu.tr/images/librariesprovider111/default-album/unidivewg3_family_img_3616.jpg?sfvrsn=0' class=\"rsImg\" />\n",
            "                 </a>\n",
            "      </div>\n",
            "      \n",
            "       \n",
            "    \n",
            "        \n",
            "      <div>\n",
            "          \n",
            "                <a href='http://ddi.itu.edu.tr/en/news/2023/06/21/invited-talk---joakim-nivre---september-7-2023'>\n",
            "                <img src='http://nlp.itu.edu.tr/images/librariesprovider111/default-album/joakimnivreinvitedtalk.png?sfvrsn=0' class=\"rsImg\" />\n",
            "                 </a>\n",
            "      </div>\n",
            "      \n",
            "       \n",
            "    \n",
            "        \n",
            "      <div>\n",
            "          \n",
            "                <a href='https://ddi.itu.edu.tr/haberler/2023/06/20/yapay-zeka-belgesel-habert%C3%BCrk-dosya'>\n",
            "                <img src='http://nlp.itu.edu.tr/images/librariesprovider111/default-album/gulseneryigit_haberturk_dosya.png?sfvrsn=0' class=\"rsImg\" />\n",
            "                 </a>\n",
            "      </div>\n",
            "      \n",
            "       \n",
            "    \n",
            "        \n",
            "      <div>\n",
            "          <div class='carousel-head'><div class='carousel-head-wrapper'><h3>EACL 2023 SRW poster</h3> <p><a href=\"/images/librariesprovider111/default-album/pamayeacl.jpeg?sfvrsn=0\"><img src=\"/images/librariesprovider111/default-album/pamayeacl.jpeg?sfvrsn=0\" displaymode=\"Original\" alt=\"PamayEACL\" title=\"PamayEACL\" openoriginalimageonclick=\"true\" /></a></p></div></div>\n",
            "                <a href='https://ddi.itu.edu.tr/en/news/2023/05/12/paper-presentation-at-eacl'>\n",
            "                <img src='http://nlp.itu.edu.tr/images/librariesprovider111/default-album/pamayeacl2.jpeg?sfvrsn=0' class=\"rsImg\" />\n",
            "                 </a>\n",
            "      </div>\n",
            "      \n",
            "       \n",
            "    \n",
            "        \n",
            "      <div>\n",
            "          <div class='carousel-head'><div class='carousel-head-wrapper'><h3>İTÜ DDİ 2023</h3> <p></p></div></div>\n",
            "                <a href=''>\n",
            "                <img src='http://nlp.itu.edu.tr/images/librariesprovider111/default-album/ıtuddı2023.jpg?sfvrsn=0' class=\"rsImg\" />\n",
            "                 </a>\n",
            "      </div>\n",
            "      \n",
            "       \n",
            "    \n",
            "        \n",
            "      <div>\n",
            "          <div class='carousel-head'><div class='carousel-head-wrapper'><h3>YADOT Çalışma Toplantısı</h3> <p></p></div></div>\n",
            "                <a href='haberler/2023/03/27/35-yadot-calisma-toplantisi'>\n",
            "                <img src='http://nlp.itu.edu.tr/images/librariesprovider111/default-album/1679157170717-(2).jpeg?sfvrsn=0' class=\"rsImg\" />\n",
            "                 </a>\n",
            "      </div>\n",
            "      \n",
            "       \n",
            "    \n",
            "        \n",
            "      <div>\n",
            "          \n",
            "                <a href='haberler/2023/01/26/teke-tek-bilim-chatgpt'>\n",
            "                <img src='http://nlp.itu.edu.tr/images/librariesprovider111/default-album/chatgpt.png?sfvrsn=0' class=\"rsImg\" />\n",
            "                 </a>\n",
            "      </div>\n",
            "      \n",
            "       \n",
            "    \n",
            "        \n",
            "      <div>\n",
            "          <div class='carousel-head'><div class='carousel-head-wrapper'><h3>İTÜ DDİ 2022</h3> <p></p></div></div>\n",
            "                <a href='/haberler/2022/05/31/kutlama-ve-deneyim-aktarım-toplantısı'>\n",
            "                <img src='http://nlp.itu.edu.tr/images/librariesprovider111/default-album/ımg_1083.jpg?sfvrsn=0' class=\"rsImg\" />\n",
            "                 </a>\n",
            "      </div>\n",
            "      \n",
            "       \n",
            "    \n",
            "        \n",
            "      <div>\n",
            "          \n",
            "                <a href='/haberler/2022/05/27/i-t%C3%BCrk'>\n",
            "                <img src='http://nlp.itu.edu.tr/images/librariesprovider111/default-album/iturk.png?sfvrsn=2' class=\"rsImg\" />\n",
            "                 </a>\n",
            "      </div>\n",
            "      \n",
            "       \n",
            "    \n",
            "        \n",
            "      <div>\n",
            "          <div class='carousel-head'><div class='carousel-head-wrapper'><h3>İTÜ DDİ 2022 Yeni Üyeler</h3> <p></p></div></div>\n",
            "                <a href='haberler/2022/05/12/itu-ddi-2022-yeni-uyeler'>\n",
            "                <img src='http://nlp.itu.edu.tr/images/librariesprovider111/default-album/group-photo.jpg?sfvrsn=0' class=\"rsImg\" />\n",
            "                 </a>\n",
            "      </div>\n",
            "      \n",
            "       \n",
            "    \n",
            "        \n",
            "      <div>\n",
            "          \n",
            "                <a href='haberler/2021/09/07/teketekyoutube'>\n",
            "                <img src='http://nlp.itu.edu.tr/images/librariesprovider111/default-album/teketek2.jpg?sfvrsn=0' class=\"rsImg\" />\n",
            "                 </a>\n",
            "      </div>\n",
            "      \n",
            "       \n",
            "    \n",
            "        \n",
            "      <div>\n",
            "          <div class='carousel-head'><div class='carousel-head-wrapper'><h3>2020 En İyi Makale Ödülü</h3> <p></p></div></div>\n",
            "                <a href='haberler/2021/04/13/en-iyi-makale-ödülü'>\n",
            "                <img src='http://nlp.itu.edu.tr/images/librariesprovider111/default-album/oralaward.jpg?sfvrsn=0' class=\"rsImg\" />\n",
            "                 </a>\n",
            "      </div>\n",
            "      \n",
            "       \n",
            "    \n",
            "        \n",
            "      <div>\n",
            "          \n",
            "                <a href='haberler/2021/03/28/türkçeden-türk-i-şaret-diline-çeviri-patent-başvurusu'>\n",
            "                <img src='http://nlp.itu.edu.tr/images/librariesprovider111/default-album/patent_tr.jpg?sfvrsn=4' class=\"rsImg\" />\n",
            "                 </a>\n",
            "      </div>\n",
            "      \n",
            "       \n",
            "    \n",
            "        \n",
            "      <div>\n",
            "          <div class='carousel-head'><div class='carousel-head-wrapper'><h3>KUIS Yapay Zeka Söyleşisi</h3> <p></p></div></div>\n",
            "                <a href='haberler/2021/03/01/kuis-ai-talks'>\n",
            "                <img src='http://nlp.itu.edu.tr/images/librariesprovider111/default-album/kuis-2.jpg?sfvrsn=2' class=\"rsImg\" />\n",
            "                 </a>\n",
            "      </div>\n",
            "      \n",
            "       \n",
            "    \n",
            "       </div>\n",
            "       \n",
            "    <input id=\"ctl00_cphSlider_ctl00_ctl00_ctl00_dynamicContentListView_ClientState\" name=\"ctl00_cphSlider_ctl00_ctl00_ctl00_dynamicContentListView_ClientState\" type=\"hidden\" /><span id=\"ctl00_cphSlider_ctl00_ctl00_ctl00_dynamicContentListView\" style=\"display:none;\"></span>\n",
            "           \n",
            "\r\n",
            "</div>\r\n",
            "</div>\r\n",
            "\r\n",
            "        <div class=\"container test\">\r\n",
            "            \r\n",
            "<div id=\"cphHaberDuyuru_C005_newsFrontendList_ctl00_ctl00_ctl00\">\r\n",
            "\t        \r\n",
            "            \r\n",
            "            \r\n",
            "            <div id=\"cphHaberDuyuru_C005_newsFrontendList_ctl00_ctl00_ctl00_ctl00_ctl00_textLabel_read\" class=\"sfTxtContent\">\r\n",
            "\t\t\r\n",
            "\t</div>\r\n",
            "            \r\n",
            "            <div id=\"cphHaberDuyuru_C005_newsFrontendList_ctl00_ctl00_ctl00_ctl00_ctl00_characterCounter_read\">\r\n",
            "\t\t\r\n",
            "\t</div>\r\n",
            "        \r\n",
            "<div id=\"cphHaberDuyuru_C005_newsFrontendList_ctl00_ctl00_ctl00_ctl00_ConditionalTemplates\" style=\"display:none;\">\r\n",
            "\t\t<div id=\"ClientTemplatePanel_\">\r\n",
            "\t\r\n",
            "            <div>\r\n",
            "                <span id=\"titleLabel_write_\" class=\"sfTxtLbl sfInlineBlock\"></span>\r\n",
            "                <span id=\"tooltip_write_\">\r\n",
            "\r\n",
            "<div class=\"sfDetailsPopupWrp sfInlineBlock\">\r\n",
            "    <a onclick=\"return false;\" id=\"tooltip_write__ctl00_ctl00_btnToolTipTarget_\"><span class=\"sfTooltip\">(?)</span></a>\r\n",
            "    <div id=\"tooltip_write__ctl00_ctl00_wrpToolTip_\" class=\"sfDetailsPopup\" style=\"display: none;\">\r\n",
            "        <span id=\"tooltip_write__ctl00_ctl00_lblTitle_\"></span>\r\n",
            "        \r\n",
            "    </div>\r\n",
            "</div>\r\n",
            "</span>\r\n",
            "            </div>\r\n",
            "            <a onclick=\"return false;\" id=\"expandButton_write_\" class=\"sfOptionalExpander\"></a>\r\n",
            "            <div id=\"expandableTarget_write_\" class=\"sfFieldWrp\">\r\n",
            "\t\t\r\n",
            "                <input name=\"textBox_write_\" type=\"text\" id=\"textBox_write_\" class=\"sfTxt\" />\r\n",
            "                <div id=\"characterCounter_write_\" class=\"sfFlRight sfMRight5\">\r\n",
            "\t\t\t\r\n",
            "\t\t</div>\r\n",
            "                <div id=\"descriptionLabel_write_\" class=\"sfDescription\">\r\n",
            "\t\t\t\r\n",
            "\t\t</div>\r\n",
            "                <div id=\"exampleLabel_write_\" class=\"sfExample\">\r\n",
            "\t\t\t\r\n",
            "\t\t</div>\r\n",
            "                <p id=\"characterCounterDescription_write_\" class=\"sfExample\"></p>\r\n",
            "            \r\n",
            "\t</div>\r\n",
            "        \r\n",
            "</div>\r\n",
            "\t</div>\r\n",
            "</div>\n",
            "\n",
            "\n",
            "<div class=\"section\">  \n",
            "  <h2> Duyurular </h2>\n",
            "  <hr/>\n",
            "  <div class=\"row news-static\">\n",
            "\n",
            "     \n",
            "            \n",
            "      <div class=\"col-xs-12 col-sm-6 col-md-4 col-lg-4\">\n",
            "      \t<div class=\"media\">\n",
            "          <div class=\"media-left\">\n",
            "          \t<a href='/haberler/2024/11/21/yabancıların-türkçe-kullanım-hatalarını-tespit-eden-çalışmamız-basında-yer-aldı'><img src=\"https://mozaikgiris.itu.edu.tr/images/librariesprovider111/default-album/aa_roportaj.tmb-.jpg?sfvrsn=1\"></a>\n",
            "          </div>\n",
            "          <div class=\"media-body\">\n",
            "        <a href='/haberler/2024/11/21/yabancıların-türkçe-kullanım-hatalarını-tespit-eden-çalışmamız-basında-yer-aldı' style=\"text-decoration: none; color:inherit\">    <h4 class=\"media-heading\"><div id=\"ctl00_cphHaberDuyuru_C005_newsFrontendList_ctl00_ctl00_NewsList_ctrl0_ctl00\">\r\n",
            "\t        \r\n",
            "            \r\n",
            "            \r\n",
            "            <div id=\"ctl00_cphHaberDuyuru_C005_newsFrontendList_ctl00_ctl00_NewsList_ctrl0_ctl00_ctl00_ctl00_textLabel_read\" class=\"sfTxtContent\">\r\n",
            "\t\tTürkçe hata tespiti çalışmamız basında!\r\n",
            "\t</div>\r\n",
            "            \r\n",
            "            <div id=\"ctl00_cphHaberDuyuru_C005_newsFrontendList_ctl00_ctl00_NewsList_ctrl0_ctl00_ctl00_ctl00_characterCounter_read\">\r\n",
            "\t\t\r\n",
            "\t</div>\r\n",
            "        \r\n",
            "<div id=\"ctl00_cphHaberDuyuru_C005_newsFrontendList_ctl00_ctl00_NewsList_ctrl0_ctl00_ctl00_ConditionalTemplates\" style=\"display:none;\">\r\n",
            "\t\t<div id=\"ClientTemplatePanel_\">\r\n",
            "\t\r\n",
            "            <div>\r\n",
            "                <span id=\"titleLabel_write_\" class=\"sfTxtLbl sfInlineBlock\"></span>\r\n",
            "                <span id=\"tooltip_write_\">\r\n",
            "\r\n",
            "<div class=\"sfDetailsPopupWrp sfInlineBlock\">\r\n",
            "    <a onclick=\"return false;\" id=\"tooltip_write__ctl00_ctl00_btnToolTipTarget_\"><span class=\"sfTooltip\">(?)</span></a>\r\n",
            "    <div id=\"tooltip_write__ctl00_ctl00_wrpToolTip_\" class=\"sfDetailsPopup\" style=\"display: none;\">\r\n",
            "        <span id=\"tooltip_write__ctl00_ctl00_lblTitle_\"></span>\r\n",
            "        \r\n",
            "    </div>\r\n",
            "</div>\r\n",
            "</span>\r\n",
            "            </div>\r\n",
            "            <a onclick=\"return false;\" id=\"expandButton_write_\" class=\"sfOptionalExpander\"></a>\r\n",
            "            <div id=\"expandableTarget_write_\" class=\"sfFieldWrp\">\r\n",
            "\t\t\r\n",
            "                <input name=\"textBox_write_\" type=\"text\" id=\"textBox_write_\" class=\"sfTxt\" />\r\n",
            "                <div id=\"characterCounter_write_\" class=\"sfFlRight sfMRight5\">\r\n",
            "\t\t\t\r\n",
            "\t\t</div>\r\n",
            "                <div id=\"descriptionLabel_write_\" class=\"sfDescription\">\r\n",
            "\t\t\t\r\n",
            "\t\t</div>\r\n",
            "                <div id=\"exampleLabel_write_\" class=\"sfExample\">\r\n",
            "\t\t\t\r\n",
            "\t\t</div>\r\n",
            "                <p id=\"characterCounterDescription_write_\" class=\"sfExample\"></p>\r\n",
            "            \r\n",
            "\t</div>\r\n",
            "        \r\n",
            "</div>\r\n",
            "\t</div>\r\n",
            "</div></h4></a>\n",
            "           <a href='/haberler/2024/11/21/yabancıların-türkçe-kullanım-hatalarını-tespit-eden-çalışmamız-basında-yer-aldı' style=\"text-decoration: none; color:inherit\"> <div id=\"ctl00_cphHaberDuyuru_C005_newsFrontendList_ctl00_ctl00_NewsList_ctrl0_ctl01\">\r\n",
            "\t        \r\n",
            "            \r\n",
            "            \r\n",
            "            <div id=\"ctl00_cphHaberDuyuru_C005_newsFrontendList_ctl00_ctl00_NewsList_ctrl0_ctl01_ctl00_ctl00_textLabel_read\" class=\"sfTxtContent\">\r\n",
            "\t\tAA (Anadolu Ajansı) ile gerçekleştirdiğimiz röportajda, yabancıların Türkçe kullanım hatalarını tespit eden çalışmamız tanıtıldı ve projelerimiz hakkında bilgi verildi.\r\n",
            "\t</div>\r\n",
            "            \r\n",
            "            <div id=\"ctl00_cphHaberDuyuru_C005_newsFrontendList_ctl00_ctl00_NewsList_ctrl0_ctl01_ctl00_ctl00_characterCounter_read\">\r\n",
            "\t\t\r\n",
            "\t</div>\r\n",
            "        \r\n",
            "<div id=\"ctl00_cphHaberDuyuru_C005_newsFrontendList_ctl00_ctl00_NewsList_ctrl0_ctl01_ctl00_ConditionalTemplates\" style=\"display:none;\">\r\n",
            "\t\t<div id=\"ClientTemplatePanel_\">\r\n",
            "\t\r\n",
            "            <div>\r\n",
            "                <span id=\"titleLabel_write_\" class=\"sfTxtLbl sfInlineBlock\"></span>\r\n",
            "                <span id=\"tooltip_write_\">\r\n",
            "\r\n",
            "<div class=\"sfDetailsPopupWrp sfInlineBlock\">\r\n",
            "    <a onclick=\"return false;\" id=\"tooltip_write__ctl00_ctl00_btnToolTipTarget_\"><span class=\"sfTooltip\">(?)</span></a>\r\n",
            "    <div id=\"tooltip_write__ctl00_ctl00_wrpToolTip_\" class=\"sfDetailsPopup\" style=\"display: none;\">\r\n",
            "        <span id=\"tooltip_write__ctl00_ctl00_lblTitle_\"></span>\r\n",
            "        \r\n",
            "    </div>\r\n",
            "</div>\r\n",
            "</span>\r\n",
            "            </div>\r\n",
            "            <a onclick=\"return false;\" id=\"expandButton_write_\" class=\"sfOptionalExpander\"></a>\r\n",
            "            <div id=\"expandableTarget_write_\" class=\"sfFieldWrp\">\r\n",
            "\t\t\r\n",
            "                <input name=\"textBox_write_\" type=\"text\" id=\"textBox_write_\" class=\"sfTxt\" />\r\n",
            "                <div id=\"characterCounter_write_\" class=\"sfFlRight sfMRight5\">\r\n",
            "\t\t\t\r\n",
            "\t\t</div>\r\n",
            "                <div id=\"descriptionLabel_write_\" class=\"sfDescription\">\r\n",
            "\t\t\t\r\n",
            "\t\t</div>\r\n",
            "                <div id=\"exampleLabel_write_\" class=\"sfExample\">\r\n",
            "\t\t\t\r\n",
            "\t\t</div>\r\n",
            "                <p id=\"characterCounterDescription_write_\" class=\"sfExample\"></p>\r\n",
            "            \r\n",
            "\t</div>\r\n",
            "        \r\n",
            "</div>\r\n",
            "\t</div>\r\n",
            "</div></a>\n",
            "            <div class=\"link\">\n",
            "            \t\n",
            "              <div class=\"calendar\">\n",
            "              <span class=\"glyphicon glyphicon-calendar\" aria-hidden=\"true\"></span>\n",
            "                <div id=\"ctl00_cphHaberDuyuru_C005_newsFrontendList_ctl00_ctl00_NewsList_ctrl0_ctl02\">\r\n",
            "\t        \r\n",
            "            \r\n",
            "            \r\n",
            "            <div id=\"ctl00_cphHaberDuyuru_C005_newsFrontendList_ctl00_ctl00_NewsList_ctrl0_ctl02_ctl00_ctl00_textLabel_read\" class=\"sfTxtContent\">\r\n",
            "\t\t21 Kas 2024\r\n",
            "\t</div>\r\n",
            "            \r\n",
            "            <div id=\"ctl00_cphHaberDuyuru_C005_newsFrontendList_ctl00_ctl00_NewsList_ctrl0_ctl02_ctl00_ctl00_characterCounter_read\">\r\n",
            "\t\t\r\n",
            "\t</div>\r\n",
            "        \r\n",
            "<div id=\"ctl00_cphHaberDuyuru_C005_newsFrontendList_ctl00_ctl00_NewsList_ctrl0_ctl02_ctl00_ConditionalTemplates\" style=\"display:none;\">\r\n",
            "\t\t<div id=\"ClientTemplatePanel_\">\r\n",
            "\t\r\n",
            "            <div>\r\n",
            "                <span id=\"titleLabel_write_\" class=\"sfTxtLbl sfInlineBlock\"></span>\r\n",
            "                <span id=\"tooltip_write_\">\r\n",
            "\r\n",
            "<div class=\"sfDetailsPopupWrp sfInlineBlock\">\r\n",
            "    <a onclick=\"return false;\" id=\"tooltip_write__ctl00_ctl00_btnToolTipTarget_\"><span class=\"sfTooltip\">(?)</span></a>\r\n",
            "    <div id=\"tooltip_write__ctl00_ctl00_wrpToolTip_\" class=\"sfDetailsPopup\" style=\"display: none;\">\r\n",
            "        <span id=\"tooltip_write__ctl00_ctl00_lblTitle_\"></span>\r\n",
            "        \r\n",
            "    </div>\r\n",
            "</div>\r\n",
            "</span>\r\n",
            "            </div>\r\n",
            "            <a onclick=\"return false;\" id=\"expandButton_write_\" class=\"sfOptionalExpander\"></a>\r\n",
            "            <div id=\"expandableTarget_write_\" class=\"sfFieldWrp\">\r\n",
            "\t\t\r\n",
            "                <input name=\"textBox_write_\" type=\"text\" id=\"textBox_write_\" class=\"sfTxt\" />\r\n",
            "                <div id=\"characterCounter_write_\" class=\"sfFlRight sfMRight5\">\r\n",
            "\t\t\t\r\n",
            "\t\t</div>\r\n",
            "                <div id=\"descriptionLabel_write_\" class=\"sfDescription\">\r\n",
            "\t\t\t\r\n",
            "\t\t</div>\r\n",
            "                <div id=\"exampleLabel_write_\" class=\"sfExample\">\r\n",
            "\t\t\t\r\n",
            "\t\t</div>\r\n",
            "                <p id=\"characterCounterDescription_write_\" class=\"sfExample\"></p>\r\n",
            "            \r\n",
            "\t</div>\r\n",
            "        \r\n",
            "</div>\r\n",
            "\t</div>\r\n",
            "</div>\n",
            "                <div class=\"newsTag\"><div id=\"ctl00_cphHaberDuyuru_C005_newsFrontendList_ctl00_ctl00_NewsList_ctrl0_Tags\">\r\n",
            "\t\r\n",
            "            \r\n",
            "            \r\n",
            "        \r\n",
            "</div></div>\n",
            "              </div>\n",
            "            </div>\n",
            "          </div>\n",
            "        </div>\n",
            "      \t\n",
            "      </div>\n",
            "      \n",
            "     \n",
            "      \n",
            "    \n",
            "      <div class=\"col-xs-12 col-sm-6 col-md-4 col-lg-4\">\n",
            "      \t<div class=\"media\">\n",
            "          <div class=\"media-left\">\n",
            "          \t<a href='/haberler/2024/10/24/i-tü-rektörü-prof.dr.-hasan-mandal-araştırma-grubumuza-ziyaret'><img src=\"https://mozaikgiris.itu.edu.tr/images/librariesprovider111/default-album/rekto%CC%88r-ziyaret.tmb-.jpeg?sfvrsn=1\"></a>\n",
            "          </div>\n",
            "          <div class=\"media-body\">\n",
            "        <a href='/haberler/2024/10/24/i-tü-rektörü-prof.dr.-hasan-mandal-araştırma-grubumuza-ziyaret' style=\"text-decoration: none; color:inherit\">    <h4 class=\"media-heading\"><div id=\"ctl00_cphHaberDuyuru_C005_newsFrontendList_ctl00_ctl00_NewsList_ctrl1_ctl00\">\r\n",
            "\t        \r\n",
            "            \r\n",
            "            \r\n",
            "            <div id=\"ctl00_cphHaberDuyuru_C005_newsFrontendList_ctl00_ctl00_NewsList_ctrl1_ctl00_ctl00_ctl00_textLabel_read\" class=\"sfTxtContent\">\r\n",
            "\t\tİTÜ Rektörü Prof.Dr. Hasan Mandal'dan Ziyaret\r\n",
            "\t</div>\r\n",
            "            \r\n",
            "            <div id=\"ctl00_cphHaberDuyuru_C005_newsFrontendList_ctl00_ctl00_NewsList_ctrl1_ctl00_ctl00_ctl00_characterCounter_read\">\r\n",
            "\t\t\r\n",
            "\t</div>\r\n",
            "        \r\n",
            "<div id=\"ctl00_cphHaberDuyuru_C005_newsFrontendList_ctl00_ctl00_NewsList_ctrl1_ctl00_ctl00_ConditionalTemplates\" style=\"display:none;\">\r\n",
            "\t\t<div id=\"ClientTemplatePanel_\">\r\n",
            "\t\r\n",
            "            <div>\r\n",
            "                <span id=\"titleLabel_write_\" class=\"sfTxtLbl sfInlineBlock\"></span>\r\n",
            "                <span id=\"tooltip_write_\">\r\n",
            "\r\n",
            "<div class=\"sfDetailsPopupWrp sfInlineBlock\">\r\n",
            "    <a onclick=\"return false;\" id=\"tooltip_write__ctl00_ctl00_btnToolTipTarget_\"><span class=\"sfTooltip\">(?)</span></a>\r\n",
            "    <div id=\"tooltip_write__ctl00_ctl00_wrpToolTip_\" class=\"sfDetailsPopup\" style=\"display: none;\">\r\n",
            "        <span id=\"tooltip_write__ctl00_ctl00_lblTitle_\"></span>\r\n",
            "        \r\n",
            "    </div>\r\n",
            "</div>\r\n",
            "</span>\r\n",
            "            </div>\r\n",
            "            <a onclick=\"return false;\" id=\"expandButton_write_\" class=\"sfOptionalExpander\"></a>\r\n",
            "            <div id=\"expandableTarget_write_\" class=\"sfFieldWrp\">\r\n",
            "\t\t\r\n",
            "                <input name=\"textBox_write_\" type=\"text\" id=\"textBox_write_\" class=\"sfTxt\" />\r\n",
            "                <div id=\"characterCounter_write_\" class=\"sfFlRight sfMRight5\">\r\n",
            "\t\t\t\r\n",
            "\t\t</div>\r\n",
            "                <div id=\"descriptionLabel_write_\" class=\"sfDescription\">\r\n",
            "\t\t\t\r\n",
            "\t\t</div>\r\n",
            "                <div id=\"exampleLabel_write_\" class=\"sfExample\">\r\n",
            "\t\t\t\r\n",
            "\t\t</div>\r\n",
            "                <p id=\"characterCounterDescription_write_\" class=\"sfExample\"></p>\r\n",
            "            \r\n",
            "\t</div>\r\n",
            "        \r\n",
            "</div>\r\n",
            "\t</div>\r\n",
            "</div></h4></a>\n",
            "           <a href='/haberler/2024/10/24/i-tü-rektörü-prof.dr.-hasan-mandal-araştırma-grubumuza-ziyaret' style=\"text-decoration: none; color:inherit\"> <div id=\"ctl00_cphHaberDuyuru_C005_newsFrontendList_ctl00_ctl00_NewsList_ctrl1_ctl01\">\r\n",
            "\t        \r\n",
            "            \r\n",
            "            \r\n",
            "            <div id=\"ctl00_cphHaberDuyuru_C005_newsFrontendList_ctl00_ctl00_NewsList_ctrl1_ctl01_ctl00_ctl00_textLabel_read\" class=\"sfTxtContent\">\r\n",
            "\t\tİTÜ Rektörü Prof.Dr. Hasan Mandal Araştırma Grubumuzu ziyaret etti.\r\n",
            "\t</div>\r\n",
            "            \r\n",
            "            <div id=\"ctl00_cphHaberDuyuru_C005_newsFrontendList_ctl00_ctl00_NewsList_ctrl1_ctl01_ctl00_ctl00_characterCounter_read\">\r\n",
            "\t\t\r\n",
            "\t</div>\r\n",
            "        \r\n",
            "<div id=\"ctl00_cphHaberDuyuru_C005_newsFrontendList_ctl00_ctl00_NewsList_ctrl1_ctl01_ctl00_ConditionalTemplates\" style=\"display:none;\">\r\n",
            "\t\t<div id=\"ClientTemplatePanel_\">\r\n",
            "\t\r\n",
            "            <div>\r\n",
            "                <span id=\"titleLabel_write_\" class=\"sfTxtLbl sfInlineBlock\"></span>\r\n",
            "                <span id=\"tooltip_write_\">\r\n",
            "\r\n",
            "<div class=\"sfDetailsPopupWrp sfInlineBlock\">\r\n",
            "    <a onclick=\"return false;\" id=\"tooltip_write__ctl00_ctl00_btnToolTipTarget_\"><span class=\"sfTooltip\">(?)</span></a>\r\n",
            "    <div id=\"tooltip_write__ctl00_ctl00_wrpToolTip_\" class=\"sfDetailsPopup\" style=\"display: none;\">\r\n",
            "        <span id=\"tooltip_write__ctl00_ctl00_lblTitle_\"></span>\r\n",
            "        \r\n",
            "    </div>\r\n",
            "</div>\r\n",
            "</span>\r\n",
            "            </div>\r\n",
            "            <a onclick=\"return false;\" id=\"expandButton_write_\" class=\"sfOptionalExpander\"></a>\r\n",
            "            <div id=\"expandableTarget_write_\" class=\"sfFieldWrp\">\r\n",
            "\t\t\r\n",
            "                <input name=\"textBox_write_\" type=\"text\" id=\"textBox_write_\" class=\"sfTxt\" />\r\n",
            "                <div id=\"characterCounter_write_\" class=\"sfFlRight sfMRight5\">\r\n",
            "\t\t\t\r\n",
            "\t\t</div>\r\n",
            "                <div id=\"descriptionLabel_write_\" class=\"sfDescription\">\r\n",
            "\t\t\t\r\n",
            "\t\t</div>\r\n",
            "                <div id=\"exampleLabel_write_\" class=\"sfExample\">\r\n",
            "\t\t\t\r\n",
            "\t\t</div>\r\n",
            "                <p id=\"characterCounterDescription_write_\" class=\"sfExample\"></p>\r\n",
            "            \r\n",
            "\t</div>\r\n",
            "        \r\n",
            "</div>\r\n",
            "\t</div>\r\n",
            "</div></a>\n",
            "            <div class=\"link\">\n",
            "            \t\n",
            "              <div class=\"calendar\">\n",
            "              <span class=\"glyphicon glyphicon-calendar\" aria-hidden=\"true\"></span>\n",
            "                <div id=\"ctl00_cphHaberDuyuru_C005_newsFrontendList_ctl00_ctl00_NewsList_ctrl1_ctl02\">\r\n",
            "\t        \r\n",
            "            \r\n",
            "            \r\n",
            "            <div id=\"ctl00_cphHaberDuyuru_C005_newsFrontendList_ctl00_ctl00_NewsList_ctrl1_ctl02_ctl00_ctl00_textLabel_read\" class=\"sfTxtContent\">\r\n",
            "\t\t24 Eki 2024\r\n",
            "\t</div>\r\n",
            "            \r\n",
            "            <div id=\"ctl00_cphHaberDuyuru_C005_newsFrontendList_ctl00_ctl00_NewsList_ctrl1_ctl02_ctl00_ctl00_characterCounter_read\">\r\n",
            "\t\t\r\n",
            "\t</div>\r\n",
            "        \r\n",
            "<div id=\"ctl00_cphHaberDuyuru_C005_newsFrontendList_ctl00_ctl00_NewsList_ctrl1_ctl02_ctl00_ConditionalTemplates\" style=\"display:none;\">\r\n",
            "\t\t<div id=\"ClientTemplatePanel_\">\r\n",
            "\t\r\n",
            "            <div>\r\n",
            "                <span id=\"titleLabel_write_\" class=\"sfTxtLbl sfInlineBlock\"></span>\r\n",
            "                <span id=\"tooltip_write_\">\r\n",
            "\r\n",
            "<div class=\"sfDetailsPopupWrp sfInlineBlock\">\r\n",
            "    <a onclick=\"return false;\" id=\"tooltip_write__ctl00_ctl00_btnToolTipTarget_\"><span class=\"sfTooltip\">(?)</span></a>\r\n",
            "    <div id=\"tooltip_write__ctl00_ctl00_wrpToolTip_\" class=\"sfDetailsPopup\" style=\"display: none;\">\r\n",
            "        <span id=\"tooltip_write__ctl00_ctl00_lblTitle_\"></span>\r\n",
            "        \r\n",
            "    </div>\r\n",
            "</div>\r\n",
            "</span>\r\n",
            "            </div>\r\n",
            "            <a onclick=\"return false;\" id=\"expandButton_write_\" class=\"sfOptionalExpander\"></a>\r\n",
            "            <div id=\"expandableTarget_write_\" class=\"sfFieldWrp\">\r\n",
            "\t\t\r\n",
            "                <input name=\"textBox_write_\" type=\"text\" id=\"textBox_write_\" class=\"sfTxt\" />\r\n",
            "                <div id=\"characterCounter_write_\" class=\"sfFlRight sfMRight5\">\r\n",
            "\t\t\t\r\n",
            "\t\t</div>\r\n",
            "                <div id=\"descriptionLabel_write_\" class=\"sfDescription\">\r\n",
            "\t\t\t\r\n",
            "\t\t</div>\r\n",
            "                <div id=\"exampleLabel_write_\" class=\"sfExample\">\r\n",
            "\t\t\t\r\n",
            "\t\t</div>\r\n",
            "                <p id=\"characterCounterDescription_write_\" class=\"sfExample\"></p>\r\n",
            "            \r\n",
            "\t</div>\r\n",
            "        \r\n",
            "</div>\r\n",
            "\t</div>\r\n",
            "</div>\n",
            "                <div class=\"newsTag\"><div id=\"ctl00_cphHaberDuyuru_C005_newsFrontendList_ctl00_ctl00_NewsList_ctrl1_Tags\">\r\n",
            "\t\r\n",
            "            \r\n",
            "            \r\n",
            "        \r\n",
            "</div></div>\n",
            "              </div>\n",
            "            </div>\n",
            "          </div>\n",
            "        </div>\n",
            "      \t\n",
            "      </div>\n",
            "      \n",
            "     \n",
            "      \n",
            "    \n",
            "      <div class=\"col-xs-12 col-sm-6 col-md-4 col-lg-4\">\n",
            "      \t<div class=\"media\">\n",
            "          <div class=\"media-left\">\n",
            "          \t<a href='/haberler/2024/10/11/dr-öğr-üyesi-reza-abbasi-aslden-araştırma-grubumuza-ziyaret'><img src=\"https://mozaikgiris.itu.edu.tr/images/librariesprovider111/default-album/rezaabbasitalk.tmb-.jpeg?sfvrsn=1\"></a>\n",
            "          </div>\n",
            "          <div class=\"media-body\">\n",
            "        <a href='/haberler/2024/10/11/dr-öğr-üyesi-reza-abbasi-aslden-araştırma-grubumuza-ziyaret' style=\"text-decoration: none; color:inherit\">    <h4 class=\"media-heading\"><div id=\"ctl00_cphHaberDuyuru_C005_newsFrontendList_ctl00_ctl00_NewsList_ctrl2_ctl00\">\r\n",
            "\t        \r\n",
            "            \r\n",
            "            \r\n",
            "            <div id=\"ctl00_cphHaberDuyuru_C005_newsFrontendList_ctl00_ctl00_NewsList_ctrl2_ctl00_ctl00_ctl00_textLabel_read\" class=\"sfTxtContent\">\r\n",
            "\t\tReza Abbasi-Asl'den araştırma grubumuza ziyaret\r\n",
            "\t</div>\r\n",
            "            \r\n",
            "            <div id=\"ctl00_cphHaberDuyuru_C005_newsFrontendList_ctl00_ctl00_NewsList_ctrl2_ctl00_ctl00_ctl00_characterCounter_read\">\r\n",
            "\t\t\r\n",
            "\t</div>\r\n",
            "        \r\n",
            "<div id=\"ctl00_cphHaberDuyuru_C005_newsFrontendList_ctl00_ctl00_NewsList_ctrl2_ctl00_ctl00_ConditionalTemplates\" style=\"display:none;\">\r\n",
            "\t\t<div id=\"ClientTemplatePanel_\">\r\n",
            "\t\r\n",
            "            <div>\r\n",
            "                <span id=\"titleLabel_write_\" class=\"sfTxtLbl sfInlineBlock\"></span>\r\n",
            "                <span id=\"tooltip_write_\">\r\n",
            "\r\n",
            "<div class=\"sfDetailsPopupWrp sfInlineBlock\">\r\n",
            "    <a onclick=\"return false;\" id=\"tooltip_write__ctl00_ctl00_btnToolTipTarget_\"><span class=\"sfTooltip\">(?)</span></a>\r\n",
            "    <div id=\"tooltip_write__ctl00_ctl00_wrpToolTip_\" class=\"sfDetailsPopup\" style=\"display: none;\">\r\n",
            "        <span id=\"tooltip_write__ctl00_ctl00_lblTitle_\"></span>\r\n",
            "        \r\n",
            "    </div>\r\n",
            "</div>\r\n",
            "</span>\r\n",
            "            </div>\r\n",
            "            <a onclick=\"return false;\" id=\"expandButton_write_\" class=\"sfOptionalExpander\"></a>\r\n",
            "            <div id=\"expandableTarget_write_\" class=\"sfFieldWrp\">\r\n",
            "\t\t\r\n",
            "                <input name=\"textBox_write_\" type=\"text\" id=\"textBox_write_\" class=\"sfTxt\" />\r\n",
            "                <div id=\"characterCounter_write_\" class=\"sfFlRight sfMRight5\">\r\n",
            "\t\t\t\r\n",
            "\t\t</div>\r\n",
            "                <div id=\"descriptionLabel_write_\" class=\"sfDescription\">\r\n",
            "\t\t\t\r\n",
            "\t\t</div>\r\n",
            "                <div id=\"exampleLabel_write_\" class=\"sfExample\">\r\n",
            "\t\t\t\r\n",
            "\t\t</div>\r\n",
            "                <p id=\"characterCounterDescription_write_\" class=\"sfExample\"></p>\r\n",
            "            \r\n",
            "\t</div>\r\n",
            "        \r\n",
            "</div>\r\n",
            "\t</div>\r\n",
            "</div></h4></a>\n",
            "           <a href='/haberler/2024/10/11/dr-öğr-üyesi-reza-abbasi-aslden-araştırma-grubumuza-ziyaret' style=\"text-decoration: none; color:inherit\"> <div id=\"ctl00_cphHaberDuyuru_C005_newsFrontendList_ctl00_ctl00_NewsList_ctrl2_ctl01\">\r\n",
            "\t        \r\n",
            "            \r\n",
            "            \r\n",
            "            <div id=\"ctl00_cphHaberDuyuru_C005_newsFrontendList_ctl00_ctl00_NewsList_ctrl2_ctl01_ctl00_ctl00_textLabel_read\" class=\"sfTxtContent\">\r\n",
            "\t\tAbbasi-Asl grubumuza \"Spatio-temporal Modeling in Neuroscience through Interpretable Machine Learning\" başlıklı bir sunum gerçekleştirdi.\r\n",
            "\t</div>\r\n",
            "            \r\n",
            "            <div id=\"ctl00_cphHaberDuyuru_C005_newsFrontendList_ctl00_ctl00_NewsList_ctrl2_ctl01_ctl00_ctl00_characterCounter_read\">\r\n",
            "\t\t\r\n",
            "\t</div>\r\n",
            "        \r\n",
            "<div id=\"ctl00_cphHaberDuyuru_C005_newsFrontendList_ctl00_ctl00_NewsList_ctrl2_ctl01_ctl00_ConditionalTemplates\" style=\"display:none;\">\r\n",
            "\t\t<div id=\"ClientTemplatePanel_\">\r\n",
            "\t\r\n",
            "            <div>\r\n",
            "                <span id=\"titleLabel_write_\" class=\"sfTxtLbl sfInlineBlock\"></span>\r\n",
            "                <span id=\"tooltip_write_\">\r\n",
            "\r\n",
            "<div class=\"sfDetailsPopupWrp sfInlineBlock\">\r\n",
            "    <a onclick=\"return false;\" id=\"tooltip_write__ctl00_ctl00_btnToolTipTarget_\"><span class=\"sfTooltip\">(?)</span></a>\r\n",
            "    <div id=\"tooltip_write__ctl00_ctl00_wrpToolTip_\" class=\"sfDetailsPopup\" style=\"display: none;\">\r\n",
            "        <span id=\"tooltip_write__ctl00_ctl00_lblTitle_\"></span>\r\n",
            "        \r\n",
            "    </div>\r\n",
            "</div>\r\n",
            "</span>\r\n",
            "            </div>\r\n",
            "            <a onclick=\"return false;\" id=\"expandButton_write_\" class=\"sfOptionalExpander\"></a>\r\n",
            "            <div id=\"expandableTarget_write_\" class=\"sfFieldWrp\">\r\n",
            "\t\t\r\n",
            "                <input name=\"textBox_write_\" type=\"text\" id=\"textBox_write_\" class=\"sfTxt\" />\r\n",
            "                <div id=\"characterCounter_write_\" class=\"sfFlRight sfMRight5\">\r\n",
            "\t\t\t\r\n",
            "\t\t</div>\r\n",
            "                <div id=\"descriptionLabel_write_\" class=\"sfDescription\">\r\n",
            "\t\t\t\r\n",
            "\t\t</div>\r\n",
            "                <div id=\"exampleLabel_write_\" class=\"sfExample\">\r\n",
            "\t\t\t\r\n",
            "\t\t</div>\r\n",
            "                <p id=\"characterCounterDescription_write_\" class=\"sfExample\"></p>\r\n",
            "            \r\n",
            "\t</div>\r\n",
            "        \r\n",
            "</div>\r\n",
            "\t</div>\r\n",
            "</div></a>\n",
            "            <div class=\"link\">\n",
            "            \t\n",
            "              <div class=\"calendar\">\n",
            "              <span class=\"glyphicon glyphicon-calendar\" aria-hidden=\"true\"></span>\n",
            "                <div id=\"ctl00_cphHaberDuyuru_C005_newsFrontendList_ctl00_ctl00_NewsList_ctrl2_ctl02\">\r\n",
            "\t        \r\n",
            "            \r\n",
            "            \r\n",
            "            <div id=\"ctl00_cphHaberDuyuru_C005_newsFrontendList_ctl00_ctl00_NewsList_ctrl2_ctl02_ctl00_ctl00_textLabel_read\" class=\"sfTxtContent\">\r\n",
            "\t\t11 Eki 2024\r\n",
            "\t</div>\r\n",
            "            \r\n",
            "            <div id=\"ctl00_cphHaberDuyuru_C005_newsFrontendList_ctl00_ctl00_NewsList_ctrl2_ctl02_ctl00_ctl00_characterCounter_read\">\r\n",
            "\t\t\r\n",
            "\t</div>\r\n",
            "        \r\n",
            "<div id=\"ctl00_cphHaberDuyuru_C005_newsFrontendList_ctl00_ctl00_NewsList_ctrl2_ctl02_ctl00_ConditionalTemplates\" style=\"display:none;\">\r\n",
            "\t\t<div id=\"ClientTemplatePanel_\">\r\n",
            "\t\r\n",
            "            <div>\r\n",
            "                <span id=\"titleLabel_write_\" class=\"sfTxtLbl sfInlineBlock\"></span>\r\n",
            "                <span id=\"tooltip_write_\">\r\n",
            "\r\n",
            "<div class=\"sfDetailsPopupWrp sfInlineBlock\">\r\n",
            "    <a onclick=\"return false;\" id=\"tooltip_write__ctl00_ctl00_btnToolTipTarget_\"><span class=\"sfTooltip\">(?)</span></a>\r\n",
            "    <div id=\"tooltip_write__ctl00_ctl00_wrpToolTip_\" class=\"sfDetailsPopup\" style=\"display: none;\">\r\n",
            "        <span id=\"tooltip_write__ctl00_ctl00_lblTitle_\"></span>\r\n",
            "        \r\n",
            "    </div>\r\n",
            "</div>\r\n",
            "</span>\r\n",
            "            </div>\r\n",
            "            <a onclick=\"return false;\" id=\"expandButton_write_\" class=\"sfOptionalExpander\"></a>\r\n",
            "            <div id=\"expandableTarget_write_\" class=\"sfFieldWrp\">\r\n",
            "\t\t\r\n",
            "                <input name=\"textBox_write_\" type=\"text\" id=\"textBox_write_\" class=\"sfTxt\" />\r\n",
            "                <div id=\"characterCounter_write_\" class=\"sfFlRight sfMRight5\">\r\n",
            "\t\t\t\r\n",
            "\t\t</div>\r\n",
            "                <div id=\"descriptionLabel_write_\" class=\"sfDescription\">\r\n",
            "\t\t\t\r\n",
            "\t\t</div>\r\n",
            "                <div id=\"exampleLabel_write_\" class=\"sfExample\">\r\n",
            "\t\t\t\r\n",
            "\t\t</div>\r\n",
            "                <p id=\"characterCounterDescription_write_\" class=\"sfExample\"></p>\r\n",
            "            \r\n",
            "\t</div>\r\n",
            "        \r\n",
            "</div>\r\n",
            "\t</div>\r\n",
            "</div>\n",
            "                <div class=\"newsTag\"><div id=\"ctl00_cphHaberDuyuru_C005_newsFrontendList_ctl00_ctl00_NewsList_ctrl2_Tags\">\r\n",
            "\t\r\n",
            "            \r\n",
            "            \r\n",
            "        \r\n",
            "</div></div>\n",
            "              </div>\n",
            "            </div>\n",
            "          </div>\n",
            "        </div>\n",
            "      \t\n",
            "      </div>\n",
            "      \n",
            "     \n",
            "      \n",
            "    \n",
            "      <div class=\"col-xs-12 col-sm-6 col-md-4 col-lg-4\">\n",
            "      \t<div class=\"media\">\n",
            "          <div class=\"media-left\">\n",
            "          \t<a href='/haberler/2024/10/11/prof-dr-gulsen-eryigitin-patentine-ödül'><img src=\"https://mozaikgiris.itu.edu.tr/images/librariesprovider111/default-album/patent-%C3%B6d%C3%BCl.tmb-.png?sfvrsn=1\"></a>\n",
            "          </div>\n",
            "          <div class=\"media-body\">\n",
            "        <a href='/haberler/2024/10/11/prof-dr-gulsen-eryigitin-patentine-ödül' style=\"text-decoration: none; color:inherit\">    <h4 class=\"media-heading\"><div id=\"ctl00_cphHaberDuyuru_C005_newsFrontendList_ctl00_ctl00_NewsList_ctrl3_ctl00\">\r\n",
            "\t        \r\n",
            "            \r\n",
            "            \r\n",
            "            <div id=\"ctl00_cphHaberDuyuru_C005_newsFrontendList_ctl00_ctl00_NewsList_ctrl3_ctl00_ctl00_ctl00_textLabel_read\" class=\"sfTxtContent\">\r\n",
            "\t\tProf. Dr. Gülşen Eryiğit'in patentine ödül\r\n",
            "\t</div>\r\n",
            "            \r\n",
            "            <div id=\"ctl00_cphHaberDuyuru_C005_newsFrontendList_ctl00_ctl00_NewsList_ctrl3_ctl00_ctl00_ctl00_characterCounter_read\">\r\n",
            "\t\t\r\n",
            "\t</div>\r\n",
            "        \r\n",
            "<div id=\"ctl00_cphHaberDuyuru_C005_newsFrontendList_ctl00_ctl00_NewsList_ctrl3_ctl00_ctl00_ConditionalTemplates\" style=\"display:none;\">\r\n",
            "\t\t<div id=\"ClientTemplatePanel_\">\r\n",
            "\t\r\n",
            "            <div>\r\n",
            "                <span id=\"titleLabel_write_\" class=\"sfTxtLbl sfInlineBlock\"></span>\r\n",
            "                <span id=\"tooltip_write_\">\r\n",
            "\r\n",
            "<div class=\"sfDetailsPopupWrp sfInlineBlock\">\r\n",
            "    <a onclick=\"return false;\" id=\"tooltip_write__ctl00_ctl00_btnToolTipTarget_\"><span class=\"sfTooltip\">(?)</span></a>\r\n",
            "    <div id=\"tooltip_write__ctl00_ctl00_wrpToolTip_\" class=\"sfDetailsPopup\" style=\"display: none;\">\r\n",
            "        <span id=\"tooltip_write__ctl00_ctl00_lblTitle_\"></span>\r\n",
            "        \r\n",
            "    </div>\r\n",
            "</div>\r\n",
            "</span>\r\n",
            "            </div>\r\n",
            "            <a onclick=\"return false;\" id=\"expandButton_write_\" class=\"sfOptionalExpander\"></a>\r\n",
            "            <div id=\"expandableTarget_write_\" class=\"sfFieldWrp\">\r\n",
            "\t\t\r\n",
            "                <input name=\"textBox_write_\" type=\"text\" id=\"textBox_write_\" class=\"sfTxt\" />\r\n",
            "                <div id=\"characterCounter_write_\" class=\"sfFlRight sfMRight5\">\r\n",
            "\t\t\t\r\n",
            "\t\t</div>\r\n",
            "                <div id=\"descriptionLabel_write_\" class=\"sfDescription\">\r\n",
            "\t\t\t\r\n",
            "\t\t</div>\r\n",
            "                <div id=\"exampleLabel_write_\" class=\"sfExample\">\r\n",
            "\t\t\t\r\n",
            "\t\t</div>\r\n",
            "                <p id=\"characterCounterDescription_write_\" class=\"sfExample\"></p>\r\n",
            "            \r\n",
            "\t</div>\r\n",
            "        \r\n",
            "</div>\r\n",
            "\t</div>\r\n",
            "</div></h4></a>\n",
            "           <a href='/haberler/2024/10/11/prof-dr-gulsen-eryigitin-patentine-ödül' style=\"text-decoration: none; color:inherit\"> <div id=\"ctl00_cphHaberDuyuru_C005_newsFrontendList_ctl00_ctl00_NewsList_ctrl3_ctl01\">\r\n",
            "\t        \r\n",
            "            \r\n",
            "            \r\n",
            "            <div id=\"ctl00_cphHaberDuyuru_C005_newsFrontendList_ctl00_ctl00_NewsList_ctrl3_ctl01_ctl00_ctl00_textLabel_read\" class=\"sfTxtContent\">\r\n",
            "\t\t Prof. Dr. Gülşen Eryiğit’in patentine 9. Uluslararası Buluş Fuarı'nda ödül.\r\n",
            "\t</div>\r\n",
            "            \r\n",
            "            <div id=\"ctl00_cphHaberDuyuru_C005_newsFrontendList_ctl00_ctl00_NewsList_ctrl3_ctl01_ctl00_ctl00_characterCounter_read\">\r\n",
            "\t\t\r\n",
            "\t</div>\r\n",
            "        \r\n",
            "<div id=\"ctl00_cphHaberDuyuru_C005_newsFrontendList_ctl00_ctl00_NewsList_ctrl3_ctl01_ctl00_ConditionalTemplates\" style=\"display:none;\">\r\n",
            "\t\t<div id=\"ClientTemplatePanel_\">\r\n",
            "\t\r\n",
            "            <div>\r\n",
            "                <span id=\"titleLabel_write_\" class=\"sfTxtLbl sfInlineBlock\"></span>\r\n",
            "                <span id=\"tooltip_write_\">\r\n",
            "\r\n",
            "<div class=\"sfDetailsPopupWrp sfInlineBlock\">\r\n",
            "    <a onclick=\"return false;\" id=\"tooltip_write__ctl00_ctl00_btnToolTipTarget_\"><span class=\"sfTooltip\">(?)</span></a>\r\n",
            "    <div id=\"tooltip_write__ctl00_ctl00_wrpToolTip_\" class=\"sfDetailsPopup\" style=\"display: none;\">\r\n",
            "        <span id=\"tooltip_write__ctl00_ctl00_lblTitle_\"></span>\r\n",
            "        \r\n",
            "    </div>\r\n",
            "</div>\r\n",
            "</span>\r\n",
            "            </div>\r\n",
            "            <a onclick=\"return false;\" id=\"expandButton_write_\" class=\"sfOptionalExpander\"></a>\r\n",
            "            <div id=\"expandableTarget_write_\" class=\"sfFieldWrp\">\r\n",
            "\t\t\r\n",
            "                <input name=\"textBox_write_\" type=\"text\" id=\"textBox_write_\" class=\"sfTxt\" />\r\n",
            "                <div id=\"characterCounter_write_\" class=\"sfFlRight sfMRight5\">\r\n",
            "\t\t\t\r\n",
            "\t\t</div>\r\n",
            "                <div id=\"descriptionLabel_write_\" class=\"sfDescription\">\r\n",
            "\t\t\t\r\n",
            "\t\t</div>\r\n",
            "                <div id=\"exampleLabel_write_\" class=\"sfExample\">\r\n",
            "\t\t\t\r\n",
            "\t\t</div>\r\n",
            "                <p id=\"characterCounterDescription_write_\" class=\"sfExample\"></p>\r\n",
            "            \r\n",
            "\t</div>\r\n",
            "        \r\n",
            "</div>\r\n",
            "\t</div>\r\n",
            "</div></a>\n",
            "            <div class=\"link\">\n",
            "            \t\n",
            "              <div class=\"calendar\">\n",
            "              <span class=\"glyphicon glyphicon-calendar\" aria-hidden=\"true\"></span>\n",
            "                <div id=\"ctl00_cphHaberDuyuru_C005_newsFrontendList_ctl00_ctl00_NewsList_ctrl3_ctl02\">\r\n",
            "\t        \r\n",
            "            \r\n",
            "            \r\n",
            "            <div id=\"ctl00_cphHaberDuyuru_C005_newsFrontendList_ctl00_ctl00_NewsList_ctrl3_ctl02_ctl00_ctl00_textLabel_read\" class=\"sfTxtContent\">\r\n",
            "\t\t11 Eki 2024\r\n",
            "\t</div>\r\n",
            "            \r\n",
            "            <div id=\"ctl00_cphHaberDuyuru_C005_newsFrontendList_ctl00_ctl00_NewsList_ctrl3_ctl02_ctl00_ctl00_characterCounter_read\">\r\n",
            "\t\t\r\n",
            "\t</div>\r\n",
            "        \r\n",
            "<div id=\"ctl00_cphHaberDuyuru_C005_newsFrontendList_ctl00_ctl00_NewsList_ctrl3_ctl02_ctl00_ConditionalTemplates\" style=\"display:none;\">\r\n",
            "\t\t<div id=\"ClientTemplatePanel_\">\r\n",
            "\t\r\n",
            "            <div>\r\n",
            "                <span id=\"titleLabel_write_\" class=\"sfTxtLbl sfInlineBlock\"></span>\r\n",
            "                <span id=\"tooltip_write_\">\r\n",
            "\r\n",
            "<div class=\"sfDetailsPopupWrp sfInlineBlock\">\r\n",
            "    <a onclick=\"return false;\" id=\"tooltip_write__ctl00_ctl00_btnToolTipTarget_\"><span class=\"sfTooltip\">(?)</span></a>\r\n",
            "    <div id=\"tooltip_write__ctl00_ctl00_wrpToolTip_\" class=\"sfDetailsPopup\" style=\"display: none;\">\r\n",
            "        <span id=\"tooltip_write__ctl00_ctl00_lblTitle_\"></span>\r\n",
            "        \r\n",
            "    </div>\r\n",
            "</div>\r\n",
            "</span>\r\n",
            "            </div>\r\n",
            "            <a onclick=\"return false;\" id=\"expandButton_write_\" class=\"sfOptionalExpander\"></a>\r\n",
            "            <div id=\"expandableTarget_write_\" class=\"sfFieldWrp\">\r\n",
            "\t\t\r\n",
            "                <input name=\"textBox_write_\" type=\"text\" id=\"textBox_write_\" class=\"sfTxt\" />\r\n",
            "                <div id=\"characterCounter_write_\" class=\"sfFlRight sfMRight5\">\r\n",
            "\t\t\t\r\n",
            "\t\t</div>\r\n",
            "                <div id=\"descriptionLabel_write_\" class=\"sfDescription\">\r\n",
            "\t\t\t\r\n",
            "\t\t</div>\r\n",
            "                <div id=\"exampleLabel_write_\" class=\"sfExample\">\r\n",
            "\t\t\t\r\n",
            "\t\t</div>\r\n",
            "                <p id=\"characterCounterDescription_write_\" class=\"sfExample\"></p>\r\n",
            "            \r\n",
            "\t</div>\r\n",
            "        \r\n",
            "</div>\r\n",
            "\t</div>\r\n",
            "</div>\n",
            "                <div class=\"newsTag\"><div id=\"ctl00_cphHaberDuyuru_C005_newsFrontendList_ctl00_ctl00_NewsList_ctrl3_Tags\">\r\n",
            "\t\r\n",
            "            \r\n",
            "            \r\n",
            "        \r\n",
            "</div></div>\n",
            "              </div>\n",
            "            </div>\n",
            "          </div>\n",
            "        </div>\n",
            "      \t\n",
            "      </div>\n",
            "      \n",
            "     \n",
            "      \n",
            "    \n",
            "      <div class=\"col-xs-12 col-sm-6 col-md-4 col-lg-4\">\n",
            "      \t<div class=\"media\">\n",
            "          <div class=\"media-left\">\n",
            "          \t<a href='/haberler/2024/09/23/itunlp-dünyanın-en-etkili-bilim-insanları-listesinde'><img src=\"https://mozaikgiris.itu.edu.tr/images/librariesprovider111/default-album/gulsen-fakulte.tmb-.jpg?sfvrsn=1\"></a>\n",
            "          </div>\n",
            "          <div class=\"media-body\">\n",
            "        <a href='/haberler/2024/09/23/itunlp-dünyanın-en-etkili-bilim-insanları-listesinde' style=\"text-decoration: none; color:inherit\">    <h4 class=\"media-heading\"><div id=\"ctl00_cphHaberDuyuru_C005_newsFrontendList_ctl00_ctl00_NewsList_ctrl4_ctl00\">\r\n",
            "\t        \r\n",
            "            \r\n",
            "            \r\n",
            "            <div id=\"ctl00_cphHaberDuyuru_C005_newsFrontendList_ctl00_ctl00_NewsList_ctrl4_ctl00_ctl00_ctl00_textLabel_read\" class=\"sfTxtContent\">\r\n",
            "\t\tITUNLP Dünyanın en etkili bilim insanları listesinde\r\n",
            "\t</div>\r\n",
            "            \r\n",
            "            <div id=\"ctl00_cphHaberDuyuru_C005_newsFrontendList_ctl00_ctl00_NewsList_ctrl4_ctl00_ctl00_ctl00_characterCounter_read\">\r\n",
            "\t\t\r\n",
            "\t</div>\r\n",
            "        \r\n",
            "<div id=\"ctl00_cphHaberDuyuru_C005_newsFrontendList_ctl00_ctl00_NewsList_ctrl4_ctl00_ctl00_ConditionalTemplates\" style=\"display:none;\">\r\n",
            "\t\t<div id=\"ClientTemplatePanel_\">\r\n",
            "\t\r\n",
            "            <div>\r\n",
            "                <span id=\"titleLabel_write_\" class=\"sfTxtLbl sfInlineBlock\"></span>\r\n",
            "                <span id=\"tooltip_write_\">\r\n",
            "\r\n",
            "<div class=\"sfDetailsPopupWrp sfInlineBlock\">\r\n",
            "    <a onclick=\"return false;\" id=\"tooltip_write__ctl00_ctl00_btnToolTipTarget_\"><span class=\"sfTooltip\">(?)</span></a>\r\n",
            "    <div id=\"tooltip_write__ctl00_ctl00_wrpToolTip_\" class=\"sfDetailsPopup\" style=\"display: none;\">\r\n",
            "        <span id=\"tooltip_write__ctl00_ctl00_lblTitle_\"></span>\r\n",
            "        \r\n",
            "    </div>\r\n",
            "</div>\r\n",
            "</span>\r\n",
            "            </div>\r\n",
            "            <a onclick=\"return false;\" id=\"expandButton_write_\" class=\"sfOptionalExpander\"></a>\r\n",
            "            <div id=\"expandableTarget_write_\" class=\"sfFieldWrp\">\r\n",
            "\t\t\r\n",
            "                <input name=\"textBox_write_\" type=\"text\" id=\"textBox_write_\" class=\"sfTxt\" />\r\n",
            "                <div id=\"characterCounter_write_\" class=\"sfFlRight sfMRight5\">\r\n",
            "\t\t\t\r\n",
            "\t\t</div>\r\n",
            "                <div id=\"descriptionLabel_write_\" class=\"sfDescription\">\r\n",
            "\t\t\t\r\n",
            "\t\t</div>\r\n",
            "                <div id=\"exampleLabel_write_\" class=\"sfExample\">\r\n",
            "\t\t\t\r\n",
            "\t\t</div>\r\n",
            "                <p id=\"characterCounterDescription_write_\" class=\"sfExample\"></p>\r\n",
            "            \r\n",
            "\t</div>\r\n",
            "        \r\n",
            "</div>\r\n",
            "\t</div>\r\n",
            "</div></h4></a>\n",
            "           <a href='/haberler/2024/09/23/itunlp-dünyanın-en-etkili-bilim-insanları-listesinde' style=\"text-decoration: none; color:inherit\"> <div id=\"ctl00_cphHaberDuyuru_C005_newsFrontendList_ctl00_ctl00_NewsList_ctrl4_ctl01\">\r\n",
            "\t        \r\n",
            "            \r\n",
            "            \r\n",
            "            <div id=\"ctl00_cphHaberDuyuru_C005_newsFrontendList_ctl00_ctl00_NewsList_ctrl4_ctl01_ctl00_ctl00_textLabel_read\" class=\"sfTxtContent\">\r\n",
            "\t\tKoordinatörümüz Prof. Dr. Gülşen Eryiğit, Elsevier ve Stanford Üniversitesi işbirliğiyle yıllık olarak açıklanan \"Dünyanın En Etkili Bilim İnsanları 2023\" listesinde \"Kariyer Boyu Etki\" kategorisinde yer aldı. \r\n",
            "\t</div>\r\n",
            "            \r\n",
            "            <div id=\"ctl00_cphHaberDuyuru_C005_newsFrontendList_ctl00_ctl00_NewsList_ctrl4_ctl01_ctl00_ctl00_characterCounter_read\">\r\n",
            "\t\t\r\n",
            "\t</div>\r\n",
            "        \r\n",
            "<div id=\"ctl00_cphHaberDuyuru_C005_newsFrontendList_ctl00_ctl00_NewsList_ctrl4_ctl01_ctl00_ConditionalTemplates\" style=\"display:none;\">\r\n",
            "\t\t<div id=\"ClientTemplatePanel_\">\r\n",
            "\t\r\n",
            "            <div>\r\n",
            "                <span id=\"titleLabel_write_\" class=\"sfTxtLbl sfInlineBlock\"></span>\r\n",
            "                <span id=\"tooltip_write_\">\r\n",
            "\r\n",
            "<div class=\"sfDetailsPopupWrp sfInlineBlock\">\r\n",
            "    <a onclick=\"return false;\" id=\"tooltip_write__ctl00_ctl00_btnToolTipTarget_\"><span class=\"sfTooltip\">(?)</span></a>\r\n",
            "    <div id=\"tooltip_write__ctl00_ctl00_wrpToolTip_\" class=\"sfDetailsPopup\" style=\"display: none;\">\r\n",
            "        <span id=\"tooltip_write__ctl00_ctl00_lblTitle_\"></span>\r\n",
            "        \r\n",
            "    </div>\r\n",
            "</div>\r\n",
            "</span>\r\n",
            "            </div>\r\n",
            "            <a onclick=\"return false;\" id=\"expandButton_write_\" class=\"sfOptionalExpander\"></a>\r\n",
            "            <div id=\"expandableTarget_write_\" class=\"sfFieldWrp\">\r\n",
            "\t\t\r\n",
            "                <input name=\"textBox_write_\" type=\"text\" id=\"textBox_write_\" class=\"sfTxt\" />\r\n",
            "                <div id=\"characterCounter_write_\" class=\"sfFlRight sfMRight5\">\r\n",
            "\t\t\t\r\n",
            "\t\t</div>\r\n",
            "                <div id=\"descriptionLabel_write_\" class=\"sfDescription\">\r\n",
            "\t\t\t\r\n",
            "\t\t</div>\r\n",
            "                <div id=\"exampleLabel_write_\" class=\"sfExample\">\r\n",
            "\t\t\t\r\n",
            "\t\t</div>\r\n",
            "                <p id=\"characterCounterDescription_write_\" class=\"sfExample\"></p>\r\n",
            "            \r\n",
            "\t</div>\r\n",
            "        \r\n",
            "</div>\r\n",
            "\t</div>\r\n",
            "</div></a>\n",
            "            <div class=\"link\">\n",
            "            \t\n",
            "              <div class=\"calendar\">\n",
            "              <span class=\"glyphicon glyphicon-calendar\" aria-hidden=\"true\"></span>\n",
            "                <div id=\"ctl00_cphHaberDuyuru_C005_newsFrontendList_ctl00_ctl00_NewsList_ctrl4_ctl02\">\r\n",
            "\t        \r\n",
            "            \r\n",
            "            \r\n",
            "            <div id=\"ctl00_cphHaberDuyuru_C005_newsFrontendList_ctl00_ctl00_NewsList_ctrl4_ctl02_ctl00_ctl00_textLabel_read\" class=\"sfTxtContent\">\r\n",
            "\t\t23 Eyl 2024\r\n",
            "\t</div>\r\n",
            "            \r\n",
            "            <div id=\"ctl00_cphHaberDuyuru_C005_newsFrontendList_ctl00_ctl00_NewsList_ctrl4_ctl02_ctl00_ctl00_characterCounter_read\">\r\n",
            "\t\t\r\n",
            "\t</div>\r\n",
            "        \r\n",
            "<div id=\"ctl00_cphHaberDuyuru_C005_newsFrontendList_ctl00_ctl00_NewsList_ctrl4_ctl02_ctl00_ConditionalTemplates\" style=\"display:none;\">\r\n",
            "\t\t<div id=\"ClientTemplatePanel_\">\r\n",
            "\t\r\n",
            "            <div>\r\n",
            "                <span id=\"titleLabel_write_\" class=\"sfTxtLbl sfInlineBlock\"></span>\r\n",
            "                <span id=\"tooltip_write_\">\r\n",
            "\r\n",
            "<div class=\"sfDetailsPopupWrp sfInlineBlock\">\r\n",
            "    <a onclick=\"return false;\" id=\"tooltip_write__ctl00_ctl00_btnToolTipTarget_\"><span class=\"sfTooltip\">(?)</span></a>\r\n",
            "    <div id=\"tooltip_write__ctl00_ctl00_wrpToolTip_\" class=\"sfDetailsPopup\" style=\"display: none;\">\r\n",
            "        <span id=\"tooltip_write__ctl00_ctl00_lblTitle_\"></span>\r\n",
            "        \r\n",
            "    </div>\r\n",
            "</div>\r\n",
            "</span>\r\n",
            "            </div>\r\n",
            "            <a onclick=\"return false;\" id=\"expandButton_write_\" class=\"sfOptionalExpander\"></a>\r\n",
            "            <div id=\"expandableTarget_write_\" class=\"sfFieldWrp\">\r\n",
            "\t\t\r\n",
            "                <input name=\"textBox_write_\" type=\"text\" id=\"textBox_write_\" class=\"sfTxt\" />\r\n",
            "                <div id=\"characterCounter_write_\" class=\"sfFlRight sfMRight5\">\r\n",
            "\t\t\t\r\n",
            "\t\t</div>\r\n",
            "                <div id=\"descriptionLabel_write_\" class=\"sfDescription\">\r\n",
            "\t\t\t\r\n",
            "\t\t</div>\r\n",
            "                <div id=\"exampleLabel_write_\" class=\"sfExample\">\r\n",
            "\t\t\t\r\n",
            "\t\t</div>\r\n",
            "                <p id=\"characterCounterDescription_write_\" class=\"sfExample\"></p>\r\n",
            "            \r\n",
            "\t</div>\r\n",
            "        \r\n",
            "</div>\r\n",
            "\t</div>\r\n",
            "</div>\n",
            "                <div class=\"newsTag\"><div id=\"ctl00_cphHaberDuyuru_C005_newsFrontendList_ctl00_ctl00_NewsList_ctrl4_Tags\">\r\n",
            "\t\r\n",
            "            \r\n",
            "            \r\n",
            "        \r\n",
            "</div></div>\n",
            "              </div>\n",
            "            </div>\n",
            "          </div>\n",
            "        </div>\n",
            "      \t\n",
            "      </div>\n",
            "      \n",
            "     \n",
            "      \n",
            "    \n",
            "      <div class=\"col-xs-12 col-sm-6 col-md-4 col-lg-4\">\n",
            "      \t<div class=\"media\">\n",
            "          <div class=\"media-left\">\n",
            "          \t<a href='/haberler/2024/05/02/tdk2024-1'><img src=\"https://mozaikgiris.itu.edu.tr/images/librariesprovider111/default-album/tdk3.tmb-.jpg?sfvrsn=1\"></a>\n",
            "          </div>\n",
            "          <div class=\"media-body\">\n",
            "        <a href='/haberler/2024/05/02/tdk2024-1' style=\"text-decoration: none; color:inherit\">    <h4 class=\"media-heading\"><div id=\"ctl00_cphHaberDuyuru_C005_newsFrontendList_ctl00_ctl00_NewsList_ctrl5_ctl00\">\r\n",
            "\t        \r\n",
            "            \r\n",
            "            \r\n",
            "            <div id=\"ctl00_cphHaberDuyuru_C005_newsFrontendList_ctl00_ctl00_NewsList_ctrl5_ctl00_ctl00_ctl00_textLabel_read\" class=\"sfTxtContent\">\r\n",
            "\t\tTürk Dil Kurumu - İTÜ Doğal Dil İşleme Çalıştayı\r\n",
            "\t</div>\r\n",
            "            \r\n",
            "            <div id=\"ctl00_cphHaberDuyuru_C005_newsFrontendList_ctl00_ctl00_NewsList_ctrl5_ctl00_ctl00_ctl00_characterCounter_read\">\r\n",
            "\t\t\r\n",
            "\t</div>\r\n",
            "        \r\n",
            "<div id=\"ctl00_cphHaberDuyuru_C005_newsFrontendList_ctl00_ctl00_NewsList_ctrl5_ctl00_ctl00_ConditionalTemplates\" style=\"display:none;\">\r\n",
            "\t\t<div id=\"ClientTemplatePanel_\">\r\n",
            "\t\r\n",
            "            <div>\r\n",
            "                <span id=\"titleLabel_write_\" class=\"sfTxtLbl sfInlineBlock\"></span>\r\n",
            "                <span id=\"tooltip_write_\">\r\n",
            "\r\n",
            "<div class=\"sfDetailsPopupWrp sfInlineBlock\">\r\n",
            "    <a onclick=\"return false;\" id=\"tooltip_write__ctl00_ctl00_btnToolTipTarget_\"><span class=\"sfTooltip\">(?)</span></a>\r\n",
            "    <div id=\"tooltip_write__ctl00_ctl00_wrpToolTip_\" class=\"sfDetailsPopup\" style=\"display: none;\">\r\n",
            "        <span id=\"tooltip_write__ctl00_ctl00_lblTitle_\"></span>\r\n",
            "        \r\n",
            "    </div>\r\n",
            "</div>\r\n",
            "</span>\r\n",
            "            </div>\r\n",
            "            <a onclick=\"return false;\" id=\"expandButton_write_\" class=\"sfOptionalExpander\"></a>\r\n",
            "            <div id=\"expandableTarget_write_\" class=\"sfFieldWrp\">\r\n",
            "\t\t\r\n",
            "                <input name=\"textBox_write_\" type=\"text\" id=\"textBox_write_\" class=\"sfTxt\" />\r\n",
            "                <div id=\"characterCounter_write_\" class=\"sfFlRight sfMRight5\">\r\n",
            "\t\t\t\r\n",
            "\t\t</div>\r\n",
            "                <div id=\"descriptionLabel_write_\" class=\"sfDescription\">\r\n",
            "\t\t\t\r\n",
            "\t\t</div>\r\n",
            "                <div id=\"exampleLabel_write_\" class=\"sfExample\">\r\n",
            "\t\t\t\r\n",
            "\t\t</div>\r\n",
            "                <p id=\"characterCounterDescription_write_\" class=\"sfExample\"></p>\r\n",
            "            \r\n",
            "\t</div>\r\n",
            "        \r\n",
            "</div>\r\n",
            "\t</div>\r\n",
            "</div></h4></a>\n",
            "           <a href='/haberler/2024/05/02/tdk2024-1' style=\"text-decoration: none; color:inherit\"> <div id=\"ctl00_cphHaberDuyuru_C005_newsFrontendList_ctl00_ctl00_NewsList_ctrl5_ctl01\">\r\n",
            "\t        \r\n",
            "            \r\n",
            "            \r\n",
            "            <div id=\"ctl00_cphHaberDuyuru_C005_newsFrontendList_ctl00_ctl00_NewsList_ctrl5_ctl01_ctl00_ctl00_textLabel_read\" class=\"sfTxtContent\">\r\n",
            "\t\t\r\n",
            "\t</div>\r\n",
            "            \r\n",
            "            <div id=\"ctl00_cphHaberDuyuru_C005_newsFrontendList_ctl00_ctl00_NewsList_ctrl5_ctl01_ctl00_ctl00_characterCounter_read\">\r\n",
            "\t\t\r\n",
            "\t</div>\r\n",
            "        \r\n",
            "<div id=\"ctl00_cphHaberDuyuru_C005_newsFrontendList_ctl00_ctl00_NewsList_ctrl5_ctl01_ctl00_ConditionalTemplates\" style=\"display:none;\">\r\n",
            "\t\t<div id=\"ClientTemplatePanel_\">\r\n",
            "\t\r\n",
            "            <div>\r\n",
            "                <span id=\"titleLabel_write_\" class=\"sfTxtLbl sfInlineBlock\"></span>\r\n",
            "                <span id=\"tooltip_write_\">\r\n",
            "\r\n",
            "<div class=\"sfDetailsPopupWrp sfInlineBlock\">\r\n",
            "    <a onclick=\"return false;\" id=\"tooltip_write__ctl00_ctl00_btnToolTipTarget_\"><span class=\"sfTooltip\">(?)</span></a>\r\n",
            "    <div id=\"tooltip_write__ctl00_ctl00_wrpToolTip_\" class=\"sfDetailsPopup\" style=\"display: none;\">\r\n",
            "        <span id=\"tooltip_write__ctl00_ctl00_lblTitle_\"></span>\r\n",
            "        \r\n",
            "    </div>\r\n",
            "</div>\r\n",
            "</span>\r\n",
            "            </div>\r\n",
            "            <a onclick=\"return false;\" id=\"expandButton_write_\" class=\"sfOptionalExpander\"></a>\r\n",
            "            <div id=\"expandableTarget_write_\" class=\"sfFieldWrp\">\r\n",
            "\t\t\r\n",
            "                <input name=\"textBox_write_\" type=\"text\" id=\"textBox_write_\" class=\"sfTxt\" />\r\n",
            "                <div id=\"characterCounter_write_\" class=\"sfFlRight sfMRight5\">\r\n",
            "\t\t\t\r\n",
            "\t\t</div>\r\n",
            "                <div id=\"descriptionLabel_write_\" class=\"sfDescription\">\r\n",
            "\t\t\t\r\n",
            "\t\t</div>\r\n",
            "                <div id=\"exampleLabel_write_\" class=\"sfExample\">\r\n",
            "\t\t\t\r\n",
            "\t\t</div>\r\n",
            "                <p id=\"characterCounterDescription_write_\" class=\"sfExample\"></p>\r\n",
            "            \r\n",
            "\t</div>\r\n",
            "        \r\n",
            "</div>\r\n",
            "\t</div>\r\n",
            "</div></a>\n",
            "            <div class=\"link\">\n",
            "            \t\n",
            "              <div class=\"calendar\">\n",
            "              <span class=\"glyphicon glyphicon-calendar\" aria-hidden=\"true\"></span>\n",
            "                <div id=\"ctl00_cphHaberDuyuru_C005_newsFrontendList_ctl00_ctl00_NewsList_ctrl5_ctl02\">\r\n",
            "\t        \r\n",
            "            \r\n",
            "            \r\n",
            "            <div id=\"ctl00_cphHaberDuyuru_C005_newsFrontendList_ctl00_ctl00_NewsList_ctrl5_ctl02_ctl00_ctl00_textLabel_read\" class=\"sfTxtContent\">\r\n",
            "\t\t02 May 2024\r\n",
            "\t</div>\r\n",
            "            \r\n",
            "            <div id=\"ctl00_cphHaberDuyuru_C005_newsFrontendList_ctl00_ctl00_NewsList_ctrl5_ctl02_ctl00_ctl00_characterCounter_read\">\r\n",
            "\t\t\r\n",
            "\t</div>\r\n",
            "        \r\n",
            "<div id=\"ctl00_cphHaberDuyuru_C005_newsFrontendList_ctl00_ctl00_NewsList_ctrl5_ctl02_ctl00_ConditionalTemplates\" style=\"display:none;\">\r\n",
            "\t\t<div id=\"ClientTemplatePanel_\">\r\n",
            "\t\r\n",
            "            <div>\r\n",
            "                <span id=\"titleLabel_write_\" class=\"sfTxtLbl sfInlineBlock\"></span>\r\n",
            "                <span id=\"tooltip_write_\">\r\n",
            "\r\n",
            "<div class=\"sfDetailsPopupWrp sfInlineBlock\">\r\n",
            "    <a onclick=\"return false;\" id=\"tooltip_write__ctl00_ctl00_btnToolTipTarget_\"><span class=\"sfTooltip\">(?)</span></a>\r\n",
            "    <div id=\"tooltip_write__ctl00_ctl00_wrpToolTip_\" class=\"sfDetailsPopup\" style=\"display: none;\">\r\n",
            "        <span id=\"tooltip_write__ctl00_ctl00_lblTitle_\"></span>\r\n",
            "        \r\n",
            "    </div>\r\n",
            "</div>\r\n",
            "</span>\r\n",
            "            </div>\r\n",
            "            <a onclick=\"return false;\" id=\"expandButton_write_\" class=\"sfOptionalExpander\"></a>\r\n",
            "            <div id=\"expandableTarget_write_\" class=\"sfFieldWrp\">\r\n",
            "\t\t\r\n",
            "                <input name=\"textBox_write_\" type=\"text\" id=\"textBox_write_\" class=\"sfTxt\" />\r\n",
            "                <div id=\"characterCounter_write_\" class=\"sfFlRight sfMRight5\">\r\n",
            "\t\t\t\r\n",
            "\t\t</div>\r\n",
            "                <div id=\"descriptionLabel_write_\" class=\"sfDescription\">\r\n",
            "\t\t\t\r\n",
            "\t\t</div>\r\n",
            "                <div id=\"exampleLabel_write_\" class=\"sfExample\">\r\n",
            "\t\t\t\r\n",
            "\t\t</div>\r\n",
            "                <p id=\"characterCounterDescription_write_\" class=\"sfExample\"></p>\r\n",
            "            \r\n",
            "\t</div>\r\n",
            "        \r\n",
            "</div>\r\n",
            "\t</div>\r\n",
            "</div>\n",
            "                <div class=\"newsTag\"><div id=\"ctl00_cphHaberDuyuru_C005_newsFrontendList_ctl00_ctl00_NewsList_ctrl5_Tags\">\r\n",
            "\t\r\n",
            "            \r\n",
            "            \r\n",
            "        \r\n",
            "</div></div>\n",
            "              </div>\n",
            "            </div>\n",
            "          </div>\n",
            "        </div>\n",
            "      \t\n",
            "      </div>\n",
            "      \n",
            "     \n",
            "      \n",
            "    \n",
            "        \n",
            "        \n",
            "    <input id=\"ctl00_cphHaberDuyuru_C005_newsFrontendList_ctl00_ctl00_NewsList_ClientState\" name=\"ctl00_cphHaberDuyuru_C005_newsFrontendList_ctl00_ctl00_NewsList_ClientState\" type=\"hidden\" /><span id=\"ctl00_cphHaberDuyuru_C005_newsFrontendList_ctl00_ctl00_NewsList\" style=\"display:none;\"></span> \n",
            "  \n",
            "              \n",
            "           \n",
            "\n",
            "\n",
            "  </div></div><div class=\"allnews\"> Duyuruların ve Haberlerin <a href=\"/haberler\">Tümünü Görüntüle</a></div><span></span>\r\n",
            "\r\n",
            "            <div class=\"section\">\r\n",
            "                \r\n",
            "<div class='sfContentBlock'><h2 title=\"HAKKIMIZDA\">Hakkımızda</h2> <hr /> <div class=\"img-single \"><img src=\"/images/librariesprovider111/default-album/doğal-dil-işleme.jpg?sfvrsn=0\" displaymode=\"Original\" alt=\"Doğal Dil İşleme\" title=\"Doğal Dil İşleme\" style=\"width: 100%;\" /></div> <p>Doğal dil işleme, doğal dildeki metinlerin ve/veya seslerin bilgisayar ortamında işlenmesi &uuml;zerine &ccedil;alışmalar y&uuml;r&uuml;t&uuml;len, bilgisayar bilimi ve dil bilimciliğinin bir alt bilim dalıdır. Bu kapsamda sesin dalgalarının tanınması ve bilgisayar ortamında metne aktarılması, metin seslendirme, bi&ccedil;imbilimsel &ccedil;&ouml;z&uuml;mleme/&uuml;retme, s&ouml;zdizim &ccedil;&ouml;z&uuml;mlemesi, anlamsal &ccedil;&ouml;z&uuml;mleme gibi y&ouml;ntemler kullanılmakta ve geliştirilmektedir. Yazım hatalarının denetlenmesi/d&uuml;zeltilmesi, bilgisayarlı &ccedil;eviri, bilgi &ccedil;ıkarımı, bilgi getirimi, soru cevap sistemlerinin geliştirilmesi, &ouml;zet &ccedil;ıkartma gibi uygulamalar doğal dil işleme tanımı altında toplanmıştır.</p> <p>İT&Uuml; Doğal Dil İşleme (ddi@İT&Uuml;) araştırma grubu, T&uuml;rk&ccedil;e ve T&uuml;rk dilleri odaklı doğal dil işleme &ccedil;alışmaları y&uuml;r&uuml;tmektedir. G&uuml;ncel olarak T&uuml;rk&ccedil;e bağımlılık &ccedil;&ouml;z&uuml;mlemesi, T&uuml;rk&ccedil;e, T&uuml;rkmence, Uygurca gibi dillerde bi&ccedil;imbilimsel &ccedil;alışmalar ile T&uuml;rk dilleri arasında İngilizce-T&uuml;rk&ccedil;e bilgisayarlı &ccedil;eviri konuları &uuml;zerinde &ccedil;alışılmaktadır.</p> <p>&nbsp;</p>\r\n",
            "\r\n",
            "\r\n",
            "</div>\r\n",
            "                \r\n",
            "\r\n",
            "\r\n",
            "            </div>\r\n",
            "\r\n",
            "        </div>\r\n",
            "\r\n",
            "        <footer>\r\n",
            "            <div class=\"container\">\r\n",
            "                <div class=\"nav\">\r\n",
            "                    <div class=\"col-xs-12 col-md-2\">\r\n",
            "                        \r\n",
            "\n",
            "\n",
            "\n",
            "\n",
            "\n",
            "<div class=\"sfNavWrp sfNavVerticalWrp \">\n",
            "    \n",
            "    \n",
            "    \n",
            "    \n",
            "<div class=\"list-group leftNav\">\n",
            "    <ul class=\"sfNavVertical sfNavList\">\n",
            "        \n",
            "                            <li>\n",
            "                                <a href=\"/\" class=\"list-group-item active\">ANASAYFA</a>          \n",
            "                            </li>\n",
            "                        \n",
            "                            <li>\n",
            "                                <a href=\"/hakkimizda\" class=\"list-group-item\">HAKKIMIZDA</a>          \n",
            "                            </li>\n",
            "                         \n",
            "                            <li>\n",
            "                                <a href=\"/üyeler\" class=\"list-group-item\">ÜYELER</a>          \n",
            "                            </li>\n",
            "                         \n",
            "                            <li>\n",
            "                                <a href=\"/araclarkaynaklar\" class=\"list-group-item\">ARAÇLAR VE DİL KAYNAKLARI</a>          \n",
            "                            </li>\n",
            "                         \n",
            "                            <li>\n",
            "                                <a href=\"/yayinlar\" class=\"list-group-item\">YAYINLAR</a>          \n",
            "                            </li>\n",
            "                         \n",
            "                            <li>\n",
            "                                <a href=\"/projeler\" class=\"list-group-item\">PROJELER</a>          \n",
            "                            </li>\n",
            "                         \n",
            "                            <li>\n",
            "                                <a href=\"/dersler\" class=\"list-group-item\">DERSLER</a>          \n",
            "                            </li>\n",
            "                         \n",
            "                            <li>\n",
            "                                <a href=\"/haberler\" class=\"list-group-item\">HABERLER</a>          \n",
            "                            </li>\n",
            "                         \n",
            "                            <li>\n",
            "                                <a href=\"/iletisim\" class=\"list-group-item\">İLETİŞİM</a>          \n",
            "                            </li>\n",
            "                         \n",
            "    </ul></div>\n",
            "\n",
            "</div>\n",
            "\r\n",
            "\r\n",
            "                    </div>\r\n",
            "                    <div class=\"col-xs-12 col-md-7\">\r\n",
            "                        \r\n",
            "<div class='sfContentBlock'><iframe src=\"https://www.google.com/maps/embed?pb=!1m14!1m8!1m3!1d12025.299739037622!2d29.0253401!3d41.1055941!3m2!1i1024!2i768!4f13.1!3m3!1m2!1s0x0%3A0x4a28984b84971619!2s%C4%B0stanbul+Teknik+%C3%9Cniversitesi!5e0!3m2!1str!2str!4v1457688330910\" width=\"100%\" height=\"200\" frameborder=\"0\" style=\"border:0\" allowfullscreen></iframe>\r\n",
            "\r\n",
            "\r\n",
            "</div>\r\n",
            "                        \r\n",
            "                    </div>\r\n",
            "                    <div class=\"col-xs-12 col-md-3\">\r\n",
            "\t\t\t\t\t    <logo_itu>\r\n",
            "                            <a href=\"https://www.itu.edu.tr\" target=\"_blank\">\r\n",
            "                                <img src=\"/Sitefinity/WebsiteTemplates/GenelTemplate/App_Themes/ITUGenelTemplate/Images/itu.png\" alt=\"İstanbul Teknik Üniversitesi Logo\"></a>\r\n",
            "            \r\n",
            "                        </logo_itu>\r\n",
            "                        <address>\r\n",
            "                            \r\n",
            "<div class='sfContentBlock'>İT&Uuml; Bilgisayar ve Bilişim Fak&uuml;ltesi<br /> <abbr title=\"Phone\"><strong>Telefon</strong>:</abbr>&nbsp;(0212) 285 35 03<br /> <abbr title=\"E-Mail\"><strong>Mail</strong>:</abbr>&nbsp;<a href=\"mailto:itubidb@itu.edu.tr\">gulsen.cebiroglu@itu.edu.tr</a>\r\n",
            "\r\n",
            "\r\n",
            "</div>\r\n",
            "                        </address>\r\n",
            "                    </div>\r\n",
            "                    \r\n",
            "                    \r\n",
            "                    \r\n",
            "                     <div class=\"col-xs-12 col-md-12\">\r\n",
            "\t\t\t\t\t   \r\n",
            "                            \r\n",
            "\r\n",
            "                        \r\n",
            "                    </div>\r\n",
            "                    \r\n",
            "                    \r\n",
            "                    \r\n",
            "                </div>\r\n",
            "            </div>\r\n",
            "            <div class=\"footer\">\r\n",
            "                <div class=\"container\">\r\n",
            "                    \r\n",
            "<div class='sfContentBlock'><p>COPYRIGHT <a style=\"color: #ffffff; text-decoration: none;\" href=\"http://ddi.itu.edu.tr/\">ITU NLP</a>&nbsp;&copy; <span id=\"siteYear\"></span> T&Uuml;M HAKLARI SAKLIDIR</p> <div class=\"social\"> <a href=\"https://www.facebook.com/itu1773\"><em class=\"fa fa-facebook fa-2x\"></em></a> <a href=\"https://twitter.com/itu1773\"><em class=\"fa fa-twitter fa-2x\"></em></a> <a href=\"https://www.youtube.com/itu1773\"><em class=\"fa fa-youtube fa-2x\"></em></a> <a href=\"https://instagram.com/itu1773\"><em class=\"fa fa-instagram fa-2x\"></em></a> <a href=\"https://tr.foursquare.com/itu1773\"><em class=\"fa fa-foursquare fa-2x\"></em></a> </div>\r\n",
            "\r\n",
            "\r\n",
            "</div>\r\n",
            "                </div>\r\n",
            "            </div>\r\n",
            "        </footer>\r\n",
            "        \r\n",
            "       \r\n",
            "        <script>\r\n",
            "            $(document).ready(function () {\r\n",
            "\t\t\t//$(\".news-static > .col-lg-4 .newsTag span:contains(duyuru)\").parents(\".media\").children(\".media-left\").children(\"a\").children(\"img\").attr(\"src\", \"/images/librariesprovider70/default-album/news-icon1.png?sfvrsn=2\");\r\n",
            "               var newsTagSpan = $(\".news-static > .col-lg-4 .newsTag span\");\r\n",
            "            if(newsTagSpan=='duyuru')\r\n",
            "            {\r\n",
            "                newsTagSpan.parents(\".media\").children(\".media-left\").children(\"a\").children(\"img\").attr(\"src\", \"/images/librariesprovider70/default-album/news-icon1.png?sfvrsn=2\");\r\n",
            "            }\r\n",
            "            });\r\n",
            "\t\t</script>\r\n",
            "\r\n",
            "    \r\n",
            "<script type=\"text/javascript\">window.onscroll = function() {myFunction()};\n",
            "\n",
            "var navbar = document.getElementById(\"navALL\");\n",
            "var sticky = navbar.offsetTop;\n",
            "\n",
            "function myFunction() {\n",
            "  if (window.pageYOffset >= sticky) {\n",
            "    navbar.classList.add(\"sticky\")\n",
            "  } else {\n",
            "    navbar.classList.remove(\"sticky\");\n",
            "  }\n",
            "}</script><script type=\"text/javascript\">$(document).ready(function () {\n",
            "            $('.jumbotron').slick({\n",
            "\n",
            "                arrows: true,\n",
            "                dots: false,\n",
            "                infinite: true,\n",
            "                speed: 300,\n",
            "                centerMode: true,\n",
            "                variableWidth: true,\n",
            "                slidesToShow: 1,\n",
            "                slidesToScroll: 2,\n",
            "                autoplay: true,\n",
            "                autoplaySpeed: 5000,\n",
            "                responsive: [{\n",
            "                    breakpoint: 991,\n",
            "                    settings: {\n",
            "                        slidesToShow: 1,\n",
            "                        slidesToScroll: 1\n",
            "                    }\n",
            "                }, {\n",
            "                    breakpoint: 768,\n",
            "                    settings: {\n",
            "                        centerMode: false,\n",
            "                        variableWidth: false,\n",
            "                        cssEase: 'linear',\n",
            "                        slidesToShow: 1,\n",
            "                        slidesToScroll: 1\n",
            "                    }\n",
            "                }]\n",
            "            });\n",
            "\n",
            "        });</script><script type=\"text/javascript\" src=\"https://ajax.googleapis.com/ajax/libs/jquery/2.2.4/jquery.min.js\"></script><script type=\"text/javascript\" src=\"/Sitefinity/WebsiteTemplates/GenelTemplate/App_Themes/ITUGenelTemplate/Js/bootstrap.min.js\"></script><script type=\"text/javascript\" src=\"/Sitefinity/WebsiteTemplates/GenelTemplate/App_Themes/ITUGenelTemplate/carousel/carouselSlider.js\"></script><script type=\"text/javascript\" src=\"/Sitefinity/WebsiteTemplates/GenelTemplate/App_Themes/ITUGenelTemplate/carousel/custom.js\"></script><script type=\"text/javascript\" src=\"/Sitefinity/WebsiteTemplates/GenelTemplate%20-%20Copy/App_Themes/ITUGenelTemplate/lib/slick/slick.min.js\"></script><script type=\"text/javascript\" src=\"/Sitefinity/WebsiteTemplates/GenelTemplate/App_Themes/ITUGenelTemplate/bxslider/bxslider.min.js\"></script><script type=\"text/javascript\">$(document).ready(function() {\n",
            "\n",
            "var date = new Date();\n",
            "\n",
            "$(\"#siteYear\").html(date.getFullYear());\n",
            "\n",
            "});\n",
            "</script>\r\n",
            "<script type=\"text/javascript\">\r\n",
            "//<![CDATA[\r\n",
            ";(function() {\r\n",
            "                        function loadHandler() {\r\n",
            "                            var hf = $get('ctl10_TSSM');\r\n",
            "                            if (!hf._RSSM_init) { hf._RSSM_init = true; hf.value = ''; }\r\n",
            "                            hf.value += ';Telerik.Sitefinity.Resources, Version=7.3.5619.0, Culture=neutral, PublicKeyToken=b28c218413bdf563:tr:e5b4846c-5b32-4e8c-ab42-9a7e5bcce4af:7a90d6a:83fa35c7:850288ef';\r\n",
            "                            Sys.Application.remove_load(loadHandler);\r\n",
            "                        };\r\n",
            "                        Sys.Application.add_load(loadHandler);\r\n",
            "                    })();Sys.Application.add_init(function() {\r\n",
            "    $create(Telerik.Web.UI.RadListView, {\"UniqueID\":\"ctl00$cphSlider$ctl00$ctl00$ctl00$dynamicContentListView\",\"_clientSettings\":{\"DataBinding\":{\"ItemPlaceHolderID\":\"ctl00_cphSlider_ctl00_ctl00_ctl00_dynamicContentListView_ItemsContainer\",\"DataService\":{}}},\"_virtualItemCount\":20,\"clientStateFieldID\":\"ctl00_cphSlider_ctl00_ctl00_ctl00_dynamicContentListView_ClientState\",\"renderMode\":1}, null, null, $get(\"ctl00_cphSlider_ctl00_ctl00_ctl00_dynamicContentListView\"));\r\n",
            "});\r\n",
            "Sys.Application.add_init(function() {\r\n",
            "    $create(Telerik.Sitefinity.Web.UI.Fields.TextField, {\"_allowNulls\":false,\"_conditionalTemplatesContainerId\":\"cphHaberDuyuru_C005_newsFrontendList_ctl00_ctl00_ctl00_ctl00_ConditionalTemplates\",\"_currentCondition\":\"displaymode-equal-read\",\"_maxChars\":0,\"_textBoxId\":\"textBox_write\",\"_textLabelId\":\"textLabel_read\",\"_trimSpaces\":false,\"_unit\":null,\"conditionDictionary\":{\"displaymode-equal-read\":\"cphHaberDuyuru_C005_newsFrontendList_ctl00_ctl00_ctl00_ctl00_ctl00_conditionalTemplate\",\"displaymode-equal-write\":\"ClientTemplatePanel_\"},\"controlErrorCssClass\":null,\"dataFieldName\":null,\"dataFormatString\":null,\"defaultValue\":\"\",\"description\":null,\"descriptionElement\":$get(\"cphHaberDuyuru_C005_newsFrontendList_ctl00_ctl00_ctl00_ctl00_ctl00_descriptionLabel_read\"),\"displayMode\":0,\"example\":null,\"fieldName\":null,\"labelElement\":$get(\"cphHaberDuyuru_C005_newsFrontendList_ctl00_ctl00_ctl00_ctl00_ctl00_textLabel_read\"),\"suffix\":\"_ctl00\",\"title\":null,\"titleElement\":$get(\"cphHaberDuyuru_C005_newsFrontendList_ctl00_ctl00_ctl00_ctl00_ctl00_titleLabel_read\"),\"validatorDefinition\":\"{\\\"AlphaNumericViolationMessage\\\":\\\"Alfa nümerik olmayan karakterlere izin verilmez.\\\",\\\"ComparingValidatorDefinitions\\\":[],\\\"CurrencyViolationMessage\\\":\\\"Geçersiz bir para birimi girdiniz.\\\",\\\"EmailAddressViolationMessage\\\":\\\"Geçersiz bir eposta adresi girdiniz.\\\",\\\"ExpectedFormat\\\":0,\\\"IntegerViolationMessage\\\":\\\"Geçersiz bir tansayı girdiniz.\\\",\\\"InternetUrlViolationMessage\\\":\\\"Geçersiz bir URL girdiniz.\\\",\\\"MaxLength\\\":0,\\\"MaxLengthViolationMessage\\\":\\\"Çok uzun\\\",\\\"MaxValue\\\":null,\\\"MaxValueViolationMessage\\\":\\\"Çok büyük\\\",\\\"MessageCssClass\\\":null,\\\"MessageTagName\\\":\\\"div\\\",\\\"MinLength\\\":0,\\\"MinLengthViolationMessage\\\":\\\"Çok kısa.\\\",\\\"MinValue\\\":null,\\\"MinValueViolationMessage\\\":\\\"Çok küçük.\\\",\\\"NonAlphaNumericViolationMessage\\\":\\\"Alfa nümerik karakterlere izin verilmez.\\\",\\\"NumericViolationMessage\\\":\\\"Geçersiz bir sayı girdiniz.\\\",\\\"PercentageViolationMessage\\\":\\\"Geçersiz bir yüzde girdiniz.\\\",\\\"RegularExpression\\\":null,\\\"RegularExpressionSeparator\\\":null,\\\"RegularExpressionViolationMessage\\\":\\\"geçersiz format\\\",\\\"Required\\\":null,\\\"RequiredViolationMessage\\\":\\\"Gerekli alan.\\\",\\\"ResourceClassId\\\":\\\"\\\",\\\"USSocialSecurityNumberViolationMessage\\\":\\\"Geçersiz bir ABD sosyal güvenlik numarası girdiniz.\\\",\\\"USZipCodeViolationMessage\\\":\\\"Geçersiz bir ABD posta kodu girdiniz.\\\",\\\"ValidateIfInvisible\\\":true}\",\"value\":\"\"}, null, null, $get(\"cphHaberDuyuru_C005_newsFrontendList_ctl00_ctl00_ctl00\"));\r\n",
            "});\r\n",
            "Sys.Application.add_init(function() {\r\n",
            "    $create(Telerik.Sitefinity.Web.UI.Fields.TextField, {\"_allowNulls\":false,\"_conditionalTemplatesContainerId\":\"ctl00_cphHaberDuyuru_C005_newsFrontendList_ctl00_ctl00_NewsList_ctrl0_ctl00_ctl00_ConditionalTemplates\",\"_currentCondition\":\"displaymode-equal-read\",\"_maxChars\":0,\"_textBoxId\":\"textBox_write\",\"_textLabelId\":\"textLabel_read\",\"_trimSpaces\":false,\"_unit\":null,\"conditionDictionary\":{\"displaymode-equal-read\":\"ctl00_cphHaberDuyuru_C005_newsFrontendList_ctl00_ctl00_NewsList_ctrl0_ctl00_ctl00_ctl00_conditionalTemplate\",\"displaymode-equal-write\":\"ClientTemplatePanel_\"},\"controlErrorCssClass\":null,\"dataFieldName\":null,\"dataFormatString\":null,\"defaultValue\":\"Türkçe hata tespiti çalışmamız basında!\",\"description\":null,\"descriptionElement\":$get(\"ctl00_cphHaberDuyuru_C005_newsFrontendList_ctl00_ctl00_NewsList_ctrl0_ctl00_ctl00_ctl00_descriptionLabel_read\"),\"displayMode\":0,\"example\":null,\"fieldName\":null,\"labelElement\":$get(\"ctl00_cphHaberDuyuru_C005_newsFrontendList_ctl00_ctl00_NewsList_ctrl0_ctl00_ctl00_ctl00_textLabel_read\"),\"suffix\":\"_ctl00\",\"title\":null,\"titleElement\":$get(\"ctl00_cphHaberDuyuru_C005_newsFrontendList_ctl00_ctl00_NewsList_ctrl0_ctl00_ctl00_ctl00_titleLabel_read\"),\"validatorDefinition\":\"{\\\"AlphaNumericViolationMessage\\\":\\\"Alfa nümerik olmayan karakterlere izin verilmez.\\\",\\\"ComparingValidatorDefinitions\\\":[],\\\"CurrencyViolationMessage\\\":\\\"Geçersiz bir para birimi girdiniz.\\\",\\\"EmailAddressViolationMessage\\\":\\\"Geçersiz bir eposta adresi girdiniz.\\\",\\\"ExpectedFormat\\\":0,\\\"IntegerViolationMessage\\\":\\\"Geçersiz bir tansayı girdiniz.\\\",\\\"InternetUrlViolationMessage\\\":\\\"Geçersiz bir URL girdiniz.\\\",\\\"MaxLength\\\":0,\\\"MaxLengthViolationMessage\\\":\\\"Çok uzun\\\",\\\"MaxValue\\\":null,\\\"MaxValueViolationMessage\\\":\\\"Çok büyük\\\",\\\"MessageCssClass\\\":null,\\\"MessageTagName\\\":\\\"div\\\",\\\"MinLength\\\":0,\\\"MinLengthViolationMessage\\\":\\\"Çok kısa.\\\",\\\"MinValue\\\":null,\\\"MinValueViolationMessage\\\":\\\"Çok küçük.\\\",\\\"NonAlphaNumericViolationMessage\\\":\\\"Alfa nümerik karakterlere izin verilmez.\\\",\\\"NumericViolationMessage\\\":\\\"Geçersiz bir sayı girdiniz.\\\",\\\"PercentageViolationMessage\\\":\\\"Geçersiz bir yüzde girdiniz.\\\",\\\"RegularExpression\\\":null,\\\"RegularExpressionSeparator\\\":null,\\\"RegularExpressionViolationMessage\\\":\\\"geçersiz format\\\",\\\"Required\\\":null,\\\"RequiredViolationMessage\\\":\\\"Gerekli alan.\\\",\\\"ResourceClassId\\\":\\\"\\\",\\\"USSocialSecurityNumberViolationMessage\\\":\\\"Geçersiz bir ABD sosyal güvenlik numarası girdiniz.\\\",\\\"USZipCodeViolationMessage\\\":\\\"Geçersiz bir ABD posta kodu girdiniz.\\\",\\\"ValidateIfInvisible\\\":true}\",\"value\":\"Türkçe hata tespiti çalışmamız basında!\"}, null, null, $get(\"ctl00_cphHaberDuyuru_C005_newsFrontendList_ctl00_ctl00_NewsList_ctrl0_ctl00\"));\r\n",
            "});\r\n",
            "Sys.Application.add_init(function() {\r\n",
            "    $create(Telerik.Sitefinity.Web.UI.Fields.TextField, {\"_allowNulls\":false,\"_conditionalTemplatesContainerId\":\"ctl00_cphHaberDuyuru_C005_newsFrontendList_ctl00_ctl00_NewsList_ctrl0_ctl01_ctl00_ConditionalTemplates\",\"_currentCondition\":\"displaymode-equal-read\",\"_maxChars\":0,\"_textBoxId\":\"textBox_write\",\"_textLabelId\":\"textLabel_read\",\"_trimSpaces\":false,\"_unit\":null,\"conditionDictionary\":{\"displaymode-equal-read\":\"ctl00_cphHaberDuyuru_C005_newsFrontendList_ctl00_ctl00_NewsList_ctrl0_ctl01_ctl00_ctl00_conditionalTemplate\",\"displaymode-equal-write\":\"ClientTemplatePanel_\"},\"controlErrorCssClass\":null,\"dataFieldName\":null,\"dataFormatString\":null,\"defaultValue\":\"AA (Anadolu Ajansı) ile gerçekleştirdiğimiz röportajda, yabancıların Türkçe kullanım hatalarını tespit eden çalışmamız tanıtıldı ve projelerimiz hakkında bilgi verildi.\",\"description\":null,\"descriptionElement\":$get(\"ctl00_cphHaberDuyuru_C005_newsFrontendList_ctl00_ctl00_NewsList_ctrl0_ctl01_ctl00_ctl00_descriptionLabel_read\"),\"displayMode\":0,\"example\":null,\"fieldName\":null,\"labelElement\":$get(\"ctl00_cphHaberDuyuru_C005_newsFrontendList_ctl00_ctl00_NewsList_ctrl0_ctl01_ctl00_ctl00_textLabel_read\"),\"suffix\":\"_ctl01\",\"title\":null,\"titleElement\":$get(\"ctl00_cphHaberDuyuru_C005_newsFrontendList_ctl00_ctl00_NewsList_ctrl0_ctl01_ctl00_ctl00_titleLabel_read\"),\"validatorDefinition\":\"{\\\"AlphaNumericViolationMessage\\\":\\\"Alfa nümerik olmayan karakterlere izin verilmez.\\\",\\\"ComparingValidatorDefinitions\\\":[],\\\"CurrencyViolationMessage\\\":\\\"Geçersiz bir para birimi girdiniz.\\\",\\\"EmailAddressViolationMessage\\\":\\\"Geçersiz bir eposta adresi girdiniz.\\\",\\\"ExpectedFormat\\\":0,\\\"IntegerViolationMessage\\\":\\\"Geçersiz bir tansayı girdiniz.\\\",\\\"InternetUrlViolationMessage\\\":\\\"Geçersiz bir URL girdiniz.\\\",\\\"MaxLength\\\":0,\\\"MaxLengthViolationMessage\\\":\\\"Çok uzun\\\",\\\"MaxValue\\\":null,\\\"MaxValueViolationMessage\\\":\\\"Çok büyük\\\",\\\"MessageCssClass\\\":null,\\\"MessageTagName\\\":\\\"div\\\",\\\"MinLength\\\":0,\\\"MinLengthViolationMessage\\\":\\\"Çok kısa.\\\",\\\"MinValue\\\":null,\\\"MinValueViolationMessage\\\":\\\"Çok küçük.\\\",\\\"NonAlphaNumericViolationMessage\\\":\\\"Alfa nümerik karakterlere izin verilmez.\\\",\\\"NumericViolationMessage\\\":\\\"Geçersiz bir sayı girdiniz.\\\",\\\"PercentageViolationMessage\\\":\\\"Geçersiz bir yüzde girdiniz.\\\",\\\"RegularExpression\\\":null,\\\"RegularExpressionSeparator\\\":null,\\\"RegularExpressionViolationMessage\\\":\\\"geçersiz format\\\",\\\"Required\\\":null,\\\"RequiredViolationMessage\\\":\\\"Gerekli alan.\\\",\\\"ResourceClassId\\\":\\\"\\\",\\\"USSocialSecurityNumberViolationMessage\\\":\\\"Geçersiz bir ABD sosyal güvenlik numarası girdiniz.\\\",\\\"USZipCodeViolationMessage\\\":\\\"Geçersiz bir ABD posta kodu girdiniz.\\\",\\\"ValidateIfInvisible\\\":true}\",\"value\":\"AA (Anadolu Ajansı) ile gerçekleştirdiğimiz röportajda, yabancıların Türkçe kullanım hatalarını tespit eden çalışmamız tanıtıldı ve projelerimiz hakkında bilgi verildi.\"}, null, null, $get(\"ctl00_cphHaberDuyuru_C005_newsFrontendList_ctl00_ctl00_NewsList_ctrl0_ctl01\"));\r\n",
            "});\r\n",
            "Sys.Application.add_init(function() {\r\n",
            "    $create(Telerik.Sitefinity.Web.UI.Fields.TextField, {\"_allowNulls\":false,\"_conditionalTemplatesContainerId\":\"ctl00_cphHaberDuyuru_C005_newsFrontendList_ctl00_ctl00_NewsList_ctrl0_ctl02_ctl00_ConditionalTemplates\",\"_currentCondition\":\"displaymode-equal-read\",\"_maxChars\":0,\"_textBoxId\":\"textBox_write\",\"_textLabelId\":\"textLabel_read\",\"_trimSpaces\":false,\"_unit\":null,\"conditionDictionary\":{\"displaymode-equal-read\":\"ctl00_cphHaberDuyuru_C005_newsFrontendList_ctl00_ctl00_NewsList_ctrl0_ctl02_ctl00_ctl00_conditionalTemplate\",\"displaymode-equal-write\":\"ClientTemplatePanel_\"},\"controlErrorCssClass\":null,\"dataFieldName\":null,\"dataFormatString\":null,\"defaultValue\":\"21 Kas 2024\",\"description\":null,\"descriptionElement\":$get(\"ctl00_cphHaberDuyuru_C005_newsFrontendList_ctl00_ctl00_NewsList_ctrl0_ctl02_ctl00_ctl00_descriptionLabel_read\"),\"displayMode\":0,\"example\":null,\"fieldName\":null,\"labelElement\":$get(\"ctl00_cphHaberDuyuru_C005_newsFrontendList_ctl00_ctl00_NewsList_ctrl0_ctl02_ctl00_ctl00_textLabel_read\"),\"suffix\":\"_ctl02\",\"title\":null,\"titleElement\":$get(\"ctl00_cphHaberDuyuru_C005_newsFrontendList_ctl00_ctl00_NewsList_ctrl0_ctl02_ctl00_ctl00_titleLabel_read\"),\"validatorDefinition\":\"{\\\"AlphaNumericViolationMessage\\\":\\\"Alfa nümerik olmayan karakterlere izin verilmez.\\\",\\\"ComparingValidatorDefinitions\\\":[],\\\"CurrencyViolationMessage\\\":\\\"Geçersiz bir para birimi girdiniz.\\\",\\\"EmailAddressViolationMessage\\\":\\\"Geçersiz bir eposta adresi girdiniz.\\\",\\\"ExpectedFormat\\\":0,\\\"IntegerViolationMessage\\\":\\\"Geçersiz bir tansayı girdiniz.\\\",\\\"InternetUrlViolationMessage\\\":\\\"Geçersiz bir URL girdiniz.\\\",\\\"MaxLength\\\":0,\\\"MaxLengthViolationMessage\\\":\\\"Çok uzun\\\",\\\"MaxValue\\\":null,\\\"MaxValueViolationMessage\\\":\\\"Çok büyük\\\",\\\"MessageCssClass\\\":null,\\\"MessageTagName\\\":\\\"div\\\",\\\"MinLength\\\":0,\\\"MinLengthViolationMessage\\\":\\\"Çok kısa.\\\",\\\"MinValue\\\":null,\\\"MinValueViolationMessage\\\":\\\"Çok küçük.\\\",\\\"NonAlphaNumericViolationMessage\\\":\\\"Alfa nümerik karakterlere izin verilmez.\\\",\\\"NumericViolationMessage\\\":\\\"Geçersiz bir sayı girdiniz.\\\",\\\"PercentageViolationMessage\\\":\\\"Geçersiz bir yüzde girdiniz.\\\",\\\"RegularExpression\\\":null,\\\"RegularExpressionSeparator\\\":null,\\\"RegularExpressionViolationMessage\\\":\\\"geçersiz format\\\",\\\"Required\\\":null,\\\"RequiredViolationMessage\\\":\\\"Gerekli alan.\\\",\\\"ResourceClassId\\\":\\\"\\\",\\\"USSocialSecurityNumberViolationMessage\\\":\\\"Geçersiz bir ABD sosyal güvenlik numarası girdiniz.\\\",\\\"USZipCodeViolationMessage\\\":\\\"Geçersiz bir ABD posta kodu girdiniz.\\\",\\\"ValidateIfInvisible\\\":true}\",\"value\":\"21 Kas 2024\"}, null, null, $get(\"ctl00_cphHaberDuyuru_C005_newsFrontendList_ctl00_ctl00_NewsList_ctrl0_ctl02\"));\r\n",
            "});\r\n",
            "Sys.Application.add_init(function() {\r\n",
            "    $create(Telerik.Sitefinity.Web.UI.Fields.TextField, {\"_allowNulls\":false,\"_conditionalTemplatesContainerId\":\"ctl00_cphHaberDuyuru_C005_newsFrontendList_ctl00_ctl00_NewsList_ctrl1_ctl00_ctl00_ConditionalTemplates\",\"_currentCondition\":\"displaymode-equal-read\",\"_maxChars\":0,\"_textBoxId\":\"textBox_write\",\"_textLabelId\":\"textLabel_read\",\"_trimSpaces\":false,\"_unit\":null,\"conditionDictionary\":{\"displaymode-equal-read\":\"ctl00_cphHaberDuyuru_C005_newsFrontendList_ctl00_ctl00_NewsList_ctrl1_ctl00_ctl00_ctl00_conditionalTemplate\",\"displaymode-equal-write\":\"ClientTemplatePanel_\"},\"controlErrorCssClass\":null,\"dataFieldName\":null,\"dataFormatString\":null,\"defaultValue\":\"İTÜ Rektörü Prof.Dr. Hasan Mandal\\u0027dan Ziyaret\",\"description\":null,\"descriptionElement\":$get(\"ctl00_cphHaberDuyuru_C005_newsFrontendList_ctl00_ctl00_NewsList_ctrl1_ctl00_ctl00_ctl00_descriptionLabel_read\"),\"displayMode\":0,\"example\":null,\"fieldName\":null,\"labelElement\":$get(\"ctl00_cphHaberDuyuru_C005_newsFrontendList_ctl00_ctl00_NewsList_ctrl1_ctl00_ctl00_ctl00_textLabel_read\"),\"suffix\":\"_ctl00\",\"title\":null,\"titleElement\":$get(\"ctl00_cphHaberDuyuru_C005_newsFrontendList_ctl00_ctl00_NewsList_ctrl1_ctl00_ctl00_ctl00_titleLabel_read\"),\"validatorDefinition\":\"{\\\"AlphaNumericViolationMessage\\\":\\\"Alfa nümerik olmayan karakterlere izin verilmez.\\\",\\\"ComparingValidatorDefinitions\\\":[],\\\"CurrencyViolationMessage\\\":\\\"Geçersiz bir para birimi girdiniz.\\\",\\\"EmailAddressViolationMessage\\\":\\\"Geçersiz bir eposta adresi girdiniz.\\\",\\\"ExpectedFormat\\\":0,\\\"IntegerViolationMessage\\\":\\\"Geçersiz bir tansayı girdiniz.\\\",\\\"InternetUrlViolationMessage\\\":\\\"Geçersiz bir URL girdiniz.\\\",\\\"MaxLength\\\":0,\\\"MaxLengthViolationMessage\\\":\\\"Çok uzun\\\",\\\"MaxValue\\\":null,\\\"MaxValueViolationMessage\\\":\\\"Çok büyük\\\",\\\"MessageCssClass\\\":null,\\\"MessageTagName\\\":\\\"div\\\",\\\"MinLength\\\":0,\\\"MinLengthViolationMessage\\\":\\\"Çok kısa.\\\",\\\"MinValue\\\":null,\\\"MinValueViolationMessage\\\":\\\"Çok küçük.\\\",\\\"NonAlphaNumericViolationMessage\\\":\\\"Alfa nümerik karakterlere izin verilmez.\\\",\\\"NumericViolationMessage\\\":\\\"Geçersiz bir sayı girdiniz.\\\",\\\"PercentageViolationMessage\\\":\\\"Geçersiz bir yüzde girdiniz.\\\",\\\"RegularExpression\\\":null,\\\"RegularExpressionSeparator\\\":null,\\\"RegularExpressionViolationMessage\\\":\\\"geçersiz format\\\",\\\"Required\\\":null,\\\"RequiredViolationMessage\\\":\\\"Gerekli alan.\\\",\\\"ResourceClassId\\\":\\\"\\\",\\\"USSocialSecurityNumberViolationMessage\\\":\\\"Geçersiz bir ABD sosyal güvenlik numarası girdiniz.\\\",\\\"USZipCodeViolationMessage\\\":\\\"Geçersiz bir ABD posta kodu girdiniz.\\\",\\\"ValidateIfInvisible\\\":true}\",\"value\":\"İTÜ Rektörü Prof.Dr. Hasan Mandal\\u0027dan Ziyaret\"}, null, null, $get(\"ctl00_cphHaberDuyuru_C005_newsFrontendList_ctl00_ctl00_NewsList_ctrl1_ctl00\"));\r\n",
            "});\r\n",
            "Sys.Application.add_init(function() {\r\n",
            "    $create(Telerik.Sitefinity.Web.UI.Fields.TextField, {\"_allowNulls\":false,\"_conditionalTemplatesContainerId\":\"ctl00_cphHaberDuyuru_C005_newsFrontendList_ctl00_ctl00_NewsList_ctrl1_ctl01_ctl00_ConditionalTemplates\",\"_currentCondition\":\"displaymode-equal-read\",\"_maxChars\":0,\"_textBoxId\":\"textBox_write\",\"_textLabelId\":\"textLabel_read\",\"_trimSpaces\":false,\"_unit\":null,\"conditionDictionary\":{\"displaymode-equal-read\":\"ctl00_cphHaberDuyuru_C005_newsFrontendList_ctl00_ctl00_NewsList_ctrl1_ctl01_ctl00_ctl00_conditionalTemplate\",\"displaymode-equal-write\":\"ClientTemplatePanel_\"},\"controlErrorCssClass\":null,\"dataFieldName\":null,\"dataFormatString\":null,\"defaultValue\":\"İTÜ Rektörü Prof.Dr. Hasan Mandal Araştırma Grubumuzu ziyaret etti.\",\"description\":null,\"descriptionElement\":$get(\"ctl00_cphHaberDuyuru_C005_newsFrontendList_ctl00_ctl00_NewsList_ctrl1_ctl01_ctl00_ctl00_descriptionLabel_read\"),\"displayMode\":0,\"example\":null,\"fieldName\":null,\"labelElement\":$get(\"ctl00_cphHaberDuyuru_C005_newsFrontendList_ctl00_ctl00_NewsList_ctrl1_ctl01_ctl00_ctl00_textLabel_read\"),\"suffix\":\"_ctl01\",\"title\":null,\"titleElement\":$get(\"ctl00_cphHaberDuyuru_C005_newsFrontendList_ctl00_ctl00_NewsList_ctrl1_ctl01_ctl00_ctl00_titleLabel_read\"),\"validatorDefinition\":\"{\\\"AlphaNumericViolationMessage\\\":\\\"Alfa nümerik olmayan karakterlere izin verilmez.\\\",\\\"ComparingValidatorDefinitions\\\":[],\\\"CurrencyViolationMessage\\\":\\\"Geçersiz bir para birimi girdiniz.\\\",\\\"EmailAddressViolationMessage\\\":\\\"Geçersiz bir eposta adresi girdiniz.\\\",\\\"ExpectedFormat\\\":0,\\\"IntegerViolationMessage\\\":\\\"Geçersiz bir tansayı girdiniz.\\\",\\\"InternetUrlViolationMessage\\\":\\\"Geçersiz bir URL girdiniz.\\\",\\\"MaxLength\\\":0,\\\"MaxLengthViolationMessage\\\":\\\"Çok uzun\\\",\\\"MaxValue\\\":null,\\\"MaxValueViolationMessage\\\":\\\"Çok büyük\\\",\\\"MessageCssClass\\\":null,\\\"MessageTagName\\\":\\\"div\\\",\\\"MinLength\\\":0,\\\"MinLengthViolationMessage\\\":\\\"Çok kısa.\\\",\\\"MinValue\\\":null,\\\"MinValueViolationMessage\\\":\\\"Çok küçük.\\\",\\\"NonAlphaNumericViolationMessage\\\":\\\"Alfa nümerik karakterlere izin verilmez.\\\",\\\"NumericViolationMessage\\\":\\\"Geçersiz bir sayı girdiniz.\\\",\\\"PercentageViolationMessage\\\":\\\"Geçersiz bir yüzde girdiniz.\\\",\\\"RegularExpression\\\":null,\\\"RegularExpressionSeparator\\\":null,\\\"RegularExpressionViolationMessage\\\":\\\"geçersiz format\\\",\\\"Required\\\":null,\\\"RequiredViolationMessage\\\":\\\"Gerekli alan.\\\",\\\"ResourceClassId\\\":\\\"\\\",\\\"USSocialSecurityNumberViolationMessage\\\":\\\"Geçersiz bir ABD sosyal güvenlik numarası girdiniz.\\\",\\\"USZipCodeViolationMessage\\\":\\\"Geçersiz bir ABD posta kodu girdiniz.\\\",\\\"ValidateIfInvisible\\\":true}\",\"value\":\"İTÜ Rektörü Prof.Dr. Hasan Mandal Araştırma Grubumuzu ziyaret etti.\"}, null, null, $get(\"ctl00_cphHaberDuyuru_C005_newsFrontendList_ctl00_ctl00_NewsList_ctrl1_ctl01\"));\r\n",
            "});\r\n",
            "Sys.Application.add_init(function() {\r\n",
            "    $create(Telerik.Sitefinity.Web.UI.Fields.TextField, {\"_allowNulls\":false,\"_conditionalTemplatesContainerId\":\"ctl00_cphHaberDuyuru_C005_newsFrontendList_ctl00_ctl00_NewsList_ctrl1_ctl02_ctl00_ConditionalTemplates\",\"_currentCondition\":\"displaymode-equal-read\",\"_maxChars\":0,\"_textBoxId\":\"textBox_write\",\"_textLabelId\":\"textLabel_read\",\"_trimSpaces\":false,\"_unit\":null,\"conditionDictionary\":{\"displaymode-equal-read\":\"ctl00_cphHaberDuyuru_C005_newsFrontendList_ctl00_ctl00_NewsList_ctrl1_ctl02_ctl00_ctl00_conditionalTemplate\",\"displaymode-equal-write\":\"ClientTemplatePanel_\"},\"controlErrorCssClass\":null,\"dataFieldName\":null,\"dataFormatString\":null,\"defaultValue\":\"24 Eki 2024\",\"description\":null,\"descriptionElement\":$get(\"ctl00_cphHaberDuyuru_C005_newsFrontendList_ctl00_ctl00_NewsList_ctrl1_ctl02_ctl00_ctl00_descriptionLabel_read\"),\"displayMode\":0,\"example\":null,\"fieldName\":null,\"labelElement\":$get(\"ctl00_cphHaberDuyuru_C005_newsFrontendList_ctl00_ctl00_NewsList_ctrl1_ctl02_ctl00_ctl00_textLabel_read\"),\"suffix\":\"_ctl02\",\"title\":null,\"titleElement\":$get(\"ctl00_cphHaberDuyuru_C005_newsFrontendList_ctl00_ctl00_NewsList_ctrl1_ctl02_ctl00_ctl00_titleLabel_read\"),\"validatorDefinition\":\"{\\\"AlphaNumericViolationMessage\\\":\\\"Alfa nümerik olmayan karakterlere izin verilmez.\\\",\\\"ComparingValidatorDefinitions\\\":[],\\\"CurrencyViolationMessage\\\":\\\"Geçersiz bir para birimi girdiniz.\\\",\\\"EmailAddressViolationMessage\\\":\\\"Geçersiz bir eposta adresi girdiniz.\\\",\\\"ExpectedFormat\\\":0,\\\"IntegerViolationMessage\\\":\\\"Geçersiz bir tansayı girdiniz.\\\",\\\"InternetUrlViolationMessage\\\":\\\"Geçersiz bir URL girdiniz.\\\",\\\"MaxLength\\\":0,\\\"MaxLengthViolationMessage\\\":\\\"Çok uzun\\\",\\\"MaxValue\\\":null,\\\"MaxValueViolationMessage\\\":\\\"Çok büyük\\\",\\\"MessageCssClass\\\":null,\\\"MessageTagName\\\":\\\"div\\\",\\\"MinLength\\\":0,\\\"MinLengthViolationMessage\\\":\\\"Çok kısa.\\\",\\\"MinValue\\\":null,\\\"MinValueViolationMessage\\\":\\\"Çok küçük.\\\",\\\"NonAlphaNumericViolationMessage\\\":\\\"Alfa nümerik karakterlere izin verilmez.\\\",\\\"NumericViolationMessage\\\":\\\"Geçersiz bir sayı girdiniz.\\\",\\\"PercentageViolationMessage\\\":\\\"Geçersiz bir yüzde girdiniz.\\\",\\\"RegularExpression\\\":null,\\\"RegularExpressionSeparator\\\":null,\\\"RegularExpressionViolationMessage\\\":\\\"geçersiz format\\\",\\\"Required\\\":null,\\\"RequiredViolationMessage\\\":\\\"Gerekli alan.\\\",\\\"ResourceClassId\\\":\\\"\\\",\\\"USSocialSecurityNumberViolationMessage\\\":\\\"Geçersiz bir ABD sosyal güvenlik numarası girdiniz.\\\",\\\"USZipCodeViolationMessage\\\":\\\"Geçersiz bir ABD posta kodu girdiniz.\\\",\\\"ValidateIfInvisible\\\":true}\",\"value\":\"24 Eki 2024\"}, null, null, $get(\"ctl00_cphHaberDuyuru_C005_newsFrontendList_ctl00_ctl00_NewsList_ctrl1_ctl02\"));\r\n",
            "});\r\n",
            "Sys.Application.add_init(function() {\r\n",
            "    $create(Telerik.Sitefinity.Web.UI.Fields.TextField, {\"_allowNulls\":false,\"_conditionalTemplatesContainerId\":\"ctl00_cphHaberDuyuru_C005_newsFrontendList_ctl00_ctl00_NewsList_ctrl2_ctl00_ctl00_ConditionalTemplates\",\"_currentCondition\":\"displaymode-equal-read\",\"_maxChars\":0,\"_textBoxId\":\"textBox_write\",\"_textLabelId\":\"textLabel_read\",\"_trimSpaces\":false,\"_unit\":null,\"conditionDictionary\":{\"displaymode-equal-read\":\"ctl00_cphHaberDuyuru_C005_newsFrontendList_ctl00_ctl00_NewsList_ctrl2_ctl00_ctl00_ctl00_conditionalTemplate\",\"displaymode-equal-write\":\"ClientTemplatePanel_\"},\"controlErrorCssClass\":null,\"dataFieldName\":null,\"dataFormatString\":null,\"defaultValue\":\"Reza Abbasi-Asl\\u0027den araştırma grubumuza ziyaret\",\"description\":null,\"descriptionElement\":$get(\"ctl00_cphHaberDuyuru_C005_newsFrontendList_ctl00_ctl00_NewsList_ctrl2_ctl00_ctl00_ctl00_descriptionLabel_read\"),\"displayMode\":0,\"example\":null,\"fieldName\":null,\"labelElement\":$get(\"ctl00_cphHaberDuyuru_C005_newsFrontendList_ctl00_ctl00_NewsList_ctrl2_ctl00_ctl00_ctl00_textLabel_read\"),\"suffix\":\"_ctl00\",\"title\":null,\"titleElement\":$get(\"ctl00_cphHaberDuyuru_C005_newsFrontendList_ctl00_ctl00_NewsList_ctrl2_ctl00_ctl00_ctl00_titleLabel_read\"),\"validatorDefinition\":\"{\\\"AlphaNumericViolationMessage\\\":\\\"Alfa nümerik olmayan karakterlere izin verilmez.\\\",\\\"ComparingValidatorDefinitions\\\":[],\\\"CurrencyViolationMessage\\\":\\\"Geçersiz bir para birimi girdiniz.\\\",\\\"EmailAddressViolationMessage\\\":\\\"Geçersiz bir eposta adresi girdiniz.\\\",\\\"ExpectedFormat\\\":0,\\\"IntegerViolationMessage\\\":\\\"Geçersiz bir tansayı girdiniz.\\\",\\\"InternetUrlViolationMessage\\\":\\\"Geçersiz bir URL girdiniz.\\\",\\\"MaxLength\\\":0,\\\"MaxLengthViolationMessage\\\":\\\"Çok uzun\\\",\\\"MaxValue\\\":null,\\\"MaxValueViolationMessage\\\":\\\"Çok büyük\\\",\\\"MessageCssClass\\\":null,\\\"MessageTagName\\\":\\\"div\\\",\\\"MinLength\\\":0,\\\"MinLengthViolationMessage\\\":\\\"Çok kısa.\\\",\\\"MinValue\\\":null,\\\"MinValueViolationMessage\\\":\\\"Çok küçük.\\\",\\\"NonAlphaNumericViolationMessage\\\":\\\"Alfa nümerik karakterlere izin verilmez.\\\",\\\"NumericViolationMessage\\\":\\\"Geçersiz bir sayı girdiniz.\\\",\\\"PercentageViolationMessage\\\":\\\"Geçersiz bir yüzde girdiniz.\\\",\\\"RegularExpression\\\":null,\\\"RegularExpressionSeparator\\\":null,\\\"RegularExpressionViolationMessage\\\":\\\"geçersiz format\\\",\\\"Required\\\":null,\\\"RequiredViolationMessage\\\":\\\"Gerekli alan.\\\",\\\"ResourceClassId\\\":\\\"\\\",\\\"USSocialSecurityNumberViolationMessage\\\":\\\"Geçersiz bir ABD sosyal güvenlik numarası girdiniz.\\\",\\\"USZipCodeViolationMessage\\\":\\\"Geçersiz bir ABD posta kodu girdiniz.\\\",\\\"ValidateIfInvisible\\\":true}\",\"value\":\"Reza Abbasi-Asl\\u0027den araştırma grubumuza ziyaret\"}, null, null, $get(\"ctl00_cphHaberDuyuru_C005_newsFrontendList_ctl00_ctl00_NewsList_ctrl2_ctl00\"));\r\n",
            "});\r\n",
            "Sys.Application.add_init(function() {\r\n",
            "    $create(Telerik.Sitefinity.Web.UI.Fields.TextField, {\"_allowNulls\":false,\"_conditionalTemplatesContainerId\":\"ctl00_cphHaberDuyuru_C005_newsFrontendList_ctl00_ctl00_NewsList_ctrl2_ctl01_ctl00_ConditionalTemplates\",\"_currentCondition\":\"displaymode-equal-read\",\"_maxChars\":0,\"_textBoxId\":\"textBox_write\",\"_textLabelId\":\"textLabel_read\",\"_trimSpaces\":false,\"_unit\":null,\"conditionDictionary\":{\"displaymode-equal-read\":\"ctl00_cphHaberDuyuru_C005_newsFrontendList_ctl00_ctl00_NewsList_ctrl2_ctl01_ctl00_ctl00_conditionalTemplate\",\"displaymode-equal-write\":\"ClientTemplatePanel_\"},\"controlErrorCssClass\":null,\"dataFieldName\":null,\"dataFormatString\":null,\"defaultValue\":\"Abbasi-Asl grubumuza \\\"Spatio-temporal Modeling in Neuroscience through Interpretable Machine Learning\\\" başlıklı bir sunum gerçekleştirdi.\",\"description\":null,\"descriptionElement\":$get(\"ctl00_cphHaberDuyuru_C005_newsFrontendList_ctl00_ctl00_NewsList_ctrl2_ctl01_ctl00_ctl00_descriptionLabel_read\"),\"displayMode\":0,\"example\":null,\"fieldName\":null,\"labelElement\":$get(\"ctl00_cphHaberDuyuru_C005_newsFrontendList_ctl00_ctl00_NewsList_ctrl2_ctl01_ctl00_ctl00_textLabel_read\"),\"suffix\":\"_ctl01\",\"title\":null,\"titleElement\":$get(\"ctl00_cphHaberDuyuru_C005_newsFrontendList_ctl00_ctl00_NewsList_ctrl2_ctl01_ctl00_ctl00_titleLabel_read\"),\"validatorDefinition\":\"{\\\"AlphaNumericViolationMessage\\\":\\\"Alfa nümerik olmayan karakterlere izin verilmez.\\\",\\\"ComparingValidatorDefinitions\\\":[],\\\"CurrencyViolationMessage\\\":\\\"Geçersiz bir para birimi girdiniz.\\\",\\\"EmailAddressViolationMessage\\\":\\\"Geçersiz bir eposta adresi girdiniz.\\\",\\\"ExpectedFormat\\\":0,\\\"IntegerViolationMessage\\\":\\\"Geçersiz bir tansayı girdiniz.\\\",\\\"InternetUrlViolationMessage\\\":\\\"Geçersiz bir URL girdiniz.\\\",\\\"MaxLength\\\":0,\\\"MaxLengthViolationMessage\\\":\\\"Çok uzun\\\",\\\"MaxValue\\\":null,\\\"MaxValueViolationMessage\\\":\\\"Çok büyük\\\",\\\"MessageCssClass\\\":null,\\\"MessageTagName\\\":\\\"div\\\",\\\"MinLength\\\":0,\\\"MinLengthViolationMessage\\\":\\\"Çok kısa.\\\",\\\"MinValue\\\":null,\\\"MinValueViolationMessage\\\":\\\"Çok küçük.\\\",\\\"NonAlphaNumericViolationMessage\\\":\\\"Alfa nümerik karakterlere izin verilmez.\\\",\\\"NumericViolationMessage\\\":\\\"Geçersiz bir sayı girdiniz.\\\",\\\"PercentageViolationMessage\\\":\\\"Geçersiz bir yüzde girdiniz.\\\",\\\"RegularExpression\\\":null,\\\"RegularExpressionSeparator\\\":null,\\\"RegularExpressionViolationMessage\\\":\\\"geçersiz format\\\",\\\"Required\\\":null,\\\"RequiredViolationMessage\\\":\\\"Gerekli alan.\\\",\\\"ResourceClassId\\\":\\\"\\\",\\\"USSocialSecurityNumberViolationMessage\\\":\\\"Geçersiz bir ABD sosyal güvenlik numarası girdiniz.\\\",\\\"USZipCodeViolationMessage\\\":\\\"Geçersiz bir ABD posta kodu girdiniz.\\\",\\\"ValidateIfInvisible\\\":true}\",\"value\":\"Abbasi-Asl grubumuza \\\"Spatio-temporal Modeling in Neuroscience through Interpretable Machine Learning\\\" başlıklı bir sunum gerçekleştirdi.\"}, null, null, $get(\"ctl00_cphHaberDuyuru_C005_newsFrontendList_ctl00_ctl00_NewsList_ctrl2_ctl01\"));\r\n",
            "});\r\n",
            "Sys.Application.add_init(function() {\r\n",
            "    $create(Telerik.Sitefinity.Web.UI.Fields.TextField, {\"_allowNulls\":false,\"_conditionalTemplatesContainerId\":\"ctl00_cphHaberDuyuru_C005_newsFrontendList_ctl00_ctl00_NewsList_ctrl2_ctl02_ctl00_ConditionalTemplates\",\"_currentCondition\":\"displaymode-equal-read\",\"_maxChars\":0,\"_textBoxId\":\"textBox_write\",\"_textLabelId\":\"textLabel_read\",\"_trimSpaces\":false,\"_unit\":null,\"conditionDictionary\":{\"displaymode-equal-read\":\"ctl00_cphHaberDuyuru_C005_newsFrontendList_ctl00_ctl00_NewsList_ctrl2_ctl02_ctl00_ctl00_conditionalTemplate\",\"displaymode-equal-write\":\"ClientTemplatePanel_\"},\"controlErrorCssClass\":null,\"dataFieldName\":null,\"dataFormatString\":null,\"defaultValue\":\"11 Eki 2024\",\"description\":null,\"descriptionElement\":$get(\"ctl00_cphHaberDuyuru_C005_newsFrontendList_ctl00_ctl00_NewsList_ctrl2_ctl02_ctl00_ctl00_descriptionLabel_read\"),\"displayMode\":0,\"example\":null,\"fieldName\":null,\"labelElement\":$get(\"ctl00_cphHaberDuyuru_C005_newsFrontendList_ctl00_ctl00_NewsList_ctrl2_ctl02_ctl00_ctl00_textLabel_read\"),\"suffix\":\"_ctl02\",\"title\":null,\"titleElement\":$get(\"ctl00_cphHaberDuyuru_C005_newsFrontendList_ctl00_ctl00_NewsList_ctrl2_ctl02_ctl00_ctl00_titleLabel_read\"),\"validatorDefinition\":\"{\\\"AlphaNumericViolationMessage\\\":\\\"Alfa nümerik olmayan karakterlere izin verilmez.\\\",\\\"ComparingValidatorDefinitions\\\":[],\\\"CurrencyViolationMessage\\\":\\\"Geçersiz bir para birimi girdiniz.\\\",\\\"EmailAddressViolationMessage\\\":\\\"Geçersiz bir eposta adresi girdiniz.\\\",\\\"ExpectedFormat\\\":0,\\\"IntegerViolationMessage\\\":\\\"Geçersiz bir tansayı girdiniz.\\\",\\\"InternetUrlViolationMessage\\\":\\\"Geçersiz bir URL girdiniz.\\\",\\\"MaxLength\\\":0,\\\"MaxLengthViolationMessage\\\":\\\"Çok uzun\\\",\\\"MaxValue\\\":null,\\\"MaxValueViolationMessage\\\":\\\"Çok büyük\\\",\\\"MessageCssClass\\\":null,\\\"MessageTagName\\\":\\\"div\\\",\\\"MinLength\\\":0,\\\"MinLengthViolationMessage\\\":\\\"Çok kısa.\\\",\\\"MinValue\\\":null,\\\"MinValueViolationMessage\\\":\\\"Çok küçük.\\\",\\\"NonAlphaNumericViolationMessage\\\":\\\"Alfa nümerik karakterlere izin verilmez.\\\",\\\"NumericViolationMessage\\\":\\\"Geçersiz bir sayı girdiniz.\\\",\\\"PercentageViolationMessage\\\":\\\"Geçersiz bir yüzde girdiniz.\\\",\\\"RegularExpression\\\":null,\\\"RegularExpressionSeparator\\\":null,\\\"RegularExpressionViolationMessage\\\":\\\"geçersiz format\\\",\\\"Required\\\":null,\\\"RequiredViolationMessage\\\":\\\"Gerekli alan.\\\",\\\"ResourceClassId\\\":\\\"\\\",\\\"USSocialSecurityNumberViolationMessage\\\":\\\"Geçersiz bir ABD sosyal güvenlik numarası girdiniz.\\\",\\\"USZipCodeViolationMessage\\\":\\\"Geçersiz bir ABD posta kodu girdiniz.\\\",\\\"ValidateIfInvisible\\\":true}\",\"value\":\"11 Eki 2024\"}, null, null, $get(\"ctl00_cphHaberDuyuru_C005_newsFrontendList_ctl00_ctl00_NewsList_ctrl2_ctl02\"));\r\n",
            "});\r\n",
            "Sys.Application.add_init(function() {\r\n",
            "    $create(Telerik.Sitefinity.Web.UI.Fields.TextField, {\"_allowNulls\":false,\"_conditionalTemplatesContainerId\":\"ctl00_cphHaberDuyuru_C005_newsFrontendList_ctl00_ctl00_NewsList_ctrl3_ctl00_ctl00_ConditionalTemplates\",\"_currentCondition\":\"displaymode-equal-read\",\"_maxChars\":0,\"_textBoxId\":\"textBox_write\",\"_textLabelId\":\"textLabel_read\",\"_trimSpaces\":false,\"_unit\":null,\"conditionDictionary\":{\"displaymode-equal-read\":\"ctl00_cphHaberDuyuru_C005_newsFrontendList_ctl00_ctl00_NewsList_ctrl3_ctl00_ctl00_ctl00_conditionalTemplate\",\"displaymode-equal-write\":\"ClientTemplatePanel_\"},\"controlErrorCssClass\":null,\"dataFieldName\":null,\"dataFormatString\":null,\"defaultValue\":\"Prof. Dr. Gülşen Eryiğit\\u0027in patentine ödül\",\"description\":null,\"descriptionElement\":$get(\"ctl00_cphHaberDuyuru_C005_newsFrontendList_ctl00_ctl00_NewsList_ctrl3_ctl00_ctl00_ctl00_descriptionLabel_read\"),\"displayMode\":0,\"example\":null,\"fieldName\":null,\"labelElement\":$get(\"ctl00_cphHaberDuyuru_C005_newsFrontendList_ctl00_ctl00_NewsList_ctrl3_ctl00_ctl00_ctl00_textLabel_read\"),\"suffix\":\"_ctl00\",\"title\":null,\"titleElement\":$get(\"ctl00_cphHaberDuyuru_C005_newsFrontendList_ctl00_ctl00_NewsList_ctrl3_ctl00_ctl00_ctl00_titleLabel_read\"),\"validatorDefinition\":\"{\\\"AlphaNumericViolationMessage\\\":\\\"Alfa nümerik olmayan karakterlere izin verilmez.\\\",\\\"ComparingValidatorDefinitions\\\":[],\\\"CurrencyViolationMessage\\\":\\\"Geçersiz bir para birimi girdiniz.\\\",\\\"EmailAddressViolationMessage\\\":\\\"Geçersiz bir eposta adresi girdiniz.\\\",\\\"ExpectedFormat\\\":0,\\\"IntegerViolationMessage\\\":\\\"Geçersiz bir tansayı girdiniz.\\\",\\\"InternetUrlViolationMessage\\\":\\\"Geçersiz bir URL girdiniz.\\\",\\\"MaxLength\\\":0,\\\"MaxLengthViolationMessage\\\":\\\"Çok uzun\\\",\\\"MaxValue\\\":null,\\\"MaxValueViolationMessage\\\":\\\"Çok büyük\\\",\\\"MessageCssClass\\\":null,\\\"MessageTagName\\\":\\\"div\\\",\\\"MinLength\\\":0,\\\"MinLengthViolationMessage\\\":\\\"Çok kısa.\\\",\\\"MinValue\\\":null,\\\"MinValueViolationMessage\\\":\\\"Çok küçük.\\\",\\\"NonAlphaNumericViolationMessage\\\":\\\"Alfa nümerik karakterlere izin verilmez.\\\",\\\"NumericViolationMessage\\\":\\\"Geçersiz bir sayı girdiniz.\\\",\\\"PercentageViolationMessage\\\":\\\"Geçersiz bir yüzde girdiniz.\\\",\\\"RegularExpression\\\":null,\\\"RegularExpressionSeparator\\\":null,\\\"RegularExpressionViolationMessage\\\":\\\"geçersiz format\\\",\\\"Required\\\":null,\\\"RequiredViolationMessage\\\":\\\"Gerekli alan.\\\",\\\"ResourceClassId\\\":\\\"\\\",\\\"USSocialSecurityNumberViolationMessage\\\":\\\"Geçersiz bir ABD sosyal güvenlik numarası girdiniz.\\\",\\\"USZipCodeViolationMessage\\\":\\\"Geçersiz bir ABD posta kodu girdiniz.\\\",\\\"ValidateIfInvisible\\\":true}\",\"value\":\"Prof. Dr. Gülşen Eryiğit\\u0027in patentine ödül\"}, null, null, $get(\"ctl00_cphHaberDuyuru_C005_newsFrontendList_ctl00_ctl00_NewsList_ctrl3_ctl00\"));\r\n",
            "});\r\n",
            "Sys.Application.add_init(function() {\r\n",
            "    $create(Telerik.Sitefinity.Web.UI.Fields.TextField, {\"_allowNulls\":false,\"_conditionalTemplatesContainerId\":\"ctl00_cphHaberDuyuru_C005_newsFrontendList_ctl00_ctl00_NewsList_ctrl3_ctl01_ctl00_ConditionalTemplates\",\"_currentCondition\":\"displaymode-equal-read\",\"_maxChars\":0,\"_textBoxId\":\"textBox_write\",\"_textLabelId\":\"textLabel_read\",\"_trimSpaces\":false,\"_unit\":null,\"conditionDictionary\":{\"displaymode-equal-read\":\"ctl00_cphHaberDuyuru_C005_newsFrontendList_ctl00_ctl00_NewsList_ctrl3_ctl01_ctl00_ctl00_conditionalTemplate\",\"displaymode-equal-write\":\"ClientTemplatePanel_\"},\"controlErrorCssClass\":null,\"dataFieldName\":null,\"dataFormatString\":null,\"defaultValue\":\" Prof. Dr. Gülşen Eryiğit’in patentine 9. Uluslararası Buluş Fuarı\\u0027nda ödül.\",\"description\":null,\"descriptionElement\":$get(\"ctl00_cphHaberDuyuru_C005_newsFrontendList_ctl00_ctl00_NewsList_ctrl3_ctl01_ctl00_ctl00_descriptionLabel_read\"),\"displayMode\":0,\"example\":null,\"fieldName\":null,\"labelElement\":$get(\"ctl00_cphHaberDuyuru_C005_newsFrontendList_ctl00_ctl00_NewsList_ctrl3_ctl01_ctl00_ctl00_textLabel_read\"),\"suffix\":\"_ctl01\",\"title\":null,\"titleElement\":$get(\"ctl00_cphHaberDuyuru_C005_newsFrontendList_ctl00_ctl00_NewsList_ctrl3_ctl01_ctl00_ctl00_titleLabel_read\"),\"validatorDefinition\":\"{\\\"AlphaNumericViolationMessage\\\":\\\"Alfa nümerik olmayan karakterlere izin verilmez.\\\",\\\"ComparingValidatorDefinitions\\\":[],\\\"CurrencyViolationMessage\\\":\\\"Geçersiz bir para birimi girdiniz.\\\",\\\"EmailAddressViolationMessage\\\":\\\"Geçersiz bir eposta adresi girdiniz.\\\",\\\"ExpectedFormat\\\":0,\\\"IntegerViolationMessage\\\":\\\"Geçersiz bir tansayı girdiniz.\\\",\\\"InternetUrlViolationMessage\\\":\\\"Geçersiz bir URL girdiniz.\\\",\\\"MaxLength\\\":0,\\\"MaxLengthViolationMessage\\\":\\\"Çok uzun\\\",\\\"MaxValue\\\":null,\\\"MaxValueViolationMessage\\\":\\\"Çok büyük\\\",\\\"MessageCssClass\\\":null,\\\"MessageTagName\\\":\\\"div\\\",\\\"MinLength\\\":0,\\\"MinLengthViolationMessage\\\":\\\"Çok kısa.\\\",\\\"MinValue\\\":null,\\\"MinValueViolationMessage\\\":\\\"Çok küçük.\\\",\\\"NonAlphaNumericViolationMessage\\\":\\\"Alfa nümerik karakterlere izin verilmez.\\\",\\\"NumericViolationMessage\\\":\\\"Geçersiz bir sayı girdiniz.\\\",\\\"PercentageViolationMessage\\\":\\\"Geçersiz bir yüzde girdiniz.\\\",\\\"RegularExpression\\\":null,\\\"RegularExpressionSeparator\\\":null,\\\"RegularExpressionViolationMessage\\\":\\\"geçersiz format\\\",\\\"Required\\\":null,\\\"RequiredViolationMessage\\\":\\\"Gerekli alan.\\\",\\\"ResourceClassId\\\":\\\"\\\",\\\"USSocialSecurityNumberViolationMessage\\\":\\\"Geçersiz bir ABD sosyal güvenlik numarası girdiniz.\\\",\\\"USZipCodeViolationMessage\\\":\\\"Geçersiz bir ABD posta kodu girdiniz.\\\",\\\"ValidateIfInvisible\\\":true}\",\"value\":\" Prof. Dr. Gülşen Eryiğit’in patentine 9. Uluslararası Buluş Fuarı\\u0027nda ödül.\"}, null, null, $get(\"ctl00_cphHaberDuyuru_C005_newsFrontendList_ctl00_ctl00_NewsList_ctrl3_ctl01\"));\r\n",
            "});\r\n",
            "Sys.Application.add_init(function() {\r\n",
            "    $create(Telerik.Sitefinity.Web.UI.Fields.TextField, {\"_allowNulls\":false,\"_conditionalTemplatesContainerId\":\"ctl00_cphHaberDuyuru_C005_newsFrontendList_ctl00_ctl00_NewsList_ctrl3_ctl02_ctl00_ConditionalTemplates\",\"_currentCondition\":\"displaymode-equal-read\",\"_maxChars\":0,\"_textBoxId\":\"textBox_write\",\"_textLabelId\":\"textLabel_read\",\"_trimSpaces\":false,\"_unit\":null,\"conditionDictionary\":{\"displaymode-equal-read\":\"ctl00_cphHaberDuyuru_C005_newsFrontendList_ctl00_ctl00_NewsList_ctrl3_ctl02_ctl00_ctl00_conditionalTemplate\",\"displaymode-equal-write\":\"ClientTemplatePanel_\"},\"controlErrorCssClass\":null,\"dataFieldName\":null,\"dataFormatString\":null,\"defaultValue\":\"11 Eki 2024\",\"description\":null,\"descriptionElement\":$get(\"ctl00_cphHaberDuyuru_C005_newsFrontendList_ctl00_ctl00_NewsList_ctrl3_ctl02_ctl00_ctl00_descriptionLabel_read\"),\"displayMode\":0,\"example\":null,\"fieldName\":null,\"labelElement\":$get(\"ctl00_cphHaberDuyuru_C005_newsFrontendList_ctl00_ctl00_NewsList_ctrl3_ctl02_ctl00_ctl00_textLabel_read\"),\"suffix\":\"_ctl02\",\"title\":null,\"titleElement\":$get(\"ctl00_cphHaberDuyuru_C005_newsFrontendList_ctl00_ctl00_NewsList_ctrl3_ctl02_ctl00_ctl00_titleLabel_read\"),\"validatorDefinition\":\"{\\\"AlphaNumericViolationMessage\\\":\\\"Alfa nümerik olmayan karakterlere izin verilmez.\\\",\\\"ComparingValidatorDefinitions\\\":[],\\\"CurrencyViolationMessage\\\":\\\"Geçersiz bir para birimi girdiniz.\\\",\\\"EmailAddressViolationMessage\\\":\\\"Geçersiz bir eposta adresi girdiniz.\\\",\\\"ExpectedFormat\\\":0,\\\"IntegerViolationMessage\\\":\\\"Geçersiz bir tansayı girdiniz.\\\",\\\"InternetUrlViolationMessage\\\":\\\"Geçersiz bir URL girdiniz.\\\",\\\"MaxLength\\\":0,\\\"MaxLengthViolationMessage\\\":\\\"Çok uzun\\\",\\\"MaxValue\\\":null,\\\"MaxValueViolationMessage\\\":\\\"Çok büyük\\\",\\\"MessageCssClass\\\":null,\\\"MessageTagName\\\":\\\"div\\\",\\\"MinLength\\\":0,\\\"MinLengthViolationMessage\\\":\\\"Çok kısa.\\\",\\\"MinValue\\\":null,\\\"MinValueViolationMessage\\\":\\\"Çok küçük.\\\",\\\"NonAlphaNumericViolationMessage\\\":\\\"Alfa nümerik karakterlere izin verilmez.\\\",\\\"NumericViolationMessage\\\":\\\"Geçersiz bir sayı girdiniz.\\\",\\\"PercentageViolationMessage\\\":\\\"Geçersiz bir yüzde girdiniz.\\\",\\\"RegularExpression\\\":null,\\\"RegularExpressionSeparator\\\":null,\\\"RegularExpressionViolationMessage\\\":\\\"geçersiz format\\\",\\\"Required\\\":null,\\\"RequiredViolationMessage\\\":\\\"Gerekli alan.\\\",\\\"ResourceClassId\\\":\\\"\\\",\\\"USSocialSecurityNumberViolationMessage\\\":\\\"Geçersiz bir ABD sosyal güvenlik numarası girdiniz.\\\",\\\"USZipCodeViolationMessage\\\":\\\"Geçersiz bir ABD posta kodu girdiniz.\\\",\\\"ValidateIfInvisible\\\":true}\",\"value\":\"11 Eki 2024\"}, null, null, $get(\"ctl00_cphHaberDuyuru_C005_newsFrontendList_ctl00_ctl00_NewsList_ctrl3_ctl02\"));\r\n",
            "});\r\n",
            "Sys.Application.add_init(function() {\r\n",
            "    $create(Telerik.Sitefinity.Web.UI.Fields.TextField, {\"_allowNulls\":false,\"_conditionalTemplatesContainerId\":\"ctl00_cphHaberDuyuru_C005_newsFrontendList_ctl00_ctl00_NewsList_ctrl4_ctl00_ctl00_ConditionalTemplates\",\"_currentCondition\":\"displaymode-equal-read\",\"_maxChars\":0,\"_textBoxId\":\"textBox_write\",\"_textLabelId\":\"textLabel_read\",\"_trimSpaces\":false,\"_unit\":null,\"conditionDictionary\":{\"displaymode-equal-read\":\"ctl00_cphHaberDuyuru_C005_newsFrontendList_ctl00_ctl00_NewsList_ctrl4_ctl00_ctl00_ctl00_conditionalTemplate\",\"displaymode-equal-write\":\"ClientTemplatePanel_\"},\"controlErrorCssClass\":null,\"dataFieldName\":null,\"dataFormatString\":null,\"defaultValue\":\"ITUNLP Dünyanın en etkili bilim insanları listesinde\",\"description\":null,\"descriptionElement\":$get(\"ctl00_cphHaberDuyuru_C005_newsFrontendList_ctl00_ctl00_NewsList_ctrl4_ctl00_ctl00_ctl00_descriptionLabel_read\"),\"displayMode\":0,\"example\":null,\"fieldName\":null,\"labelElement\":$get(\"ctl00_cphHaberDuyuru_C005_newsFrontendList_ctl00_ctl00_NewsList_ctrl4_ctl00_ctl00_ctl00_textLabel_read\"),\"suffix\":\"_ctl00\",\"title\":null,\"titleElement\":$get(\"ctl00_cphHaberDuyuru_C005_newsFrontendList_ctl00_ctl00_NewsList_ctrl4_ctl00_ctl00_ctl00_titleLabel_read\"),\"validatorDefinition\":\"{\\\"AlphaNumericViolationMessage\\\":\\\"Alfa nümerik olmayan karakterlere izin verilmez.\\\",\\\"ComparingValidatorDefinitions\\\":[],\\\"CurrencyViolationMessage\\\":\\\"Geçersiz bir para birimi girdiniz.\\\",\\\"EmailAddressViolationMessage\\\":\\\"Geçersiz bir eposta adresi girdiniz.\\\",\\\"ExpectedFormat\\\":0,\\\"IntegerViolationMessage\\\":\\\"Geçersiz bir tansayı girdiniz.\\\",\\\"InternetUrlViolationMessage\\\":\\\"Geçersiz bir URL girdiniz.\\\",\\\"MaxLength\\\":0,\\\"MaxLengthViolationMessage\\\":\\\"Çok uzun\\\",\\\"MaxValue\\\":null,\\\"MaxValueViolationMessage\\\":\\\"Çok büyük\\\",\\\"MessageCssClass\\\":null,\\\"MessageTagName\\\":\\\"div\\\",\\\"MinLength\\\":0,\\\"MinLengthViolationMessage\\\":\\\"Çok kısa.\\\",\\\"MinValue\\\":null,\\\"MinValueViolationMessage\\\":\\\"Çok küçük.\\\",\\\"NonAlphaNumericViolationMessage\\\":\\\"Alfa nümerik karakterlere izin verilmez.\\\",\\\"NumericViolationMessage\\\":\\\"Geçersiz bir sayı girdiniz.\\\",\\\"PercentageViolationMessage\\\":\\\"Geçersiz bir yüzde girdiniz.\\\",\\\"RegularExpression\\\":null,\\\"RegularExpressionSeparator\\\":null,\\\"RegularExpressionViolationMessage\\\":\\\"geçersiz format\\\",\\\"Required\\\":null,\\\"RequiredViolationMessage\\\":\\\"Gerekli alan.\\\",\\\"ResourceClassId\\\":\\\"\\\",\\\"USSocialSecurityNumberViolationMessage\\\":\\\"Geçersiz bir ABD sosyal güvenlik numarası girdiniz.\\\",\\\"USZipCodeViolationMessage\\\":\\\"Geçersiz bir ABD posta kodu girdiniz.\\\",\\\"ValidateIfInvisible\\\":true}\",\"value\":\"ITUNLP Dünyanın en etkili bilim insanları listesinde\"}, null, null, $get(\"ctl00_cphHaberDuyuru_C005_newsFrontendList_ctl00_ctl00_NewsList_ctrl4_ctl00\"));\r\n",
            "});\r\n",
            "Sys.Application.add_init(function() {\r\n",
            "    $create(Telerik.Sitefinity.Web.UI.Fields.TextField, {\"_allowNulls\":false,\"_conditionalTemplatesContainerId\":\"ctl00_cphHaberDuyuru_C005_newsFrontendList_ctl00_ctl00_NewsList_ctrl4_ctl01_ctl00_ConditionalTemplates\",\"_currentCondition\":\"displaymode-equal-read\",\"_maxChars\":0,\"_textBoxId\":\"textBox_write\",\"_textLabelId\":\"textLabel_read\",\"_trimSpaces\":false,\"_unit\":null,\"conditionDictionary\":{\"displaymode-equal-read\":\"ctl00_cphHaberDuyuru_C005_newsFrontendList_ctl00_ctl00_NewsList_ctrl4_ctl01_ctl00_ctl00_conditionalTemplate\",\"displaymode-equal-write\":\"ClientTemplatePanel_\"},\"controlErrorCssClass\":null,\"dataFieldName\":null,\"dataFormatString\":null,\"defaultValue\":\"Koordinatörümüz Prof. Dr. Gülşen Eryiğit, Elsevier ve Stanford Üniversitesi işbirliğiyle yıllık olarak açıklanan \\\"Dünyanın En Etkili Bilim İnsanları 2023\\\" listesinde \\\"Kariyer Boyu Etki\\\" kategorisinde yer aldı. \",\"description\":null,\"descriptionElement\":$get(\"ctl00_cphHaberDuyuru_C005_newsFrontendList_ctl00_ctl00_NewsList_ctrl4_ctl01_ctl00_ctl00_descriptionLabel_read\"),\"displayMode\":0,\"example\":null,\"fieldName\":null,\"labelElement\":$get(\"ctl00_cphHaberDuyuru_C005_newsFrontendList_ctl00_ctl00_NewsList_ctrl4_ctl01_ctl00_ctl00_textLabel_read\"),\"suffix\":\"_ctl01\",\"title\":null,\"titleElement\":$get(\"ctl00_cphHaberDuyuru_C005_newsFrontendList_ctl00_ctl00_NewsList_ctrl4_ctl01_ctl00_ctl00_titleLabel_read\"),\"validatorDefinition\":\"{\\\"AlphaNumericViolationMessage\\\":\\\"Alfa nümerik olmayan karakterlere izin verilmez.\\\",\\\"ComparingValidatorDefinitions\\\":[],\\\"CurrencyViolationMessage\\\":\\\"Geçersiz bir para birimi girdiniz.\\\",\\\"EmailAddressViolationMessage\\\":\\\"Geçersiz bir eposta adresi girdiniz.\\\",\\\"ExpectedFormat\\\":0,\\\"IntegerViolationMessage\\\":\\\"Geçersiz bir tansayı girdiniz.\\\",\\\"InternetUrlViolationMessage\\\":\\\"Geçersiz bir URL girdiniz.\\\",\\\"MaxLength\\\":0,\\\"MaxLengthViolationMessage\\\":\\\"Çok uzun\\\",\\\"MaxValue\\\":null,\\\"MaxValueViolationMessage\\\":\\\"Çok büyük\\\",\\\"MessageCssClass\\\":null,\\\"MessageTagName\\\":\\\"div\\\",\\\"MinLength\\\":0,\\\"MinLengthViolationMessage\\\":\\\"Çok kısa.\\\",\\\"MinValue\\\":null,\\\"MinValueViolationMessage\\\":\\\"Çok küçük.\\\",\\\"NonAlphaNumericViolationMessage\\\":\\\"Alfa nümerik karakterlere izin verilmez.\\\",\\\"NumericViolationMessage\\\":\\\"Geçersiz bir sayı girdiniz.\\\",\\\"PercentageViolationMessage\\\":\\\"Geçersiz bir yüzde girdiniz.\\\",\\\"RegularExpression\\\":null,\\\"RegularExpressionSeparator\\\":null,\\\"RegularExpressionViolationMessage\\\":\\\"geçersiz format\\\",\\\"Required\\\":null,\\\"RequiredViolationMessage\\\":\\\"Gerekli alan.\\\",\\\"ResourceClassId\\\":\\\"\\\",\\\"USSocialSecurityNumberViolationMessage\\\":\\\"Geçersiz bir ABD sosyal güvenlik numarası girdiniz.\\\",\\\"USZipCodeViolationMessage\\\":\\\"Geçersiz bir ABD posta kodu girdiniz.\\\",\\\"ValidateIfInvisible\\\":true}\",\"value\":\"Koordinatörümüz Prof. Dr. Gülşen Eryiğit, Elsevier ve Stanford Üniversitesi işbirliğiyle yıllık olarak açıklanan \\\"Dünyanın En Etkili Bilim İnsanları 2023\\\" listesinde \\\"Kariyer Boyu Etki\\\" kategorisinde yer aldı. \"}, null, null, $get(\"ctl00_cphHaberDuyuru_C005_newsFrontendList_ctl00_ctl00_NewsList_ctrl4_ctl01\"));\r\n",
            "});\r\n",
            "Sys.Application.add_init(function() {\r\n",
            "    $create(Telerik.Sitefinity.Web.UI.Fields.TextField, {\"_allowNulls\":false,\"_conditionalTemplatesContainerId\":\"ctl00_cphHaberDuyuru_C005_newsFrontendList_ctl00_ctl00_NewsList_ctrl4_ctl02_ctl00_ConditionalTemplates\",\"_currentCondition\":\"displaymode-equal-read\",\"_maxChars\":0,\"_textBoxId\":\"textBox_write\",\"_textLabelId\":\"textLabel_read\",\"_trimSpaces\":false,\"_unit\":null,\"conditionDictionary\":{\"displaymode-equal-read\":\"ctl00_cphHaberDuyuru_C005_newsFrontendList_ctl00_ctl00_NewsList_ctrl4_ctl02_ctl00_ctl00_conditionalTemplate\",\"displaymode-equal-write\":\"ClientTemplatePanel_\"},\"controlErrorCssClass\":null,\"dataFieldName\":null,\"dataFormatString\":null,\"defaultValue\":\"23 Eyl 2024\",\"description\":null,\"descriptionElement\":$get(\"ctl00_cphHaberDuyuru_C005_newsFrontendList_ctl00_ctl00_NewsList_ctrl4_ctl02_ctl00_ctl00_descriptionLabel_read\"),\"displayMode\":0,\"example\":null,\"fieldName\":null,\"labelElement\":$get(\"ctl00_cphHaberDuyuru_C005_newsFrontendList_ctl00_ctl00_NewsList_ctrl4_ctl02_ctl00_ctl00_textLabel_read\"),\"suffix\":\"_ctl02\",\"title\":null,\"titleElement\":$get(\"ctl00_cphHaberDuyuru_C005_newsFrontendList_ctl00_ctl00_NewsList_ctrl4_ctl02_ctl00_ctl00_titleLabel_read\"),\"validatorDefinition\":\"{\\\"AlphaNumericViolationMessage\\\":\\\"Alfa nümerik olmayan karakterlere izin verilmez.\\\",\\\"ComparingValidatorDefinitions\\\":[],\\\"CurrencyViolationMessage\\\":\\\"Geçersiz bir para birimi girdiniz.\\\",\\\"EmailAddressViolationMessage\\\":\\\"Geçersiz bir eposta adresi girdiniz.\\\",\\\"ExpectedFormat\\\":0,\\\"IntegerViolationMessage\\\":\\\"Geçersiz bir tansayı girdiniz.\\\",\\\"InternetUrlViolationMessage\\\":\\\"Geçersiz bir URL girdiniz.\\\",\\\"MaxLength\\\":0,\\\"MaxLengthViolationMessage\\\":\\\"Çok uzun\\\",\\\"MaxValue\\\":null,\\\"MaxValueViolationMessage\\\":\\\"Çok büyük\\\",\\\"MessageCssClass\\\":null,\\\"MessageTagName\\\":\\\"div\\\",\\\"MinLength\\\":0,\\\"MinLengthViolationMessage\\\":\\\"Çok kısa.\\\",\\\"MinValue\\\":null,\\\"MinValueViolationMessage\\\":\\\"Çok küçük.\\\",\\\"NonAlphaNumericViolationMessage\\\":\\\"Alfa nümerik karakterlere izin verilmez.\\\",\\\"NumericViolationMessage\\\":\\\"Geçersiz bir sayı girdiniz.\\\",\\\"PercentageViolationMessage\\\":\\\"Geçersiz bir yüzde girdiniz.\\\",\\\"RegularExpression\\\":null,\\\"RegularExpressionSeparator\\\":null,\\\"RegularExpressionViolationMessage\\\":\\\"geçersiz format\\\",\\\"Required\\\":null,\\\"RequiredViolationMessage\\\":\\\"Gerekli alan.\\\",\\\"ResourceClassId\\\":\\\"\\\",\\\"USSocialSecurityNumberViolationMessage\\\":\\\"Geçersiz bir ABD sosyal güvenlik numarası girdiniz.\\\",\\\"USZipCodeViolationMessage\\\":\\\"Geçersiz bir ABD posta kodu girdiniz.\\\",\\\"ValidateIfInvisible\\\":true}\",\"value\":\"23 Eyl 2024\"}, null, null, $get(\"ctl00_cphHaberDuyuru_C005_newsFrontendList_ctl00_ctl00_NewsList_ctrl4_ctl02\"));\r\n",
            "});\r\n",
            "Sys.Application.add_init(function() {\r\n",
            "    $create(Telerik.Sitefinity.Web.UI.Fields.TextField, {\"_allowNulls\":false,\"_conditionalTemplatesContainerId\":\"ctl00_cphHaberDuyuru_C005_newsFrontendList_ctl00_ctl00_NewsList_ctrl5_ctl00_ctl00_ConditionalTemplates\",\"_currentCondition\":\"displaymode-equal-read\",\"_maxChars\":0,\"_textBoxId\":\"textBox_write\",\"_textLabelId\":\"textLabel_read\",\"_trimSpaces\":false,\"_unit\":null,\"conditionDictionary\":{\"displaymode-equal-read\":\"ctl00_cphHaberDuyuru_C005_newsFrontendList_ctl00_ctl00_NewsList_ctrl5_ctl00_ctl00_ctl00_conditionalTemplate\",\"displaymode-equal-write\":\"ClientTemplatePanel_\"},\"controlErrorCssClass\":null,\"dataFieldName\":null,\"dataFormatString\":null,\"defaultValue\":\"Türk Dil Kurumu - İTÜ Doğal Dil İşleme Çalıştayı\",\"description\":null,\"descriptionElement\":$get(\"ctl00_cphHaberDuyuru_C005_newsFrontendList_ctl00_ctl00_NewsList_ctrl5_ctl00_ctl00_ctl00_descriptionLabel_read\"),\"displayMode\":0,\"example\":null,\"fieldName\":null,\"labelElement\":$get(\"ctl00_cphHaberDuyuru_C005_newsFrontendList_ctl00_ctl00_NewsList_ctrl5_ctl00_ctl00_ctl00_textLabel_read\"),\"suffix\":\"_ctl00\",\"title\":null,\"titleElement\":$get(\"ctl00_cphHaberDuyuru_C005_newsFrontendList_ctl00_ctl00_NewsList_ctrl5_ctl00_ctl00_ctl00_titleLabel_read\"),\"validatorDefinition\":\"{\\\"AlphaNumericViolationMessage\\\":\\\"Alfa nümerik olmayan karakterlere izin verilmez.\\\",\\\"ComparingValidatorDefinitions\\\":[],\\\"CurrencyViolationMessage\\\":\\\"Geçersiz bir para birimi girdiniz.\\\",\\\"EmailAddressViolationMessage\\\":\\\"Geçersiz bir eposta adresi girdiniz.\\\",\\\"ExpectedFormat\\\":0,\\\"IntegerViolationMessage\\\":\\\"Geçersiz bir tansayı girdiniz.\\\",\\\"InternetUrlViolationMessage\\\":\\\"Geçersiz bir URL girdiniz.\\\",\\\"MaxLength\\\":0,\\\"MaxLengthViolationMessage\\\":\\\"Çok uzun\\\",\\\"MaxValue\\\":null,\\\"MaxValueViolationMessage\\\":\\\"Çok büyük\\\",\\\"MessageCssClass\\\":null,\\\"MessageTagName\\\":\\\"div\\\",\\\"MinLength\\\":0,\\\"MinLengthViolationMessage\\\":\\\"Çok kısa.\\\",\\\"MinValue\\\":null,\\\"MinValueViolationMessage\\\":\\\"Çok küçük.\\\",\\\"NonAlphaNumericViolationMessage\\\":\\\"Alfa nümerik karakterlere izin verilmez.\\\",\\\"NumericViolationMessage\\\":\\\"Geçersiz bir sayı girdiniz.\\\",\\\"PercentageViolationMessage\\\":\\\"Geçersiz bir yüzde girdiniz.\\\",\\\"RegularExpression\\\":null,\\\"RegularExpressionSeparator\\\":null,\\\"RegularExpressionViolationMessage\\\":\\\"geçersiz format\\\",\\\"Required\\\":null,\\\"RequiredViolationMessage\\\":\\\"Gerekli alan.\\\",\\\"ResourceClassId\\\":\\\"\\\",\\\"USSocialSecurityNumberViolationMessage\\\":\\\"Geçersiz bir ABD sosyal güvenlik numarası girdiniz.\\\",\\\"USZipCodeViolationMessage\\\":\\\"Geçersiz bir ABD posta kodu girdiniz.\\\",\\\"ValidateIfInvisible\\\":true}\",\"value\":\"Türk Dil Kurumu - İTÜ Doğal Dil İşleme Çalıştayı\"}, null, null, $get(\"ctl00_cphHaberDuyuru_C005_newsFrontendList_ctl00_ctl00_NewsList_ctrl5_ctl00\"));\r\n",
            "});\r\n",
            "Sys.Application.add_init(function() {\r\n",
            "    $create(Telerik.Sitefinity.Web.UI.Fields.TextField, {\"_allowNulls\":false,\"_conditionalTemplatesContainerId\":\"ctl00_cphHaberDuyuru_C005_newsFrontendList_ctl00_ctl00_NewsList_ctrl5_ctl01_ctl00_ConditionalTemplates\",\"_currentCondition\":\"displaymode-equal-read\",\"_maxChars\":0,\"_textBoxId\":\"textBox_write\",\"_textLabelId\":\"textLabel_read\",\"_trimSpaces\":false,\"_unit\":null,\"conditionDictionary\":{\"displaymode-equal-read\":\"ctl00_cphHaberDuyuru_C005_newsFrontendList_ctl00_ctl00_NewsList_ctrl5_ctl01_ctl00_ctl00_conditionalTemplate\",\"displaymode-equal-write\":\"ClientTemplatePanel_\"},\"controlErrorCssClass\":null,\"dataFieldName\":null,\"dataFormatString\":null,\"defaultValue\":\"\",\"description\":null,\"descriptionElement\":$get(\"ctl00_cphHaberDuyuru_C005_newsFrontendList_ctl00_ctl00_NewsList_ctrl5_ctl01_ctl00_ctl00_descriptionLabel_read\"),\"displayMode\":0,\"example\":null,\"fieldName\":null,\"labelElement\":$get(\"ctl00_cphHaberDuyuru_C005_newsFrontendList_ctl00_ctl00_NewsList_ctrl5_ctl01_ctl00_ctl00_textLabel_read\"),\"suffix\":\"_ctl01\",\"title\":null,\"titleElement\":$get(\"ctl00_cphHaberDuyuru_C005_newsFrontendList_ctl00_ctl00_NewsList_ctrl5_ctl01_ctl00_ctl00_titleLabel_read\"),\"validatorDefinition\":\"{\\\"AlphaNumericViolationMessage\\\":\\\"Alfa nümerik olmayan karakterlere izin verilmez.\\\",\\\"ComparingValidatorDefinitions\\\":[],\\\"CurrencyViolationMessage\\\":\\\"Geçersiz bir para birimi girdiniz.\\\",\\\"EmailAddressViolationMessage\\\":\\\"Geçersiz bir eposta adresi girdiniz.\\\",\\\"ExpectedFormat\\\":0,\\\"IntegerViolationMessage\\\":\\\"Geçersiz bir tansayı girdiniz.\\\",\\\"InternetUrlViolationMessage\\\":\\\"Geçersiz bir URL girdiniz.\\\",\\\"MaxLength\\\":0,\\\"MaxLengthViolationMessage\\\":\\\"Çok uzun\\\",\\\"MaxValue\\\":null,\\\"MaxValueViolationMessage\\\":\\\"Çok büyük\\\",\\\"MessageCssClass\\\":null,\\\"MessageTagName\\\":\\\"div\\\",\\\"MinLength\\\":0,\\\"MinLengthViolationMessage\\\":\\\"Çok kısa.\\\",\\\"MinValue\\\":null,\\\"MinValueViolationMessage\\\":\\\"Çok küçük.\\\",\\\"NonAlphaNumericViolationMessage\\\":\\\"Alfa nümerik karakterlere izin verilmez.\\\",\\\"NumericViolationMessage\\\":\\\"Geçersiz bir sayı girdiniz.\\\",\\\"PercentageViolationMessage\\\":\\\"Geçersiz bir yüzde girdiniz.\\\",\\\"RegularExpression\\\":null,\\\"RegularExpressionSeparator\\\":null,\\\"RegularExpressionViolationMessage\\\":\\\"geçersiz format\\\",\\\"Required\\\":null,\\\"RequiredViolationMessage\\\":\\\"Gerekli alan.\\\",\\\"ResourceClassId\\\":\\\"\\\",\\\"USSocialSecurityNumberViolationMessage\\\":\\\"Geçersiz bir ABD sosyal güvenlik numarası girdiniz.\\\",\\\"USZipCodeViolationMessage\\\":\\\"Geçersiz bir ABD posta kodu girdiniz.\\\",\\\"ValidateIfInvisible\\\":true}\",\"value\":\"\"}, null, null, $get(\"ctl00_cphHaberDuyuru_C005_newsFrontendList_ctl00_ctl00_NewsList_ctrl5_ctl01\"));\r\n",
            "});\r\n",
            "Sys.Application.add_init(function() {\r\n",
            "    $create(Telerik.Sitefinity.Web.UI.Fields.TextField, {\"_allowNulls\":false,\"_conditionalTemplatesContainerId\":\"ctl00_cphHaberDuyuru_C005_newsFrontendList_ctl00_ctl00_NewsList_ctrl5_ctl02_ctl00_ConditionalTemplates\",\"_currentCondition\":\"displaymode-equal-read\",\"_maxChars\":0,\"_textBoxId\":\"textBox_write\",\"_textLabelId\":\"textLabel_read\",\"_trimSpaces\":false,\"_unit\":null,\"conditionDictionary\":{\"displaymode-equal-read\":\"ctl00_cphHaberDuyuru_C005_newsFrontendList_ctl00_ctl00_NewsList_ctrl5_ctl02_ctl00_ctl00_conditionalTemplate\",\"displaymode-equal-write\":\"ClientTemplatePanel_\"},\"controlErrorCssClass\":null,\"dataFieldName\":null,\"dataFormatString\":null,\"defaultValue\":\"02 May 2024\",\"description\":null,\"descriptionElement\":$get(\"ctl00_cphHaberDuyuru_C005_newsFrontendList_ctl00_ctl00_NewsList_ctrl5_ctl02_ctl00_ctl00_descriptionLabel_read\"),\"displayMode\":0,\"example\":null,\"fieldName\":null,\"labelElement\":$get(\"ctl00_cphHaberDuyuru_C005_newsFrontendList_ctl00_ctl00_NewsList_ctrl5_ctl02_ctl00_ctl00_textLabel_read\"),\"suffix\":\"_ctl02\",\"title\":null,\"titleElement\":$get(\"ctl00_cphHaberDuyuru_C005_newsFrontendList_ctl00_ctl00_NewsList_ctrl5_ctl02_ctl00_ctl00_titleLabel_read\"),\"validatorDefinition\":\"{\\\"AlphaNumericViolationMessage\\\":\\\"Alfa nümerik olmayan karakterlere izin verilmez.\\\",\\\"ComparingValidatorDefinitions\\\":[],\\\"CurrencyViolationMessage\\\":\\\"Geçersiz bir para birimi girdiniz.\\\",\\\"EmailAddressViolationMessage\\\":\\\"Geçersiz bir eposta adresi girdiniz.\\\",\\\"ExpectedFormat\\\":0,\\\"IntegerViolationMessage\\\":\\\"Geçersiz bir tansayı girdiniz.\\\",\\\"InternetUrlViolationMessage\\\":\\\"Geçersiz bir URL girdiniz.\\\",\\\"MaxLength\\\":0,\\\"MaxLengthViolationMessage\\\":\\\"Çok uzun\\\",\\\"MaxValue\\\":null,\\\"MaxValueViolationMessage\\\":\\\"Çok büyük\\\",\\\"MessageCssClass\\\":null,\\\"MessageTagName\\\":\\\"div\\\",\\\"MinLength\\\":0,\\\"MinLengthViolationMessage\\\":\\\"Çok kısa.\\\",\\\"MinValue\\\":null,\\\"MinValueViolationMessage\\\":\\\"Çok küçük.\\\",\\\"NonAlphaNumericViolationMessage\\\":\\\"Alfa nümerik karakterlere izin verilmez.\\\",\\\"NumericViolationMessage\\\":\\\"Geçersiz bir sayı girdiniz.\\\",\\\"PercentageViolationMessage\\\":\\\"Geçersiz bir yüzde girdiniz.\\\",\\\"RegularExpression\\\":null,\\\"RegularExpressionSeparator\\\":null,\\\"RegularExpressionViolationMessage\\\":\\\"geçersiz format\\\",\\\"Required\\\":null,\\\"RequiredViolationMessage\\\":\\\"Gerekli alan.\\\",\\\"ResourceClassId\\\":\\\"\\\",\\\"USSocialSecurityNumberViolationMessage\\\":\\\"Geçersiz bir ABD sosyal güvenlik numarası girdiniz.\\\",\\\"USZipCodeViolationMessage\\\":\\\"Geçersiz bir ABD posta kodu girdiniz.\\\",\\\"ValidateIfInvisible\\\":true}\",\"value\":\"02 May 2024\"}, null, null, $get(\"ctl00_cphHaberDuyuru_C005_newsFrontendList_ctl00_ctl00_NewsList_ctrl5_ctl02\"));\r\n",
            "});\r\n",
            "Sys.Application.add_init(function() {\r\n",
            "    $create(Telerik.Web.UI.RadListView, {\"UniqueID\":\"ctl00$cphHaberDuyuru$C005$newsFrontendList$ctl00$ctl00$NewsList\",\"_clientSettings\":{\"DataBinding\":{\"ItemPlaceHolderID\":\"ctl00_cphHaberDuyuru_C005_newsFrontendList_ctl00_ctl00_NewsList_ItemsContainer\",\"DataService\":{}}},\"_virtualItemCount\":6,\"clientStateFieldID\":\"ctl00_cphHaberDuyuru_C005_newsFrontendList_ctl00_ctl00_NewsList_ClientState\",\"renderMode\":1}, null, null, $get(\"ctl00_cphHaberDuyuru_C005_newsFrontendList_ctl00_ctl00_NewsList\"));\r\n",
            "});\r\n",
            "Sys.Application.add_init(function() {\r\n",
            "    $create(Telerik.Sitefinity.Web.UI.UserPreferences, {\"_timeOffset\":\"10800000\",\"_userBrowserSettingsForCalculatingDates\":true,\"timeZoneDisplayName\":\"(UTC+03:00) Istanbul\",\"timeZoneId\":\"Turkey Standard Time\"}, null, null);\r\n",
            "});\r\n",
            "//]]>\r\n",
            "</script>\r\n",
            "</form>\r\n",
            "\t<link rel=\"stylesheet\"  href=\"//uicc.itu.edu.tr/plugins/fancy/jquery.fancybox.css\"/>\r\n",
            "\t<script type=\"text/javascript\" src=\"//uicc.itu.edu.tr/plugins/fancy/jquery.fancybox.js\"></script>\r\n",
            "  <script type=\"text/javascript\">\r\n",
            "        jQuery(document).ready(function () {\r\n",
            "\t\tvar TodayDate = new Date();\r\n",
            "\t\tvar d = TodayDate.getDate();\r\n",
            "\t\r\n",
            "     //    $(\".various\").fancybox({ scrolling: 'no' }).trigger('click');\r\n",
            "        });\r\n",
            "    </script>\r\n",
            "\t<link rel=\"stylesheet\"  href=\"https://mezun.itu.edu.tr/mezun/css/fancy-custom.css\"/> \r\n",
            "\r\n",
            "</body>\r\n",
            "</html>\r\n",
            "\n"
          ]
        }
      ]
    },
    {
      "cell_type": "markdown",
      "metadata": {
        "id": "3iN97T9x9-lI"
      },
      "source": [
        "To get text out of HTML we will use a Python library called BeautifulSoup, available from  http://www.crummy.com/software/BeautifulSoup/:\n",
        "\n"
      ]
    },
    {
      "cell_type": "code",
      "metadata": {
        "id": "iUYbhlnX-BZJ",
        "colab": {
          "base_uri": "https://localhost:8080/"
        },
        "outputId": "9dfde039-5ed6-4953-bd36-a4327783b9c7"
      },
      "source": [
        "from bs4 import BeautifulSoup\n",
        "raw = BeautifulSoup(html, 'html.parser').get_text()\n",
        "tokens = word_tokenize(raw)\n",
        "tokens[:10]"
      ],
      "execution_count": 90,
      "outputs": [
        {
          "output_type": "execute_result",
          "data": {
            "text/plain": [
              "['İTÜ',\n",
              " 'Doğal',\n",
              " 'Dil',\n",
              " 'İşleme',\n",
              " 'Araştırma',\n",
              " 'Grubu',\n",
              " 'English',\n",
              " 'İTÜ',\n",
              " 'ANASAYFA',\n",
              " 'NİNOVA']"
            ]
          },
          "metadata": {},
          "execution_count": 90
        }
      ]
    },
    {
      "cell_type": "markdown",
      "source": [
        "This still contains unwanted material concerning site navigation and related stories. With some trial and error you can find the start and end indexes of the content and select the tokens of interest, and initialize a text as before."
      ],
      "metadata": {
        "id": "qlJJap1NijuF"
      }
    },
    {
      "cell_type": "code",
      "source": [
        "tokens = tokens[110:390]\n",
        "text = nltk.Text(tokens)\n",
        "text.concordance('İTÜ')"
      ],
      "metadata": {
        "id": "UGGI1Pfpiokb",
        "colab": {
          "base_uri": "https://localhost:8080/"
        },
        "outputId": "990f6664-5ca7-48fc-c828-d7b56e882cb1"
      },
      "execution_count": 91,
      "outputs": [
        {
          "output_type": "stream",
          "name": "stdout",
          "text": [
            "Displaying 5 of 5 matches:\n",
            "    verildi . ( ? ) 21 Kas 2024 ( ? ) İTÜ Rektörü Prof.Dr . Hasan Mandal'dan Zi\n",
            "f.Dr . Hasan Mandal'dan Ziyaret ( ? ) İTÜ Rektörü Prof.Dr . Hasan Mandal Araştı\n",
            ") 23 Eyl 2024 ( ? ) Türk Dil Kurumu - İTÜ Doğal Dil İşleme Çalıştayı ( ? ) ( ? \n",
            " işleme tanımı altında toplanmıştır . İTÜ Doğal Dil İşleme ( ddi @ İTÜ ) araştı\n",
            "mıştır . İTÜ Doğal Dil İşleme ( ddi @ İTÜ ) araştırma grubu ,\n"
          ]
        }
      ]
    },
    {
      "cell_type": "markdown",
      "metadata": {
        "id": "OQeOxYBcAyG6"
      },
      "source": [
        "### Processing RSS Feeds\n",
        "The blogosphere is an important source of text, in both formal and informal registers. With the help of a Python library called the Universal Feed Parser, available from https://pypi.python.org/pypi/feedparser, we can access the content of a blog, as shown below:\n",
        "\n"
      ]
    },
    {
      "cell_type": "code",
      "metadata": {
        "id": "KNPrJdmiC6wV",
        "colab": {
          "base_uri": "https://localhost:8080/"
        },
        "outputId": "14e6a443-b8c3-4642-90f3-20e339098bf2"
      },
      "source": [
        "!pip install feedparser #command to install feedparser"
      ],
      "execution_count": 92,
      "outputs": [
        {
          "output_type": "stream",
          "name": "stdout",
          "text": [
            "Requirement already satisfied: feedparser in /usr/local/lib/python3.11/dist-packages (6.0.11)\n",
            "Requirement already satisfied: sgmllib3k in /usr/local/lib/python3.11/dist-packages (from feedparser) (1.0.0)\n"
          ]
        }
      ]
    },
    {
      "cell_type": "code",
      "metadata": {
        "id": "yTMlgmKHA6_J",
        "colab": {
          "base_uri": "https://localhost:8080/"
        },
        "outputId": "84e576d4-cf5d-4d11-dc0b-dcf7f0969d92"
      },
      "source": [
        "import feedparser\n",
        "llog = feedparser.parse(\"http://languagelog.ldc.upenn.edu/nll/?feed=atom\")\n",
        "print(\"Entry count:\", len(llog.entries))\n",
        "post = llog.entries[2]\n",
        "print(\"Title:\", post.title)\n",
        "content = post.content[0].value\n",
        "print(content[:70]) #printing a sample of the post\n",
        "#turning content into text\n",
        "raw = BeautifulSoup(content, 'html.parser').get_text()\n",
        "tokens = word_tokenize(raw) #tokenizing the raw text\n",
        "tokens[:10]"
      ],
      "execution_count": 93,
      "outputs": [
        {
          "output_type": "stream",
          "name": "stdout",
          "text": [
            "Entry count: 13\n",
            "Title: The noninfallibility yet utility of AIO\n",
            "<p>Someone complained in an inappropriate and non sequiturish place th\n"
          ]
        },
        {
          "output_type": "execute_result",
          "data": {
            "text/plain": [
              "['Someone',\n",
              " 'complained',\n",
              " 'in',\n",
              " 'an',\n",
              " 'inappropriate',\n",
              " 'and',\n",
              " 'non',\n",
              " 'sequiturish',\n",
              " 'place',\n",
              " 'that']"
            ]
          },
          "metadata": {},
          "execution_count": 93
        }
      ]
    },
    {
      "cell_type": "markdown",
      "metadata": {
        "id": "UsIBAitpGWNZ"
      },
      "source": [
        "### The NLP Pipeline"
      ]
    },
    {
      "cell_type": "markdown",
      "metadata": {
        "id": "LO5X5Qs9GlKz"
      },
      "source": [
        "![](http://www.nltk.org/images/pipeline1.png)"
      ]
    },
    {
      "cell_type": "markdown",
      "metadata": {
        "id": "6FPABiGUHQQd"
      },
      "source": [
        "The figure above summarizes what we have covered in this section, including the process of building a vocabulary.\n",
        "\n",
        "When we load the contents of a URL or file, and when we strip out HTML markup, we are dealing with strings, Python's `<str>` data type.\n",
        "\n",
        "When we tokenize a string we produce a list (of words), and this is Python's `<list>` type. Normalizing and sorting lists produces other lists."
      ]
    },
    {
      "cell_type": "markdown",
      "metadata": {
        "id": "m5LqiwOzpF0v"
      },
      "source": [
        "## 2. Text Processing with Unicode"
      ]
    },
    {
      "cell_type": "markdown",
      "metadata": {
        "id": "xD3vyQctp3tF"
      },
      "source": [
        "Our programs will often need to deal with different languages, and different character sets. The concept of \"plain text\" is a fiction. If you live in the English-speaking world you probably use ASCII, possibly without realizing it. Some European languages use one of the extended Latin character sets, containing such characters as \"ø\" for Danish and Norwegian, \"ő\" for Hungarian, \"ñ\" for Spanish and Breton, and \"ň\" for Czech and Slovak. In this section, we will give an overview of how to use Unicode for processing texts that use non-ASCII character sets."
      ]
    },
    {
      "cell_type": "markdown",
      "metadata": {
        "id": "LaYHZYu4rXHz"
      },
      "source": [
        "### Unicode"
      ]
    },
    {
      "cell_type": "markdown",
      "metadata": {
        "id": "BJ90mR6mraHL"
      },
      "source": [
        "Unicode supports over a million characters. Each character is assigned a number, called a **code point**. In Python, code points are written in the form `\\uXXXX`, where XXXX is the number in 4-digit hexadecimal form.\n",
        "\n",
        "Within a program, we can manipulate Unicode strings just like normal strings. However, when Unicode characters are stored in files or displayed on a terminal, they must be encoded as a stream of bytes. Some encodings (such as ASCII and Latin-2) use a single byte per code point, so they can only support a small subset of Unicode, enough for a single language. Other encodings (such as UTF-8) use multiple bytes and can represent the full range of Unicode characters.\n",
        "\n",
        "Text in files will be in a particular encoding, so we need some mechanism for translating it into Unicode — translation into Unicode is called **decoding**. Conversely, to write out Unicode to a file or a terminal, we first need to translate it into a suitable encoding — this translation out of Unicode is called **encoding**, and is illustrated in the figure below."
      ]
    },
    {
      "cell_type": "markdown",
      "metadata": {
        "id": "4XcnoBnNvPPg"
      },
      "source": [
        "![](https://www.nltk.org/images/unicode.png)"
      ]
    },
    {
      "cell_type": "markdown",
      "metadata": {
        "id": "XjJ44lqqvvJz"
      },
      "source": [
        "### Extracting encoded text from files"
      ]
    },
    {
      "cell_type": "markdown",
      "metadata": {
        "id": "PJo1Vi3cwp1d"
      },
      "source": [
        "Suppose we've got a tiny text file and understand how it's encoded. For example, as the name suggests, polish-lat2.txt is a snippet of the Polish Wikipedia text (see [http:/pl.wikipedia.org/wiki/Biblioteka_Pruska](http:/pl.wikipedia.org/wiki/Biblioteka_Pruska)). This file is encoded as the *ISO-8859-2 Latin-2* file. The function `nltk.data.find()` locates the file for us."
      ]
    },
    {
      "cell_type": "code",
      "metadata": {
        "id": "A2HERe7Cwq36",
        "colab": {
          "base_uri": "https://localhost:8080/"
        },
        "outputId": "41f6f78c-389e-46c0-c912-df55dd769840"
      },
      "source": [
        "nltk.download('unicode_samples')\n",
        "path = nltk.data.find('corpora/unicode_samples/polish-lat2.txt')"
      ],
      "execution_count": 94,
      "outputs": [
        {
          "output_type": "stream",
          "name": "stderr",
          "text": [
            "[nltk_data] Downloading package unicode_samples to /root/nltk_data...\n",
            "[nltk_data]   Package unicode_samples is already up-to-date!\n"
          ]
        }
      ]
    },
    {
      "cell_type": "markdown",
      "metadata": {
        "id": "06_dSKl2wubx"
      },
      "source": [
        "The Python `open()` function can read encoded data into Unicode strings, and write out Unicode strings in encoded form. It takes a parameter to specify the encoding of the file being read or written. So let's open our Polish file with the encoding 'latin2' and inspect the contents of the file:"
      ]
    },
    {
      "cell_type": "code",
      "source": [
        "f = open(path, encoding='latin2')\n",
        "for line in f:\n",
        "  line = line.strip()\n",
        "  print(line)"
      ],
      "metadata": {
        "id": "dgWyqeM0U0xB",
        "colab": {
          "base_uri": "https://localhost:8080/"
        },
        "outputId": "ea11125c-cd03-420a-8f2d-5703ac86bf97"
      },
      "execution_count": 95,
      "outputs": [
        {
          "output_type": "stream",
          "name": "stdout",
          "text": [
            "Pruska Biblioteka Państwowa. Jej dawne zbiory znane pod nazwą\n",
            "\"Berlinka\" to skarb kultury i sztuki niemieckiej. Przewiezione przez\n",
            "Niemców pod koniec II wojny światowej na Dolny Śląsk, zostały\n",
            "odnalezione po 1945 r. na terytorium Polski. Trafiły do Biblioteki\n",
            "Jagiellońskiej w Krakowie, obejmują ponad 500 tys. zabytkowych\n",
            "archiwaliów, m.in. manuskrypty Goethego, Mozarta, Beethovena, Bacha.\n"
          ]
        }
      ]
    },
    {
      "cell_type": "markdown",
      "source": [
        "If this does not display correctly on your terminal, or if we want to see the underlying numerical values (or \"codepoints\") of the characters, then we can convert all non-ASCII characters into their two-digit \\xXX and four-digit \\uXXXX representations:"
      ],
      "metadata": {
        "id": "Js_9XsTfU5lS"
      }
    },
    {
      "cell_type": "code",
      "metadata": {
        "id": "UJOmOUYqxQau",
        "colab": {
          "base_uri": "https://localhost:8080/"
        },
        "outputId": "78bd2811-9549-4866-99ec-c9fe9ab2aa54"
      },
      "source": [
        "f = open(path, encoding='latin2')\n",
        "for line in f:\n",
        "  line = line.strip()\n",
        "  print(line.encode('unicode_escape'))"
      ],
      "execution_count": 96,
      "outputs": [
        {
          "output_type": "stream",
          "name": "stdout",
          "text": [
            "b'Pruska Biblioteka Pa\\\\u0144stwowa. Jej dawne zbiory znane pod nazw\\\\u0105'\n",
            "b'\"Berlinka\" to skarb kultury i sztuki niemieckiej. Przewiezione przez'\n",
            "b'Niemc\\\\xf3w pod koniec II wojny \\\\u015bwiatowej na Dolny \\\\u015al\\\\u0105sk, zosta\\\\u0142y'\n",
            "b'odnalezione po 1945 r. na terytorium Polski. Trafi\\\\u0142y do Biblioteki'\n",
            "b'Jagiello\\\\u0144skiej w Krakowie, obejmuj\\\\u0105 ponad 500 tys. zabytkowych'\n",
            "b'archiwali\\\\xf3w, m.in. manuskrypty Goethego, Mozarta, Beethovena, Bacha.'\n"
          ]
        }
      ]
    },
    {
      "cell_type": "markdown",
      "source": [
        "The first line above illustrates a Unicode escape string preceded by the \\u escape string, namely \\u0144 . The relevant Unicode character will be dislayed on the screen as the glyph ń. In the third line of the preceding example, we see \\xf3, which corresponds to the glyph ó, and is within the 128-255 range."
      ],
      "metadata": {
        "id": "raAefZG3VHgm"
      }
    },
    {
      "cell_type": "markdown",
      "metadata": {
        "id": "X43Scsiizjd8"
      },
      "source": [
        "In Python 3, source code is encoded by default using UTF-8, and if you use IDLE or another program editor that supports Unicode, you can include Unicode characters in strings. Use the `\\uXXXX` escape sequence to include arbitrary Unicode characters. We find the integer ordinal of a character using ord). For instance,"
      ]
    },
    {
      "cell_type": "code",
      "metadata": {
        "id": "LtxWysMUzl4C",
        "colab": {
          "base_uri": "https://localhost:8080/"
        },
        "outputId": "da739cd1-5b15-4fae-888a-b9f008e2f6b7"
      },
      "source": [
        "ord('ń')"
      ],
      "execution_count": 97,
      "outputs": [
        {
          "output_type": "execute_result",
          "data": {
            "text/plain": [
              "324"
            ]
          },
          "metadata": {},
          "execution_count": 97
        }
      ]
    },
    {
      "cell_type": "markdown",
      "metadata": {
        "id": "FXh51KOIzoBV"
      },
      "source": [
        "The hexadecimal 4 digit notation for 324 is 0144 (type `hex(324)` to discover this), and we can define a string with the appropriate escape sequence."
      ]
    },
    {
      "cell_type": "code",
      "metadata": {
        "id": "enBfx3tszsJE",
        "colab": {
          "base_uri": "https://localhost:8080/",
          "height": 35
        },
        "outputId": "d51b03ed-63b3-4c7b-d803-9c88a00c2476"
      },
      "source": [
        "nacute = '\\u0144'\n",
        "nacute"
      ],
      "execution_count": 98,
      "outputs": [
        {
          "output_type": "execute_result",
          "data": {
            "text/plain": [
              "'ń'"
            ],
            "application/vnd.google.colaboratory.intrinsic+json": {
              "type": "string"
            }
          },
          "metadata": {},
          "execution_count": 98
        }
      ]
    },
    {
      "cell_type": "markdown",
      "metadata": {
        "id": "AtL6t5hC0gUq"
      },
      "source": [
        "The module `unicodedata` lets us inspect the properties of Unicode characters. In the following example, we select all characters in the third line of our Polish text outside the ASCII range and print their UTF-8 byte sequence, followed by their code point integer using the standard Unicode convention (i.e., prefixing the hex digits with U+), followed by their Unicode name."
      ]
    },
    {
      "cell_type": "code",
      "metadata": {
        "id": "6glt3_0i0hYG",
        "colab": {
          "base_uri": "https://localhost:8080/"
        },
        "outputId": "b8006ce3-cfdd-415c-db0e-18237c351ecb"
      },
      "source": [
        "import unicodedata\n",
        "lines = open(path, encoding='latin2').readlines()\n",
        "line = lines[2]\n",
        "print(line.encode('unicode_escape'))\n",
        "for c in line: [1]\n",
        "if ord(c) > 127:\n",
        "         print('{} U+{:04x} {}'.format(c.encode('utf8'), ord(c),\n",
        "                                       unicodedata.name(c)))"
      ],
      "execution_count": 99,
      "outputs": [
        {
          "output_type": "stream",
          "name": "stdout",
          "text": [
            "b'Niemc\\\\xf3w pod koniec II wojny \\\\u015bwiatowej na Dolny \\\\u015al\\\\u0105sk, zosta\\\\u0142y\\\\n'\n"
          ]
        }
      ]
    },
    {
      "cell_type": "code",
      "source": [
        "for c in line:\n",
        "    if ord(c) > 127:\n",
        "        print('{} U+{:04x} {}'.format(c, ord(c), unicodedata.name(c)))"
      ],
      "metadata": {
        "id": "LlvHD-ZUVumL",
        "colab": {
          "base_uri": "https://localhost:8080/"
        },
        "outputId": "c7e12198-714d-41f0-d04b-88a2ee09aabc"
      },
      "execution_count": 100,
      "outputs": [
        {
          "output_type": "stream",
          "name": "stdout",
          "text": [
            "ó U+00f3 LATIN SMALL LETTER O WITH ACUTE\n",
            "ś U+015b LATIN SMALL LETTER S WITH ACUTE\n",
            "Ś U+015a LATIN CAPITAL LETTER S WITH ACUTE\n",
            "ą U+0105 LATIN SMALL LETTER A WITH OGONEK\n",
            "ł U+0142 LATIN SMALL LETTER L WITH STROKE\n"
          ]
        }
      ]
    },
    {
      "cell_type": "markdown",
      "metadata": {
        "id": "_ebsSXaa14n7"
      },
      "source": [
        "NLTK tokenizers allow Unicode strings as input, and correspondingly yield Unicode strings as output."
      ]
    },
    {
      "cell_type": "code",
      "metadata": {
        "id": "dCs_8lvZ2cuk",
        "colab": {
          "base_uri": "https://localhost:8080/"
        },
        "outputId": "0be122b9-19f3-41c8-a8c1-5986494d9099"
      },
      "source": [
        "word_tokenize(line)"
      ],
      "execution_count": 101,
      "outputs": [
        {
          "output_type": "execute_result",
          "data": {
            "text/plain": [
              "['Niemców',\n",
              " 'pod',\n",
              " 'koniec',\n",
              " 'II',\n",
              " 'wojny',\n",
              " 'światowej',\n",
              " 'na',\n",
              " 'Dolny',\n",
              " 'Śląsk',\n",
              " ',',\n",
              " 'zostały']"
            ]
          },
          "metadata": {},
          "execution_count": 101
        }
      ]
    },
    {
      "cell_type": "markdown",
      "metadata": {
        "id": "XHYgpHr14Qi8"
      },
      "source": [
        "## 3. Regular Expressions for Detecting Word Patterns"
      ]
    },
    {
      "cell_type": "markdown",
      "metadata": {
        "id": "juIGHcbQ4XS6"
      },
      "source": [
        "Many linguistic processing tasks involve pattern matching. For example, we can find words ending with ed using `endswith('ed')`. However, regular expressions give us a more powerful and flexible method for describing the character patterns we are interested in."
      ]
    },
    {
      "cell_type": "code",
      "metadata": {
        "id": "nMJ8qhBE5Utr"
      },
      "source": [
        "# Preprocess the corpus to remove any proper names\n",
        "wordlist = [w for w in nltk.corpus.words.words('en') if w.islower()]"
      ],
      "execution_count": 102,
      "outputs": []
    },
    {
      "cell_type": "markdown",
      "metadata": {
        "id": "KsoI_KW_5Y1k"
      },
      "source": [
        "### Using Basic Meta-Characters"
      ]
    },
    {
      "cell_type": "markdown",
      "metadata": {
        "id": "YiK4ZrzH-hLA"
      },
      "source": [
        "Let's find words ending with ed using the regular expression `«ed$»`. We will use the `re.search(p, s)` function to check whether the pattern p can be found somewhere inside the string s. We need to specify the characters of interest, and use the dollar sign which has a special behavior in the context of regular expressions in that it matches the end of the word:"
      ]
    },
    {
      "cell_type": "code",
      "metadata": {
        "id": "b4iALOzxBjG9",
        "colab": {
          "base_uri": "https://localhost:8080/"
        },
        "outputId": "243547a8-d04f-40d3-fd6f-2ac698a69e0b"
      },
      "source": [
        "print(\", \".join([w for w in wordlist if re.search('ed$', w)]))"
      ],
      "execution_count": 103,
      "outputs": [
        {
          "output_type": "stream",
          "name": "stdout",
          "text": [
            "abaissed, abandoned, abased, abashed, abatised, abed, aborted, abridged, abscessed, absconded, absorbed, abstracted, abstricted, accelerated, accepted, accidented, accoladed, accolated, accomplished, accosted, accredited, accursed, accused, accustomed, acetated, acheweed, aciculated, aciliated, acknowledged, acorned, acquainted, acquired, acquisited, acred, aculeated, addebted, added, addicted, addlebrained, addleheaded, addlepated, addorsed, adempted, adfected, adjoined, admired, admitted, adnexed, adopted, adossed, adreamed, adscripted, aduncated, advanced, advised, aeried, aethered, afeared, affected, affectioned, affined, afflicted, affricated, affrighted, affronted, aforenamed, afterfeed, aftershafted, afterthoughted, afterwitted, agazed, aged, agglomerated, aggrieved, agminated, agnamed, agonied, agreed, agueweed, ahungered, aiguilletted, ailweed, airbrained, airified, aiseweed, aisled, alarmed, alated, alimonied, aliped, alleyed, allied, alligatored, allseed, almsdeed, aloed, altared, alveolated, amazed, ameed, amiced, amphitheatered, ampullated, amused, anchored, angled, anguiped, anguished, angulated, angulinerved, anhungered, animated, aniseed, annodated, annulated, anomaliped, anserated, anteflected, anteflexed, antimoniated, antimoniureted, antimoniuretted, antiquated, antired, antiweed, antlered, apertured, apexed, apicifixed, apiculated, apocopated, apostrophied, appearanced, appellatived, appendaged, appendiculated, applied, appressed, aralkylated, arbored, arched, architraved, arcked, arcuated, ared, areolated, ariled, arillated, armchaired, armed, armied, armillated, armored, armoried, arpeggiated, arpeggioed, arrased, arrowed, arrowheaded, arrowweed, arseneted, arsenetted, arseniureted, articled, articulated, ashamed, ashlared, ashweed, aspersed, asphyxied, assented, assessed, assigned, assistanted, associated, assonanced, assorted, assumed, assured, asteriated, astonied, aswooned, atrophiated, atrophied, attached, attired, attrited, augmented, aurated, auricled, auriculated, authorized, autoinhibited, autosensitized, autosled, averted, avowed, awearied, awned, awninged, axed, axhammered, axised, axled, axseed, axweed, azoted, azured, babied, babished, babyfied, baccated, backboned, backed, backhanded, backwatered, baconweed, badgerweed, bagged, bagwigged, baked, balanced, balconied, baldachined, baldricked, balled, ballweed, balsamweed, balustered, balustraded, bandannaed, banded, bandoleered, bangled, banked, bankweed, bannered, barbated, barbed, barebacked, bareboned, barefaced, barefooted, barehanded, bareheaded, barelegged, barenecked, barmybrained, barred, barreled, bartizaned, basebred, based, basehearted, basifixed, basilweed, basined, basinerved, basqued, bastioned, bated, bathroomed, battered, batteried, battled, battlemented, bayed, bayoneted, beached, beaded, beaked, bealtared, beamed, beanweed, beaproned, bearded, beautied, beavered, beballed, bebannered, bebed, bebelted, bebled, bebothered, bebouldered, bebuttoned, becassocked, bechained, bechignoned, becircled, becoiffed, becombed, becousined, becrinolined, becuffed, becurtained, becushioned, bed, bedaggered, bedangled, bedded, bediademed, bediamonded, beedged, beefheaded, beeheaded, beeswinged, beetled, beetleheaded, beetleweed, beeweed, befamilied, befanned, befathered, beferned, befetished, befezzed, befilleted, befilmed, beforested, befountained, befrocked, befrogged, befurbelowed, befurred, begabled, begarlanded, begartered, beggarweed, beglobed, begoggled, begowned, behatted, behaviored, beheadlined, behooped, beinked, bekilted, beknived, beknotted, belaced, belated, belatticed, belavendered, beledgered, belfried, beliked, belimousined, belled, bellied, bellmouthed, bellweed, beloved, belozenged, belted, bemazed, bemedaled, bemedalled, bemitered, bemitred, bemused, bemuslined, bended, beneaped, beneficed, beneighbored, benempted, benighted, bennetweed, benumbed, benweed, benzoated, benzoinated, bepastured, bepatched, beperiwigged, bepewed, bepillared, bepistoled, beplaided, beplumed, beribanded, beribboned, beringed, beringleted, berobed, berouged, berried, berthed, beruffed, beruffled, beshawled, besieged, beslushed, besotted, bespecked, bespectacled, besped, bespeed, bespelled, bespurred, bestatued, bestayed, bestrapped, bestubbled, besweatered, betattered, betaxed, betowered, betrothed, betrousered, betted, betuckered, beturbaned, betusked, betutored, betwattled, beuniformed, beveled, bevelled, bevesseled, bevesselled, bevined, bevoiled, bewaitered, bewhiskered, bewigged, bewildered, bewinged, bewired, bewrathed, biangulated, biarcuated, biarticulated, bicarbureted, biciliated, bicolored, bicorned, bidented, bifanged, bifidated, biflected, biforked, biformed, bifronted, bifurcated, bigeminated, bighearted, bigmouthed, bigoted, bigwigged, bilamellated, bilaminated, billed, bilobated, bilobed, bilsted, bimaculated, bimotored, bindweed, bineweed, binominated, binucleated, biparted, bipectinated, biped, bipennated, bipinnated, bipinnatiparted, bipinnatisected, biradiated, birdmouthed, birdseed, birdweed, birostrated, birthbed, bisexed, bishopweed, bistered, bistipuled, bisubstituted, bitted, bitterhearted, bitterweed, bituberculated, bitumed, bivalved, bivaulted, bivocalized, blackhearted, blackseed, blackshirted, bladderseed, bladderweed, bladed, blakeberyed, blamed, blanked, blanketed, blanketweed, blasted, bleached, bleared, bleed, blended, blessed, blighted, blinded, blindfolded, blindweed, blinked, blinkered, blistered, blisterweed, blithehearted, bloated, blobbed, blocked, blockheaded, blooded, bloodied, bloodshed, bloodstained, bloodweed, blossomed, blotched, bloused, blowzed, bludgeoned, bluebelled, bluehearted, blueweed, blunderheaded, blunthearted, blurred, bobbed, bobsled, bobtailed, bodiced, bodied, boiled, boldhearted, bolectioned, boled, boleweed, bolled, bombed, bonded, boned, boneheaded, bonneted, booked, booted, bootied, boozed, bordered, bordured, bosomed, bossed, bosselated, botched, botherheaded, bothsided, bottled, bottomed, boughed, bounded, bountied, bowed, boweled, bowlegged, bowstringed, braced, braceleted, brackened, bracted, braided, brambled, branched, branded, brandied, brangled, bravehearted, brawned, brazenfaced, breasted, breastweed, breathed, brecciated, bred, breeched, breed, breviped, bridebed, brideweed, bridged, bridled, briered, brimmed, bristled, broadhearted, brocaded, brocked, brokenhearted, bromoiodized, bronzed, brooked, brookweed, broomweed, broozled, browed, brownweed, bruckled, brushed, buboed, bucked, buckled, buckskinned, buffed, bugled, bugleweed, bugseed, bugweed, bulbed, bulked, bulkheaded, bullated, bulldogged, bulleted, bulletheaded, bullheaded, bullweed, bummed, bundlerooted, bundweed, bunted, buried, burled, burned, burnoosed, burntweed, burred, burroweed, burseed, burweed, bushed, busied, busked, buskined, busted, bustled, busybodied, buttered, butterfingered, butterweed, butteryfingered, buttocked, buttoned, buttonweed, cabled, caboshed, caddiced, caddised, cadenced, cadweed, caftaned, caged, cairned, caissoned, calced, calcified, calcined, calculated, calibered, calicoed, caligated, calpacked, calved, calycled, calyculated, camailed, camerated, cammed, campanulated, campshed, camused, canaliculated, cancellated, cancered, cancerweed, candied, candlelighted, candlesticked, candyweed, canioned, cankered, cankerweed, canned, cannelated, cannelured, cannoned, cannulated, canted, cantilevered, cantoned, cantred, caped, capernoited, capeweed, capitaled, capitated, capped, capriped, capsulated, capuched, carapaced, carbolated, carboyed, carbuncled, carcaneted, carded, carinated, carkled, carnaged, carnationed, carpetweed, carried, carrotweed, carucated, carunculated, cased, casemated, casemented, caseweed, casqued, castellated, castled, castorized, catamited, cataracted, catarrhed, catchweed, catenated, caterpillared, catfaced, catfooted, cathedraled, caudated, caverned, cavitied, cayenned, cedared, ceilinged, celebrated, cellated, celled, cellulated, celluloided, centered, centriffed, centuried, cerated, cered, certified, chafeweed, chaffseed, chaffweed, chafted, chained, chaliced, chambered, chamberleted, chamberletted, chanceled, channeled, channelled, chaped, chapleted, chapournetted, chapped, charioted, charqued, chartered, chasmed, chasteweed, chasubled, checked, checkered, checkrowed, cheered, cheliped, cherried, chickenbreasted, chickenhearted, chickenweed, chickweed, chicqued, chiggerweed, chignoned, childbed, childed, chilled, chined, chinned, chipped, chiseled, chitinized, chokered, chokeweed, cholterheaded, chopped, choppered, chorded, chowderheaded, christened, chubbed, chuckleheaded, churchified, churled, ciliated, cingulated, cinnamoned, cinquefoiled, circled, circumscribed, circumstanced, cirrated, cirrhosed, cirriped, cisted, citied, citified, citrated, civilized, clammed, clammyweed, clanned, clapped, classed, classified, clavated, clavellated, clawed, claybrained, clayweed, cleaded, cleanhanded, cleanhearted, clearheaded, clearhearted, clearweed, cled, cleeked, clefted, clerestoried, cliented, cliffed, cliffweed, clipped, cloaked, clocked, clodpated, cloistered, closed, closefisted, closehanded, closehearted, closemouthed, clotweed, clouded, clouted, clovered, clubbed, clubfisted, clubfooted, clubweed, clustered, coaged, coaggregated, coated, coattailed, cobbed, cocashweed, cochleated, cockaded, cocked, cockeyed, cockled, cockneybred, cockscombed, cockweed, codheaded, coed, coelongated, coembedded, coequated, coexpanded, coffeeweed, cogged, coifed, coiled, coldhearted, coleseed, colicweed, collared, collected, collied, colloped, colonnaded, colored, columnated, columned, combed, combined, compacted, complected, complexioned, complicated, componed, componented, composed, compressed, comprised, compulsed, conamed, concamerated, concealed, conceded, conceited, concentrated, concerned, concerted, conched, conchyliated, condemned, condensed, conditioned, conduplicated, coned, confated, conferted, confined, confirmed, conflated, confounded, confused, congested, conjoined, conjugated, connected, conred, consecrated, considered, consolidated, constrained, constricted, consumpted, contagioned, contented, contextured, continued, contorted, contortioned, contracted, contractured, contusioned, converted, convexed, convinced, convoluted, coolheaded, coolweed, copied, copleased, copped, coppernosed, copperytailed, coppiced, coppled, copsewooded, copygraphed, coraled, corded, corduroyed, cored, coreflexed, corked, cornered, cornified, cornuated, cornuted, corollated, coronaled, coronated, coroneted, coronetted, corpusculated, corrected, correlated, corridored, corrugated, corrupted, corticated, corymbed, corymbiated, cosphered, costated, cothurned, cottaged, cotted, cottonseed, cottonweed, cotwinned, couched, coughweed, counterattired, counterchanged, countercolored, counterdigged, counterembattled, counterembowed, counterfessed, countergirded, counterindented, counterpaled, counterpaned, counterpointed, counterquartered, counterreflected, counterscalloped, counterturned, counterweighted, countrified, couped, coupled, couponed, coursed, courtbred, coved, covenanted, covered, coversed, cowhearted, cowled, cowshed, cowslipped, cowweed, crabbed, crabweed, crackbrained, cracked, crackled, cragged, cramped, cranked, crannied, cratered, cravenhearted, crazed, crazyweed, creed, creeded, creepered, crenated, crenelated, creneled, crenulated, cressed, cressweed, crested, creviced, cried, crinated, crined, crispated, crisped, crocketed, crocused, crookbacked, crookbilled, crooked, crookfingered, crookheaded, crookkneed, crooklegged, crooknecked, crooknosed, crookshouldered, crooksided, crooksterned, crooktoothed, cropweed, crosiered, crossbolted, crossbred, crossbreed, crosscurrented, crossed, crossleted, crosslighted, crosstied, crossweed, crotched, crouched, crowded, crowdweed, crowfooted, crowned, crowstepped, crucified, cruelhearted, crumpled, crunchweed, crushed, crustated, crusted, crutched, crypted, crystallized, cubited, cudweed, cuirassed, cultivated, cultrated, cultured, cuminseed, cupolated, cupped, cupseed, curled, curried, cursed, curtailed, curved, curvinerved, cushioned, cusped, cussed, cutted, cutweed, cyanosed, cylindered, cypressed, cysted, daggered, daggletailed, daisied, damascened, damned, damped, dappled, darkhearted, darned, dashed, dazed, deadhearted, dealated, deathbed, deathweed, debauched, debentured, debilitated, deboshed, decahydrated, decarbonized, decarnated, decayed, deceased, decided, decked, declared, declined, decollated, decomposed, decorated, decried, decussated, deed, deedeed, deepmouthed, deerweed, defamed, defeasanced, deferred, defiled, defined, deflected, defoliated, deformed, degged, degraded, dejected, deligated, delighted, demented, demersed, demibastioned, demicivilized, demidigested, demikindred, deminatured, demiturned, demoded, dentated, dentelated, dentilated, departed, dephlogisticated, deplored, deplumated, depraved, depressed, deranged, derived, deseed, desegmented, deserted, deserved, designed, desired, detached, detailed, determined, detrited, deuced, devertebrated, deviled, devitalized, devoted, dewclawed, dewlapped, diamonded, difformed, diffused, digammated, digested, digitated, digitinerved, dignified, dihydrated, dilapidated, dilated, dillseed, dillweed, diluted, dimensioned, dimmed, dipped, directed, disabled, disaccustomed, disaffected, disagreed, disappointed, disaproned, disarmed, discalced, disclosed, discolored, discomposed, disconcerted, disconnected, discontented, discovered, discrested, diseased, disembed, disengaged, disguised, disgusted, dished, disheveled, disimpassioned, disinterested, disjasked, disjointed, dislocated, dismayed, dismembered, dismoded, disnosed, disordained, disordered, disordinated, dispassioned, dispatriated, dispersed, dispirited, displayed, displeased, disposed, dispositioned, disprivacied, disquieted, disrelated, dissatisfied, dissected, dissipated, dissuited, distasted, distempered, distilled, distinguished, distorted, distracted, distressed, distributed, disturbed, disubstituted, dittied, diversicolored, diversified, divided, doated, dobbed, dodded, doddered, dodecahydrated, dogged, doggoned, doghearted, doiled, doited, doitrified, dominated, donated, donnered, doored, doorweed, dormered, dorsifixed, doted, dotted, doubled, doublehanded, doublehearted, doublehorned, doublelunged, doubleted, dovetailed, doveweed, dowed, downcurved, downfeed, downfolded, downheaded, downhearted, downlooked, downweed, downweighted, dozed, dozzled, drabbletailed, dragged, draggletailed, drained, drammed, draperied, dratted, dressed, dried, driftweed, dropseed, dropsied, drybrained, duckhearted, duckweed, ducted, dullbrained, dullhearted, dummered, dummyweed, dunderheaded, dungbred, dutied, dwelled, dyeweed, dynamometamorphosed, eared, earringed, earthbred, earthed, earthenhearted, earthquaked, eaved, eburated, eburnated, echinulated, edged, edgeweed, educated, elated, elbowed, electrofused, elevated, elongated, embannered, embarrassed, embastioned, embattled, embed, embowed, embryonated, emerited, emersed, emotioned, employed, emptyhearted, enamored, enarched, encuirassed, endeared, ended, endorsed, enfiled, enfonced, enforced, engaged, enghosted, engouled, engrailed, engrained, engraved, engrossed, enhanced, enjambed, enlarged, enlightened, enlisted, enraged, enrolled, entablatured, entangled, envied, enworthed, epauleted, epauletted, equiaxed, equilobed, equiped, equisegmented, equisided, equisized, equispaced, equivalenced, equivalved, erased, ergoted, ermined, eroded, escaloped, escutcheoned, essed, established, estafetted, ethered, euchred, evenhanded, evenminded, eveweed, evilhearted, evilmouthed, exaggerated, exalted, exasperated, exceed, excited, excurvated, excurved, excysted, executed, exhausted, exostosed, expanded, expedited, experienced, experimented, exploded, exposed, expressed, exserted, extended, extinguished, extraconstellated, extracted, extradosed, extrared, extricated, eyebridled, eyed, eyeseed, fabled, faced, faceted, facultied, faded, fainthearted, falcated, falsehearted, fancied, fanged, fangled, fanioned, fantasied, fanweed, farcied, farfetched, farsighted, farweltered, fasciated, fascicled, fasciculated, fascinated, fashioned, fastigated, fatbrained, fated, fatheaded, fathearted, fathered, faunated, faussebrayed, favored, feared, featherbed, featherbrained, feathered, featheredged, featherheaded, featherpated, featherweed, featured, fed, feeblebrained, feeblehearted, feed, feigned, felonweed, felted, fenestrated, ferned, ferntickled, ferrated, fetched, fetlocked, feued, feverweed, fezzed, fibered, fibrillated, fibrilled, fibronucleated, ficklehearted, fiddlebrained, fiddlefaced, fiddleheaded, fielded, fiercehearted, figged, figulated, figured, filamented, filiformed, filled, fimbriated, fimbricated, finchbacked, finched, fingered, fingerparted, finialed, finished, finned, fiorded, firearmed, firebolted, fired, firefanged, fireweed, firmhearted, fishbed, fished, fishweed, fissiped, fisted, fistulated, fitched, fitted, fittyfied, fitweed, fixed, flabellinerved, flacked, flagellated, flamed, flammulated, flanched, flanked, flanneled, flannelmouthed, flapmouthed, flated, flatweed, flavored, flawed, flaxseed, flaxweed, fleaseed, fleaweed, fleckled, fled, fleeced, fleshed, flewed, flexed, flexured, flighted, flinthearted, flixweed, flooded, floreted, floriated, flowered, flued, fluked, flurried, fluted, fluxweed, fogged, folded, foliaged, foliated, folliculated, fonted, footed, footnoted, foraminated, forbled, forced, forcipated, forebemoaned, forecited, foredefeated, foredeserved, foredevised, forehanded, foreheaded, foreimpressed, foreinclined, forementioned, forenamed, forenoted, forepassed, forepossessed, forepretended, forepromised, foreprovided, forequoted, forerecited, forerehearsed, foreremembered, foresettled, foresighted, forespecified, forespeed, forested, forethoughted, foretimed, foretypified, forevouched, forewonted, forficated, forged, forked, formed, fornicated, forthfigured, fortuned, fossed, fossilated, fossiled, foulmouthed, foundationed, fountained, foveated, foveolated, foxtailed, fracted, fragmented, framed, frankhearted, frankincensed, fratched, frayed, freckened, freckled, freed, freehanded, freehearted, frenched, frenzied, freshhearted, fretted, fretworked, fried, friended, frightened, frilled, fringed, frogged, fronded, fronted, frosted, frostweed, frowzled, frozenhearted, fructed, fruited, fullhearted, fullmouthed, funded, fungused, funneled, furied, furnished, furred, furriered, furzed, fused, gabelled, gabioned, gadded, gaited, galeated, galled, galleried, gallooned, gallweed, galvanized, gamboised, gambreled, gangliated, gapeseed, gardened, gargoyled, garnished, garreted, gartered, gaslighted, gated, gauffered, gaunted, gauntleted, geared, ged, gelatined, gemeled, geminated, generalized, geniculated, gentlehearted, gentlemouthed, gerated, gested, gewgawed, ghostified, ghostweed, gibbed, gied, gifted, gilded, gilled, gimbaled, gimbaljawed, gimberjawed, gimleteyed, gimped, ginghamed, ginned, gipsyweed, glaceed, glaciered, gladhearted, glaived, glaked, glandered, glassweed, glazed, gleed, globated, globed, glossed, glued, gnarled, gnomed, goateed, goatweed, gobleted, gobmouthed, gobonated, godded, goffered, goggled, goitered, goldenmouthed, goldseed, goldweed, goodhearted, goosenecked, gooserumped, gooseweed, goosewinged, gorbellied, gorged, gorgeted, gormed, gossamered, gossipred, goutweed, gowked, graded, graduated, grafted, grained, granulated, graped, grassed, grassweed, gratified, graved, gravelweed, greatcoated, greathearted, greatmouthed, greaved, greed, greenheaded, greenhearted, greenswarded, greenweed, grieced, grieved, grilled, grizzled, groined, grosgrained, grottoed, grounded, grouped, groved, growed, grubbed, grufted, gruntled, guarded, guernseyed, gulfweed, gummed, gumweed, guttated, gutweed, gweed, gypsyweed, habilimented, habited, hacked, hackneyed, hagged, hagseed, hagweed, hailweed, haired, hairweed, halfheaded, halfhearted, halfpaced, hallmarked, hallowed, hallucined, halved, hamated, hamleted, hammerheaded, hanced, handed, handicapped, handled, hardfisted, hardhanded, hardheaded, hardhearted, hardmouthed, harebrained, harefooted, harehearted, harelipped, harshweed, hatred, hatted, haunched, haustellated, hawked, hawkweed, hawthorned, hayseed, hayweed, hazeled, headed, hearted, heartseed, heartweed, heathered, heavyhanded, heavyheaded, heavyhearted, hecatomped, hederated, hedgeweed, heed, heeled, heliced, hellbred, hellweed, helmed, helmeted, hemihydrated, hemisphered, hempseed, hempweed, henhearted, heptahydrated, herbaged, herniated, hersed, heterochromatized, heterostyled, hexahydrated, hexaped, hidated, hided, highbred, highhanded, highhearted, hillocked, hipped, hired, historiated, historied, hoarheaded, hoaryheaded, hobnailed, hogged, hogweed, hollowfaced, hollowhearted, holstered, homebred, homostyled, honeycombed, honeydewed, honeyed, honeyhearted, honeylipped, honeymouthed, honeysuckled, honied, hooded, hoofed, hooked, hookweed, hooped, hoped, hopped, horned, hornyhanded, horsehaired, horseweed, hosed, hotbed, hotbrained, hotheaded, hothearted, hotmouthed, hotspurred, hucklebacked, hued, hulverheaded, humblehearted, humblemouthed, humpbacked, humped, hunchbacked, hundred, hungerweed, hurled, hurried, hurted, husked, huskened, huttonweed, hydrated, hydraulicked, hydrosulphurated, hydrosulphureted, hypercarbureted, hypercarburetted, hypercivilized, hyperpigmented, hypersophisticated, hypertrophied, hyphenated, hyporhined, iced, ichneumoned, ichneumonized, ichthyized, icicled, ideaed, idleheaded, illimited, illoricated, illuminated, illusioned, imbannered, imbased, imbed, imbricated, immatured, immeasured, immerited, immodulated, immonastered, immortified, immotioned, impacted, imparalleled, impassioned, imperceived, imperfected, imperforated, impermeated, imperturbed, implumed, impolished, inaccentuated, inanimated, inarticulated, inbred, inbreed, incarmined, incavated, inched, included, incompensated, incompleted, incomposed, incomprehended, inconditioned, inconfused, inconnected, inconsidered, inconsumed, incontracted, incontrolled, inconvinced, incoronated, incorporated, incorrupted, incrassated, incredited, incrossbred, indebted, indeed, indented, indentured, indetermined, indevoted, indexed, indigested, indirected, indisciplined, indiscovered, indiscriminated, indisposed, indistinguished, indisturbed, induced, indulgenced, indusiated, inedited, inelaborated, inequilobed, inexhausted, inexpected, inexperienced, inextended, infarcted, infected, infeed, inflamed, inflated, inflected, inflexed, informed, infrared, infumated, ingrained, inhabited, injured, inkshed, inkweed, inorganized, inrigged, inrighted, inrooted, insatiated, inscriptioned, inscriptured, insected, inserted, inspired, instratified, instressed, instructed, insulated, insured, intagliated, intellected, intelligenced, intended, intentioned, interallied, interbanded, interbedded, interbreed, intercatenated, intercontorted, interested, interfretted, interlaced, intermewed, intermitted, internetted, interrelated, interrupted, interseamed, intersticed, interthreaded, intertissued, interwed, intoed, intolerated, intoothed, intoxicated, intrabred, introverted, inturned, inured, inutilized, invalued, invaried, invecked, invected, inversed, invertebrated, inverted, inviolated, invised, involucellated, involucred, involuted, involved, inwedged, inweed, irisated, irised, ironfisted, ironhanded, ironheaded, ironhearted, ironsided, ironweed, ironworked, irradiated, irreclaimed, irredeemed, irregulated, irrelated, irresolved, isleted, isolated, itchreed, itchweed, ivied, ivoried, ivyweed, jabbed, jacketed, jackweed, jaded, jagged, jalloped, jalousied, japanned, jaseyed, jasmined, jasperated, jaspered, jawed, jawfooted, jed, jellied, jereed, jerkined, jerseyed, jessakeed, jessed, jetted, jettied, jewelweed, jimberjawed, jingled, jointed, jointweed, jolloped, jolterheaded, jossakeed, joyweed, jugated, jumpseed, jungled, justiceweed, ked, keeled, keened, kellupweed, kerchiefed, kerneled, keyed, keystoned, khakied, killweed, kimonoed, kindhearted, kindred, kingdomed, kingweed, kinkled, kirtled, kittenhearted, knagged, knapsacked, knapweed, knarred, kneed, knickerbockered, knickered, knickknacked, knitted, knitweed, knived, knobbed, knobweed, knopped, knopweed, knosped, knotted, knotweed, knowledged, knuckled, knurled, labiated, labored, laced, lacerated, laciniated, lackeyed, laddered, lagged, lakeweed, lamellated, lamented, laminated, lamplighted, lanated, lanced, lanceolated, lanceted, landed, landlocked, languaged, langued, lapelled, lapped, lappeted, lapsed, lapstreaked, largebrained, largehanded, largehearted, largemouthed, lated, laterinerved, latticed, laureated, laureled, lawned, layered, leaded, leadenhearted, leadenpated, leafed, learned, leaved, led, ledged, leed, legged, legginged, legioned, leisured, lemonweed, lensed, lenticulated, lepered, leprosied, lettered, levelheaded, licensed, lichened, lidded, lied, lightbrained, lightheaded, lighthearted, lightmouthed, ligulated, lilied, lilyhanded, limbed, limited, linchpinned, lineaged, lineated, lined, lineolated, lingulated, linked, linseed, linteled, lintseed, lionhearted, lipped, listed, listred, literalminded, lived, livered, liverhearted, liveried, loaded, lobated, lobed, lobefooted, lobellated, lobiped, lobulated, locked, locoweed, loculated, lodged, logged, loggerheaded, logheaded, loined, longheaded, longmouthed, loosemouthed, lopseed, lopsided, lored, loudmouthed, louvered, lovered, lowbred, lozenged, lugged, lunged, lunulated, lyrated, macled, maculated, madbrained, madweed, magged, magicked, magpied, maidenweed, mailed, maimed, maladjusted, malandered, malconceived, malcontented, malcreated, maldeveloped, malfed, malformed, malleableized, malnourished, maloccluded, malorganized, malplaced, malposed, malproportioned, malturned, mammillated, mandibulated, maned, manifested, mannered, manred, mansarded, mansioned, mantled, manubriated, manweed, marbled, marblehearted, marginated, margined, marinated, marked, markweed, marled, marmorated, married, marrowed, mascled, masked, masoned, masted, matreed, matted, matweed, maxilliped, maximed, mayweed, mazed, meadowed, mealmouthed, mealymouthed, meaned, measled, measured, meated, medaled, medifixed, mediodepressed, medullated, meed, meekhearted, meered, melamed, melanosed, melted, membered, membraned, memoried, mentholated, meringued, merited, mermithized, meshed, metalined, metamerized, mettled, midribbed, midstyled, mightyhearted, mildhearted, milkshed, milkweed, milled, millfeed, millioersted, millioned, mimmouthed, minareted, minded, mirrored, misadvised, misaffected, miscredited, miscreed, miscultivated, misdeed, misdeformed, misdevoted, miserected, misfortuned, misguided, misincensed, misinspired, misleared, misled, misminded, misnatured, misnomed, mispossessed, misprejudiced, misprincipled, misreposed, misresolved, misted, mistempered, misusurped, miswed, mitered, mittened, mixed, mobed, mohnseed, molassied, moneyed, monilated, monobromated, monobrominated, monobromized, monochlorinated, monociliated, monocled, monogrammed, monohydrated, monomethylated, mononitrated, mononucleated, monorhymed, monospored, monosubstituted, mooned, moonfaced, moonlighted, moonseed, mopheaded, morassweed, morcellated, morned, mortified, mossed, moted, mothed, mothered, motored, mottled, mottoed, moulded, mountained, mounted, mouthed, muckweed, muddlebrained, muddleheaded, muddybrained, muddyheaded, mudweed, muffed, muffled, mugweed, mulefooted, multiarticulated, multibladed, multibranched, multicarinated, multiciliated, multicolored, multicylindered, multidenticulated, multiengined, multifaced, multifaceted, multifibered, multiflagellated, multifoiled, multiformed, multigranulated, multihued, multilaminated, multilighted, multilobed, multilobulated, multiloculated, multimotored, multinucleated, multinucleolated, multiped, multiperforated, multipointed, multiported, multiradiated, multiramified, multirooted, multisacculated, multiseated, multisegmented, multispeed, multispired, multistoried, multistratified, multisulcated, multithreaded, multitoed, multitoned, multituberculated, multivalved, multivoiced, multivolumed, mummied, muraled, muriated, muscled, mused, mushed, mushheaded, muslined, musquashweed, musseled, mustached, mustachioed, muttonheaded, myelinated, myriaded, myrrhed, nacred, naked, nakedweed, napped, narrowhearted, nattered, naveled, neaped, nearsighted, nebbed, nebulated, necked, necklaced, necklaceweed, neckweed, nectared, nectaried, need, needled, needleworked, neighbored, neighborstained, netted, nettlebed, newfangled, newlywed, newspaperized, nibbed, nicotined, niellated, nielled, niggerweed, nightcapped, nighted, nigrified, nimbated, nimbed, nimblebrained, nimbused, nineted, nitered, noblehearted, nodated, noded, nodulated, noduled, nogheaded, nominated, nonaccredited, nonadmitted, nonaffiliated, nonalliterated, nonanalyzed, nonanesthetized, nonarticulated, nonassented, nonattached, nonazotized, nonbearded, nonblended, nonblockaded, nonblooded, nonbranded, noncalcified, noncartelized, noncensored, noncertified, nonchurched, noncivilized, noncommissioned, nonconditioned, noncontrolled, noncrystallized, noncultivated, nondecalcified, nondegreased, nondeported, nondepressed, nondesigned, nondesulphurized, nondetailed, nondisbursed, nondisfranchised, nondisinterested, nondomesticated, nonelectrified, nonelectrized, nonenrolled, nonentailed, nonenumerated, nonexcepted, nonexperienced, nonextended, nonextracted, nonfeatured, nonfederated, nonfenestrated, nonforested, nonfrosted, nongalvanized, nonglandered, nongraduated, nonimmunized, nonimpregnated, nonincarnated, nonindurated, noninfected, noninherited, noninterrupted, noninverted, noniodized, nonionized, nonirradiated, nonirrigated, nonlaminated, nonleaded, nonlicensed, nonlixiviated, nonlocalized, nonmanufactured, nonmedullated, nonmulched, nonnitrogenized, nonnucleated, nonoxygenated, nonpatented, nonpeaked, nonpenalized, nonperforated, nonphosphorized, nonpigmented, nonplushed, nonpreformed, nonprescribed, nonprincipled, nonprofessed, nonprovided, nonrated, nonrationalized, nonrayed, nonrecognized, nonrectified, nonregimented, nonregistered, nonrelapsed, nonrestricted, nonreversed, nonrhymed, nonsacred, nonsalaried, nonsaturated, nonschematized, nonsegmented, nonselected, nonsensitized, nonsilicated, nonsolidified, nonspecialized, nonspecified, nonspored, nonstandardized, nonstriated, nonstriped, nonstylized, nonsuppressed, nonsynthesized, nonthreaded, nontimbered, nontolerated, nontreated, nontrunked, nontuned, nonturbinated, nonumbrellaed, nonunited, nonupholstered, nonutilized, nonvisaed, nonvisualized, nonvitrified, nonvolatilized, nonwetted, nonwinged, nooked, normated, nosebanded, nosebleed, nosed, nostriled, notched, notchweed, noted, notified, notioned, nowed, nucleolated, nudiped, nummulated, numskulled, nunnated, nutmegged, nutseed, nutted, oared, oarweed, oathed, oatseed, obcompressed, obliged, oblongated, obtected, obvoluted, oceaned, ocellated, ocreated, octahydrated, octofoiled, octoped, octoradiated, oculated, odored, oersted, offended, offhanded, ogeed, ogived, oiled, oilseed, oilskinned, oldfangled, oldhearted, olived, omened, onehearted, onesigned, onflemed, onionized, opaled, openhanded, openhearted, openmouthed, opercled, operculated, opinionated, opinioned, opposed, oppressed, orbed, orbiculated, ordered, oreweed, organized, origanized, orphreyed, orthosubstituted, osiered, ossified, outbleed, outbowed, outbred, outbreed, outdated, outed, outeyed, outlined, outlipped, outmoded, outplayed, outriggered, outsided, outsized, outspeed, outturned, outweed, ovated, overalled, overambitioned, overappareled, overapprehended, overattached, overbanded, overbanked, overbepatched, overblessed, overbowed, overbrained, overbred, overbreed, overburned, overcoached, overcoated, overconcerned, overcontented, overcorned, overcreed, overcrowded, overcultured, overcured, overdazed, overdelighted, overdetermined, overdevoted, overdignified, overdistempered, overdrifted, overdrowsed, overdubbed, overdunged, overeducated, overempired, overexerted, overeyebrowed, overfagged, overfamed, overfeatured, overfed, overfeed, overfinished, overfleshed, overforged, overformed, overfranchised, overfrighted, overfruited, overgalled, overgifted, overgilted, overgirded, overgreed, overhanded, overhatted, overinclined, overinterested, overinventoried, overjaded, overjawed, overlanguaged, overlearned, overleisured, overlettered, overlighted, overlightheaded, overlinked, overlisted, overmelodied, overmettled, overnoveled, overofficered, overornamented, overpained, overparted, overpitched, overplaced, overpointed, overpronounced, overproportionated, overproportioned, overrefined, overreserved, overrigged, overrooted, oversanded, oversated, overscented, overscutched, overseasoned, overseated, overseed, oversettled, overshowered, oversized, oversophisticated, oversorrowed, overspangled, oversparred, overspeed, overstalled, overstowed, overstudied, oversweated, overtapped, overtimbered, overtinseled, overtongued, overtrailed, overunionized, overwasted, overweaponed, overwhipped, overwiped, overwithered, overwooded, overwrested, oviculated, oxidulated, oystered, oysterseed, ozoned, paced, paddled, pageanted, pailletted, pained, painted, paired, pajamaed, palaced, palated, paled, palehearted, palfreyed, palled, palmated, palmatilobed, palmatiparted, palmatisected, palmed, palmilobated, palmilobed, palminerved, palmiped, palmiveined, palped, palsied, pampered, panached, pandurated, paned, panheaded, panicked, panicled, paniculated, panniered, panoplied, pansied, pantaletted, pantalooned, pantiled, papered, papillated, papulated, parallelepiped, parallelinerved, parallelopiped, parapeted, parasoled, parasubstituted, parded, parished, parricided, parsoned, partanhanded, parted, parterred, particled, partimembered, partitioned, passioned, pasted, pasterned, pathed, pathwayed, patined, patriarched, pattened, patterned, pauciarticulated, pauciradiated, paucispirated, paunched, pavonated, payed, peaked, pearled, pearlweed, pebbled, pebblehearted, pecked, peckled, pectinated, ped, pedated, pedatilobed, pedatinerved, pedatisected, pediceled, pedicellated, pedicelled, pediculated, pedimented, peduncled, pedunculated, peed, peeled, peeved, pegged, pelleted, peltated, peltinerved, penciled, pencilled, pendanted, penicillated, pennated, pennatisected, pennied, penninerved, penniveined, pennoned, pensived, pentadecahydrated, pentahydrated, peplosed, pepperweed, percentaged, perfected, perforated, perfumed, perished, periwigpated, periwinkled, perjured, permissioned, permitted, perplexed, personed, perspectived, persuaded, perturbed, pertused, perverted, pestilenceweed, petaled, petalled, petiolated, petioled, petrified, petted, petticoated, phalanxed, phalerated, phimosed, phlogosed, phosphated, phosphoreted, phylacteried, physicianed, physicked, physiqued, piazzaed, picked, pickerelweed, pickleweed, picrated, pictured, pied, pierced, pigeonhearted, pigeonweed, pigheaded, pigweed, piked, pilastered, pilastraded, pilaued, pileated, piled, pileolated, pileweed, pillared, pilled, pilotweed, pimpled, pincerweed, pinched, pinchfisted, pined, pineweed, pinfeathered, pinheaded, pinioned, pinked, pinkweed, pinnated, pinnatilobed, pinnatiped, pinnatisected, pinned, pinninerved, pinniped, pinnisected, pinnulated, pinrowed, pinweed, pioted, piped, pipped, pissabed, pitchered, pitted, pixilated, plagued, plaided, plainhearted, plainsoled, plaited, planeted, plated, platformed, platted, pleached, pled, plicated, plicatocontorted, plied, plighted, plotted, plouked, plucked, plugged, plumaged, plumed, plumiped, plummeted, pluriseriated, plushed, pneumatized, pocketed, pockweed, podded, pointed, pointleted, poised, poisonweed, poked, pokeweed, policed, polished, politied, polled, pollened, polluted, poltfooted, polyaffectioned, polybuttoned, polyglotted, polygrooved, polylaminated, polynucleated, polypaged, polyped, polyphoned, polysided, polyspored, pommeled, ponchoed, pondweed, pooped, poorweed, popeyed, poplared, poppied, popweed, porcated, porched, pored, portaled, portalled, ported, porticoed, portiered, positioned, possessed, possessioned, postaspirated, postdetermined, postdisapproved, posted, postfixed, postilioned, postposited, potbellied, potted, pottled, pouched, pounced, povertyweed, powdered, powered, practiced, prairied, prairieweed, pranked, preaccustomed, preachieved, preacquired, preaged, preallied, preambled, preassigned, prebeloved, precedented, prechampioned, precipiced, precipitated, precited, preclassified, preconceived, preconcentrated, preconcerted, preconditioned, precongested, preconsolidated, precontained, precontrolled, precreed, predilected, prediscontented, predisordered, predisposed, preferred, prefixed, preformed, prehatred, prehaunted, preheated, preindebted, prejudiced, preoccasioned, preoccupied, preopinionated, prepared, prepossessed, prerogatived, presanctified, presbyterated, prescored, presenced, pretended, preterdetermined, pretexted, priced, pricked, prickled, prideweed, pried, primaried, primrosed, princified, printed, prismed, privileged, probosciformed, proceed, procurved, produced, producted, professed, proflated, promontoried, pronged, pronounced, propertied, proportioned, proptosed, propugnacled, protracted, proudhearted, proved, provided, prowed, prowessed, prunted, pseudocultivated, pseudolaminated, pseudoreformed, pseudosacred, publichearted, puddingheaded, puddled, puffed, pugged, pukeweed, pulmonated, pulvinated, pumiced, punctated, punctulated, punctured, pungled, pupiled, purebred, pured, purehearted, purfled, pursed, pussyfooted, pustulated, pustuled, putrifacted, puttyhearted, puzzled, puzzleheaded, puzzlepated, pygmyweed, pygostyled, pyjamaed, quadded, quadrangled, quadrated, quadriarticulated, quadridentated, quadrifurcated, quadrigabled, quadrilled, quadrilobed, quadriplicated, quadrisulcated, quadruped, qualified, qualitied, quantitied, quarred, quarreled, quarried, quartered, quartersawed, quatrefoiled, quatrefoliated, queenweed, quesited, quickhearted, quilled, quilleted, quilted, quinquedentated, quinquefoliated, quinquelobated, quinquelobed, quinquenerved, quinsied, quintiped, quintuplinerved, quintupliribbed, quitted, quivered, quoined, rabbithearted, rabbitweed, racemed, radiated, radicated, ragged, raggled, ragweed, rainbowweed, raised, ramed, ramfeezled, ramified, ramososubdivided, ramped, ramshackled, ranged, ranked, rapeseed, rapiered, raptured, rasped, rated, rathed, rattlebrained, rattled, rattleheaded, rattlepated, rattleskulled, rattleweed, ravined, rawboned, rayed, reasoned, reassured, rebed, rebreed, received, reclinated, recollected, reconstructed, rectangled, rectified, rectinerved, red, redeed, redheaded, redhearted, redoubted, reduced, redweed, reed, reeded, reeled, refathered, refeed, refined, reflected, reflexed, refluxed, reformed, refracted, regimentaled, regimentalled, regioned, registered, reglorified, regulated, reindebted, reiterated, related, relaxed, relicted, relieved, remiped, removed, renowned, rented, repeated, replicated, reposed, repped, repressed, reproceed, reputed, reseed, reserved, resigned, resolved, respiratored, restrained, restricted, resucceed, resupinated, retarded, reticulated, reticuled, retinerved, retiracied, retired, retorted, retracted, retricked, retrocurved, retroflected, retroflexed, retrofracted, retromorphosed, retroplexed, retroposed, retted, returned, revealed, revenued, revered, reversed, revoluted, revulsed, rewed, reworked, rheumed, ribaudred, ribbed, ribbonweed, richweed, ridered, ridged, ridgepoled, rightheaded, righthearted, rimmed, rinded, ringboned, ringed, ringleted, rivered, riverweed, rizzomed, roadbed, roaded, roadweed, rocheted, rockhearted, rockweed, roed, rolled, rookeried, roomed, roosted, rooted, rosated, rosed, rosetted, rosied, rosinweed, rostrated, rotated, roughhearted, roughtailed, rounded, roundheaded, roundmouthed, roundnosed, rowed, rubbed, rubiconed, rubied, ruddied, rudented, ruffed, ruffled, rugged, rugheaded, ruined, runchweed, runed, runted, ruptured, rushed, rushlighted, rustred, rutilated, sabered, saboted, saccated, saccharated, saccharinated, sacculated, sackclothed, sacked, sacred, saddled, sadhearted, saffroned, sailed, sainted, salaried, salited, salted, saltweed, sanctified, sanctuaried, sandaled, sanded, sandweed, sapheaded, sapphired, satcheled, satellited, satined, satisfied, saturated, saved, savored, savoyed, sawed, scabbed, scalded, scaldweed, scaled, scalled, scantlinged, scapulated, scarfed, scarletseed, scarred, scarved, scatterbrained, scattered, scented, sceptered, schapped, schooled, scienced, scimitared, sclerized, sclerosed, sclerotized, scooped, scopiped, scopuliped, scorched, scored, scorned, scorpionweed, scoured, scourweed, scrabbled, scragged, scraggled, scraped, scrapped, scratchweed, screed, screened, screeved, screwed, scribbled, scrimped, scriptured, scrobiculated, scrofulaweed, scrolled, scrubbed, scuffed, sculptured, scummed, scurvied, scurvyweed, scutated, scutcheoned, scutellated, scutiped, scutulated, sealed, seamed, seared, seasoned, seated, seaweed, secluded, secondhanded, sectored, sedged, sedigitated, seed, seedbed, seeded, seeped, seepweed, segged, segmented, sejoined, selected, selvaged, semeed, semiabstracted, semiacidified, semianimated, semiannealed, semiappressed, semiattached, semibalked, semibelted, semibleached, semiboiled, semibolshevized, semicalcined, semicircled, semicivilized, semiclosed, semicoagulated, semicombined, semicompacted, semicomplicated, semicordated, semicoronated, semicured, semidemented, semidenatured, semidetached, semideveloped, semidigested, semidisabled, semidivided, semidomed, semidomesticated, semidried, semieducated, semienclosed, semiengaged, semiexpanded, semiexposed, semifasciated, semifinished, semifixed, semiflexed, semiformed, semifossilized, semifused, semiglazed, semihumanized, semilined, semimanufactured, semimercerized, semimineralized, seminaked, semiopened, semiorganized, semioxidated, semioxidized, semioxygenated, semioxygenized, semipalmated, semipectinated, semiped, semipetrified, semiphlogisticated, semiprofessionalized, semirefined, semisacred, semiskilled, semistarved, semistratified, semistriated, semisupinated, semitailored, semitrained, semitrimmed, semiundressed, semivitrified, semivulcanized, sensed, sepaled, sepalled, septangled, septated, septicolored, sequestered, sericated, serrated, serried, serriped, serrulated, sesquihydrated, settled, sevenfolded, sewed, sewered, sexangled, sexdigitated, sexed, sexiped, shabbed, shaded, shadowed, shafted, shagged, shagreened, shallowbrained, shallowhearted, shallowpated, shamed, shamefaced, shammed, shanked, shaped, sharded, shatterbrained, shatterheaded, shatterpated, shaved, shaveweed, shawled, sheathed, sheaved, shed, shedded, sheepfaced, sheepheaded, sheephearted, sheepshed, sheepweed, sheered, sheeted, shelled, sheltered, sheveled, shickered, shied, shielded, shingled, shipped, shiverweed, shockheaded, shored, shoreweed, shorthanded, shortsighted, shotted, shouldered, shovelweed, shred, shrouded, shrubbed, shuttleheaded, sibbed, sickbed, sickhearted, sickled, sickleweed, sicklied, sided, sifted, sighted, sigillated, silenced, siliciuretted, silked, silkweed, silvered, silverweed, simplehearted, simplexed, simplified, sinewed, singed, singled, singlehanded, singlehearted, sinuated, sinuatocontorted, sinuatodentated, sinuatoserrated, siphuncled, siphunculated, siruped, situated, sized, skeed, skeered, skeletonweed, skewbacked, skewed, skidded, skied, skilled, skimmed, skinned, skippered, skirted, skittled, skulled, skunkweed, slabbed, slacked, slashed, slatted, slaved, sleaved, sled, sledded, sleepered, sleeved, slewed, sliced, slickered, slided, slighted, slinkweed, slipped, slippered, slipperweed, sliptopped, slitted, sloped, slopped, sloted, slotted, slowbellied, slowheaded, slowhearted, slowmouthed, sludged, slugabed, slugged, smallhearted, smallmouthed, smartweed, smeared, smelled, smoked, smoothbored, smoothmouthed, smothered, smudged, smutted, snagged, snaggled, snakeweed, snapped, snapweed, snatched, sned, sneezeweed, snibbled, sniveled, snooded, snookered, snouted, snowshed, snowshoed, snubbed, snuffcolored, soaked, soapweed, sobersided, societified, sodded, softbrained, softheaded, softhearted, soiled, soldierhearted, solicited, soliped, sombreroed, sonantized, sophisticated, soreheaded, sorehearted, sorryhearted, sorted, soshed, sotted, souffleed, souled, soundheaded, soundhearted, soured, sourhearted, sourweed, sowbacked, spaced, spaded, spangled, sparked, sparred, spasmed, spathed, spatted, spatterdashed, spavied, spavined, specialized, specked, speckled, spectacled, spectered, sped, speed, sphacelated, spicated, spiced, spiculated, spidered, spied, spiffed, spiflicated, spiked, spikeweed, spindled, spined, spiraled, spirated, spired, spirited, spiritweed, spissated, spitscocked, spitted, splashed, splatterfaced, splayed, splayfooted, splaymouthed, spoiled, sponged, spored, spotted, spreaded, spried, sprigged, sprinkled, sprinklered, spurred, spurwinged, squabbed, squadroned, squamated, squamosodentated, squamosoimbricated, squared, squatted, squawweed, squiffed, squinted, stackfreed, staffed, staged, staggerweed, staired, stalactited, stalked, stamened, stampweed, stancheled, standardbred, standardized, stanzaed, stapled, starched, starlighted, starred, starved, stated, statued, statured, stayed, stealed, steed, steelhearted, steepled, steepweed, stellated, stemmed, stenosed, stepped, stereotyped, sterned, stewed, stibiated, sticked, stickseed, stickweed, stiffhearted, stilted, stinkweed, stinted, stiped, stippled, stipuled, stoled, stoned, stonehearted, stoneseed, stoneweed, stonied, stonyhearted, stooded, stopped, storied, stouthearted, strained, straked, strangleweed, strapped, stratified, streaked, streamlined, striated, strictured, stringed, stringhalted, striolated, striped, stripped, strived, strongbrained, stronghearted, strophiolated, structured, stubbed, stubbled, stubbornhearted, studied, stuffed, stunted, stupefied, sturdied, sturdyhearted, stylopized, subangled, subangulated, subappressed, subarcuated, subattenuated, subbranched, subbreed, subcarbureted, subcarburetted, subcommended, subcompressed, subcontained, subcontinued, subcontracted, subdentated, subdented, subdepressed, subdilated, subdistinguished, subdued, subhooked, subimbricated, subimposed, subimpressed, subinvoluted, subjected, sublighted, sublimed, submargined, submerged, submersed, subnitrated, suborbiculated, subovated, subpartitioned, subpeltated, subsaturated, substituted, subtriplicated, subturriculated, subtwined, subulated, suburbed, subventioned, subversed, subvitalized, succeed, sucivilized, suffused, sugared, sulcated, sullenhearted, sulphated, sulphonated, sulphureosuffused, sulphureted, sulphurweed, summed, sunbeamed, sunbonneted, sunburned, sunlighted, sunnyhearted, sunspotted, sunweed, superaccomplished, superacidulated, superbeloved, superblessed, supercarbureted, supercharged, supercivilized, superclassified, superconsecrated, supercrowned, supercultivated, superelated, superelevated, superexceed, superexcited, superfructified, superimposed, superimpregnated, superimproved, superinsaniated, superposed, superpowered, superrefined, superrheumatized, supersacred, supersublimated, supersubtilized, supersulphureted, superultrafrostified, supposed, suppressed, surbased, surbed, surfaced, surmised, surmounted, surpeopled, surpliced, surrounded, suspected, suspended, sustained, swagbellied, swampweed, swannecked, swanweed, swastikaed, swayed, sweated, sweatweed, sweered, sweethearted, sweetmouthed, sweetweed, swelled, switched, swiveled, swiveleyed, swooned, swordweed, syllabled, synchronized, syncopated, syruped, systemed, systolated, tabarded, tabled, tabulated, tackled, tagged, tailed, taled, talented, taliped, tallowweed, taloned, tamehearted, tampioned, tanged, tanked, tanned, tannined, tapered, taprooted, tarantulated, tarbooshed, targeted, tarlataned, tarmined, tarred, tartarated, tartrated, tarweed, tasted, tattered, tattied, tauted, tawdered, taxed, taximetered, teated, ted, tegulated, tellureted, telluretted, temperamented, tempered, templed, tenchweed, tenderhearted, tendriled, tentacled, tentaculated, tented, terminalized, terreted, territoried, tessellated, tesserated, tested, testiculated, testudinated, tetrahydrated, tetrasubstituted, thecaspored, theopneusted, thewed, thickbrained, thicketed, thickheaded, thickskulled, thighed, thimbled, thimbleweed, thinbrained, thistled, thonged, thorned, thoroughbred, thoroughpaced, thoroughsped, thoroughstitched, thoughted, threaded, threadweed, threefolded, throated, throughbred, thumbed, thunderheaded, ticked, tickled, tickleweed, tickseed, tickseeded, tickweed, tided, tied, tierced, tiered, tiewigged, tigerhearted, tightfisted, tiled, tileseed, timbered, timbertuned, timbreled, timed, tindered, tined, tineweed, tinged, tinned, tinnified, tinted, tipped, tired, tiresomeweed, tissued, titled, tobaccofied, tobaccoweed, toecapped, toed, togaed, togated, toiled, toileted, toiletted, tokened, toned, tongued, tonneaued, tonsured, toothchiseled, toothed, toothleted, topknotted, toplighted, topped, torchlighted, torchweed, tored, tormented, torquated, torqued, tortured, toryweed, tossicated, touched, toughhearted, toupeed, towered, towheaded, towned, trabeated, trabeculated, traceried, tracked, tragicolored, trained, trammeled, trammelled, tranced, transferred, transomed, transported, trapped, travated, traveled, travelled, traversed, treed, trefoiled, trellised, trenched, tressed, tressured, triangled, triarcuated, tribarred, tricarinated, trichinosed, tricolored, tricornered, tricuspidated, tridentated, tridimensioned, tried, trifasciated, trifoliated, triformed, triggered, triglyphed, trihydrated, trilamellated, trilineated, trilobated, trilobed, trimotored, trinerved, triparted, triphenylated, tripinnated, triplinerved, tripointed, triradiated, trisected, trisinuated, trisubstituted, trisulcated, triunsaturated, trophied, trottoired, trousered, truebred, truehearted, truffled, trumpetweed, truncated, trunched, truncheoned, trunked, trunnioned, trussed, tubehearted, tubercled, tuberculated, tuberculed, tuberculosed, tubulated, tufted, tumbled, tumbleweed, tumored, tunbellied, tuned, tunicated, tunicked, tunneled, turbaned, turbinated, turbined, turfed, turned, turnipweed, turpantineweed, turpentineweed, turreted, tushed, tusked, tussocked, tweed, tweeded, twibilled, twigged, twilled, twinned, twisted, twistened, twitterboned, twizzened, uddered, ulcered, ullaged, ulstered, ultradignified, ultrainvolved, ultrared, ultrarefined, umbeled, umbellated, umbilicated, umbonated, umbrellaed, unabandoned, unabased, unabashed, unabated, unabbreviated, unabetted, unabhorred, unabjured, unabolished, unabraded, unabrased, unabridged, unabrogated, unabsolved, unabsorbed, unabused, unaccelerated, unaccented, unaccentuated, unaccepted, unaccidented, unacclimated, unacclimatized, unaccommodated, unaccompanied, unaccomplished, unaccorded, unaccosted, unaccounted, unaccoutered, unaccoutred, unaccreditated, unaccredited, unaccrued, unaccumulated, unaccursed, unaccustomed, unachieved, unacidulated, unacknowledged, unacquainted, unacquired, unacquitted, unacted, unactivated, unactuated, unadapted, unadded, unaddicted, unaddressed, unadjectived, unadjourned, unadjudged, unadjusted, unadministered, unadmired, unadmitted, unadmonished, unadopted, unadored, unadorned, unadulterated, unadvanced, unadvantaged, unadventured, unadvertised, unadvised, unadvocated, unaerated, unafeared, unaffected, unaffectioned, unaffianced, unaffied, unaffiliated, unaffirmed, unaffixed, unafflicted, unafforded, unaffranchised, unaffrighted, unaffronted, unaged, unaggravated, unaggregated, unagitated, unagreed, unaided, unaimed, unaired, unaisled, unalarmed, unalcoholized, unalienated, unaligned, unallayed, unalleged, unalleviated, unallied, unallotted, unallowed, unalloyed, unallured, unalmsed, unalphabeted, unaltered, unalternated, unamalgamated, unamassed, unamazed, unamended, unamerced, unamortized, unamplified, unamputated, unamused, unanalyzed, unanatomized, unancestored, unancestried, unanchored, unanchylosed, unaneled, unanimalized, unanimated, unannealed, unannexed, unannihilated, unannotated, unannounced, unannoyed, unannulled, unanointed, unanswered, unantagonized, unanticipated, unantiquated, unapostatized, unapostrophized, unappalled, unappareled, unappealed, unappeased, unappendaged, unapperceived, unapplauded, unapplianced, unapplied, unappointed, unapportioned, unappraised, unappreciated, unapprehended, unapprenticed, unapprised, unapproached, unappropriated, unapproved, unaproned, unarbitrated, unarched, unargued, unarmed, unarmored, unaromatized, unaroused, unarraigned, unarranged, unarrayed, unarrested, unarrived, unarted, unarticled, unarticulated, unascended, unascertained, unashamed, unasked, unaspersed, unasphalted, unaspirated, unassailed, unassassinated, unassaulted, unassayed, unassembled, unassented, unasserted, unassessed, unassibilated, unassigned, unassimilated, unassisted, unassociated, unassoiled, unassorted, unassuaged, unassumed, unassured, unastonished, unatoned, unattached, unattacked, unattained, unattainted, unattempered, unattempted, unattended, unattenuated, unattested, unattired, unattracted, unattributed, unattuned, unauctioned, unaudienced, unaudited, unaugmented, unauthenticated, unauthoritied, unauthorized, unavailed, unavenged, unavenued, unaveraged, unaverred, unaverted, unavoided, unavouched, unavowed, unawaked, unawakened, unawarded, unawared, unawed, unawned, unaxled, unazotized, unbackboarded, unbacked, unbadged, unbaffled, unbagged, unbailed, unbaited, unbaized, unbaked, unbalanced, unbalconied, unbalked, unballasted, unballoted, unbandaged, unbanded, unbanished, unbanked, unbannered, unbaptized, unbarbed, unbarbered, unbargained, unbarred, unbarreled, unbarricaded, unbarricadoed, unbased, unbastardized, unbasted, unbastilled, unbastinadoed, unbated, unbathed, unbatted, unbattered, unbeached, unbeaconed, unbeaded, unbearded, unbeaued, unbeautified, unbeavered, unbeclogged, unbeclouded, unbed, unbedabbled, unbedaggled, unbedashed, unbedaubed, unbedded, unbedecked, unbedewed, unbedimmed, unbedinned, unbedizened, unbedraggled, unbefriended, unbefringed, unbegged, unbegirded, unbegreased, unbegrimed, unbegrudged, unbeguiled, unbeheaded, unbejuggled, unbelied, unbelieved, unbeloved, unbemoaned, unbemourned, unbended, unbeneficed, unbenefited, unbenetted, unbenighted, unbenumbed, unbequeathed, unbereaved, unberouged, unbesieged, unbesmeared, unbesmirched, unbesmutted, unbesprinkled, unbestarred, unbestowed, unbeteared, unbetrayed, unbetrothed, unbettered, unbeveled, unbewailed, unbewildered, unbewilled, unbewitched, unbewrayed, unbiased, unbickered, unbigged, unbigoted, unbilled, unbilleted, unbirdlimed, unbitted, unblacked, unblackened, unblamed, unblanched, unblanketed, unblasphemed, unblasted, unblazoned, unbleached, unbled, unblemished, unblenched, unblended, unblessed, unblighted, unblistered, unblockaded, unblocked, unblooded, unbloodied, unbloomed, unblossomed, unblotted, unbloused, unblued, unbluffed, unblundered, unblunted, unblurred, unboarded, unboasted, unbodied, unbodkined, unboiled, unbolled, unbolstered, unbolted, unbonded, unboned, unbonneted, unbooked, unbooklearned, unbooted, unboraxed, unbordered, unbored, unborrowed, unbossed, unbothered, unbottomed, unbounded, unbowdlerized, unbowed, unboweled, unbowered, unbowled, unboxed, unbraced, unbraceleted, unbragged, unbraided, unbrailed, unbrained, unbranched, unbranded, unbrandied, unbraved, unbreached, unbreaded, unbreakfasted, unbreathed, unbred, unbreeched, unbrewed, unbribed, unbridged, unbridled, unbriefed, unbrightened, unbrined, unbroached, unbroadcasted, unbroidered, unbroiled, unbronzed, unbrooded, unbrothered, unbrowned, unbruised, unbrushed, unbrutalized, unbuckramed, unbudded, unbudged, unbudgeted, unbuffed, unbuffered, unbuffeted, unbuilded, unbulled, unbulletined, unbumped, unbunched, unbundled, unbuoyed, unburdened, unburgessed, unburied, unburlesqued, unburned, unburnished, unburrowed, unbusied, unbuskined, unbutchered, unbuttered, unbuttoned, unbuttressed, uncabined, uncabled, uncadenced, uncaged, uncalcified, uncalcined, uncalculated, uncalendered, uncalked, uncalled, uncalmed, uncalumniated, uncambered, uncamerated, uncamouflaged, uncanceled, uncancelled, uncandied, uncaned, uncankered, uncanned, uncanonized, uncanopied, uncantoned, uncantonized, uncanvassed, uncaparisoned, uncapitalized, uncapped, uncapsized, uncaptained, uncaptioned, uncaptivated, uncaptived, uncaptured, uncarbonated, uncarboned, uncarbureted, uncarded, uncaressed, uncargoed, uncaricatured, uncaroled, uncarpentered, uncarpeted, uncarried, uncarted, uncartooned, uncarved, uncased, uncasemated, uncasked, uncasketed, uncastigated, uncastled, uncastrated, uncatalogued, uncatechised, uncatechized, uncategorized, uncathedraled, uncaused, uncauterized, unceased, unceded, unceiled, unceilinged, uncelebrated, uncelestialized, uncemented, uncensored, uncensured, uncentered, uncentred, uncereclothed, unceremented, uncertificated, uncertified, unchafed, unchained, unchaired, unchalked, unchallenged, unchambered, unchamfered, unchampioned, unchanged, unchanneled, unchannelled, unchanted, unchaperoned, unchapleted, unchaptered, uncharactered, uncharacterized, uncharged, uncharmed, uncharred, uncharted, unchartered, unchased, unchastened, unchastised, unchatteled, unchauffeured, unchawed, uncheated, unchecked, uncheckered, uncheered, uncherished, unchested, unchevroned, unchewed, unchided, unchilled, unchinked, unchipped, unchiseled, unchiselled, unchloridized, unchoked, unchopped, unchorded, unchristened, unchristianized, unchronicled, unchurched, uncicatrized, unciliated, uncinated, uncinctured, uncircularized, uncirculated, uncircumcised, uncircumscribed, uncircumstanced, uncited, uncitied, uncivilized, unclaimed, unclamped, unclarified, unclasped, unclassed, unclassified, unclawed, unclayed, uncleaned, uncleansed, uncleared, uncliented, unclimaxed, unclimbed, unclipped, uncloaked, unclogged, uncloistered, unclosed, uncloseted, unclothed, unclotted, unclouded, uncloyed, unclustered, unclutched, uncluttered, uncoached, uncoacted, uncoagulated, uncoated, uncoaxed, uncocked, uncocted, uncodded, uncoddled, uncoded, uncodified, uncoerced, uncoffined, uncogged, uncognized, uncoifed, uncoiled, uncoined, uncoked, uncollapsed, uncollared, uncollated, uncollected, uncolleged, uncolonized, uncolored, uncoloured, uncombated, uncombed, uncombined, uncomforted, uncommanded, uncommemorated, uncommenced, uncommended, uncommented, uncommingled, uncomminuted, uncommiserated, uncommissioned, uncommitted, uncommixed, uncommunicated, uncommuted, uncompacted, uncompanied, uncompanioned, uncompared, uncompassed, uncompassionated, uncompassioned, uncompelled, uncompensated, uncompiled, uncomplained, uncompleted, uncomplicated, uncomplimented, uncomposed, uncompounded, uncomprehended, uncompressed, uncomprised, uncompromised, uncomputed, uncomraded, unconcatenated, unconcealed, unconceded, unconceited, unconceived, unconcerned, unconcerted, unconciliated, unconcluded, unconcocted, unconcreted, uncondemned, uncondensed, unconditionated, unconditioned, uncondoled, unconducted, unconfected, unconfederated, unconferred, unconfessed, unconfided, unconfined, unconfirmed, unconfiscated, unconformed, unconfounded, unconfronted, unconfused, unconfuted, uncongealed, uncongested, unconglobated, unconglomerated, unconglutinated, uncongratulated, uncongregated, unconjectured, unconjoined, unconjugated, unconjured, unconnected, unconned, unconnived, unconquered, unconscienced, unconsecrated, unconsented, unconserved, unconsidered, unconsigned, unconsociated, unconsoled, unconsolidated, unconspired, unconstellated, unconstipated, unconstituted, unconstrained, unconstricted, unconstructed, unconstrued, unconsulted, unconsumed, unconsummated, uncontained, uncontaminated, uncontemned, uncontemplated, uncontended, uncontented, uncontested, uncontinented, uncontinued, uncontorted, uncontracted, uncontradicted, uncontrasted, uncontributed, uncontrived, uncontrolled, uncontroverted, unconvened, unconventioned, unconverted, unconveyed, unconvicted, unconvinced, unconvoluted, unconvoyed, unconvulsed, uncooked, uncooled, uncooped, uncoopered, uncopied, uncopyrighted, uncorded, uncored, uncorked, uncorned, uncoronated, uncoroneted, uncorrected, uncorrelated, uncorroborated, uncorroded, uncorrugated, uncorrupted, uncorseted, uncosseted, uncostumed, uncottoned, uncouched, uncounseled, uncounselled, uncounted, uncountenanced, uncounteracted, uncounterbalanced, uncounterfeited, uncountermanded, uncountervailed, uncountrified, uncoupled, uncoursed, uncourted, uncovenanted, uncovered, uncoveted, uncowed, uncracked, uncradled, uncramped, uncranked, uncrannied, uncrated, uncravatted, uncrazed, uncreased, uncreated, uncredentialed, uncredentialled, uncredited, uncreosoted, uncrested, uncrevassed, uncried, uncrinkled, uncrippled, uncriticised, uncriticized, uncrooked, uncropped, uncrossed, uncrossexamined, uncrowded, uncrowned, uncrucified, uncrudded, uncrumbled, uncrushed, uncrusted, uncrystaled, uncrystalled, uncrystallized, uncubbed, uncuckolded, uncudgelled, uncuffed, unculled, uncultivated, uncultured, uncumbered, uncupped, uncurbed, uncurdled, uncured, uncurled, uncurricularized, uncurried, uncursed, uncurtailed, uncurtained, uncushioned, uncusped, uncustomed, undabbled, undaggled, undamaged, undamasked, undammed, undamped, undandled, undangered, undared, undarkened, undarned, undashed, undated, undaubed, undaunted, undawned, undazed, undazzled, undeadened, undebarred, undebased, undebated, undebauched, undebilitated, undecayed, undeceased, undeceived, undecided, undeciphered, undecked, undeclaimed, undeclared, undeclined, undecocted, undecomposed, undecompounded, undecorated, undecorticated, undecoyed, undecreased, undecreed, undecried, undedicated, undeducted, undeeded, undeemed, undefaced, undefalcated, undefamed, undefaulted, undefeated, undefecated, undefended, undefensed, undeferred, undefied, undefiled, undefined, undeflected, undeflowered, undeformed, undefrauded, undefrayed, undegenerated, undegraded, undeified, undejected, undelated, undelayed, undelegated, undeleted, undeliberated, undelighted, undelimited, undelineated, undelivered, undeluded, undeluged, undelved, undemanded, undemised, undemolished, undemonstrated, undenied, undenizened, undenominated, undenoted, undenounced, undenuded, undeparted, undephlegmated, undepicted, undepleted, undeplored, undeported, undeposed, undeposited, undepraved, undeprecated, undepreciated, undepressed, undeprived, undepurated, undeputed, underaccommodated, underacted, underanged, underbed, underbitted, underboated, underbowed, underbraced, underbred, underburned, undercapitaled, undercarved, undercharged, underchurched, underclothed, undercoated, undercolored, undercompounded, underconcerned, underdressed, underdunged, undereducated, underexcited, underfed, underfeed, underfolded, underhanded, underhorsed, underided, underived, underjawed, underlanguaged, underlimbed, underlunged, undermanned, undermasted, undermatched, undermentioned, undermoated, undernoted, undernourished, underoccupied, underofficered, underpeopled, underpetticoated, underpitched, underprivileged, underproportioned, underpropped, underqualified, underrented, underrespected, underrigged, underripened, underrooted, undersailed, underseated, underseeded, undersighted, undersized, undersparred, underspecified, undertaxed, underteamed, undertided, undertimed, undertoned, undertrained, undervaulted, undervitalized, undervocabularied, underweighted, underwitted, underwooded, undescended, undescribed, undescried, undeserted, undeserved, undesignated, undesigned, undesired, undespaired, undespatched, undespised, undespoiled, undestined, undestroyed, undetached, undetailed, undetained, undetected, undeteriorated, undetermined, undeterred, undetested, undethroned, undeveloped, undeviated, undevised, undevoted, undevoured, undewed, undiademed, undiagnosed, undialed, undialyzed, undiamonded, undiapered, undictated, undieted, undifferenced, undifferentiated, undiffracted, undiffused, undigested, undigged, undighted, undigitated, undignified, undiked, undilapidated, undilated, undiluted, undimensioned, undiminished, undimmed, undimpled, undined, undinted, undiocesed, undiplomaed, undipped, undirected, undisabled, undisappointed, undisarmed, undisbanded, undisbarred, undisburdened, undisbursed, undiscarded, undiscerned, undischarged, undiscipled, undisciplined, undisclaimed, undisclosed, undiscolored, undiscomfited, undiscomposed, undisconcerted, undisconnected, undiscontinued, undiscounted, undiscouraged, undiscoursed, undiscovered, undiscredited, undiscriminated, undiscussed, undisdained, undiseased, undisestablished, undisfigured, undisfranchised, undisfulfilled, undisgorged, undisgraced, undisguised, undisgusted, undisheartened, undished, undisheveled, undishonored, undisillusioned, undisinfected, undisinherited, undisintegrated, undisinterested, undisjoined, undisjointed, undisliked, undislocated, undislodged, undismantled, undismayed, undismembered, undismissed, undismounted, undisobeyed, undisordered, undisorganized, undisowned, undisparaged, undispatched, undispelled, undispensed, undispersed, undisplaced, undisplanted, undisplayed, undispleased, undisposed, undisprivacied, undisproved, undisputed, undisqualified, undisquieted, undisrobed, undisrupted, undissected, undissembled, undisseminated, undissevered, undissimulated, undissipated, undissociated, undissolved, undistanced, undistasted, undistempered, undistended, undistilled, undistinguished, undistorted, undistracted, undistrained, undistressed, undistributed, undistrusted, undisturbed, unditched, undittoed, undiversified, undiverted, undivested, undivided, undivined, undivorced, undivulged, undizened, undizzied, undocked, undoctored, undoctrined, undocumented, undodged, undoffed, undolled, undomed, undomesticated, undomiciled, undominated, undominoed, undonated, undoomed, undoped, undosed, undotted, undoubled, undoubted, undouched, undoweled, undowered, undowned, undrafted, undragoned, undragooned, undrained, undramatized, undraped, undraperied, undreaded, undreamed, undredged, undrenched, undressed, undried, undrilled, undropped, undrowned, undrubbed, undrugged, undubbed, undulated, undulled, undumped, undunged, unduped, undusted, undwarfed, undyed, uneagled, unearned, unearthed, unebbed, unechoed, uneclipsed, unedged, unedified, unedited, uneducated, uneduced, uneffaced, uneffected, uneffectuated, uneffeminated, uneffigiated, uneffused, unejaculated, unejected, unelaborated, unelapsed, unelated, unelbowed, unelected, unelectrified, unelectrized, unelevated, unelicited, unelided, uneliminated, unelongated, uneloped, unelucidated, uneluded, unemaciated, unemancipated, unemasculated, unembalmed, unembanked, unembarrassed, unembased, unembattled, unembayed, unembellished, unembezzled, unembittered, unemblazoned, unembodied, unembossed, unembowelled, unembowered, unembraced, unembroidered, unembroiled, unemended, unemerged, unemitted, unemolumented, unemotioned, unempaneled, unemployed, unempoisoned, unempowered, unemptied, unemulsified, unenabled, unenacted, unenameled, unenamored, unencamped, unenchafed, unenchanted, unencircled, unenclosed, unencompassed, unencored, unencountered, unencouraged, unencroached, unencumbered, unencysted, unendamaged, unendangered, unendeared, unendeavored, unended, unendorsed, unendowed, unendued, unendured, unenergized, unenervated, unenfeebled, unenfiladed, unenforced, unenfranchised, unengaged, unengendered, unengineered, unengraved, unengrossed, unenhanced, unenjoined, unenjoyed, unenkindled, unenlarged, unenlightened, unenlisted, unenlivened, unennobled, unenounced, unenquired, unenraged, unenraptured, unenriched, unenrobed, unenrolled, unenshrined, unenslaved, unensnared, unensouled, unensured, unentailed, unentangled, unentered, unenterprised, unentertained, unenthralled, unenthroned, unenticed, unentitled, unentombed, unentranced, unentrapped, unentreated, unentrenched, unentwined, unenumerated, unenveloped, unenvenomed, unenvied, unenvironed, unepauleted, unepilogued, unepitaphed, unepitomized, unequaled, unequalized, unequated, unequiaxed, unequilibrated, unequipped, unequivalved, uneradicated, unerased, unerected, unermined, uneroded, unerupted, unescaladed, unescalloped, unescaped, unescheated, uneschewed, unescorted, unescutcheoned, unespied, unespoused, unessayed, unestablished, unesteemed, unestimated, unestopped, unestranged, unetched, uneternized, unethylated, uneulogized, unevacuated, unevaded, unevaluated, unevangelized, unevaporated, uneverted, unevicted, unevidenced, unevinced, unevirated, uneviscerated, unevoked, unevolved, unexacerbated, unexacted, unexaggerated, unexalted, unexamined, unexampled, unexasperated, unexcavated, unexceeded, unexcelled, unexcepted, unexcerpted, unexchanged, unexcised, unexcited, unexcluded, unexcogitated, unexcommunicated, unexcoriated, unexcorticated, unexcreted, unexculpated, unexcused, unexecrated, unexecuted, unexemplified, unexempted, unexercised, unexerted, unexhaled, unexhausted, unexhibited, unexhilarated, unexhorted, unexhumed, unexiled, unexonerated, unexorcised, unexpanded, unexpected, unexpectorated, unexpeditated, unexpedited, unexpelled, unexpended, unexperienced, unexperimented, unexpiated, unexpired, unexplained, unexplicated, unexploded, unexploited, unexplored, unexported, unexposed, unexpounded, unexpressed, unexpropriated, unexpunged, unexpurgated, unextended, unextenuated, unexterminated, unextinguished, unextirpated, unextolled, unextorted, unextracted, unextradited, unextravasated, unextricated, unextruded, unexuded, uneyed, unfabled, unfabricated, unfacaded, unfaced, unfaceted, unfacilitated, unfactored, unfaded, unfagged, unfagoted, unfailed, unfairminded, unfaked, unfallowed, unfalsified, unfamed, unfamiliarized, unfancied, unfanged, unfanned, unfarced, unfarewelled, unfarmed, unfarrowed, unfarsighted, unfasciated, unfascinated, unfashioned, unfastened, unfathered, unfathomed, unfatigued, unfatted, unfauceted, unfavored, unfeared, unfeasted, unfeathered, unfeatured, unfecundated, unfed, unfederated, unfeed, unfeigned, unfelicitated, unfelled, unfellied, unfellowed, unfellowshiped, unfelted, unfenced, unfendered, unfenestrated, unfeoffed, unfermented, unferreted, unferried, unfertilized, unfestered, unfestooned, unfetched, unfeted, unfettered, unfettled, unfeudalized, unfeued, unfevered, unfibbed, unfibered, unfielded, unfigured, unfilched, unfiled, unfilled, unfilleted, unfilmed, unfiltered, unfiltrated, unfined, unfinessed, unfingered, unfinished, unfired, unfirmamented, unfished, unfitted, unfixated, unfixed, unflagged, unflanged, unflanked, unflated, unflattened, unflattered, unflaunted, unflavored, unflawed, unflayed, unflecked, unfledged, unfleeced, unfleshed, unfletched, unflexed, unflitched, unflogged, unflooded, unfloored, unflounced, unfloured, unflourished, unflouted, unflowered, unfluked, unflunked, unflurried, unflushed, unflustered, unfluted, unfluttered, unfoaled, unfocused, unfoiled, unfoisted, unfolded, unfoliaged, unfoliated, unfollowed, unfomented, unfondled, unfooled, unfooted, unforaged, unforced, unforded, unforeboded, unforecasted, unforeordained, unforeshortened, unforestalled, unforested, unforewarned, unforfeited, unforged, unforked, unformalized, unformed, unformulated, unfortified, unforwarded, unfossilized, unfostered, unfouled, unfounded, unfoundered, unfountained, unfractured, unframed, unfranchised, unfranked, unfrayed, unfreckled, unfreed, unfreighted, unfrenchified, unfrenzied, unfrequented, unfrictioned, unfried, unfriended, unfrighted, unfrightened, unfrilled, unfringed, unfrizzled, unfrocked, unfronted, unfrosted, unfrounced, unfructed, unfructified, unfrustrated, unfuddled, unfueled, unfulfilled, unfulled, unfulminated, unfumbled, unfumed, unfumigated, unfunded, unfurbelowed, unfurbished, unfurnished, unfurnitured, unfurred, unfurrowed, unfused, unfussed, ungabled, ungaged, ungagged, ungained, ungalvanized, unganged, ungangrened, ungarbed, ungarbled, ungardened, ungargled, ungarlanded, ungarmented, ungarnered, ungarnished, ungarrisoned, ungartered, ungashed, ungassed, ungathered, ungauged, ungauntleted, ungazetted, ungeared, ungelatinized, ungelded, ungeminated, ungeneraled, ungeneralized, ungenerated, ungenitured, ungentled, ungerminated, ungifted, ungilded, ungingled, unginned, ungirded, ungirdled, ungirthed, unglaciated, ungladdened, unglassed, unglazed, ungleaned, unglimpsed, ungloomed, unglorified, unglosed, unglossaried, unglossed, ungloved, unglozed, unglued, unglutted, ungnarred, ungoaded, ungodmothered, ungored, ungorged, ungospelized, ungospelled, ungouged, ungoverned, ungowned, ungraced, ungradated, ungraded, ungraduated, ungrafted, ungrained, ungrammared, ungranted, ungranulated, ungraphitized, ungrappled, ungrasped, ungrassed, ungrated, ungratified, ungraved, ungraveled, ungrayed, ungrazed, ungreased, ungreened, ungreeted, ungrieved, ungrilled, ungrimed, ungrizzled, ungroined, ungroomed, ungrooved, ungrounded, ungrouped, ungrubbed, ungrudged, unguaranteed, unguarded, unguerdoned, unguessed, unguiculated, unguided, unguiled, unguillotined, ungulated, unguled, ungummed, ungutted, unguyed, unguzzled, ungyved, unhabited, unhabituated, unhacked, unhackled, unhackneyed, unhafted, unhaggled, unhailed, unhaired, unhallooed, unhallowed, unhaloed, unhalsed, unhalted, unhaltered, unhalved, unhammered, unhampered, unhandcuffed, unhandicapped, unhandled, unhandseled, unhanged, unharangued, unharassed, unharbored, unhardened, unharked, unharmed, unharmonized, unharnessed, unharped, unharried, unharrowed, unharvested, unhashed, unhasped, unhasted, unhastened, unhatched, unhatcheled, unhated, unhatted, unhauled, unhaunted, unhawked, unhayed, unhazarded, unhazed, unheaded, unhealed, unheaped, unhearsed, unheated, unheaved, unhectored, unhedged, unheed, unheeded, unheeled, unheelpieced, unhefted, unheightened, unheired, unhelmed, unhelmeted, unhelped, unhelved, unhemmed, unheralded, unherded, unhewed, unhidated, unhindered, unhinted, unhipped, unhired, unhissed, unhitched, unhoarded, unhoaxed, unhocked, unhoed, unhogged, unhoisted, unhollowed, unhoned, unhoneyed, unhonied, unhonored, unhonoured, unhooded, unhoodwinked, unhoofed, unhooked, unhooped, unhooted, unhoped, unhopped, unhoppled, unhorizoned, unhorned, unhosed, unhoused, unhouseled, unhugged, unhulled, unhumanized, unhumbled, unhumbugged, unhumiliated, unhumored, unhumoured, unhunted, unhurdled, unhurled, unhurried, unhurted, unhusbanded, unhushed, unhusked, unhustled, unhutched, unhuzzaed, unhydrolyzed, unhymned, unhyphenated, unhyphened, unhypothecated, uniauriculated, unicarinated, uniced, unicelled, unicolored, unicornuted, unideaed, unidealized, unidentated, unidentified, unidirected, unidolized, unifaced, unified, uniflowered, uniformed, unignited, unignored, unilabiated, unillumed, unilluminated, unillumined, unillusioned, unillustrated, unilobed, unimaged, unimagined, unimbanked, unimbellished, unimbezzled, unimbibed, unimbittered, unimbodied, unimboldened, unimbordered, unimbosomed, unimbowed, unimbowered, unimbroiled, unimbrowned, unimbrued, unimbued, unimitated, unimmerged, unimmersed, unimmolated, unimmortalized, unimmured, unimpaired, unimparted, unimpassioned, unimpawned, unimpeached, unimpearled, unimped, unimpeded, unimpelled, unimplanted, unimplicated, unimplied, unimplored, unimpoisoned, unimported, unimportuned, unimposed, unimpounded, unimpoverished, unimpowered, unimprecated, unimpregnated, unimpressed, unimprinted, unimprisoned, unimpropriated, unimproved, unimprovised, unimpugned, unimpurpled, unimputed, uninaugurated, unincantoned, unincarcerated, unincarnated, unincensed, unincised, unincited, uninclined, uninclosed, unincluded, uninconvenienced, unincorporated, unincreased, unincubated, uninculcated, unincumbered, unindebted, unindemnified, unindented, unindentured, unindexed, unindicated, unindicted, unindividualized, unindividuated, unindorsed, uninduced, unindulged, unindurated, unindustrialized, uninebriated, uninerved, uninfatuated, uninfected, uninferred, uninfested, uninfiltrated, uninfixed, uninflamed, uninflated, uninflected, uninflicted, uninfluenced, uninfolded, uninformed, uninfracted, uninfringed, uninfuriated, uninfused, uningested, uningrafted, uningrained, uninhabited, uninhaled, uninherited, uninhibited, uninhumed, uninitialed, uninitialled, uninitiated, uninjected, uninjured, uninked, uninoculated, uninquired, uninscribed, uninserted, uninshrined, uninsinuated, uninspected, uninspired, uninspirited, uninspissated, uninstalled, uninstanced, uninstated, uninstigated, uninstilled, uninstituted, uninstructed, uninsulated, uninsulted, uninsured, unintegrated, unintended, unintercalated, unintercepted, uninterdicted, uninterested, uninterjected, uninterlaced, uninterlarded, uninterleaved, uninterlined, uninterlinked, uninterlocked, unintermingled, unintermitted, unintermixed, uninterpleaded, uninterpolated, uninterposed, uninterpreted, uninterred, uninterrogated, uninterrupted, unintersected, uninterspersed, uninterviewed, unintervolved, uninthroned, unintimated, unintimidated, unintitled, unintombed, unintoned, unintoxicated, unintrenched, unintrigued, unintroduced, unintromitted, unintruded, unintrusted, unintwined, uninucleated, uninundated, uninured, uninurned, uninvaded, uninvaginated, uninvalidated, uninveigled, uninvented, uninverted, uninvested, uninvestigated, uninvigorated, uninvited, uninvoiced, uninvoked, uninvolved, uninweaved, uninwrapped, uninwreathed, unioned, uniped, uniradiated, unironed, unirradiated, unirrigated, unirritated, unisexed, unisolated, unissued, unitalicized, united, unitemized, univied, univocalized, unjacketed, unjaded, unjagged, unjailed, unjapanned, unjarred, unjaundiced, unjealoused, unjellied, unjesuited, unjeweled, unjewelled, unjilted, unjogged, unjointed, unjointured, unjolted, unjostled, unjournalized, unjoyed, unjudged, unjuggled, unjuiced, unjumbled, unjustified, unjustled, unkamed, unked, unkeeled, unkembed, unkenned, unkenneled, unkerchiefed, unkeyed, unkicked, unkilled, unkilned, unkindhearted, unkindled, unkindred, unkinged, unkissed, unkneaded, unknelled, unknighted, unknitted, unknocked, unknotted, unkodaked, unkoshered, unlabeled, unlabored, unlaced, unlacerated, unlackeyed, unlacquered, unladled, unladyfied, unlamed, unlamented, unlampooned, unlanced, unlanded, unlandmarked, unlanguaged, unlanterned, unlapped, unlapsed, unlarded, unlashed, unlassoed, unlathed, unlathered, unlatinized, unlatticed, unlauded, unlaunched, unlaundered, unlaureled, unlaved, unlavished, unlawed, unlawlearned, unlawyered, unleached, unleaded, unleafed, unleagued, unleared, unlearned, unleased, unleashed, unleathered, unleaved, unleavened, unlectured, unled, unlegacied, unlegalized, unleisured, unlensed, unlessened, unlessoned, unletted, unlettered, unleveled, unlevied, unlevigated, unlibeled, unliberalized, unliberated, unlicensed, unlicentiated, unlichened, unlicked, unlidded, unlifted, unligatured, unlighted, unlightened, unlignified, unliked, unlimed, unlimited, unlimned, unlined, unlinked, unliquefied, unliquidated, unliquored, unlisted, unlistened, unlitigated, unlittered, unliveried, unloaded, unloaned, unloathed, unlobed, unlocalized, unlocated, unlocked, unlodged, unlogged, unlooked, unlooped, unlooted, unlopped, unlorded, unlotted, unloved, unlowered, unlubricated, unluffed, unlugged, unlumped, unlured, unluted, unluxated, unmacadamized, unmacerated, unmadded, unmaddened, unmagnetized, unmagnified, unmailed, unmaimed, unmaintained, unmaligned, unmalled, unmalted, unmammonized, unmanacled, unmanaged, unmancipated, unmandated, unmanducated, unmaned, unmaneged, unmangled, unmanicured, unmanifested, unmanipulated, unmanned, unmannered, unmanored, unmantled, unmanufactured, unmanumitted, unmanured, unmapped, unmarbled, unmarginated, unmarked, unmarketed, unmarled, unmarred, unmarried, unmarshaled, unmartyred, unmashed, unmasked, unmassacred, unmassed, unmastered, unmasticated, unmatched, unmated, unmatriculated, unmatted, unmatured, unmauled, unmeasured, unmeated, unmechanized, unmedaled, unmedalled, unmeddled, unmediated, unmediatized, unmedicated, unmeditated, unmedullated, unmeliorated, unmellowed, unmelodized, unmelted, unmemoired, unmemorialized, unmemoried, unmemorized, unmenaced, unmended, unmentioned, unmercerized, unmerged, unmerited, unmesmerized, unmetaled, unmetalized, unmetalled, unmetamorphosed, unmeted, unmetered, unmethodized, unmethylated, unmewed, unmidwifed, unmildewed, unmilitarized, unmilked, unmilled, unmillinered, unmilted, unmimicked, unminced, unminded, unmined, unmineralized, unmingled, unminimized, unminished, unministered, unminted, unminuted, unmiracled, unmired, unmirrored, unmisguided, unmisled, unmissed, unmissionized, unmistressed, unmistrusted, unmitigated, unmittened, unmixed, unmoaned, unmoated, unmobbed, unmobilized, unmocked, unmodeled, unmodelled, unmodernized, unmodified, unmodulated, unmoiled, unmolded, unmoldered, unmolested, unmollified, unmoneyed, unmonitored, unmonopolized, unmonumented, unmoored, unmooted, unmopped, unmoralized, unmordanted, unmortared, unmortgaged, unmortified, unmortised, unmossed, unmothered, unmotivated, unmotived, unmotorized, unmottled, unmounded, unmounted, unmourned, unmouthed, unmouthpieced, unmoved, unmowed, unmucilaged, unmudded, unmuddied, unmuddled, unmuffled, unmulcted, unmulled, unmullioned, unmultiplied, unmummied, unmunched, unmundified, unmunicipalized, unmunitioned, unmurmured, unmuscled, unmusked, unmussed, unmusted, unmustered, unmutated, unmuted, unmutilated, unmuttered, unmutualized, unmuzzled, unmyelinated, unmystified, unnabbed, unnagged, unnailed, unnaked, unnamed, unnapkined, unnapped, unnarrated, unnationalized, unnaturalized, unnavigated, unneaped, unneared, unnecessitated, unneeded, unnegated, unneglected, unnegotiated, unneighbored, unnerved, unnestled, unnetted, unnettled, unneutralized, unnibbed, unnibbied, unniched, unnicked, unnickeled, unnickelled, unnicknamed, unnimbed, unnipped, unnitrogenized, unnobilitated, unnoised, unnominated, unnoosed, unnosed, unnotched, unnoted, unnoticed, unnotified, unnourished, unnucleated, unnullified, unnumbered, unnurtured, unnuzzled, unoared, unobeyed, unobjected, unobligated, unobliged, unobliterated, unobscured, unobserved, unobsessed, unobstructed, unobtained, unobtruded, unobtunded, unobumbrated, unobverted, unobviated, unoccasioned, unoccluded, unoccupied, unoffended, unoffered, unofficed, unofficered, unogled, unoiled, unomened, unomitted, unoped, unopened, unoperated, unoperculated, unopined, unopinionated, unoppignorated, unopposed, unoppressed, unoppugned, unorbed, unorchestrated, unordained, unordered, unordnanced, unorganized, unoriented, unoriginated, unornamented, unorphaned, unosculated, unossified, unoutlawed, unoutraged, unoverclouded, unoverhauled, unoverleaped, unoverlooked, unoverpowered, unoverruled, unovervalued, unoverwhelmed, unowed, unowned, unoxidated, unoxidized, unoxygenated, unoxygenized, unpaced, unpacified, unpacked, unpadded, unpadlocked, unpaged, unpained, unpainted, unpaired, unpaled, unpalisaded, unpalisadoed, unpalled, unpalliated, unpalped, unpalsied, unpampered, unpanegyrized, unpaneled, unpanelled, unpanged, unpanniered, unpanoplied, unpapered, unparaded, unparagoned, unparagonized, unparagraphed, unparalleled, unparalyzed, unparaphrased, unparceled, unparcelled, unparched, unpardoned, unpared, unparented, unpargeted, unparked, unparliamented, unparodied, unparried, unparroted, unparsed, unparted, unparticipated, unparticularized, unpartitioned, unpartnered, unpassed, unpassioned, unpasted, unpasteurized, unpastured, unpatched, unpatented, unpathed, unpathwayed, unpatrolled, unpatronized, unpatted, unpatterned, unpaunched, unpauperized, unpaved, unpavilioned, unpawed, unpawned, unpealed, unpearled, unpebbled, unpecked, unpeddled, unpedigreed, unpeeled, unpeered, unpelted, unpenalized, unpenanced, unpenciled, unpencilled, unpenetrated, unpenned, unpennied, unpennoned, unpensioned, unpeopled, unperceived, unperched, unpercolated, unpercussed, unperfected, unperflated, unperforated, unperformed, unperfumed, unperiphrased, unperished, unperjured, unpermeated, unpermitted, unpermixed, unperpetrated, unperpetuated, unperplexed, unpersecuted, unpersonified, unpersuaded, unperturbed, unperuked, unperused, unpervaded, unperverted, unpestered, unpetitioned, unpetrified, unpetticoated, unphased, unphilosophized, unphonographed, unphosphatized, unphotographed, unphrased, unphysicked, unpicked, unpicketed, unpickled, unpictured, unpieced, unpierced, unpigmented, unpiled, unpilfered, unpillaged, unpillared, unpilled, unpilloried, unpillowed, unpiloted, unpimpled, unpinched, unpinioned, unpinked, unpinned, unpiped, unpiqued, unpirated, unpitched, unpitied, unpitted, unplacated, unplaced, unplagiarized, unplagued, unplained, unplaited, unplaned, unplanished, unplanked, unplanned, unplanted, unplashed, unplastered, unplated, unplatted, unplayed, unpleached, unpleaded, unpleased, unpleated, unpledged, unplenished, unplied, unplighted, unplotted, unploughed, unplowed, unplucked, unplugged, unplumbed, unplumed, unplummeted, unplundered, unplunged, unpoached, unpocketed, unpodded, unpoeticized, unpoetized, unpointed, unpoised, unpoisoned, unpolarized, unpoled, unpoliced, unpolicied, unpolished, unpollarded, unpolled, unpolluted, unpolymerized, unpondered, unpooled, unpopulated, unportended, unportioned, unportmanteaued, unportraited, unportrayed, unposed, unpossessed, unposted, unpostered, unpostmarked, unpostponed, unpostulated, unpotted, unpouched, unpoulticed, unpounced, unpounded, unpoured, unpowdered, unpracticed, unpraised, unpranked, unprayed, unpreached, unprecautioned, unpreceded, unprecedented, unprecipitated, unprecluded, unpredestinated, unpredestined, unpredicated, unpredicted, unpredisposed, unpreened, unprefaced, unpreferred, unprefigured, unprefined, unprefixed, unprejudged, unprejudicated, unprejudiced, unpreluded, unpremeditated, unpremonished, unpremonstrated, unprenominated, unprenticed, unpreoccupied, unpreordained, unprepared, unpreponderated, unpresaged, unpresbyterated, unprescinded, unprescribed, unpresented, unpreserved, unpressed, unpresumed, unpresupposed, unpretended, unpretermitted, unprevented, unpriced, unpricked, unprickled, unprimed, unprimmed, unprincipled, unprinted, unprisoned, unprivileged, unprized, unprobated, unprobed, unprocessed, unproclaimed, unprocrastinated, unprocreated, unproctored, unprocured, unproded, unproduced, unprofaned, unprofessed, unproffered, unprofited, unprognosticated, unprogressed, unprohibited, unprojected, unprologued, unprolonged, unpromised, unpromoted, unprompted, unpromulgated, unpronounced, unpropagated, unpropelled, unpropertied, unprophesied, unpropitiated, unproportioned, unproposed, unpropounded, unpropped, unprorogued, unproscribed, unprosecuted, unproselyted, unprospected, unprospered, unprostituted, unprostrated, unprotected, unprotested, unprotruded, unproved, unprovided, unprovidenced, unprovisioned, unprovoked, unpruned, unpublished, unpuckered, unpuddled, unpuffed, unpulled, unpulleyed, unpulped, unpulverized, unpulvinated, unpumicated, unpummeled, unpummelled, unpumped, unpunched, unpunctated, unpunctuated, unpunished, unpurchased, unpurged, unpurified, unpurled, unpurloined, unpurpled, unpurported, unpurposed, unpursed, unpursued, unpurveyed, unpushed, unputrefied, unputtied, unquadded, unquaffed, unquailed, unqualified, unqualitied, unquantified, unquarantined, unquarreled, unquarrelled, unquarried, unquartered, unquashed, unquayed, unqueened, unquelled, unquenched, unqueried, unquested, unquestioned, unquibbled, unquickened, unquicksilvered, unquieted, unquilleted, unquilted, unquitted, unquivered, unquizzed, unquoted, unrabbeted, unraced, unracked, unradiated, unraffled, unraftered, unraided, unrailed, unrailroaded, unrailwayed, unraised, unraked, unrallied, unramified, unrammed, unramped, unranched, unrancored, unranked, unransacked, unransomed, unraped, unraptured, unrarefied, unrasped, unrated, unratified, unrattled, unravaged, unraveled, unravelled, unravished, unrayed, unrazed, unrazored, unreached, unrealized, unrealmed, unreaped, unreared, unreasoned, unrebated, unrebuked, unrebutted, unrecalled, unrecanted, unrecaptured, unreceipted, unreceived, unreciprocated, unrecited, unrecked, unreckoned, unreclaimed, unreclined, unrecognized, unrecoined, unrecollected, unrecompensed, unreconciled, unreconnoitered, unreconsidered, unreconstructed, unrecorded, unrecounted, unrecovered, unrecreated, unrecruited, unrectified, unrecuperated, unred, unredacted, unredeemed, unredressed, unreduced, unreefed, unreeled, unreferenced, unreferred, unrefilled, unrefined, unrefitted, unreflected, unreformed, unrefracted, unrefrained, unrefreshed, unrefrigerated, unrefunded, unrefused, unrefuted, unregained, unregaled, unregarded, unregimented, unregistered, unregretted, unregulated, unregurgitated, unrehabilitated, unrehearsed, unreimbodied, unreined, unreinstated, unreiterated, unrejoiced, unrejuvenated, unrelated, unrelaxed, unreleased, unrelegated, unrelented, unrelieved, unreligioned, unrelinquished, unrelished, unremanded, unremarked, unremarried, unremedied, unremembered, unreminded, unremitted, unremonstrated, unremounted, unremoved, unremunerated, unrendered, unrenewed, unrenounced, unrenovated, unrenowned, unrented, unreorganized, unrepaired, unreparted, unrepealed, unrepeated, unrepelled, unrepented, unrepined, unrepiqued, unreplaced, unreplenished, unreplevined, unreplied, unreported, unreposed, unrepossessed, unreprehended, unrepresented, unrepressed, unreprieved, unreprimanded, unreprinted, unreproached, unreprobated, unreproved, unrepudiated, unrepulsed, unreputed, unrequalified, unrequested, unrequickened, unrequired, unrequited, unrescinded, unrescued, unresented, unreserved, unresifted, unresigned, unresisted, unresolved, unresounded, unrespected, unrespired, unrespited, unrested, unrestored, unrestrained, unrestricted, unresumed, unretained, unretaliated, unretarded, unretinued, unretired, unretorted, unretouched, unretracted, unretrenched, unretrieved, unretted, unreturned, unrevealed, unrevenged, unrevenued, unreverberated, unrevered, unreverenced, unreversed, unreverted, unrevested, unrevetted, unreviewed, unreviled, unrevised, unrevived, unrevoked, unrevolted, unrevolutionized, unrevolved, unrewarded, unreworded, unrhymed, unribbed, unribboned, unriched, unricked, unriddled, unridered, unridged, unridiculed, unriffled, unrifled, unrifted, unrigged, unrighted, unrimpled, unringed, unrinsed, unrioted, unriped, unripened, unripped, unrippled, unrisked, unrivaled, unrived, unriveted, unroaded, unroasted, unrobbed, unrobed, unrocked, unrodded, unroiled, unrolled, unromanticized, unroofed, unroosted, unrooted, unroped, unrosed, unrosined, unrostrated, unrotated, unroted, unrotted, unrouged, unroughened, unrounded, unroused, unrouted, unroved, unrowed, unroweled, unroyalized, unrubbed, unrubified, unrubricated, unruddered, unruddled, unruffed, unruffled, unrugged, unruinated, unruined, unruled, unruminated, unrummaged, unrumored, unrumpled, unruptured, unrushed, unrusted, unrusticated, unsabered, unsabled, unsabred, unsacked, unsacred, unsacrificed, unsaddened, unsaddled, unsafeguarded, unsailed, unsainted, unsalaried, unsalivated, unsalted, unsaluted, unsalvaged, unsalved, unsampled, unsanctified, unsanctioned, unsanctuaried, unsandaled, unsanded, unsanitated, unsaponified, unsapped, unsashed, unsated, unsatiated, unsatirized, unsatisfied, unsaturated, unsauced, unsaved, unsavored, unsawed, unscabbarded, unscabbed, unscaffolded, unscaled, unscalloped, unscamped, unscandalized, unscanned, unscanted, unscared, unscarfed, unscarified, unscarred, unscathed, unscattered, unscavengered, unscented, unsceptered, unsceptred, unscheduled, unschematized, unschooled, unscienced, unscioned, unscissored, unscoffed, unscolded, unsconced, unscooped, unscorched, unscored, unscorified, unscorned, unscotched, unscoured, unscourged, unscraped, unscratched, unscrawled, unscreened, unscrewed, unscribbled, unscribed, unscrimped, unscrubbed, unscrupled, unscrutinized, unsculptured, unscummed, unscutcheoned, unsealed, unseamed, unsearched, unseared, unseasoned, unseated, unsecluded, unseconded, unsecreted, unsecularized, unsecured, unseduced, unseeded, unseethed, unsegmented, unsegregated, unseized, unselected, unsensed, unsensitized, unsensualized, unsentenced, unsentineled, unsentinelled, unseparated, unseptated, unsepulchered, unsepulchred, unsepultured, unsequenced, unsequestered, unserenaded, unserrated, unserried, unserved, unsettled, unsevered, unsewed, unsewered, unsexed, unshackled, unshaded, unshadowed, unshafted, unshaled, unshamed, unshamefaced, unshammed, unshanked, unshaped, unshared, unsharped, unsharpened, unshattered, unshaved, unsheared, unsheathed, unshed, unsheeted, unshelled, unsheltered, unshepherded, unshewed, unshielded, unshifted, unshingled, unshipped, unshipwrecked, unshirted, unshivered, unshocked, unshoed, unshored, unshortened, unshotted, unshouted, unshoved, unshoveled, unshowed, unshredded, unshrined, unshrived, unshriveled, unshrivelled, unshrouded, unshrubbed, unshuffled, unshunned, unshunted, unshuttered, unsiccated, unsickened, unsickled, unsided, unsifted, unsighted, unsignaled, unsignalized, unsignalled, unsignatured, unsigned, unsigneted, unsignified, unsilenced, unsilicified, unsilvered, unsimplified, unsimulated, unsinewed, unsinged, unsingled, unsipped, unsistered, unsized, unsketched, unskewed, unskewered, unskilled, unskimmed, unskinned, unskirted, unslacked, unslackened, unslagged, unslaked, unslammed, unslandered, unslapped, unslashed, unslated, unslaughtered, unsleaved, unsleeved, unsliced, unslighted, unslipped, unslockened, unsloped, unslopped, unslotted, unsloughed, unsluiced, unslurred, unsmacked, unsmeared, unsmelled, unsmelted, unsmiled, unsmirched, unsmoked, unsmokified, unsmoothed, unsmothered, unsmudged, unsmuggled, unsmutched, unsmutted, unsnaffled, unsnagged, unsnaggled, unsnapped, unsnared, unsnatched, unsnipped, unsnouted, unsnubbed, unsnuffed, unsoaked, unsoaped, unsocialized, unsoftened, unsoiled, unsolaced, unsoldered, unsoldiered, unsoled, unsolemnized, unsolicitated, unsolicited, unsolidified, unsolved, unsonneted, unsoothed, unsophisticated, unsorrowed, unsorted, unsotted, unsounded, unsoured, unsoused, unsowed, unspaced, unspaded, unspangled, unspanked, unspanned, unspared, unsparred, unspattered, unspawned, unspayed, unspeared, unspecialized, unspecified, unspecked, unspeckled, unspectacled, unsped, unspeed, unspeered, unspelled, unspewed, unsphered, unspiced, unspied, unspired, unspirited, unspiritualized, unspissated, unspited, unspitted, unsplashed, unsplattered, unsplayed, unspleened, unspliced, unsplinted, unsplintered, unspoiled, unsponged, unsponsored, unsported, unspotlighted, unspotted, unspoused, unspouted, unsprained, unsprayed, unsprinkled, unsprinklered, unsprouted, unspruced, unspurned, unspurred, unsquandered, unsquared, unsquashed, unsqueezed, unsquelched, unsquired, unsquirted, unstabbed, unstabled, unstablished, unstacked, unstaffed, unstaged, unstaggered, unstained, unstaled, unstalked, unstalled, unstamped, unstampeded, unstandardized, unstarched, unstarred, unstarted, unstartled, unstarved, unstated, unstationed, unstatued, unstaunched, unstaved, unstayed, unsteadied, unsteamed, unstecked, unsteeled, unsteeped, unsteepled, unsteered, unstemmed, unstercorated, unstereotyped, unsterilized, unstethoscoped, unstewed, unstiffened, unstifled, unstigmatized, unstilled, unstilted, unstimulated, unstinged, unstinted, unstippled, unstipulated, unstirred, unstitched, unstocked, unstockinged, unstoked, unstoned, unstopped, unstoppered, unstored, unstoried, unstormed, unstoved, unstowed, unstraddled, unstrafed, unstraightened, unstrained, unstraitened, unstranded, unstrangered, unstrangled, unstrapped, unstratified, unstreaked, unstrengthened, unstressed, unstretched, unstrewed, unstriated, unstrictured, unstringed, unstriped, unstripped, unstroked, unstubbed, unstuccoed, unstudded, unstudied, unstuffed, unstultified, unstunned, unstunted, unstupefied, unstuttered, unstyled, unsubdivided, unsubducted, unsubdued, unsubjected, unsubjugated, unsublimated, unsublimed, unsubmerged, unsubmitted, unsubordinated, unsuborned, unsubpoenaed, unsubscribed, unsubsided, unsubsidized, unsubstanced, unsubstantiated, unsubstituted, unsubtracted, unsubventioned, unsubventionized, unsubverted, unsucceeded, unsuccored, unsucked, unsuckled, unsued, unsuffered, unsufficed, unsufflated, unsuffocated, unsuffused, unsugared, unsuggested, unsuited, unsullied, unsulphonated, unsulphurized, unsummarized, unsummed, unsummered, unsummoned, unsunburned, unsundered, unsunned, unsuperannuated, unsupernaturalized, unsuperscribed, unsuperseded, unsupervised, unsupped, unsupplanted, unsuppled, unsupplemented, unsupplicated, unsupplied, unsupported, unsupposed, unsuppressed, unsuppurated, unsurcharged, unsurfaced, unsurfeited, unsurmised, unsurmounted, unsurnamed, unsurpassed, unsurpliced, unsurprised, unsurrendered, unsurrounded, unsurveyed, unsurvived, unsuspected, unsuspended, unsustained, unsutured, unswabbed, unswaddled, unswallowed, unswapped, unswathed, unswayed, unsweated, unsweetened, unswelled, unsweltered, unswerved, unswilled, unswingled, unswitched, unsyllabled, unsymbolized, unsymmetrized, unsympathized, unsynchronized, unsyncopated, unsyndicated, unsyringed, unsystematized, untabernacled, untabled, untabulated, untacked, untackled, untagged, untailed, untainted, untalented, untalked, untallied, untallowed, untamed, untampered, untangled, untanned, untantalized, untaped, untapered, untapestried, untapped, untarnished, untarred, untarried, untartarized, untasked, untasseled, untasted, untattered, untattooed, untaunted, untawed, untaxed, unteamed, unteased, unteasled, untedded, unteethed, untelegraphed, untempered, untempested, untempled, untempted, untenanted, untended, untendered, untented, untentered, unterminated, unterraced, unterrified, unterrorized, untessellated, untested, untethered, untewed, unthanked, unthatched, unthawed, unthickened, unthinned, unthoughted, unthralled, unthrashed, unthreaded, unthreatened, unthreshed, unthrilled, unthroned, unthronged, unthrottled, unthumbed, unthumped, unthundered, unthwacked, unthwarted, untiaraed, unticketed, untickled, untied, untiled, untilled, untilted, untimbered, untimed, untinctured, untinged, untinkered, untinned, untinseled, untinted, untipped, untippled, untired, untissued, untithed, untitled, untoasted, untogaed, untoiled, untoileted, untolerated, untombed, untoned, untongued, untonsured, untooled, untoothed, untopped, untormented, untorpedoed, untortured, untossed, untotaled, untotalled, untouched, untoured, untouristed, untowered, untraced, untraceried, untracked, untraded, untraduced, untrafficked, untrailed, untrained, untraitored, untrammed, untrammeled, untramped, untrampled, untranquilized, untranquillized, untransacted, untranscended, untranscribed, untransferred, untransfigured, untransfixed, untransformed, untransfused, untransgressed, untranslated, untransmigrated, untransmitted, untransmuted, untranspired, untransplanted, untransported, untransposed, untransubstantiated, untrapped, untrashed, untraveled, untraversed, untravestied, untreasured, untreated, untreed, untrekked, untrellised, untrenched, untrepanned, untrespassed, untressed, untriced, untricked, untried, untrimmed, untripped, untriturated, untriumphed, untrolled, untrophied, untrotted, untroubled, untrounced, untrowed, untruckled, untrumped, untrumpeted, untrundled, untrunked, untrussed, untrusted, untubbed, untucked, untuckered, untufted, untugged, untumbled, untumefied, untuned, untunneled, untupped, unturbaned, unturfed, unturned, unturpentined, unturreted, untusked, untutored, untwilled, untwined, untwinned, untwirled, untwisted, untwitched, unulcerated, unumpired, ununified, ununiformed, ununited, unupholstered, unurged, unurned, unused, unushered, unusurped, unuttered, unvaccinated, unvaleted, unvalidated, unvalued, unvamped, unvanquished, unvantaged, unvaporized, unvaried, unvariegated, unvarnished, unvatted, unvaulted, unvaunted, unveiled, unveined, unvended, unveneered, unvenerated, unvenged, unvenomed, unvented, unventilated, unventured, unvenued, unverbalized, unverdured, unverified, unvermiculated, unversed, unversified, unvesseled, unvested, unvetoed, unvexed, unvibrated, unvictimized, unvictualed, unvictualled, unviewed, unvilified, unvillaged, unvindicated, unvintaged, unviolated, unviolenced, unviolined, unvisioned, unvisited, unvisored, unvisualized, unvitalized, unvitiated, unvitrified, unvitriolized, unvituperated, unvivified, unvizarded, unvocalized, unvoiced, unvoided, unvolatilized, unvolitioned, unvomited, unvoted, unvouched, unvouchsafed, unvowed, unvoweled, unvulcanized, unvulgarized, unwadded, unwaded, unwafted, unwaged, unwagered, unwagged, unwailed, unwainscoted, unwaited, unwaked, unwakened, unwalked, unwalled, unwallowed, unwandered, unwanted, unwarbled, unwarmed, unwarned, unwarnished, unwarped, unwarranted, unwashed, unwasted, unwatched, unwatered, unwatermarked, unwattled, unwaved, unwavered, unwaxed, unwayed, unweakened, unweaned, unweaponed, unwearied, unweathered, unwebbed, unwed, unwedded, unwedged, unweeded, unweened, unweighed, unweighted, unwelcomed, unwelded, unwelted, unwesternized, unwetted, unwheedled, unwheeled, unwhelmed, unwhelped, unwhetted, unwhipped, unwhirled, unwhisked, unwhiskered, unwhispered, unwhistled, unwhited, unwhitened, unwhitewashed, unwidened, unwidowed, unwifed, unwigged, unwilled, unwilted, unwindowed, unwinged, unwinnowed, unwiped, unwired, unwished, unwitched, unwithered, unwitnessed, unwitted, unwived, unwomanized, unwonted, unwooded, unwooed, unworked, unwormed, unworried, unworshiped, unworshipped, unwounded, unwrapped, unwreaked, unwreathed, unwrecked, unwrenched, unwrested, unwrestled, unwretched, unwriggled, unwrinkled, unwronged, unyeaned, unyearned, unyielded, unyoked, unzoned, upbred, upbreed, upfeed, upfingered, uphearted, upholstered, uplifted, upsetted, upsighted, upspeed, uptwined, urled, used, vacanthearted, vacuolated, vaginated, valanced, vallated, valued, valved, vambraced, vamped, vaned, vanitied, vapored, vareheaded, varicated, varicolored, varicosed, varied, variegated, variformed, variotinted, varnished, varved, vasculated, vaulted, vaunted, veiled, veined, velated, velveted, velveteened, velvetseed, velvetweed, venomed, verandaed, verdured, vermiculated, verriculated, verrucated, versed, versicolored, vertebrated, verticillated, veruled, verveled, vesseled, vestibuled, vestmented, vexed, viduated, vilehearted, vinaigretted, vined, vinegarweed, vingerhoed, virgated, viroled, virtued, virulented, visaged, visioned, vistaed, vitiated, vitrailed, vizarded, vocabularied, voiced, voided, volumed, voluted, vowed, waged, waistcoated, waisted, waled, walled, walleyed, waned, warbled, warded, warehoused, warmed, warmhearted, warped, warranted, warted, wartweed, washed, washshed, wasted, watched, watered, waterlogged, watershed, waterweed, wattled, waved, waxhearted, waxweed, weakbrained, weakhanded, weakhearted, weakmouthed, weaponed, wearied, weathered, weatherheaded, weatherproofed, weaved, weazened, webbed, wed, wedbed, wedded, wedged, weed, weeded, weelfaured, weepered, weeviled, wefted, weighed, weighted, welted, wetched, wetted, whaleboned, wheateared, wheeled, whelked, wheyfaced, whimsied, whipped, whirled, whiskerandoed, whiskered, whiskied, whiskified, whiskyfied, whispered, whited, whitehanded, whitehearted, whiteweed, wholehearted, whorled, wicked, wickerworked, widehearted, widemouthed, widowed, widowered, wigged, wilded, willed, willinghearted, willowed, willowweed, windbagged, winded, windgalled, wined, winged, winghanded, wingseed, winkered, wintered, winterfeed, winterweed, wired, wireweed, wiseacred, wisehearted, wiseweed, wished, wistened, witched, witchweed, withered, witted, wittified, wizened, womanhearted, wombed, wonned, wonted, woodbined, wooded, woodenheaded, woodlocked, woodshed, woofed, wooled, woolshed, woolweed, worded, worked, workhoused, worlded, wormed, wormholed, wormseed, wormweed, worried, worsted, wounded, wrapped, wreathed, wrenched, wretched, wried, wrinkled, wristed, writhed, wrizzled, wronged, wrongheaded, wronghearted, yapped, yawweed, yed, yellowseed, yellowweed, yolked, younghearted, zagged, zed, zeed, zigzagged, zonated, zoned\n"
          ]
        }
      ]
    },
    {
      "cell_type": "markdown",
      "metadata": {
        "id": "_KKqkc3SBzcl"
      },
      "source": [
        "The **'.' (wildcard symbol)** matches any single character. Suppose we have room in a crossword puzzle for an 8-letter word with j as its third letter and t as its sixth letter. In place of each blank cell we use a period:"
      ]
    },
    {
      "cell_type": "code",
      "metadata": {
        "id": "cg5K4s5iB0p9",
        "colab": {
          "base_uri": "https://localhost:8080/"
        },
        "outputId": "1106d89f-5e16-4b90-901a-16dff7d43d46"
      },
      "source": [
        "[w for w in wordlist if re.search('^..j..t..$', w)]"
      ],
      "execution_count": 104,
      "outputs": [
        {
          "output_type": "execute_result",
          "data": {
            "text/plain": [
              "['abjectly',\n",
              " 'adjuster',\n",
              " 'dejected',\n",
              " 'dejectly',\n",
              " 'injector',\n",
              " 'majestic',\n",
              " 'objectee',\n",
              " 'objector',\n",
              " 'rejecter',\n",
              " 'rejector',\n",
              " 'unjilted',\n",
              " 'unjolted',\n",
              " 'unjustly']"
            ]
          },
          "metadata": {},
          "execution_count": 104
        }
      ]
    },
    {
      "cell_type": "markdown",
      "metadata": {
        "id": "xV2lWqy0B35S"
      },
      "source": [
        "**Practise**"
      ]
    },
    {
      "cell_type": "markdown",
      "metadata": {
        "id": "sWcuRLS2B998"
      },
      "source": [
        "**Your Turn:** The caret symbol ^ matches the start of a string, just like the $ matches the end. What results do we get with the above example if we leave out both of these, and search for «..j..t..»?"
      ]
    },
    {
      "cell_type": "code",
      "metadata": {
        "id": "Vo9Ip7RwCEeC",
        "colab": {
          "base_uri": "https://localhost:8080/"
        },
        "outputId": "90bf2b61-b486-46c6-bcb0-4955946fe6dc"
      },
      "source": [
        "# Try here\n",
        "[w for w in wordlist if re.search('..j..t..', w)]"
      ],
      "execution_count": 105,
      "outputs": [
        {
          "output_type": "execute_result",
          "data": {
            "text/plain": [
              "['abjectedness',\n",
              " 'abjection',\n",
              " 'abjective',\n",
              " 'abjectly',\n",
              " 'abjectness',\n",
              " 'adjection',\n",
              " 'adjectional',\n",
              " 'adjectival',\n",
              " 'adjectivally',\n",
              " 'adjective',\n",
              " 'adjectively',\n",
              " 'adjectivism',\n",
              " 'adjectivitis',\n",
              " 'adjustable',\n",
              " 'adjustably',\n",
              " 'adjustage',\n",
              " 'adjustation',\n",
              " 'adjuster',\n",
              " 'adjustive',\n",
              " 'adjustment',\n",
              " 'antejentacular',\n",
              " 'antiprojectivity',\n",
              " 'bijouterie',\n",
              " 'coadjustment',\n",
              " 'cojusticiar',\n",
              " 'conjective',\n",
              " 'conjecturable',\n",
              " 'conjecturably',\n",
              " 'conjectural',\n",
              " 'conjecturalist',\n",
              " 'conjecturality',\n",
              " 'conjecturally',\n",
              " 'conjecture',\n",
              " 'conjecturer',\n",
              " 'coprojector',\n",
              " 'counterobjection',\n",
              " 'dejected',\n",
              " 'dejectedly',\n",
              " 'dejectedness',\n",
              " 'dejectile',\n",
              " 'dejection',\n",
              " 'dejectly',\n",
              " 'dejectory',\n",
              " 'dejecture',\n",
              " 'disjection',\n",
              " 'guanajuatite',\n",
              " 'inadjustability',\n",
              " 'inadjustable',\n",
              " 'injectable',\n",
              " 'injection',\n",
              " 'injector',\n",
              " 'injustice',\n",
              " 'insubjection',\n",
              " 'interjection',\n",
              " 'interjectional',\n",
              " 'interjectionalize',\n",
              " 'interjectionally',\n",
              " 'interjectionary',\n",
              " 'interjectionize',\n",
              " 'interjectiveness',\n",
              " 'interjector',\n",
              " 'interjectorily',\n",
              " 'interjectory',\n",
              " 'interjectural',\n",
              " 'interobjective',\n",
              " 'intersubjective',\n",
              " 'introjection',\n",
              " 'introjective',\n",
              " 'majestic',\n",
              " 'majestical',\n",
              " 'majestically',\n",
              " 'majesticalness',\n",
              " 'majesticness',\n",
              " 'majestious',\n",
              " 'majestyship',\n",
              " 'maladjusted',\n",
              " 'maladjustive',\n",
              " 'maladjustment',\n",
              " 'microinjection',\n",
              " 'microprojector',\n",
              " 'misconjecture',\n",
              " 'munjistin',\n",
              " 'nonadjectival',\n",
              " 'nonadjustable',\n",
              " 'nonadjustive',\n",
              " 'nonadjustment',\n",
              " 'nonconjectural',\n",
              " 'nonejection',\n",
              " 'nonobjection',\n",
              " 'nonobjective',\n",
              " 'nonprojection',\n",
              " 'nonprojective',\n",
              " 'nonprojectively',\n",
              " 'nonrejection',\n",
              " 'nonsubjective',\n",
              " 'objectable',\n",
              " 'objectation',\n",
              " 'objectative',\n",
              " 'objectee',\n",
              " 'objecthood',\n",
              " 'objectification',\n",
              " 'objectify',\n",
              " 'objection',\n",
              " 'objectionability',\n",
              " 'objectionable',\n",
              " 'objectionableness',\n",
              " 'objectionably',\n",
              " 'objectional',\n",
              " 'objectioner',\n",
              " 'objectionist',\n",
              " 'objectival',\n",
              " 'objectivate',\n",
              " 'objectivation',\n",
              " 'objective',\n",
              " 'objectively',\n",
              " 'objectiveness',\n",
              " 'objectivism',\n",
              " 'objectivist',\n",
              " 'objectivistic',\n",
              " 'objectivity',\n",
              " 'objectivize',\n",
              " 'objectization',\n",
              " 'objectize',\n",
              " 'objectless',\n",
              " 'objectlessly',\n",
              " 'objectlessness',\n",
              " 'objector',\n",
              " 'outjetting',\n",
              " 'overjutting',\n",
              " 'overobjectify',\n",
              " 'preadjectival',\n",
              " 'preadjective',\n",
              " 'preadjustable',\n",
              " 'preadjustment',\n",
              " 'preconjecture',\n",
              " 'prejustification',\n",
              " 'prejustify',\n",
              " 'preobjection',\n",
              " 'preobjective',\n",
              " 'prerejection',\n",
              " 'presubjection',\n",
              " 'projectable',\n",
              " 'projectedly',\n",
              " 'projectile',\n",
              " 'projecting',\n",
              " 'projectingly',\n",
              " 'projection',\n",
              " 'projectional',\n",
              " 'projectionist',\n",
              " 'projective',\n",
              " 'projectively',\n",
              " 'projectivity',\n",
              " 'projector',\n",
              " 'projectress',\n",
              " 'projectrix',\n",
              " 'projecture',\n",
              " 'readjustable',\n",
              " 'readjuster',\n",
              " 'readjustment',\n",
              " 'rejectable',\n",
              " 'rejectableness',\n",
              " 'rejectage',\n",
              " 'rejectamenta',\n",
              " 'rejecter',\n",
              " 'rejectingly',\n",
              " 'rejection',\n",
              " 'rejective',\n",
              " 'rejectment',\n",
              " 'rejector',\n",
              " 'rejustification',\n",
              " 'rejustify',\n",
              " 'reobjectivization',\n",
              " 'reobjectivize',\n",
              " 'resubjection',\n",
              " 'retrojection',\n",
              " 'semiadjectively',\n",
              " 'subjectability',\n",
              " 'subjectable',\n",
              " 'subjectdom',\n",
              " 'subjected',\n",
              " 'subjectedly',\n",
              " 'subjectedness',\n",
              " 'subjecthood',\n",
              " 'subjectibility',\n",
              " 'subjectible',\n",
              " 'subjectification',\n",
              " 'subjectify',\n",
              " 'subjectile',\n",
              " 'subjection',\n",
              " 'subjectional',\n",
              " 'subjectist',\n",
              " 'subjective',\n",
              " 'subjectively',\n",
              " 'subjectiveness',\n",
              " 'subjectivism',\n",
              " 'subjectivist',\n",
              " 'subjectivistic',\n",
              " 'subjectivistically',\n",
              " 'subjectivity',\n",
              " 'subjectivize',\n",
              " 'subjectivoidealistic',\n",
              " 'subjectless',\n",
              " 'subjectlike',\n",
              " 'subjectness',\n",
              " 'subjectship',\n",
              " 'superdejection',\n",
              " 'superinjustice',\n",
              " 'superjustification',\n",
              " 'superobjection',\n",
              " 'superobjectionable',\n",
              " 'teleobjective',\n",
              " 'trajectile',\n",
              " 'trajection',\n",
              " 'trajectitious',\n",
              " 'trajectory',\n",
              " 'transsubjective',\n",
              " 'unadjectived',\n",
              " 'unadjustably',\n",
              " 'unadjusted',\n",
              " 'unadjustment',\n",
              " 'unconjecturable',\n",
              " 'unconjectured',\n",
              " 'undejected',\n",
              " 'underadjustment',\n",
              " 'unejected',\n",
              " 'uninjectable',\n",
              " 'uninjected',\n",
              " 'uninterjected',\n",
              " 'unjesting',\n",
              " 'unjilted',\n",
              " 'unjolted',\n",
              " 'unjostled',\n",
              " 'unjustice',\n",
              " 'unjusticiable',\n",
              " 'unjustifiable',\n",
              " 'unjustifiableness',\n",
              " 'unjustifiably',\n",
              " 'unjustified',\n",
              " 'unjustifiedly',\n",
              " 'unjustifiedness',\n",
              " 'unjustify',\n",
              " 'unjustled',\n",
              " 'unjustly',\n",
              " 'unjustness',\n",
              " 'unmajestic',\n",
              " 'unobjected',\n",
              " 'unobjectionable',\n",
              " 'unobjectionableness',\n",
              " 'unobjectionably',\n",
              " 'unobjectional',\n",
              " 'unobjective',\n",
              " 'unprojected',\n",
              " 'unprojecting',\n",
              " 'unrejectable',\n",
              " 'unsubjectable',\n",
              " 'unsubjected',\n",
              " 'unsubjectedness',\n",
              " 'unsubjection',\n",
              " 'unsubjective',\n",
              " 'unsubjectlike']"
            ]
          },
          "metadata": {},
          "execution_count": 105
        }
      ]
    },
    {
      "cell_type": "markdown",
      "metadata": {
        "id": "UIIOI1dHCWuB"
      },
      "source": [
        "### Ranges and Closures"
      ]
    },
    {
      "cell_type": "markdown",
      "metadata": {
        "id": "S9mHixiKCYqG"
      },
      "source": [
        "![](https://www.nltk.org/images/T9.png)"
      ]
    },
    {
      "cell_type": "markdown",
      "metadata": {
        "id": "a9raivA9De4W"
      },
      "source": [
        "The T9 system is used for entering text on mobile phones. Two or more words that are entered with the same sequence of keystrokes are known as textonyms. For example, both hole and golf are entered by pressing the sequence 4653. What other words could be produced with the same sequence? Here we use the regular expression `«^[ghi][mno][jlk][def]$»`:"
      ]
    },
    {
      "cell_type": "code",
      "metadata": {
        "id": "vJzXrojqDiJI",
        "colab": {
          "base_uri": "https://localhost:8080/"
        },
        "outputId": "14fc7c99-cbc2-4eb4-c5f5-141b1846eb90"
      },
      "source": [
        "[w for w in wordlist if re.search('^[ghi][mno][jlk][def]$', w)]"
      ],
      "execution_count": 106,
      "outputs": [
        {
          "output_type": "execute_result",
          "data": {
            "text/plain": [
              "['gold', 'golf', 'hold', 'hole']"
            ]
          },
          "metadata": {},
          "execution_count": 106
        }
      ]
    },
    {
      "cell_type": "markdown",
      "metadata": {
        "id": "uFzP65B_Dp4V"
      },
      "source": [
        "The first part of the expression, `«^[ghi]»`, matches the start of a word followed by g, h, or i. The next part of the expression, `«[mno]»`, constrains the second character to be m, n, or o. The third and fourth characters are also constrained. Only four words satisfy all these constraints. Note that the order of characters inside the square brackets is not significant, so we could have written `«^[hig][nom][ljk][fed]$»` and matched the same words."
      ]
    },
    {
      "cell_type": "markdown",
      "metadata": {
        "id": "BZtPEyAzDq3o"
      },
      "source": [
        "**Practise**"
      ]
    },
    {
      "cell_type": "markdown",
      "metadata": {
        "id": "Y0fKBQhcDsjm"
      },
      "source": [
        "**Your Turn:** Look for some \"finger-twisters\", by searching for words that only use part of the number-pad. For example `«^[ghijklmno]+$»`, or more concisely, `«^[g-o]+$»`, will match words that only use keys 4, 5, 6 in the center row, and `«^[a-fj-o]+$»` will match words that use keys 2, 3, 5, 6 in the top-right corner. What do - and + mean?"
      ]
    },
    {
      "cell_type": "code",
      "source": [
        "# Try here\n",
        "# [w for w in wordlist if re.search('^[ghijklmno]+$', w)]\n",
        "\n",
        "[w for w in wordlist if re.search('^[g-o]+$', w)]\n",
        "\n",
        "\n",
        "print(\"-----------------------\")\n",
        "[w for w in wordlist if re.search('^[a-fj-o]+$', w)]\n",
        "\n",
        "# +\tmeans that there is one or more occurrences of that character\n",
        "# - represents the character range. E.g g-o includes all charactes in the alpahabet between g and o while g as well as o are included\n"
      ],
      "metadata": {
        "id": "yyTY_3i88owE",
        "colab": {
          "base_uri": "https://localhost:8080/"
        },
        "outputId": "92c09449-09a9-4fcd-e857-c0c2b1b6a204"
      },
      "execution_count": 107,
      "outputs": [
        {
          "output_type": "stream",
          "name": "stdout",
          "text": [
            "-----------------------\n"
          ]
        },
        {
          "output_type": "execute_result",
          "data": {
            "text/plain": [
              "['a',\n",
              " 'aa',\n",
              " 'aal',\n",
              " 'aam',\n",
              " 'aba',\n",
              " 'abac',\n",
              " 'abaca',\n",
              " 'aback',\n",
              " 'abaff',\n",
              " 'abalone',\n",
              " 'abandon',\n",
              " 'abandonable',\n",
              " 'abandoned',\n",
              " 'abandonee',\n",
              " 'abb',\n",
              " 'abdal',\n",
              " 'abdomen',\n",
              " 'abeam',\n",
              " 'abed',\n",
              " 'abele',\n",
              " 'able',\n",
              " 'abloom',\n",
              " 'abode',\n",
              " 'abolla',\n",
              " 'aboma',\n",
              " 'aboon',\n",
              " 'academe',\n",
              " 'acana',\n",
              " 'acca',\n",
              " 'accede',\n",
              " 'accedence',\n",
              " 'accend',\n",
              " 'accolade',\n",
              " 'accoladed',\n",
              " 'accolle',\n",
              " 'accommodable',\n",
              " 'ace',\n",
              " 'ackman',\n",
              " 'acle',\n",
              " 'acme',\n",
              " 'acne',\n",
              " 'acnodal',\n",
              " 'acnode',\n",
              " 'acock',\n",
              " 'acold',\n",
              " 'acoma',\n",
              " 'acone',\n",
              " 'ad',\n",
              " 'adad',\n",
              " 'adance',\n",
              " 'add',\n",
              " 'adda',\n",
              " 'addable',\n",
              " 'added',\n",
              " 'addend',\n",
              " 'addenda',\n",
              " 'addle',\n",
              " 'ade',\n",
              " 'adead',\n",
              " 'adeem',\n",
              " 'adenocele',\n",
              " 'adenoma',\n",
              " 'adman',\n",
              " 'ado',\n",
              " 'adobe',\n",
              " 'ae',\n",
              " 'aefald',\n",
              " 'aenean',\n",
              " 'aeon',\n",
              " 'aface',\n",
              " 'affa',\n",
              " 'affable',\n",
              " 'aflame',\n",
              " 'afoam',\n",
              " 'ajaja',\n",
              " 'ak',\n",
              " 'aka',\n",
              " 'akala',\n",
              " 'ake',\n",
              " 'akeake',\n",
              " 'akee',\n",
              " 'aknee',\n",
              " 'ako',\n",
              " 'al',\n",
              " 'ala',\n",
              " 'alack',\n",
              " 'alada',\n",
              " 'alala',\n",
              " 'alameda',\n",
              " 'alamo',\n",
              " 'alan',\n",
              " 'aland',\n",
              " 'alb',\n",
              " 'alba',\n",
              " 'alban',\n",
              " 'albe',\n",
              " 'albedo',\n",
              " 'albee',\n",
              " 'alcalde',\n",
              " 'alcanna',\n",
              " 'alclad',\n",
              " 'alco',\n",
              " 'aldane',\n",
              " 'aldol',\n",
              " 'ale',\n",
              " 'aleak',\n",
              " 'alec',\n",
              " 'alee',\n",
              " 'alef',\n",
              " 'alem',\n",
              " 'alemana',\n",
              " 'alemmal',\n",
              " 'alen',\n",
              " 'alf',\n",
              " 'alfa',\n",
              " 'alfaje',\n",
              " 'alfalfa',\n",
              " 'aljoba',\n",
              " 'alk',\n",
              " 'alkane',\n",
              " 'alkene',\n",
              " 'alkenna',\n",
              " 'alkool',\n",
              " 'all',\n",
              " 'allan',\n",
              " 'allbone',\n",
              " 'allele',\n",
              " 'allemand',\n",
              " 'allemande',\n",
              " 'allene',\n",
              " 'allocable',\n",
              " 'alma',\n",
              " 'almanac',\n",
              " 'alme',\n",
              " 'almon',\n",
              " 'almond',\n",
              " 'aln',\n",
              " 'alo',\n",
              " 'alod',\n",
              " 'aloe',\n",
              " 'aloed',\n",
              " 'aloma',\n",
              " 'alone',\n",
              " 'aloof',\n",
              " 'am',\n",
              " 'ama',\n",
              " 'amakebe',\n",
              " 'amala',\n",
              " 'amalaka',\n",
              " 'amba',\n",
              " 'ambalam',\n",
              " 'amban',\n",
              " 'amble',\n",
              " 'ambo',\n",
              " 'ambomalleal',\n",
              " 'ambon',\n",
              " 'ame',\n",
              " 'ameed',\n",
              " 'ameen',\n",
              " 'amen',\n",
              " 'amenable',\n",
              " 'amend',\n",
              " 'amendable',\n",
              " 'amende',\n",
              " 'amene',\n",
              " 'amla',\n",
              " 'amma',\n",
              " 'amman',\n",
              " 'ammo',\n",
              " 'ammonal',\n",
              " 'ammono',\n",
              " 'amoeba',\n",
              " 'amoebae',\n",
              " 'amoebaean',\n",
              " 'amoeban',\n",
              " 'amok',\n",
              " 'amoke',\n",
              " 'amole',\n",
              " 'amomal',\n",
              " 'an',\n",
              " 'ana',\n",
              " 'anabo',\n",
              " 'anaconda',\n",
              " 'anadem',\n",
              " 'anal',\n",
              " 'analemma',\n",
              " 'anam',\n",
              " 'anama',\n",
              " 'anan',\n",
              " 'anana',\n",
              " 'ananda',\n",
              " 'anba',\n",
              " 'ancon',\n",
              " 'anconad',\n",
              " 'anconal',\n",
              " 'ancone',\n",
              " 'anconeal',\n",
              " 'and',\n",
              " 'anda',\n",
              " 'anele',\n",
              " 'anemonal',\n",
              " 'anemone',\n",
              " 'anemonol',\n",
              " 'anend',\n",
              " 'anjan',\n",
              " 'ankee',\n",
              " 'ankle',\n",
              " 'anklebone',\n",
              " 'anklejack',\n",
              " 'anlace',\n",
              " 'ann',\n",
              " 'anna',\n",
              " 'annal',\n",
              " 'annale',\n",
              " 'anneal',\n",
              " 'annona',\n",
              " 'anoa',\n",
              " 'anodal',\n",
              " 'anode',\n",
              " 'anole',\n",
              " 'anon',\n",
              " 'anonol',\n",
              " 'b',\n",
              " 'ba',\n",
              " 'baa',\n",
              " 'baal',\n",
              " 'baba',\n",
              " 'babble',\n",
              " 'babe',\n",
              " 'baboen',\n",
              " 'baboo',\n",
              " 'baboodom',\n",
              " 'baboon',\n",
              " 'bac',\n",
              " 'bacaba',\n",
              " 'bacalao',\n",
              " 'bacao',\n",
              " 'bacca',\n",
              " 'baccae',\n",
              " 'back',\n",
              " 'backband',\n",
              " 'backbone',\n",
              " 'backboned',\n",
              " 'backed',\n",
              " 'backen',\n",
              " 'backfall',\n",
              " 'backfold',\n",
              " 'bacon',\n",
              " 'bad',\n",
              " 'badan',\n",
              " 'baddock',\n",
              " 'bade',\n",
              " 'badland',\n",
              " 'bae',\n",
              " 'baff',\n",
              " 'baffle',\n",
              " 'bajada',\n",
              " 'bajan',\n",
              " 'baka',\n",
              " 'bakal',\n",
              " 'bake',\n",
              " 'baked',\n",
              " 'baken',\n",
              " 'bal',\n",
              " 'balafo',\n",
              " 'balance',\n",
              " 'balanceable',\n",
              " 'balanced',\n",
              " 'balancelle',\n",
              " 'balanceman',\n",
              " 'balanocele',\n",
              " 'balao',\n",
              " 'balboa',\n",
              " 'bald',\n",
              " 'balden',\n",
              " 'bale',\n",
              " 'baleen',\n",
              " 'balk',\n",
              " 'ball',\n",
              " 'ballad',\n",
              " 'ballade',\n",
              " 'ballam',\n",
              " 'ballan',\n",
              " 'balldom',\n",
              " 'balled',\n",
              " 'balloon',\n",
              " 'balm',\n",
              " 'balmacaan',\n",
              " 'balneal',\n",
              " 'balonea',\n",
              " 'baloo',\n",
              " 'bam',\n",
              " 'bamban',\n",
              " 'bamboo',\n",
              " 'ban',\n",
              " 'banaba',\n",
              " 'banak',\n",
              " 'banal',\n",
              " 'banana',\n",
              " 'banc',\n",
              " 'banca',\n",
              " 'bancal',\n",
              " 'banco',\n",
              " 'band',\n",
              " 'banda',\n",
              " 'bandaka',\n",
              " 'bandala',\n",
              " 'bandanna',\n",
              " 'bandannaed',\n",
              " 'bande',\n",
              " 'banded',\n",
              " 'bandle',\n",
              " 'bandman',\n",
              " 'bando',\n",
              " 'bane',\n",
              " 'banjo',\n",
              " 'bank',\n",
              " 'bankable',\n",
              " 'bankbook',\n",
              " 'banked',\n",
              " 'bankman',\n",
              " 'bannock',\n",
              " 'baobab',\n",
              " 'be',\n",
              " 'beacon',\n",
              " 'bead',\n",
              " 'beaded',\n",
              " 'beadle',\n",
              " 'beadledom',\n",
              " 'beadman',\n",
              " 'beak',\n",
              " 'beaked',\n",
              " 'beal',\n",
              " 'beala',\n",
              " 'beam',\n",
              " 'beamed',\n",
              " 'beamman',\n",
              " 'bean',\n",
              " 'beancod',\n",
              " 'beano',\n",
              " 'beback',\n",
              " 'beballed',\n",
              " 'bebed',\n",
              " 'bebled',\n",
              " 'beblood',\n",
              " 'bebloom',\n",
              " 'becall',\n",
              " 'becalm',\n",
              " 'beck',\n",
              " 'beckon',\n",
              " 'beclad',\n",
              " 'becloak',\n",
              " 'becolme',\n",
              " 'becombed',\n",
              " 'become',\n",
              " 'becomma',\n",
              " 'becoom',\n",
              " 'bed',\n",
              " 'bedabble',\n",
              " 'bedad',\n",
              " 'bedamn',\n",
              " 'bedded',\n",
              " 'bedead',\n",
              " 'bedeaf',\n",
              " 'bedeafen',\n",
              " 'bedeck',\n",
              " 'bedel',\n",
              " 'beden',\n",
              " 'bedene',\n",
              " 'bedlam',\n",
              " 'bedman',\n",
              " 'bee',\n",
              " 'beedom',\n",
              " 'beef',\n",
              " 'beek',\n",
              " 'beelol',\n",
              " 'beeman',\n",
              " 'been',\n",
              " 'befall',\n",
              " 'befame',\n",
              " 'befan',\n",
              " 'befanned',\n",
              " 'beflannel',\n",
              " 'beflea',\n",
              " 'befleck',\n",
              " 'befoam',\n",
              " 'befool',\n",
              " 'bejade',\n",
              " 'bejan',\n",
              " 'bejel',\n",
              " 'bekko',\n",
              " 'bel',\n",
              " 'bela',\n",
              " 'belaced',\n",
              " 'beladle',\n",
              " 'belam',\n",
              " 'belanda',\n",
              " 'beld',\n",
              " 'beldam',\n",
              " 'beleaf',\n",
              " 'belee',\n",
              " 'bell',\n",
              " 'belladonna',\n",
              " 'belle',\n",
              " 'belled',\n",
              " 'belledom',\n",
              " 'bellman',\n",
              " 'beloam',\n",
              " 'bema',\n",
              " 'bemad',\n",
              " 'bemadam',\n",
              " 'beman',\n",
              " 'bemeal',\n",
              " 'bemean',\n",
              " 'bemedaled',\n",
              " 'bemedalled',\n",
              " 'bemoan',\n",
              " 'bemoanable',\n",
              " 'bemock',\n",
              " 'bemole',\n",
              " 'bemoon',\n",
              " 'ben',\n",
              " 'bena',\n",
              " 'benab',\n",
              " 'bename',\n",
              " 'benben',\n",
              " 'bend',\n",
              " 'benda',\n",
              " 'bendable',\n",
              " 'bended',\n",
              " 'bene',\n",
              " 'benj',\n",
              " 'benn',\n",
              " 'benne',\n",
              " 'bennel',\n",
              " 'beno',\n",
              " 'beode',\n",
              " 'blab',\n",
              " 'black',\n",
              " 'blackback',\n",
              " 'blackball',\n",
              " 'blackband',\n",
              " 'blackcock',\n",
              " 'blacken',\n",
              " 'blackface',\n",
              " 'blackjack',\n",
              " 'blackland',\n",
              " 'blackneb',\n",
              " 'blackneck',\n",
              " 'blacknob',\n",
              " 'blad',\n",
              " 'blade',\n",
              " 'bladebone',\n",
              " 'bladed',\n",
              " 'blae',\n",
              " 'blaff',\n",
              " 'blake',\n",
              " 'blamable',\n",
              " 'blame',\n",
              " 'blamed',\n",
              " 'blan',\n",
              " 'blanc',\n",
              " 'blanca',\n",
              " 'blanco',\n",
              " 'bland',\n",
              " 'blanda',\n",
              " 'blank',\n",
              " 'blankbook',\n",
              " 'blanked',\n",
              " 'blankeel',\n",
              " 'bleak',\n",
              " 'bleb',\n",
              " 'bleck',\n",
              " 'blee',\n",
              " 'bleed',\n",
              " 'bleekbok',\n",
              " 'blend',\n",
              " 'blende',\n",
              " 'blended',\n",
              " 'blennocele',\n",
              " 'blennoma',\n",
              " 'bleo',\n",
              " 'blo',\n",
              " 'blob',\n",
              " 'blobbed',\n",
              " 'bloc',\n",
              " 'block',\n",
              " 'blockade',\n",
              " 'blocked',\n",
              " 'blockman',\n",
              " 'bloke',\n",
              " 'blonde',\n",
              " 'blood',\n",
              " 'blooded',\n",
              " 'bloodleaf',\n",
              " 'bloom',\n",
              " 'bloomfell',\n",
              " 'bo',\n",
              " 'boa',\n",
              " 'bob',\n",
              " 'boba',\n",
              " 'bobac',\n",
              " 'bobbed',\n",
              " 'bobble',\n",
              " 'bobo',\n",
              " 'bocal',\n",
              " 'bocca',\n",
              " 'boccale',\n",
              " 'bocce',\n",
              " 'boce',\n",
              " 'bock',\n",
              " 'bod',\n",
              " 'bode',\n",
              " 'boden',\n",
              " 'bodle',\n",
              " 'bodock',\n",
              " 'bojo',\n",
              " 'bokadam',\n",
              " 'boke',\n",
              " 'bokom',\n",
              " 'bola',\n",
              " 'bold',\n",
              " 'bolden',\n",
              " 'boldo',\n",
              " 'bole',\n",
              " 'boled',\n",
              " 'bolk',\n",
              " 'boll',\n",
              " 'bolled',\n",
              " 'bollock',\n",
              " 'bolo',\n",
              " 'boloman',\n",
              " 'bom',\n",
              " 'boma',\n",
              " 'bomb',\n",
              " 'bombable',\n",
              " 'bombed',\n",
              " 'bombo',\n",
              " 'bombola',\n",
              " 'bombonne',\n",
              " 'bon',\n",
              " 'bonbon',\n",
              " 'bonce',\n",
              " 'bond',\n",
              " 'bonded',\n",
              " 'bondfolk',\n",
              " 'bondman',\n",
              " 'bone',\n",
              " 'boneblack',\n",
              " 'boned',\n",
              " 'bonk',\n",
              " 'boo',\n",
              " 'boob',\n",
              " 'boobook',\n",
              " 'bood',\n",
              " 'boodle',\n",
              " 'boodledom',\n",
              " 'boof',\n",
              " 'book',\n",
              " 'bookable',\n",
              " 'bookdom',\n",
              " 'booked',\n",
              " 'bookfold',\n",
              " 'bookland',\n",
              " 'bookman',\n",
              " 'bool',\n",
              " 'boom',\n",
              " 'boomable',\n",
              " 'boon',\n",
              " 'boondock',\n",
              " 'boonk',\n",
              " 'c',\n",
              " 'ca',\n",
              " 'caam',\n",
              " 'caama',\n",
              " 'cab',\n",
              " 'caba',\n",
              " 'cabaan',\n",
              " 'caback',\n",
              " 'cabal',\n",
              " 'cabala',\n",
              " 'caban',\n",
              " 'cabana',\n",
              " 'cabble',\n",
              " 'cabda',\n",
              " 'cable',\n",
              " 'cabled',\n",
              " 'cableman',\n",
              " 'cabman',\n",
              " 'cabob',\n",
              " 'cabocle',\n",
              " 'caboodle',\n",
              " 'cabook',\n",
              " 'cacam',\n",
              " 'cacao',\n",
              " 'cack',\n",
              " 'cackle',\n",
              " 'cacodemon',\n",
              " 'cacoon',\n",
              " 'cad',\n",
              " 'cadalene',\n",
              " 'cadamba',\n",
              " 'caddle',\n",
              " 'cade',\n",
              " 'cadelle',\n",
              " 'cadence',\n",
              " 'cadenced',\n",
              " 'cadjan',\n",
              " 'cadlock',\n",
              " 'caeca',\n",
              " 'caecal',\n",
              " 'caeoma',\n",
              " 'caffa',\n",
              " 'caffeol',\n",
              " 'caffeone',\n",
              " 'caffle',\n",
              " 'cajole',\n",
              " 'cake',\n",
              " 'cal',\n",
              " 'calaba',\n",
              " 'calade',\n",
              " 'calamanco',\n",
              " 'calambac',\n",
              " 'calcaneal',\n",
              " 'calced',\n",
              " 'calden',\n",
              " 'calean',\n",
              " 'calendal',\n",
              " 'calf',\n",
              " 'calk',\n",
              " 'call',\n",
              " 'callable',\n",
              " 'callo',\n",
              " 'calm',\n",
              " 'calodemon',\n",
              " 'calomba',\n",
              " 'calomel',\n",
              " 'calool',\n",
              " 'cam',\n",
              " 'camaca',\n",
              " 'caman',\n",
              " 'camb',\n",
              " 'came',\n",
              " 'camel',\n",
              " 'camelback',\n",
              " 'camelman',\n",
              " 'cameo',\n",
              " 'cammed',\n",
              " 'cammock',\n",
              " 'can',\n",
              " 'canaba',\n",
              " 'canada',\n",
              " 'canadol',\n",
              " 'canal',\n",
              " 'canalman',\n",
              " 'canamo',\n",
              " 'cancan',\n",
              " 'cancel',\n",
              " 'cancelable',\n",
              " 'cand',\n",
              " 'candela',\n",
              " 'candle',\n",
              " 'candleball',\n",
              " 'candlebeam',\n",
              " 'candlebomb',\n",
              " 'candock',\n",
              " 'cane',\n",
              " 'canel',\n",
              " 'canella',\n",
              " 'canelo',\n",
              " 'canjac',\n",
              " 'cank',\n",
              " 'canman',\n",
              " 'canna',\n",
              " 'canned',\n",
              " 'cannel',\n",
              " 'cannon',\n",
              " 'cannonade',\n",
              " 'cannoned',\n",
              " 'canoe',\n",
              " 'canoeload',\n",
              " 'canoeman',\n",
              " 'canon',\n",
              " 'canoodle',\n",
              " 'caoba',\n",
              " 'ce',\n",
              " 'cebell',\n",
              " 'cede',\n",
              " 'cee',\n",
              " 'celadon',\n",
              " 'cell',\n",
              " 'cella',\n",
              " 'cellae',\n",
              " 'celled',\n",
              " 'cello',\n",
              " 'cembalo',\n",
              " 'cenacle',\n",
              " 'clack',\n",
              " 'clad',\n",
              " 'cladode',\n",
              " 'clam',\n",
              " 'clamb',\n",
              " 'clambake',\n",
              " 'clame',\n",
              " 'clammed',\n",
              " 'clan',\n",
              " 'clank',\n",
              " 'clanned',\n",
              " 'clead',\n",
              " 'cleaded',\n",
              " 'cleam',\n",
              " 'clean',\n",
              " 'cleanable',\n",
              " 'cleck',\n",
              " 'cled',\n",
              " 'clee',\n",
              " 'cleek',\n",
              " 'cleeked',\n",
              " 'clef',\n",
              " 'clem',\n",
              " 'clemence',\n",
              " 'cloaca',\n",
              " 'cloacal',\n",
              " 'cloacean',\n",
              " 'cloak',\n",
              " 'cloaked',\n",
              " 'cloam',\n",
              " 'cloamen',\n",
              " 'clock',\n",
              " 'clocked',\n",
              " 'clockface',\n",
              " 'clod',\n",
              " 'cloff',\n",
              " 'clomb',\n",
              " 'clomben',\n",
              " 'clonal',\n",
              " 'clone',\n",
              " 'cloof',\n",
              " 'coabode',\n",
              " 'coadjacence',\n",
              " 'coak',\n",
              " 'coal',\n",
              " 'cob',\n",
              " 'cobaea',\n",
              " 'cobbed',\n",
              " 'cobble',\n",
              " 'cobcab',\n",
              " 'coble',\n",
              " 'cobleman',\n",
              " 'cobloaf',\n",
              " 'cobola',\n",
              " 'coca',\n",
              " 'coccal',\n",
              " 'cocco',\n",
              " 'cock',\n",
              " 'cockade',\n",
              " 'cockaded',\n",
              " 'cockal',\n",
              " 'cockbell',\n",
              " 'cocked',\n",
              " 'cockle',\n",
              " 'cockled',\n",
              " 'coco',\n",
              " 'cocoa',\n",
              " 'cocobolo',\n",
              " 'cocoon',\n",
              " 'cod',\n",
              " 'coda',\n",
              " 'codbank',\n",
              " 'coddle',\n",
              " 'code',\n",
              " 'codman',\n",
              " 'codo',\n",
              " 'codol',\n",
              " 'codon',\n",
              " 'coe',\n",
              " 'coecal',\n",
              " 'coed',\n",
              " 'coelom',\n",
              " 'coeloma',\n",
              " 'coembedded',\n",
              " 'coenflame',\n",
              " 'coenobe',\n",
              " 'cofeoffee',\n",
              " 'coff',\n",
              " 'coffee',\n",
              " 'coffeecake',\n",
              " 'coffeeleaf',\n",
              " 'coffle',\n",
              " 'coke',\n",
              " 'cokeman',\n",
              " 'col',\n",
              " 'cola',\n",
              " 'colane',\n",
              " 'colback',\n",
              " 'colcannon',\n",
              " 'cold',\n",
              " 'cole',\n",
              " 'colecannon',\n",
              " 'colk',\n",
              " 'coll',\n",
              " 'colleen',\n",
              " 'collembolan',\n",
              " 'collembole',\n",
              " 'collocal',\n",
              " 'collock',\n",
              " 'coloboma',\n",
              " 'colocola',\n",
              " 'colon',\n",
              " 'colonel',\n",
              " 'colonnade',\n",
              " 'colonnaded',\n",
              " 'coma',\n",
              " 'comal',\n",
              " 'comb',\n",
              " 'combed',\n",
              " 'comble',\n",
              " 'come',\n",
              " 'comeback',\n",
              " 'comedo',\n",
              " 'comma',\n",
              " 'command',\n",
              " 'commandable',\n",
              " 'commando',\n",
              " 'commandoman',\n",
              " 'commeddle',\n",
              " 'commence',\n",
              " 'commenceable',\n",
              " 'commend',\n",
              " 'commendable',\n",
              " 'commendam',\n",
              " 'commode',\n",
              " 'common',\n",
              " 'commonable',\n",
              " 'con',\n",
              " 'conal',\n",
              " 'conamed',\n",
              " 'conceal',\n",
              " 'concealable',\n",
              " 'concealed',\n",
              " 'concede',\n",
              " 'conceded',\n",
              " 'cond',\n",
              " 'condemn',\n",
              " 'condemnable',\n",
              " 'condemned',\n",
              " 'condole',\n",
              " 'condolence',\n",
              " 'condonable',\n",
              " 'condonance',\n",
              " 'condone',\n",
              " 'cone',\n",
              " 'coned',\n",
              " 'coneen',\n",
              " 'confab',\n",
              " 'confocal',\n",
              " 'conjobble',\n",
              " 'conk',\n",
              " 'conkanee',\n",
              " 'conn',\n",
              " 'coo',\n",
              " 'cooba',\n",
              " 'coodle',\n",
              " 'cooee',\n",
              " 'coof',\n",
              " 'cooja',\n",
              " 'cook',\n",
              " 'cookable',\n",
              " 'cookbook',\n",
              " 'cookdom',\n",
              " 'cookee',\n",
              " 'cool',\n",
              " 'coolen',\n",
              " 'coom',\n",
              " 'coomb',\n",
              " 'coon',\n",
              " 'cooncan',\n",
              " 'd',\n",
              " 'da',\n",
              " 'dab',\n",
              " 'dabb',\n",
              " 'dabba',\n",
              " 'dabble',\n",
              " 'dace',\n",
              " 'dad',\n",
              " 'dada',\n",
              " 'daddle',\n",
              " 'daddock',\n",
              " 'dade',\n",
              " 'dado',\n",
              " 'dae',\n",
              " 'daedal',\n",
              " 'daemon',\n",
              " 'daff',\n",
              " 'daffle',\n",
              " 'dak',\n",
              " 'dal',\n",
              " 'dale',\n",
              " 'daleman',\n",
              " 'dalk',\n",
              " 'dallack',\n",
              " 'dalle',\n",
              " 'dam',\n",
              " 'dama',\n",
              " 'daman',\n",
              " 'dame',\n",
              " 'damme',\n",
              " 'damn',\n",
              " 'damnable',\n",
              " 'damned',\n",
              " 'dan',\n",
              " 'dance',\n",
              " 'dand',\n",
              " 'danda',\n",
              " 'dandle',\n",
              " 'dank',\n",
              " 'dannock',\n",
              " 'dao',\n",
              " 'de',\n",
              " 'deacon',\n",
              " 'deaconal',\n",
              " 'dead',\n",
              " 'deaden',\n",
              " 'deadfall',\n",
              " 'deadlock',\n",
              " 'deadman',\n",
              " 'deaf',\n",
              " 'deafen',\n",
              " 'deal',\n",
              " 'dealable',\n",
              " 'dean',\n",
              " 'deb',\n",
              " 'debacle',\n",
              " 'deben',\n",
              " 'decad',\n",
              " 'decadal',\n",
              " 'decade',\n",
              " 'decadence',\n",
              " 'decal',\n",
              " 'decan',\n",
              " 'decanal',\n",
              " 'decane',\n",
              " 'decence',\n",
              " 'decene',\n",
              " 'decennal',\n",
              " 'deck',\n",
              " 'decke',\n",
              " 'decked',\n",
              " 'deckel',\n",
              " 'deckle',\n",
              " 'deckload',\n",
              " 'decode',\n",
              " 'decoke',\n",
              " 'dedo',\n",
              " 'dee',\n",
              " 'deed',\n",
              " 'deedeed',\n",
              " 'deem',\n",
              " 'deface',\n",
              " 'defaceable',\n",
              " 'defalk',\n",
              " 'defame',\n",
              " 'defamed',\n",
              " 'defence',\n",
              " 'defend',\n",
              " 'defendable',\n",
              " 'dekko',\n",
              " 'dekle',\n",
              " 'dele',\n",
              " 'delead',\n",
              " 'delenda',\n",
              " 'delf',\n",
              " 'dell',\n",
              " 'demal',\n",
              " 'demand',\n",
              " 'demandable',\n",
              " 'deme',\n",
              " 'demean',\n",
              " 'demob',\n",
              " 'demoded',\n",
              " 'demon',\n",
              " 'demonland',\n",
              " 'den',\n",
              " 'denda',\n",
              " 'dene',\n",
              " 'deodand',\n",
              " 'do',\n",
              " 'doab',\n",
              " 'doable',\n",
              " 'dob',\n",
              " 'dobbed',\n",
              " 'dobe',\n",
              " 'dobla',\n",
              " 'doblon',\n",
              " 'doc',\n",
              " 'dock',\n",
              " 'docken',\n",
              " 'dockland',\n",
              " 'dockman',\n",
              " 'docmac',\n",
              " ...]"
            ]
          },
          "metadata": {},
          "execution_count": 107
        }
      ]
    },
    {
      "cell_type": "markdown",
      "metadata": {
        "id": "eE5VtU3x_rxu"
      },
      "source": [
        "**Your Turn:** Look for some \"finger-twisters\", by searching for words that only use part of the number-pad. For example `«^[ghijklmno]+$»`, or more concisely, `«^[g-o]+$»`, will match words that only use keys 4, 5, 6 in the center row, and `«^[a-fj-o]+$»` will match words that use keys 2, 3, 5, 6 in the top-right corner. What do - and + mean?"
      ]
    },
    {
      "cell_type": "markdown",
      "metadata": {
        "id": "Sc5z8vAvEhE2"
      },
      "source": [
        "Let's explore the `+` symbol a bit further. Notice that it can be applied to individual letters, or to bracketed sets of letters:"
      ]
    },
    {
      "cell_type": "code",
      "metadata": {
        "id": "8gks-xMmFMDo",
        "colab": {
          "base_uri": "https://localhost:8080/"
        },
        "outputId": "894890f3-375a-421a-c8a6-638cd44140ca"
      },
      "source": [
        "chat_words = sorted(set(w for w in nltk.corpus.nps_chat.words()))\n",
        "# ^ matches any character other than a vowel\n",
        "[w for w in chat_words if re.search('^m+i+n+e+$', w)]"
      ],
      "execution_count": 108,
      "outputs": [
        {
          "output_type": "execute_result",
          "data": {
            "text/plain": [
              "['miiiiiiiiiiiiinnnnnnnnnnneeeeeeeeee',\n",
              " 'miiiiiinnnnnnnnnneeeeeeee',\n",
              " 'mine',\n",
              " 'mmmmmmmmiiiiiiiiinnnnnnnnneeeeeeee']"
            ]
          },
          "metadata": {},
          "execution_count": 108
        }
      ]
    },
    {
      "cell_type": "code",
      "source": [
        "[w for w in chat_words if re.search('^[ha]+$', w)]"
      ],
      "metadata": {
        "id": "Pc88Vn6v-B7h",
        "colab": {
          "base_uri": "https://localhost:8080/"
        },
        "outputId": "44b9f353-8991-49cf-d9d6-da99a12924fa"
      },
      "execution_count": 109,
      "outputs": [
        {
          "output_type": "execute_result",
          "data": {
            "text/plain": [
              "['a',\n",
              " 'aaaaaaaaaaaaaaaaa',\n",
              " 'aaahhhh',\n",
              " 'ah',\n",
              " 'ahah',\n",
              " 'ahahah',\n",
              " 'ahh',\n",
              " 'ahhahahaha',\n",
              " 'ahhh',\n",
              " 'ahhhh',\n",
              " 'ahhhhhh',\n",
              " 'ahhhhhhhhhhhhhh',\n",
              " 'h',\n",
              " 'ha',\n",
              " 'haaa',\n",
              " 'hah',\n",
              " 'haha',\n",
              " 'hahaaa',\n",
              " 'hahah',\n",
              " 'hahaha',\n",
              " 'hahahaa',\n",
              " 'hahahah',\n",
              " 'hahahaha',\n",
              " 'hahahahaaa',\n",
              " 'hahahahahaha',\n",
              " 'hahahahahahaha',\n",
              " 'hahahahahahahahahahahahahahahaha',\n",
              " 'hahahhahah',\n",
              " 'hahhahahaha']"
            ]
          },
          "metadata": {},
          "execution_count": 109
        }
      ]
    },
    {
      "cell_type": "markdown",
      "metadata": {
        "id": "8hgDyfWNFStY"
      },
      "source": [
        "It should be clear that `+` simply means \"one or more instances of the preceding item\", which could be an individual character like m, a set like `[fed]` or a range like `[d-f]`. Now let's replace `+` with `*`, which means \"zero or more instances of the preceding item\". The regular expression `«^m*i*n*e*$»` will match everything that we found using `«^m+i+n+e+$»`, but also words where some of the letters don't appear at all, e.g. me, min, and mmmmm. Note that the `+` and `*` symbols are sometimes referred to as **Kleene closures**, or simply **closures**."
      ]
    },
    {
      "cell_type": "markdown",
      "metadata": {
        "id": "RIubd4vnFYP9"
      },
      "source": [
        "### Regular Expression Meta-Characters, Including Wildcards, Ranges and Closures"
      ]
    },
    {
      "cell_type": "markdown",
      "metadata": {
        "id": "8-FGtxYVF3Uk"
      },
      "source": [
        "|  Operator  |                                    Behavior                                   |   |   |   |\n",
        "|:----------:|:-----------------------------------------------------------------------------:|---|---|---|\n",
        "| .          | Wildcard, matches any character                                               |   |   |   |\n",
        "| ^abc       | Matches some pattern abc at the start of a string                             |   |   |   |\n",
        "| abc$       | Matches some pattern abc at the end of a string                               |   |   |   |\n",
        "| [abc]      | Matches one of a set of characters                                            |   |   |   |\n",
        "| [A-Z0-9]   | Matches one of a range of characters                                          |   |   |   |\n",
        "| ed\\|ing\\|s | Matches one of the specified strings (disjunction)                            |   |   |   |\n",
        "| *          | Zero or more of previous item, e.g. a*, [a-z]* (also known as Kleene Closure) |   |   |   |\n",
        "| +          | One or more of previous item, e.g. a+, [a-z]+                                 |   |   |   |\n",
        "| ?          | Zero or one of the previous item (i.e. optional), e.g. a?, [a-z]?             |   |   |   |\n",
        "| {n}        | Exactly n repeats where n is a non-negative integer                           |   |   |   |\n",
        "| {n,}       | At least n repeats                                                            |   |   |   |\n",
        "| {,n}       | No more than n repeats                                                        |   |   |   |\n",
        "| {m,n}      | At least m and no more than n repeats                                         |   |   |   |\n",
        "| a(b\\|c)+   | Parentheses that indicate the scope of the operators                          |   |   |   |"
      ]
    },
    {
      "cell_type": "markdown",
      "metadata": {
        "id": "o57VHlWpu74k"
      },
      "source": [
        "## 4. Useful Applications of Regular Expressions\n",
        "\n",
        "The above examples all involved searching for words w that match some regular expression regexp using `re.search(regexp, w)`. Apart from checking if a regular expression matches a word, we can use regular expressions to extract material from words, or to modify words in specific ways."
      ]
    },
    {
      "cell_type": "markdown",
      "metadata": {
        "id": "uxaMpdEUFPJE"
      },
      "source": [
        "### Extracting Word Pieces"
      ]
    },
    {
      "cell_type": "markdown",
      "metadata": {
        "id": "woOL04GFF8-L"
      },
      "source": [
        "The `re.findall()` method finds all (non-overlapping) matches of the given regular expression."
      ]
    },
    {
      "cell_type": "code",
      "metadata": {
        "id": "SHVHnShWE2Nq",
        "colab": {
          "base_uri": "https://localhost:8080/"
        },
        "outputId": "777729b7-4f4e-4c4a-fdea-ea2a24ee4bb0"
      },
      "source": [
        "word = 'supercalifragilisticexpialidocious'\n",
        "re.findall(r'[aeiou]', word)"
      ],
      "execution_count": 110,
      "outputs": [
        {
          "output_type": "execute_result",
          "data": {
            "text/plain": [
              "['u',\n",
              " 'e',\n",
              " 'a',\n",
              " 'i',\n",
              " 'a',\n",
              " 'i',\n",
              " 'i',\n",
              " 'i',\n",
              " 'e',\n",
              " 'i',\n",
              " 'a',\n",
              " 'i',\n",
              " 'o',\n",
              " 'i',\n",
              " 'o',\n",
              " 'u']"
            ]
          },
          "metadata": {},
          "execution_count": 110
        }
      ]
    },
    {
      "cell_type": "markdown",
      "metadata": {
        "id": "hfnvxe8oJyb9"
      },
      "source": [
        "Let's look for all sequences of two or more vowels in some text, and determine their relative frequency:"
      ]
    },
    {
      "cell_type": "code",
      "metadata": {
        "id": "1q2UTTrBGkQh",
        "colab": {
          "base_uri": "https://localhost:8080/"
        },
        "outputId": "f4653d12-e68d-4461-a36e-edb08138e6b7"
      },
      "source": [
        "wsj = sorted(set(nltk.corpus.treebank.words()))\n",
        "# We write {2,} for finding two vowels in findall function's first argument\n",
        "# You can change it to something else such as {3,}\n",
        "fd = nltk.FreqDist(vs for word in wsj for vs\n",
        "                   in re.findall(r'[aeiou]{2,}', word))\n",
        "fd.most_common(12)"
      ],
      "execution_count": 111,
      "outputs": [
        {
          "output_type": "execute_result",
          "data": {
            "text/plain": [
              "[('io', 549),\n",
              " ('ea', 476),\n",
              " ('ie', 331),\n",
              " ('ou', 329),\n",
              " ('ai', 261),\n",
              " ('ia', 253),\n",
              " ('ee', 217),\n",
              " ('oo', 174),\n",
              " ('ua', 109),\n",
              " ('au', 106),\n",
              " ('ue', 105),\n",
              " ('ui', 95)]"
            ]
          },
          "metadata": {},
          "execution_count": 111
        }
      ]
    },
    {
      "cell_type": "markdown",
      "metadata": {
        "id": "kKGi-ja5LNHC"
      },
      "source": [
        "### Doing More with Word Pieces"
      ]
    },
    {
      "cell_type": "markdown",
      "metadata": {
        "id": "9_mOvEjMLNET"
      },
      "source": [
        "We can use `re.findall()` to extract material from words, now we can glue them together or plot these pieces.\n",
        "\n",
        "It is sometimes noted that English text is highly redundant, and it is still easy to read when word-internal vowels are left out. For example, declaration becomes dclrtn, and inalienable becomes inlnble, retaining any initial or final vowel sequences. The regular expression in our next example matches initial vowel sequences, final vowel sequences, and all consonants; everything else is ignored. This three-way disjunction is processed left-to-right, if one of the three parts matches the word, any later parts of the regular expression are ignored. We use `re.findall()` to extract all the matching pieces, and `''.join()` to join them together."
      ]
    },
    {
      "cell_type": "code",
      "metadata": {
        "id": "xHuQIyHydwOF",
        "colab": {
          "base_uri": "https://localhost:8080/"
        },
        "outputId": "5eb33aa3-9552-49d6-83bd-3da7be981ee5"
      },
      "source": [
        "'''re.findall() to extract all the matching pieces,\n",
        "and ''.join() to join them together.'''\n",
        "\n",
        "regexp = r'^[AEIOUaeiou]+|[AEIOUaeiou]+$|[^AEIOUaeiou]'\n",
        "\n",
        "def compress(word):\n",
        "  pieces = re.findall(regexp, word)\n",
        "  return ''.join(pieces)\n",
        "\n",
        "english_udhr = nltk.corpus.udhr.words('English-Latin1')\n",
        "print(nltk.tokenwrap(compress(w) for w in english_udhr[:75]))\n",
        "\n",
        "# .tokenwrap: print a list of text tokens, breaking lines on whitespace."
      ],
      "execution_count": 112,
      "outputs": [
        {
          "output_type": "stream",
          "name": "stdout",
          "text": [
            "Unvrsl Dclrtn of Hmn Rghts Prmble Whrs rcgntn of the inhrnt dgnty and\n",
            "of the eql and inlnble rghts of all mmbrs of the hmn fmly is the fndtn\n",
            "of frdm , jstce and pce in the wrld , Whrs dsrgrd and cntmpt fr hmn\n",
            "rghts hve rsltd in brbrs acts whch hve outrgd the cnscnce of mnknd ,\n",
            "and the advnt of a wrld in whch hmn bngs shll enjy frdm of spch and\n"
          ]
        }
      ]
    },
    {
      "cell_type": "markdown",
      "metadata": {
        "id": "gUJ9vCs1eTSz"
      },
      "source": [
        "Next, let's combine regular expressions with conditional frequency distributions. Here we will extract all consonant-vowel sequences from the words of Rotokas, such as *ka* and *si*. Since each of these is a pair, it can be used to initialize a conditional frequency distribution. We then tabulate the frequency of each pair:"
      ]
    },
    {
      "cell_type": "code",
      "metadata": {
        "id": "-I51YKXxhrDl",
        "colab": {
          "base_uri": "https://localhost:8080/"
        },
        "outputId": "668c424a-752b-4637-d78a-55d7d10b7363"
      },
      "source": [
        "rotokas_words = nltk.corpus.toolbox.words('rotokas.dic')\n",
        "cvs = [cv for w in rotokas_words for cv in re.findall(r'[ptksvr][aeiou]', w)]\n",
        "cfd = nltk.ConditionalFreqDist(cvs)\n",
        "cfd.tabulate()"
      ],
      "execution_count": 113,
      "outputs": [
        {
          "output_type": "stream",
          "name": "stdout",
          "text": [
            "    a   e   i   o   u \n",
            "k 418 148  94 420 173 \n",
            "p  83  31 105  34  51 \n",
            "r 187  63  84  89  79 \n",
            "s   0   0 100   2   1 \n",
            "t  47   8   0 148  37 \n",
            "v  93  27 105  48  49 \n"
          ]
        }
      ]
    },
    {
      "cell_type": "markdown",
      "metadata": {
        "id": "RMC1YuQEjPML"
      },
      "source": [
        "The example below processes each word w in turn, and for each one,  finds every substring that matches the regular expression `«[ptksvr][aeiou]»`.  In the case of the word *kasuari*, it finds *ka*, *su* and *ri*. Therefore, the `cv_word_pairs` list will contain `('ka', 'kasuari')`, `('su', 'kasuari')` and `('ri', 'kasuari')`. One further step, using `nltk.Index()`, converts this into a useful index."
      ]
    },
    {
      "cell_type": "code",
      "metadata": {
        "id": "mR0glHU9ihnY",
        "colab": {
          "base_uri": "https://localhost:8080/"
        },
        "outputId": "eae891a6-128d-4437-dd2d-70968dd3488d"
      },
      "source": [
        "# inspect the words behind the numbers in the above table using Index function.\n",
        "\n",
        "cv_word_pairs = [(cv, w) for w in rotokas_words\n",
        "                 for cv in re.findall(r'[ptksvr][aeiou]', w)]\n",
        "cv_index = nltk.Index(cv_word_pairs)\n",
        "\n",
        "print('Words containing su: ', cv_index['su'])\n",
        "\n",
        "print('Words containing po: ', cv_index['po'])"
      ],
      "execution_count": 114,
      "outputs": [
        {
          "output_type": "stream",
          "name": "stdout",
          "text": [
            "Words containing su:  ['kasuari']\n",
            "Words containing po:  ['kaapo', 'kaapopato', 'kaipori', 'kaiporipie', 'kaiporivira', 'kapo', 'kapoa', 'kapokao', 'kapokapo', 'kapokapo', 'kapokapoa', 'kapokapoa', 'kapokapora', 'kapokapora', 'kapokaporo', 'kapokaporo', 'kapokari', 'kapokarito', 'kapokoa', 'kapoo', 'kapooto', 'kapoovira', 'kapopaa', 'kaporo', 'kaporo', 'kaporopa', 'kaporoto', 'kapoto', 'karokaropo', 'karopo', 'kepo', 'kepoi', 'keposi', 'kepoto']\n"
          ]
        }
      ]
    },
    {
      "cell_type": "markdown",
      "metadata": {
        "id": "JgoaHNN-eTPz"
      },
      "source": [
        "### Finding Word Stems"
      ]
    },
    {
      "cell_type": "markdown",
      "metadata": {
        "id": "sGGrGQihLNBf"
      },
      "source": [
        "When we use a web search engine, we usually don't mind (or even notice) if the words in the document differ from our search terms in having different endings. A query for laptops finds documents containing laptop and vice versa. Indeed, laptop and laptops are just two forms of the same dictionary word (or lemma). For some language processing tasks we want to ignore word endings, and just deal with word stems.\n",
        "\n",
        "There are various ways we can pull out the stem of a word. Here's a simple-minded approach which just strips off anything that looks like a suffix:"
      ]
    },
    {
      "cell_type": "code",
      "source": [
        "def stem(word):\n",
        "    for suffix in ['ing', 'ly', 'ed', 'ious', 'ies', 'ive', 'es', 's', 'ment']:\n",
        "        if word.endswith(suffix):\n",
        "            return word[:-len(suffix)]\n",
        "    return word"
      ],
      "metadata": {
        "id": "HTYhds9hDsXL"
      },
      "execution_count": 115,
      "outputs": []
    },
    {
      "cell_type": "markdown",
      "source": [
        "Although we will ultimately use NLTK's built-in stemmers, it's interesting to see how we can use regular expressions for this task. Our first step is to build up a disjunction of all the suffixes. We need to enclose it in parentheses in order to limit the scope of the disjunction."
      ],
      "metadata": {
        "id": "e5nzEQgAD6XV"
      }
    },
    {
      "cell_type": "code",
      "metadata": {
        "id": "6NBEKom2kFnr",
        "colab": {
          "base_uri": "https://localhost:8080/"
        },
        "outputId": "99d05ed9-8335-4346-b8d7-7e7009007768"
      },
      "source": [
        "re.findall(r'^.*(ing|ly|ed|ious|ies|ive|es|s|ment)$', 'processing')"
      ],
      "execution_count": 116,
      "outputs": [
        {
          "output_type": "execute_result",
          "data": {
            "text/plain": [
              "['ing']"
            ]
          },
          "metadata": {},
          "execution_count": 116
        }
      ]
    },
    {
      "cell_type": "markdown",
      "source": [
        "Here, `re.findall()` just gave us the suffix even though the regular expression matched the entire word. This is because the parentheses have a second function, to select substrings to be extracted. If we want to use the parentheses to specify the scope of the disjunction, but not to select the material to be output, we have to add `?:`, which is just one of many arcane subtleties of regular expressions. Here's the revised version."
      ],
      "metadata": {
        "id": "WaDAs9yyEEYK"
      }
    },
    {
      "cell_type": "code",
      "metadata": {
        "id": "iiEz0Mzgkj4t",
        "colab": {
          "base_uri": "https://localhost:8080/"
        },
        "outputId": "05552912-3176-4cf3-bfb6-13273063a3e9"
      },
      "source": [
        "re.findall(r'^.*(?:ing|ly|ed|ious|ies|ive|es|s|ment)$', 'processing')"
      ],
      "execution_count": 117,
      "outputs": [
        {
          "output_type": "execute_result",
          "data": {
            "text/plain": [
              "['processing']"
            ]
          },
          "metadata": {},
          "execution_count": 117
        }
      ]
    },
    {
      "cell_type": "markdown",
      "source": [
        "However, we'd actually like to split the word into stem and suffix. So we should just parenthesize both parts of the regular expression:"
      ],
      "metadata": {
        "id": "NuwDjHyIEh9v"
      }
    },
    {
      "cell_type": "code",
      "metadata": {
        "id": "j2aT3Djjk_z9",
        "colab": {
          "base_uri": "https://localhost:8080/"
        },
        "outputId": "017203ca-13e8-4896-f89b-b2d1e4b2b9c1"
      },
      "source": [
        "re.findall(r'^(.*)(ing|ly|ed|ious|ies|ive|es|s|ment)$', 'processing')"
      ],
      "execution_count": 118,
      "outputs": [
        {
          "output_type": "execute_result",
          "data": {
            "text/plain": [
              "[('process', 'ing')]"
            ]
          },
          "metadata": {},
          "execution_count": 118
        }
      ]
    },
    {
      "cell_type": "markdown",
      "source": [
        "This looks promising, but still has a problem. Let's look at a different word, *processes*:"
      ],
      "metadata": {
        "id": "eL8OQ500Em2R"
      }
    },
    {
      "cell_type": "code",
      "source": [
        "re.findall(r'^(.*)(ing|ly|ed|ious|ies|ive|es|s|ment)$', 'processes')"
      ],
      "metadata": {
        "id": "GmtcXB9gEvjj",
        "colab": {
          "base_uri": "https://localhost:8080/"
        },
        "outputId": "ecd8547a-c74f-4cca-d65c-e3fe78cc3988"
      },
      "execution_count": 119,
      "outputs": [
        {
          "output_type": "execute_result",
          "data": {
            "text/plain": [
              "[('processe', 's')]"
            ]
          },
          "metadata": {},
          "execution_count": 119
        }
      ]
    },
    {
      "cell_type": "markdown",
      "metadata": {
        "id": "3GUQ2V-6leU8"
      },
      "source": [
        "The regular expression incorrectly found an *-s* suffix instead of an *-es* suffix. This demonstrates another subtlety: the star operator is \"greedy\" and the .* part of the expression tries to consume as much of the input as possible. If we use the \"non-greedy\" version of the star operator, written `*?`, we get what we want:"
      ]
    },
    {
      "cell_type": "code",
      "metadata": {
        "id": "LG7z0xBulR_P",
        "colab": {
          "base_uri": "https://localhost:8080/"
        },
        "outputId": "b1761fee-adc7-4a95-8c93-d4259d891e13"
      },
      "source": [
        "re.findall(r'^(.*?)(ing|ly|ed|ious|ies|ive|es|s|ment)$', 'processes')"
      ],
      "execution_count": 120,
      "outputs": [
        {
          "output_type": "execute_result",
          "data": {
            "text/plain": [
              "[('process', 'es')]"
            ]
          },
          "metadata": {},
          "execution_count": 120
        }
      ]
    },
    {
      "cell_type": "markdown",
      "source": [
        "This works even when we allow an empty suffix, by making the content of the second parentheses optional:"
      ],
      "metadata": {
        "id": "rpnhDfMoFHVX"
      }
    },
    {
      "cell_type": "code",
      "source": [
        "re.findall(r'^(.*?)(ing|ly|ed|ious|ies|ive|es|s|ment)?$', 'language')"
      ],
      "metadata": {
        "id": "P_z0Zy-6FGhw",
        "colab": {
          "base_uri": "https://localhost:8080/"
        },
        "outputId": "133d0ee4-940b-43a6-8d9f-c33fb196149a"
      },
      "execution_count": 121,
      "outputs": [
        {
          "output_type": "execute_result",
          "data": {
            "text/plain": [
              "[('language', '')]"
            ]
          },
          "metadata": {},
          "execution_count": 121
        }
      ]
    },
    {
      "cell_type": "markdown",
      "metadata": {
        "id": "-y9gz4gzmUj9"
      },
      "source": [
        "This approach still has many problems (can you spot them?) but we will move on to define a function to perform stemming, and apply it to a whole text:"
      ]
    },
    {
      "cell_type": "code",
      "metadata": {
        "id": "Y0BH_H6ej7Re",
        "colab": {
          "base_uri": "https://localhost:8080/"
        },
        "outputId": "642730eb-f61f-4104-b4d6-442af8d831bf"
      },
      "source": [
        "def stem(word):\n",
        "    regexp = r'^(.*?)(ing|ly|ed|ious|ies|ive|es|s|ment)?$'\n",
        "    stem, suffix = re.findall(regexp, word)[0]\n",
        "    return stem\n",
        "\n",
        "raw = \"\"\"DENNIS: Listen, strange women lying in ponds distributing swords\n",
        "is no basis for a system of government.  Supreme executive power derives from\n",
        "a mandate from the masses, not from some farcical aquatic ceremony.\"\"\"\n",
        "tokens = word_tokenize(raw)\n",
        "[stem(t) for t in tokens]"
      ],
      "execution_count": 122,
      "outputs": [
        {
          "output_type": "execute_result",
          "data": {
            "text/plain": [
              "['DENNIS',\n",
              " ':',\n",
              " 'Listen',\n",
              " ',',\n",
              " 'strange',\n",
              " 'women',\n",
              " 'ly',\n",
              " 'in',\n",
              " 'pond',\n",
              " 'distribut',\n",
              " 'sword',\n",
              " 'i',\n",
              " 'no',\n",
              " 'basi',\n",
              " 'for',\n",
              " 'a',\n",
              " 'system',\n",
              " 'of',\n",
              " 'govern',\n",
              " '.',\n",
              " 'Supreme',\n",
              " 'execut',\n",
              " 'power',\n",
              " 'deriv',\n",
              " 'from',\n",
              " 'a',\n",
              " 'mandate',\n",
              " 'from',\n",
              " 'the',\n",
              " 'mass',\n",
              " ',',\n",
              " 'not',\n",
              " 'from',\n",
              " 'some',\n",
              " 'farcical',\n",
              " 'aquatic',\n",
              " 'ceremony',\n",
              " '.']"
            ]
          },
          "metadata": {},
          "execution_count": 122
        }
      ]
    },
    {
      "cell_type": "markdown",
      "metadata": {
        "id": "SwubOFCcnAvn"
      },
      "source": [
        "Notice that our regular expression removed the *s* from *ponds* but also from *is* and *basis*. It produced some non-words like *distribut* and *deriv*, but these are acceptable stems in some applications."
      ]
    },
    {
      "cell_type": "markdown",
      "metadata": {
        "id": "7WqGbhDpqQPc"
      },
      "source": [
        "## 5. Normalizing Text"
      ]
    },
    {
      "cell_type": "markdown",
      "metadata": {
        "id": "IDzDyZE2qQNM"
      },
      "source": [
        "In earlier program examples we have often converted text to lowercase before doing anything with its words, e.g. `set(w.lower() for w in text)`. By using `lower()`, we have normalized the text to lowercase so that the distinction between The and the is ignored. Often we want to go further than this, and strip off any affixes, a task known as stemming. A further step is to make sure that the resulting form is a known word in a dictionary, a task known as lemmatization. We discuss each of these in turn. First, we need to define the data we will use in this section:\n"
      ]
    },
    {
      "cell_type": "code",
      "source": [
        "raw = \"\"\"DENNIS: Listen, strange women lying in ponds distributing swords\n",
        "is no basis for a system of government.  Supreme executive power derives from\n",
        "a mandate from the masses, not from some farcical aquatic ceremony.\"\"\"\n",
        "\n",
        "tokens = word_tokenize(raw)"
      ],
      "metadata": {
        "id": "F3dot2BUdmiK"
      },
      "execution_count": 123,
      "outputs": []
    },
    {
      "cell_type": "markdown",
      "metadata": {
        "id": "3KbwP14grYhz"
      },
      "source": [
        "### Stemmers"
      ]
    },
    {
      "cell_type": "markdown",
      "metadata": {
        "id": "NtmvfYMyrhZq"
      },
      "source": [
        "NLTK includes several off-the-shelf stemmers, and if you ever need a stemmer you should use one of these in preference to crafting your own using regular expressions, since these handle a wide range of irregular cases. The Porter and Lancaster stemmers follow their own rules for stripping affixes. Observe that the Porter stemmer correctly handles the word lying (mapping it to lie), while the Lancaster stemmer does not."
      ]
    },
    {
      "cell_type": "code",
      "metadata": {
        "id": "YK8JvJkmrg4Z",
        "colab": {
          "base_uri": "https://localhost:8080/"
        },
        "outputId": "a7ea30ae-7403-40f1-faec-79550101dce5"
      },
      "source": [
        "tokens = word_tokenize(raw)\n",
        "\n",
        "porter = nltk.PorterStemmer()\n",
        "\n",
        "print('Porter stemmer:', ', '.join([porter.stem(t) for t in tokens]))\n",
        "\n",
        "print('\\n')\n",
        "\n",
        "\n",
        "lancaster = nltk.LancasterStemmer()\n",
        "print('Lancaster stemmer: ', ', '.join([lancaster.stem(t) for t in tokens]))"
      ],
      "execution_count": 124,
      "outputs": [
        {
          "output_type": "stream",
          "name": "stdout",
          "text": [
            "Porter stemmer: denni, :, listen, ,, strang, women, lie, in, pond, distribut, sword, is, no, basi, for, a, system, of, govern, ., suprem, execut, power, deriv, from, a, mandat, from, the, mass, ,, not, from, some, farcic, aquat, ceremoni, .\n",
            "\n",
            "\n",
            "Lancaster stemmer:  den, :, list, ,, strange, wom, lying, in, pond, distribut, sword, is, no, bas, for, a, system, of, govern, ., suprem, execut, pow, der, from, a, mand, from, the, mass, ,, not, from, som, farc, aqu, ceremony, .\n"
          ]
        }
      ]
    },
    {
      "cell_type": "markdown",
      "metadata": {
        "id": "DimgCdu9rYep"
      },
      "source": [
        "### Lemmatization"
      ]
    },
    {
      "cell_type": "markdown",
      "metadata": {
        "id": "VtdyXKGGtOOB"
      },
      "source": [
        "The WordNet lemmatizer only removes affixes if the resulting word is in its dictionary. This additional checking process makes the lemmatizer slower than the above stemmers. Notice that it doesn't handle lying, but it converts women to woman.\n",
        "\n",
        "The WordNet lemmatizer is a good choice if you want to compile the vocabulary of some texts and want a list of valid lemmas (or lexicon headwords).\n",
        "\n",
        "\n",
        "Other lemmatizer examples:\n",
        "* TextBlob Lemmatizer\n",
        "* spaCy Lemmatization\n",
        "\n",
        "For further information about lemmatizers you can check https://www.machinelearningplus.com/nlp/lemmatization-examples-python/."
      ]
    },
    {
      "cell_type": "code",
      "metadata": {
        "id": "pfpZ9PqhtNuG",
        "colab": {
          "base_uri": "https://localhost:8080/"
        },
        "outputId": "f500cc27-90b1-4716-fbab-be1127ceb7cc"
      },
      "source": [
        "wnl = nltk.WordNetLemmatizer()\n",
        "[wnl.lemmatize(t) for t in tokens]"
      ],
      "execution_count": 125,
      "outputs": [
        {
          "output_type": "execute_result",
          "data": {
            "text/plain": [
              "['DENNIS',\n",
              " ':',\n",
              " 'Listen',\n",
              " ',',\n",
              " 'strange',\n",
              " 'woman',\n",
              " 'lying',\n",
              " 'in',\n",
              " 'pond',\n",
              " 'distributing',\n",
              " 'sword',\n",
              " 'is',\n",
              " 'no',\n",
              " 'basis',\n",
              " 'for',\n",
              " 'a',\n",
              " 'system',\n",
              " 'of',\n",
              " 'government',\n",
              " '.',\n",
              " 'Supreme',\n",
              " 'executive',\n",
              " 'power',\n",
              " 'derives',\n",
              " 'from',\n",
              " 'a',\n",
              " 'mandate',\n",
              " 'from',\n",
              " 'the',\n",
              " 'mass',\n",
              " ',',\n",
              " 'not',\n",
              " 'from',\n",
              " 'some',\n",
              " 'farcical',\n",
              " 'aquatic',\n",
              " 'ceremony',\n",
              " '.']"
            ]
          },
          "metadata": {},
          "execution_count": 125
        }
      ]
    },
    {
      "cell_type": "markdown",
      "metadata": {
        "id": "P6iKjX9Av5uU"
      },
      "source": [
        "## 6. Regular Expressions for Tokenizing Text\n",
        "\n",
        "Tokenization is the task of cutting a string into identifiable linguistic units that constitute a piece of language data. Although it is a fundamental task, we have been able to delay it until now because many corpora are already tokenized, and because NLTK includes some tokenizers. Now that you are familiar with regular expressions, you can learn how to use them to tokenize text, and to have much more control over the process.\n",
        "\n"
      ]
    },
    {
      "cell_type": "markdown",
      "source": [
        "### Simple Approaches to Tokenization\n",
        "\n",
        "The very simplest method for tokenizing text is to split on whitespace. Consider the following text from Alice's Adventures in Wonderland:"
      ],
      "metadata": {
        "id": "r-mHVeeK_eZD"
      }
    },
    {
      "cell_type": "code",
      "metadata": {
        "id": "KpIIm46feDW0"
      },
      "source": [
        "raw = \"\"\"'When I'M a Duchess,' she said to herself, (not in a very hopeful tone\n",
        "though),'I won't have any pepper in my kitchen AT ALL. Soup does very\n",
        "well without--Maybe it's always pepper that makes people hot-tempered,'...\"\"\""
      ],
      "execution_count": 126,
      "outputs": []
    },
    {
      "cell_type": "markdown",
      "source": [
        "We could split this raw text on whitespace using `raw.split()`. To do the same using a regular expression, it is not enough to match any space characters in the string since this results in tokens that contain a `\\n` newline character; instead we need to match any number of spaces, tabs, or newlines"
      ],
      "metadata": {
        "id": "vY8M86u9hMCL"
      }
    },
    {
      "cell_type": "code",
      "source": [
        "re.split(r' ', raw)"
      ],
      "metadata": {
        "id": "XIf4G9NLhVBS",
        "colab": {
          "base_uri": "https://localhost:8080/"
        },
        "outputId": "c672d5b5-b0a2-4aac-f603-f08d37961656"
      },
      "execution_count": 127,
      "outputs": [
        {
          "output_type": "execute_result",
          "data": {
            "text/plain": [
              "[\"'When\",\n",
              " \"I'M\",\n",
              " 'a',\n",
              " \"Duchess,'\",\n",
              " 'she',\n",
              " 'said',\n",
              " 'to',\n",
              " 'herself,',\n",
              " '(not',\n",
              " 'in',\n",
              " 'a',\n",
              " 'very',\n",
              " 'hopeful',\n",
              " \"tone\\nthough),'I\",\n",
              " \"won't\",\n",
              " 'have',\n",
              " 'any',\n",
              " 'pepper',\n",
              " 'in',\n",
              " 'my',\n",
              " 'kitchen',\n",
              " 'AT',\n",
              " 'ALL.',\n",
              " 'Soup',\n",
              " 'does',\n",
              " 'very\\nwell',\n",
              " 'without--Maybe',\n",
              " \"it's\",\n",
              " 'always',\n",
              " 'pepper',\n",
              " 'that',\n",
              " 'makes',\n",
              " 'people',\n",
              " \"hot-tempered,'...\"]"
            ]
          },
          "metadata": {},
          "execution_count": 127
        }
      ]
    },
    {
      "cell_type": "code",
      "source": [
        "re.split(r'[ \\t\\n]+', raw)"
      ],
      "metadata": {
        "id": "UfxNbqgJhWLA",
        "colab": {
          "base_uri": "https://localhost:8080/"
        },
        "outputId": "3d5dc9d0-41e5-4a5e-ca1b-f89462775de4"
      },
      "execution_count": 128,
      "outputs": [
        {
          "output_type": "execute_result",
          "data": {
            "text/plain": [
              "[\"'When\",\n",
              " \"I'M\",\n",
              " 'a',\n",
              " \"Duchess,'\",\n",
              " 'she',\n",
              " 'said',\n",
              " 'to',\n",
              " 'herself,',\n",
              " '(not',\n",
              " 'in',\n",
              " 'a',\n",
              " 'very',\n",
              " 'hopeful',\n",
              " 'tone',\n",
              " \"though),'I\",\n",
              " \"won't\",\n",
              " 'have',\n",
              " 'any',\n",
              " 'pepper',\n",
              " 'in',\n",
              " 'my',\n",
              " 'kitchen',\n",
              " 'AT',\n",
              " 'ALL.',\n",
              " 'Soup',\n",
              " 'does',\n",
              " 'very',\n",
              " 'well',\n",
              " 'without--Maybe',\n",
              " \"it's\",\n",
              " 'always',\n",
              " 'pepper',\n",
              " 'that',\n",
              " 'makes',\n",
              " 'people',\n",
              " \"hot-tempered,'...\"]"
            ]
          },
          "metadata": {},
          "execution_count": 128
        }
      ]
    },
    {
      "cell_type": "markdown",
      "source": [
        "The regular expression `«[ \\t\\n]+»` matches one or more space, tab (`\\t`) or newline (`\\n`). Other whitespace characters, such as carriage-return and form-feed should really be included too. Instead, we will use a built-in re abbreviation, `\\s`, which means any whitespace character. The above statement can be rewritten as `re.split(r'\\s+', raw)`."
      ],
      "metadata": {
        "id": "rkJ8MtyMhnBd"
      }
    },
    {
      "cell_type": "markdown",
      "source": [
        "Splitting on whitespace gives us tokens like `'(not'` and `'herself,'`. An alternative is to use the fact that Python provides us with a character class `\\w` for word characters, equivalent to `[a-zA-Z0-9_]`. It also defines the complement of this class `\\W`, i.e. all characters other than letters, digits or underscore. We can use \\W in a simple regular expression to split the input on anything other than a word character:"
      ],
      "metadata": {
        "id": "c9ECMKS28W1Y"
      }
    },
    {
      "cell_type": "code",
      "source": [
        "re.split(r'\\W+', raw)"
      ],
      "metadata": {
        "id": "eEmq_CI98MuZ",
        "colab": {
          "base_uri": "https://localhost:8080/"
        },
        "outputId": "3fa97521-58c7-4442-f0a3-2a07053d9d6a"
      },
      "execution_count": 129,
      "outputs": [
        {
          "output_type": "execute_result",
          "data": {
            "text/plain": [
              "['',\n",
              " 'When',\n",
              " 'I',\n",
              " 'M',\n",
              " 'a',\n",
              " 'Duchess',\n",
              " 'she',\n",
              " 'said',\n",
              " 'to',\n",
              " 'herself',\n",
              " 'not',\n",
              " 'in',\n",
              " 'a',\n",
              " 'very',\n",
              " 'hopeful',\n",
              " 'tone',\n",
              " 'though',\n",
              " 'I',\n",
              " 'won',\n",
              " 't',\n",
              " 'have',\n",
              " 'any',\n",
              " 'pepper',\n",
              " 'in',\n",
              " 'my',\n",
              " 'kitchen',\n",
              " 'AT',\n",
              " 'ALL',\n",
              " 'Soup',\n",
              " 'does',\n",
              " 'very',\n",
              " 'well',\n",
              " 'without',\n",
              " 'Maybe',\n",
              " 'it',\n",
              " 's',\n",
              " 'always',\n",
              " 'pepper',\n",
              " 'that',\n",
              " 'makes',\n",
              " 'people',\n",
              " 'hot',\n",
              " 'tempered',\n",
              " '']"
            ]
          },
          "metadata": {},
          "execution_count": 129
        }
      ]
    },
    {
      "cell_type": "markdown",
      "source": [
        "Observe that this gives us empty strings at the start and the end (to understand why, try doing `'xx'.split('x')`). We get the same tokens, but without the empty strings, with `re.findall(r'\\w+', raw)`, using a pattern that matches the words instead of the spaces. Now that we're matching the words, we're in a position to extend the regular expression to cover a wider range of cases. The regular expression `«\\w+|\\S\\w*»` will first try to match any sequence of word characters. If no match is found, it will try to match any non-whitespace character (`\\S` is the complement of `\\s`) followed by further word characters. This means that punctuation is grouped with any following letters (e.g. 's) but that sequences of two or more punctuation characters are separated."
      ],
      "metadata": {
        "id": "6WLfsw9d9CTa"
      }
    },
    {
      "cell_type": "code",
      "source": [
        "re.findall(r'\\w+|\\S\\w*', raw)"
      ],
      "metadata": {
        "id": "G5veUyUS9d1A",
        "colab": {
          "base_uri": "https://localhost:8080/"
        },
        "outputId": "486b2ff4-6f0b-414b-8fbe-7615dab3c9b2"
      },
      "execution_count": 130,
      "outputs": [
        {
          "output_type": "execute_result",
          "data": {
            "text/plain": [
              "[\"'When\",\n",
              " 'I',\n",
              " \"'M\",\n",
              " 'a',\n",
              " 'Duchess',\n",
              " ',',\n",
              " \"'\",\n",
              " 'she',\n",
              " 'said',\n",
              " 'to',\n",
              " 'herself',\n",
              " ',',\n",
              " '(not',\n",
              " 'in',\n",
              " 'a',\n",
              " 'very',\n",
              " 'hopeful',\n",
              " 'tone',\n",
              " 'though',\n",
              " ')',\n",
              " ',',\n",
              " \"'I\",\n",
              " 'won',\n",
              " \"'t\",\n",
              " 'have',\n",
              " 'any',\n",
              " 'pepper',\n",
              " 'in',\n",
              " 'my',\n",
              " 'kitchen',\n",
              " 'AT',\n",
              " 'ALL',\n",
              " '.',\n",
              " 'Soup',\n",
              " 'does',\n",
              " 'very',\n",
              " 'well',\n",
              " 'without',\n",
              " '-',\n",
              " '-Maybe',\n",
              " 'it',\n",
              " \"'s\",\n",
              " 'always',\n",
              " 'pepper',\n",
              " 'that',\n",
              " 'makes',\n",
              " 'people',\n",
              " 'hot',\n",
              " '-tempered',\n",
              " ',',\n",
              " \"'\",\n",
              " '.',\n",
              " '.',\n",
              " '.']"
            ]
          },
          "metadata": {},
          "execution_count": 130
        }
      ]
    },
    {
      "cell_type": "markdown",
      "source": [
        "Let's generalize the `\\w+` in the above expression to permit word-internal hyphens and apostrophes: `«\\w+([-']\\w+)*»`. This expression means `\\w+` followed by zero or more instances of `[-']\\w+`; it would match hot-tempered and it's. (We need to include `?:` in this expression for reasons discussed earlier.) We'll also add a pattern to match quote characters so these are kept separate from the text they enclose."
      ],
      "metadata": {
        "id": "TiSADFZL9hbY"
      }
    },
    {
      "cell_type": "code",
      "source": [
        "re.findall(r\"\\w+(?:[-']\\w+)*|'|[-.(]+|\\S\\w*\", raw)"
      ],
      "metadata": {
        "id": "HDveakfg96i8",
        "colab": {
          "base_uri": "https://localhost:8080/"
        },
        "outputId": "ad795d4b-3f37-4108-ebf0-0c20fe9702c2"
      },
      "execution_count": 131,
      "outputs": [
        {
          "output_type": "execute_result",
          "data": {
            "text/plain": [
              "[\"'\",\n",
              " 'When',\n",
              " \"I'M\",\n",
              " 'a',\n",
              " 'Duchess',\n",
              " ',',\n",
              " \"'\",\n",
              " 'she',\n",
              " 'said',\n",
              " 'to',\n",
              " 'herself',\n",
              " ',',\n",
              " '(',\n",
              " 'not',\n",
              " 'in',\n",
              " 'a',\n",
              " 'very',\n",
              " 'hopeful',\n",
              " 'tone',\n",
              " 'though',\n",
              " ')',\n",
              " ',',\n",
              " \"'\",\n",
              " 'I',\n",
              " \"won't\",\n",
              " 'have',\n",
              " 'any',\n",
              " 'pepper',\n",
              " 'in',\n",
              " 'my',\n",
              " 'kitchen',\n",
              " 'AT',\n",
              " 'ALL',\n",
              " '.',\n",
              " 'Soup',\n",
              " 'does',\n",
              " 'very',\n",
              " 'well',\n",
              " 'without',\n",
              " '--',\n",
              " 'Maybe',\n",
              " \"it's\",\n",
              " 'always',\n",
              " 'pepper',\n",
              " 'that',\n",
              " 'makes',\n",
              " 'people',\n",
              " 'hot-tempered',\n",
              " ',',\n",
              " \"'\",\n",
              " '...']"
            ]
          },
          "metadata": {},
          "execution_count": 131
        }
      ]
    },
    {
      "cell_type": "markdown",
      "source": [
        "Regular Expression Symbols\n",
        "\n",
        "| Symbol |                           Function                           |   |   |   |\n",
        "|:------:|:------------------------------------------------------------:|---|---|---|\n",
        "| \\b     | Word boundary (zero width)                                   |   |   |   |\n",
        "| \\d     | Any decimal digit (equivalent to [0-9])                      |   |   |   |\n",
        "| \\D     | Any non-digit character (equivalent to [^0-9])               |   |   |   |\n",
        "| \\s     | Any whitespace character (equivalent to [ \\t\\n\\r\\f\\v])       |   |   |   |\n",
        "| \\S     | Any non-whitespace character (equivalent to [^ \\t\\n\\r\\f\\v])  |   |   |   |\n",
        "| \\w     | Any alphanumeric character (equivalent to [a-zA-Z0-9_])      |   |   |   |\n",
        "| \\W     | Any non-alphanumeric character (equivalent to [^a-zA-Z0-9_]) |   |   |   |\n",
        "| \\t     | The tab character                                            |   |   |   |\n",
        "| \\n     | The newline character                                        |   |   |   |"
      ],
      "metadata": {
        "id": "7YmYxNle-SCc"
      }
    },
    {
      "cell_type": "markdown",
      "metadata": {
        "id": "666xR6Uq8oaP"
      },
      "source": [
        "### NLTK's Regular Expression Tokenizer\n"
      ]
    },
    {
      "cell_type": "markdown",
      "metadata": {
        "id": "aVSCwovK8vCY"
      },
      "source": [
        "The function `nltk.regexp_tokenize()` is similar to `re.findall()` (as we've been using it for tokenization). However, `nltk.regexp_tokenize()` is more efficient for this task, and avoids the need for special treatment of parentheses. For readability we break up the regular expression over several lines and add a comment about each line. The special `(?x)` \"verbose flag\" tells Python to strip out the embedded whitespace and comments."
      ]
    },
    {
      "cell_type": "code",
      "metadata": {
        "id": "neJAo-x08uf2",
        "colab": {
          "base_uri": "https://localhost:8080/"
        },
        "outputId": "a50a9cb7-a4dd-478a-cd5d-3096b440da51"
      },
      "source": [
        "text = \"That U.S.A. poster-print costs $12.40...\"\n",
        "\n",
        "pattern = r'''(?x)          # set flag to allow verbose regexps\n",
        "       (?:[A-Z]\\.)+       # abbreviations, e.g. U.S.A.\n",
        "      | \\w+(?:-\\w+)*        # words with optional internal hyphens\n",
        "      | \\$?\\d+(?:\\.\\d+)?%?  # currency and percentages, e.g. $12.40, 82%\n",
        "      | \\.\\.\\.              # ellipsis\n",
        "      | [][.,;\"'?():_`-]    # these are separate tokens; includes ], [\n",
        "    '''\n",
        "print(nltk.regexp_tokenize(text, pattern))"
      ],
      "execution_count": 132,
      "outputs": [
        {
          "output_type": "stream",
          "name": "stdout",
          "text": [
            "['That', 'U.S.A.', 'poster-print', 'costs', '$12.40', '...']\n"
          ]
        }
      ]
    },
    {
      "cell_type": "markdown",
      "metadata": {
        "id": "4VPn-YsNEZse"
      },
      "source": [
        "When using the verbose flag, you can no longer use `' '` to match a space character; use `\\s` instead. The `regexp_tokenize()` function has an optional gaps parameter. When set to True, the regular expression specifies the gaps between tokens, as with `re.split()`."
      ]
    },
    {
      "cell_type": "markdown",
      "metadata": {
        "id": "XrpMQsB1FMZZ"
      },
      "source": [
        "### Further Issues with Tokenization\n",
        "\n",
        "Tokenization turns out to be a far more difficult task than you might have expected. No single solution works well across-the-board, and we must decide what counts as a token depending on the application domain.\n",
        "\n",
        "When developing a tokenizer it helps to have access to raw text which has been manually tokenized, in order to compare the output of your tokenizer with high-quality (or \"gold-standard\") tokens. The NLTK corpus collection includes a sample of Penn Treebank data, including the raw Wall Street Journal text (`nltk.corpus.treebank_raw.raw()`) and the tokenized version (`nltk.corpus.treebank.words()`).\n",
        "\n",
        "A final issue for tokenization is the presence of contractions, such as didn't. If we are analyzing the meaning of a sentence, it would probably be more useful to normalize this form to two separate forms: did and n't (or not). We can do this work with the help of a lookup table."
      ]
    },
    {
      "cell_type": "markdown",
      "metadata": {
        "id": "g3MYi0ujGV9F"
      },
      "source": [
        "## 7. Segmentation\n",
        "\n",
        "Tokenization is an instance of a more general problem of segmentation. In this section we will look at two other instances of this problem, which use radically different techniques to the ones we have seen so far in this notebook."
      ]
    },
    {
      "cell_type": "markdown",
      "metadata": {
        "id": "z1bIxbIoGr74"
      },
      "source": [
        "### Sentence Segmentation\n",
        "\n",
        "Manipulating texts at the level of individual words often presupposes the ability to divide a text into individual sentences. As we have seen, some corpora already provide access at the sentence level. In the following example, we compute the average number of words per sentence in the Brown Corpus:\n"
      ]
    },
    {
      "cell_type": "code",
      "metadata": {
        "id": "Y2Etsw_J_0JG",
        "colab": {
          "base_uri": "https://localhost:8080/"
        },
        "outputId": "7842bb73-5d64-4dd6-b9c6-543afad31321"
      },
      "source": [
        "print(\"Average number of words per sentence in the Brown Corpus:\",\n",
        "      len(nltk.corpus.brown.words()) / len(nltk.corpus.brown.sents()))"
      ],
      "execution_count": 133,
      "outputs": [
        {
          "output_type": "stream",
          "name": "stdout",
          "text": [
            "Average number of words per sentence in the Brown Corpus: 20.250994070456922\n"
          ]
        }
      ]
    },
    {
      "cell_type": "markdown",
      "source": [
        "In other cases, the text is only available as a stream of characters. Before tokenizing the text into words, we need to segment it into sentences. NLTK facilitates this by including the **Punkt sentence segmenter** (Kiss & Strunk, 2006). Here is an example of its use in segmenting the text of a novel. (Note that if the segmenter's internal data has been updated by the time you read this, you will see different output):"
      ],
      "metadata": {
        "id": "35JVKwY5BCdw"
      }
    },
    {
      "cell_type": "code",
      "metadata": {
        "id": "hUm7uilyYZry",
        "colab": {
          "base_uri": "https://localhost:8080/"
        },
        "outputId": "cfa5f6e5-99b1-4b3e-ae4c-02d7da977382"
      },
      "source": [
        "text = nltk.corpus.gutenberg.raw('chesterton-thursday.txt')\n",
        "sents = nltk.sent_tokenize(text)\n",
        "pprint.pprint(sents[79:89])"
      ],
      "execution_count": 134,
      "outputs": [
        {
          "output_type": "stream",
          "name": "stdout",
          "text": [
            "['\"Nonsense!\"',\n",
            " 'said Gregory, who was very rational when anyone else\\nattempted paradox.',\n",
            " '\"Why do all the clerks and navvies in the\\n'\n",
            " 'railway trains look so sad and tired, so very sad and tired?',\n",
            " 'I will\\ntell you.',\n",
            " 'It is because they know that the train is going right.',\n",
            " 'It\\n'\n",
            " 'is because they know that whatever place they have taken a ticket\\n'\n",
            " 'for that place they will reach.',\n",
            " 'It is because after they have\\n'\n",
            " 'passed Sloane Square they know that the next station must be\\n'\n",
            " 'Victoria, and nothing but Victoria.',\n",
            " 'Oh, their wild rapture!',\n",
            " 'oh,\\n'\n",
            " 'their eyes like stars and their souls again in Eden, if the next\\n'\n",
            " 'station were unaccountably Baker Street!\"',\n",
            " '\"It is you who are unpoetical,\" replied the poet Syme.']\n"
          ]
        }
      ]
    },
    {
      "cell_type": "markdown",
      "metadata": {
        "id": "dIwOUwqFYJDN"
      },
      "source": [
        "Notice that this example is really a single sentence, reporting the speech of Mr Lucian Gregory. However, the quoted speech contains several sentences, and these have been split into individual strings. This is reasonable behavior for most applications.\n",
        "\n",
        "Sentence segmentation is difficult because period is used to mark abbreviations, and some periods simultaneously mark an abbreviation and terminate a sentence, as often happens with acronyms like U.S.A."
      ]
    },
    {
      "cell_type": "markdown",
      "metadata": {
        "id": "mafXVrn3ZPuR"
      },
      "source": [
        "### Word Segmentation\n",
        "\n",
        "For some writing systems, tokenizing text is made more difficult by the fact that there is no visual representation of word boundaries. For example, in Chinese, the three-character string: 爱国人 (ai4 \"love\" (verb), guo2 \"country\", ren2 \"person\") could be tokenized as 爱国 / 人, \"country-loving person\" or as 爱 / 国人, \"love country-person.\"\n",
        "\n",
        "A similar problem arises in the processing of spoken language, where the hearer must segment a continuous speech stream into individual words. A particularly challenging version of this problem arises when we don't know the words in advance. This is the problem faced by a language learner, such as a child hearing utterances from a parent. Consider the following artificial example, where word boundaries have been removed:\n",
        "\n",
        "    a.    doyouseethekitty\n",
        "\n",
        "    b.\tseethedoggy\n",
        "\n",
        "    c.\tdoyoulikethekitty\n",
        "\n",
        "    d.\tlikethedoggy\n",
        "\n",
        "\n",
        "Our first challenge is simply to represent the problem: we need to find a way to separate text content from the segmentation. We can do this by annotating each character with a boolean value to indicate whether or not a word-break appears after the character (an idea that will be used heavily for \"chunking\" in 7.). Let's assume that the learner is given the utterance breaks, since these often correspond to extended pauses. Here is a possible representation, including the initial and target segmentations:"
      ]
    },
    {
      "cell_type": "code",
      "source": [
        "text = \"doyouseethekittyseethedoggydoyoulikethekittylikethedoggy\"\n",
        "seg1 = \"0000000000000001000000000010000000000000000100000000000\"\n",
        "seg2 = \"0100100100100001001001000010100100010010000100010010000\""
      ],
      "metadata": {
        "id": "cUKJ3DfOCQoM"
      },
      "execution_count": 135,
      "outputs": []
    },
    {
      "cell_type": "markdown",
      "source": [
        "Observe that the segmentation strings consist of zeros and ones. They are one character shorter than the source text, since a text of length n can only be broken up in n-1 places. The `segment()` function demonstrates that we can get back to the original segmented text from the above representation."
      ],
      "metadata": {
        "id": "FEfKWupgCRlH"
      }
    },
    {
      "cell_type": "code",
      "metadata": {
        "id": "5Z3lDS7TnWaf",
        "colab": {
          "base_uri": "https://localhost:8080/"
        },
        "outputId": "c7eb4c71-f04b-4aea-f596-5383f8d7a0c8"
      },
      "source": [
        "def segment(text, segs):\n",
        "    words = []\n",
        "    last = 0\n",
        "    for i in range(len(segs)):\n",
        "        if segs[i] == '1':\n",
        "            words.append(text[last:i+1])\n",
        "            last = i+1\n",
        "    words.append(text[last:])\n",
        "    return words\n",
        "\n",
        "print(\"segment 1 applied, sentence split:\",segment(text, seg1))\n",
        "print(\"segment 2 applied, tokenized:\",segment(text, seg2))"
      ],
      "execution_count": 136,
      "outputs": [
        {
          "output_type": "stream",
          "name": "stdout",
          "text": [
            "segment 1 applied, sentence split: ['doyouseethekitty', 'seethedoggy', 'doyoulikethekitty', 'likethedoggy']\n",
            "segment 2 applied, tokenized: ['do', 'you', 'see', 'the', 'kitty', 'see', 'the', 'doggy', 'do', 'you', 'like', 'the', 'kitty', 'like', 'the', 'doggy']\n"
          ]
        }
      ]
    },
    {
      "cell_type": "markdown",
      "source": [
        "Now the segmentation task becomes a search problem: find the bit string that causes the text string to be correctly segmented into words. We assume the learner is acquiring words and storing them in an internal lexicon. Given a suitable lexicon, it is possible to reconstruct the source text as a sequence of lexical items. Following (Brent, 1995), we can define an objective function, a scoring function whose value we will try to optimize, based on the size of the lexicon (number of characters in the words plus an extra delimiter character to mark the end of each word) and the amount of information needed to reconstruct the source text from the lexicon. We illustrate this in the figure below."
      ],
      "metadata": {
        "id": "gxNSfE3rCkLR"
      }
    },
    {
      "cell_type": "markdown",
      "metadata": {
        "id": "5u3f4j3AoRiW"
      },
      "source": [
        "![alt text](data:image/png;base64,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)"
      ]
    },
    {
      "cell_type": "code",
      "metadata": {
        "id": "t1rc4Xs1oTEO",
        "colab": {
          "base_uri": "https://localhost:8080/"
        },
        "outputId": "0e808ec1-7883-4c4e-f695-9a576e18612a"
      },
      "source": [
        "#implementation of objective function above\n",
        "def evaluate(text, segs):\n",
        "    words = segment(text, segs)\n",
        "    text_size = len(words)\n",
        "    lexicon_size = sum(len(word) + 1 for word in set(words))\n",
        "    return text_size + lexicon_size\n",
        "\n",
        "text = \"doyouseethekittyseethedoggydoyoulikethekittylikethedoggy\"\n",
        "seg1 = \"0000000000000001000000000010000000000000000100000000000\"\n",
        "seg2 = \"0100100100100001001001000010100100010010000100010010000\"\n",
        "seg3 = \"0000100100000011001000000110000100010000001100010000001\"\n",
        "print(\"Segmentation using seg3: \",segment(text, seg3))\n",
        "print(\"Evaluation of seg3: \",evaluate(text, seg3))\n",
        "print(\"Evaluation of seg2: \",evaluate(text, seg2))\n",
        "print(\"Evaluation of seg1: \",evaluate(text, seg1)) #smaller is preferred."
      ],
      "execution_count": 137,
      "outputs": [
        {
          "output_type": "stream",
          "name": "stdout",
          "text": [
            "Segmentation using seg3:  ['doyou', 'see', 'thekitt', 'y', 'see', 'thedogg', 'y', 'doyou', 'like', 'thekitt', 'y', 'like', 'thedogg', 'y']\n",
            "Evaluation of seg3:  47\n",
            "Evaluation of seg2:  48\n",
            "Evaluation of seg1:  64\n"
          ]
        }
      ]
    },
    {
      "cell_type": "markdown",
      "metadata": {
        "id": "ucHc5Ts_pMko"
      },
      "source": [
        "The final step is to search for the pattern of zeros and ones that minimizes this objective function, shown in 3.10. Notice that the best segmentation includes \"words\" like thekitty, since there's not enough evidence in the data to split this any further."
      ]
    },
    {
      "cell_type": "code",
      "metadata": {
        "id": "-JbWzgespt09",
        "colab": {
          "base_uri": "https://localhost:8080/"
        },
        "outputId": "df224621-0192-4a9f-8cf6-8363f112d429"
      },
      "source": [
        "from random import randint\n",
        "\n",
        "def flip(segs, pos):\n",
        "    return segs[:pos] + str(1-int(segs[pos])) + segs[pos+1:]\n",
        "\n",
        "def flip_n(segs, n):\n",
        "    for i in range(n):\n",
        "        segs = flip(segs, randint(0, len(segs)-1))\n",
        "    return segs\n",
        "\n",
        "def anneal(text, segs, iterations, cooling_rate):\n",
        "    temperature = float(len(segs))\n",
        "    while temperature > 0.5:\n",
        "        best_segs, best = segs, evaluate(text, segs)\n",
        "        for i in range(iterations):\n",
        "            guess = flip_n(segs, round(temperature))\n",
        "            score = evaluate(text, guess)\n",
        "            if score < best:\n",
        "                best, best_segs = score, guess\n",
        "        score, segs = best, best_segs\n",
        "        temperature = temperature / cooling_rate\n",
        "        print(evaluate(text, segs), segment(text, segs))\n",
        "    print()\n",
        "    return segs\n",
        "\n",
        "text = \"doyouseethekittyseethedoggydoyoulikethekittylikethedoggy\"\n",
        "seg1 = \"0000000000000001000000000010000000000000000100000000000\"\n",
        "print(anneal(text, seg1, 5000, 1.2))"
      ],
      "execution_count": 138,
      "outputs": [
        {
          "output_type": "stream",
          "name": "stdout",
          "text": [
            "64 ['doyouseethekitty', 'seethedoggy', 'doyoulikethekitty', 'likethedoggy']\n",
            "64 ['doyouseethekitty', 'seethedoggy', 'doyoulikethekitty', 'likethedoggy']\n",
            "64 ['doyouseethekitty', 'seethedoggy', 'doyoulikethekitty', 'likethedoggy']\n",
            "64 ['doyouseethekitty', 'seethedoggy', 'doyoulikethekitty', 'likethedoggy']\n",
            "64 ['doyouseethekitty', 'seethedoggy', 'doyoulikethekitty', 'likethedoggy']\n",
            "64 ['doyouseethekitty', 'seethedoggy', 'doyoulikethekitty', 'likethedoggy']\n",
            "64 ['doyouseethekitty', 'seethedoggy', 'doyoulikethekitty', 'likethedoggy']\n",
            "64 ['doyouseethekitty', 'seethedoggy', 'doyoulikethekitty', 'likethedoggy']\n",
            "64 ['doyouseethekitty', 'seethedoggy', 'doyoulikethekitty', 'likethedoggy']\n",
            "61 ['doyou', 'seethekit', 't', 'ysee', 'thedog', 'gy', 'doyou', 'like', 'thekitt', 'y', 'like', 'thedog', 'gy']\n",
            "56 ['doyou', 'seethekit', 't', 'ysee', 'thedoggy', 'doyou', 'like', 'thekitty', 'like', 'thedoggy']\n",
            "54 ['doyou', 'seethekit', 'tysee', 'thedoggy', 'doyou', 'like', 'thekitty', 'like', 'thedoggy']\n",
            "54 ['doyou', 'seethekit', 'tysee', 'thedoggy', 'doyou', 'like', 'thekitty', 'like', 'thedoggy']\n",
            "46 ['doyou', 'see', 'thekit', 'ty', 'see', 'thedoggy', 'doyou', 'like', 'thekit', 'ty', 'like', 'thedoggy']\n",
            "43 ['doyou', 'see', 'thekitty', 'see', 'thedoggy', 'doyou', 'like', 'thekitty', 'like', 'thedoggy']\n",
            "43 ['doyou', 'see', 'thekitty', 'see', 'thedoggy', 'doyou', 'like', 'thekitty', 'like', 'thedoggy']\n",
            "43 ['doyou', 'see', 'thekitty', 'see', 'thedoggy', 'doyou', 'like', 'thekitty', 'like', 'thedoggy']\n",
            "43 ['doyou', 'see', 'thekitty', 'see', 'thedoggy', 'doyou', 'like', 'thekitty', 'like', 'thedoggy']\n",
            "43 ['doyou', 'see', 'thekitty', 'see', 'thedoggy', 'doyou', 'like', 'thekitty', 'like', 'thedoggy']\n",
            "43 ['doyou', 'see', 'thekitty', 'see', 'thedoggy', 'doyou', 'like', 'thekitty', 'like', 'thedoggy']\n",
            "43 ['doyou', 'see', 'thekitty', 'see', 'thedoggy', 'doyou', 'like', 'thekitty', 'like', 'thedoggy']\n",
            "43 ['doyou', 'see', 'thekitty', 'see', 'thedoggy', 'doyou', 'like', 'thekitty', 'like', 'thedoggy']\n",
            "43 ['doyou', 'see', 'thekitty', 'see', 'thedoggy', 'doyou', 'like', 'thekitty', 'like', 'thedoggy']\n",
            "43 ['doyou', 'see', 'thekitty', 'see', 'thedoggy', 'doyou', 'like', 'thekitty', 'like', 'thedoggy']\n",
            "43 ['doyou', 'see', 'thekitty', 'see', 'thedoggy', 'doyou', 'like', 'thekitty', 'like', 'thedoggy']\n",
            "43 ['doyou', 'see', 'thekitty', 'see', 'thedoggy', 'doyou', 'like', 'thekitty', 'like', 'thedoggy']\n",
            "\n",
            "0000100100000001001000000010000100010000000100010000000\n"
          ]
        }
      ]
    },
    {
      "cell_type": "markdown",
      "metadata": {
        "id": "YcWoNg8AxKth"
      },
      "source": [
        "## Exercises"
      ]
    },
    {
      "cell_type": "markdown",
      "metadata": {
        "id": "v-8Ki90lLc6Z"
      },
      "source": [
        "### Question 1\n",
        "\n",
        "Write code to access a favorite webpage and extract some text from it. For example, access a weather site and extract the forecast top temperature for your town or city today."
      ]
    },
    {
      "cell_type": "code",
      "metadata": {
        "id": "nJLhGpXyLmmb",
        "colab": {
          "base_uri": "https://localhost:8080/"
        },
        "outputId": "c039d72d-e213-4806-b4e8-212bd2d02149"
      },
      "source": [
        "# Try here\n",
        "# Printing the first 10 headlines of hacker news\n",
        "url = \"https://news.ycombinator.com/\"\n",
        "html = request.urlopen(url).read().decode('utf8')\n",
        "#print(\"html\")\n",
        "raw = BeautifulSoup(html, 'html.parser')\n",
        "\n",
        "#print(\"raw\")\n",
        "\n",
        "headlines = [titleline.a.text for titleline in raw.find_all(\"span\", class_=\"titleline\")]\n",
        "print(\"\\n\\n\".join(headlines[:10]))"
      ],
      "execution_count": 139,
      "outputs": [
        {
          "output_type": "stream",
          "name": "stdout",
          "text": [
            "Discover the IndieWeb, one blog post at a time\n",
            "\n",
            "FFmpeg School of Assembly Language\n",
            "\n",
            "Show HN: I Built a Visual Workflow Automation Platform – FlowRipple\n",
            "\n",
            "'The tyranny of apps': those without smartphones are unfairly penalised\n",
            "\n",
            "Apple pulls data protection tool after UK government security row\n",
            "\n",
            "These years in Common Lisp: 2023-2024 in review\n",
            "\n",
            "French nuclear plant consumes more power than it generates in first two months\n",
            "\n",
            "What Your Email Address Reveals About You: LLMs and Digital Footprints\n",
            "\n",
            "Why Barcelona Bought the Building That Symbolizes Its Housing Crisis\n",
            "\n",
            "When AI Thinks It Will Lose, It Sometimes Cheats, Study Finds\n"
          ]
        }
      ]
    },
    {
      "cell_type": "markdown",
      "source": [
        "### Question 2\n",
        "\n",
        "Read about the `re.sub()` function for string substitution using regular expressions, using `help(re.sub)`. Use `re.sub` in writing code to remove HTML tags from an HTML file, and to normalize whitespace. You can use the website you choose in the previous question."
      ],
      "metadata": {
        "id": "NVUbmsabTvj-"
      }
    },
    {
      "cell_type": "code",
      "metadata": {
        "id": "JVZG_dleULZy",
        "colab": {
          "base_uri": "https://localhost:8080/"
        },
        "outputId": "52dfd80b-3818-4c86-b7d8-0c621b46a741"
      },
      "source": [
        "# Try here\n",
        "help(re.sub)\n",
        "#print(html)\n",
        "normalized = re.sub(r'\\s+', \" \", re.sub(\"<[^>]*>\", \"\", html))\n",
        "print(normalized)"
      ],
      "execution_count": 140,
      "outputs": [
        {
          "output_type": "stream",
          "name": "stdout",
          "text": [
            "Help on function sub in module re:\n",
            "\n",
            "sub(pattern, repl, string, count=0, flags=0)\n",
            "    Return the string obtained by replacing the leftmost\n",
            "    non-overlapping occurrences of the pattern in string by the\n",
            "    replacement repl.  repl can be either a string or a callable;\n",
            "    if a string, backslash escapes in it are processed.  If it is\n",
            "    a callable, it's passed the Match object and must return\n",
            "    a replacement string to be used.\n",
            "\n",
            " Hacker News Hacker News new | past | comments | ask | show | jobs | submit login 1. Discover the IndieWeb, one blog post at a time (indieblog.page) 70 points by vinhnx 1 hour ago | hide | 18&nbsp;comments 2. FFmpeg School of Assembly Language (github.com/ffmpeg) 12 points by davikr 20 minutes ago | hide | discuss 3. Show HN: I Built a Visual Workflow Automation Platform – FlowRipple (flowripple.com) 51 points by shivsarthak34 2 hours ago | hide | 36&nbsp;comments 4. &#x27;The tyranny of apps&#x27;: those without smartphones are unfairly penalised (theguardian.com) 241 points by zeristor 7 hours ago | hide | 256&nbsp;comments 5. Apple pulls data protection tool after UK government security row (bbc.com) 1542 points by helsinkiandrew 1 day ago | hide | 955&nbsp;comments 6. These years in Common Lisp: 2023-2024 in review (lisp-journey.gitlab.io) 104 points by trocado 9 hours ago | hide | 12&nbsp;comments 7. French nuclear plant consumes more power than it generates in first two months (energy-charts.info) 15 points by 42lux 36 minutes ago | hide | 4&nbsp;comments 8. What Your Email Address Reveals About You: LLMs and Digital Footprints (maximepeabody.com) 6 points by peab 2 hours ago | hide | 3&nbsp;comments 9. Why Barcelona Bought the Building That Symbolizes Its Housing Crisis (bloomberg.com) 70 points by toomuchtodo 8 hours ago | hide | 102&nbsp;comments 10. When AI Thinks It Will Lose, It Sometimes Cheats, Study Finds (time.com) 38 points by haltingproblem 1 hour ago | hide | 34&nbsp;comments 11. Florida insurers steered money to investors while claiming losses, study says (tampabay.com) 85 points by howard941 3 hours ago | hide | 52&nbsp;comments 12. Americans Are Heading for the Exits (newrepublic.com) 16 points by miles 12 minutes ago | hide | 2&nbsp;comments 13. Concurrency bugs in Lucene: How to fix optimistic concurrency failures (elastic.co) 19 points by aoli-al 3 hours ago | hide | 3&nbsp;comments 14. Richard Feynman&#x27;s blackboard at the time of his death (1988) (caltech.edu) 433 points by bookofjoe 22 hours ago | hide | 213&nbsp;comments 15. Augurs demo (augu.rs) 145 points by weinzierl 13 hours ago | hide | 7&nbsp;comments 16. Brazil justice orders ban of video platform Rumble (dw.com) 42 points by adrian_mrd 2 hours ago | hide | 14&nbsp;comments 17. How people get rich now (2021) (paulgraham.com) 19 points by Brajeshwar 1 hour ago | hide | 14&nbsp;comments 18. DigiKey&#x27;s Tariff Resources (digikey.com) 100 points by nativeit 13 hours ago | hide | 70&nbsp;comments 19. Why Ruby on Rails still matters (contraption.co) 427 points by philip1209 23 hours ago | hide | 376&nbsp;comments 20. Bybit loses $1.5B in hack but can cover loss, CEO confirms (tradingview.com) 283 points by tuananh 23 hours ago | hide | 307&nbsp;comments 21. Do you want to be doing this when you&#x27;re 50? (2012) (dadgum.com) 109 points by debesyla 5 hours ago | hide | 110&nbsp;comments 22. Accessing the Qualcomm Modem over USB on the RAK5010 (danielmangum.com) 8 points by hasheddan 4 hours ago | hide | discuss 23. Johnny.Decimal – A system to organise your life (johnnydecimal.com) 487 points by debone 1 day ago | hide | 249&nbsp;comments 24. Money lessons without money: The financial literacy fallacy (anandsanwal.me) 173 points by herbertl 10 hours ago | hide | 165&nbsp;comments 25. Strategic Wealth Accumulation Under Transformative AI Expectations (arxiv.org) 70 points by jandrewrogers 11 hours ago | hide | 95&nbsp;comments 26. Twitch limiting uploads to 100 hours, deleting the rest starting April 19th (twitter.com/twitchsupport) 93 points by aestetix 6 hours ago | hide | 85&nbsp;comments 27. PEP 486 – Make the Python Launcher aware of virtual environments (2015) (python.org) 8 points by okl 5 hours ago | hide | 2&nbsp;comments 28. A vending machine, on the internet (threekindwords.com) 157 points by EFFALO 15 hours ago | hide | 67&nbsp;comments 29. Surface-Stable Fractal Dither on Playdate (aras-p.info) 118 points by atan2 17 hours ago | hide | 20&nbsp;comments 30. Reality has a surprising amount of detail (2017) (johnsalvatier.org) 332 points by lis 1 day ago | hide | 174&nbsp;comments More Join us for AI Startup School this June 16-17 in San Francisco! Guidelines | FAQ | Lists | API | Security | Legal | Apply to YC | Contact Search: \n"
          ]
        }
      ]
    },
    {
      "cell_type": "markdown",
      "metadata": {
        "id": "8MNBBMs5_HSJ"
      },
      "source": [
        "### Question 3\n",
        "\n",
        "Use the Porter Stemmer to normalize some tokenized text, calling the stemmer on each word. Do the same thing with the Lancaster Stemmer and see if you observe any differences."
      ]
    },
    {
      "cell_type": "code",
      "metadata": {
        "id": "r6mGQprb_G7k",
        "colab": {
          "base_uri": "https://localhost:8080/"
        },
        "outputId": "3aa45f4f-1906-4b3f-8697-8cddaf5ead1d"
      },
      "source": [
        "# You can use the text below as the source text\n",
        "raw = \"\"\"Well, this is the end, Sam Gamgee,' said a voice by his side. And there was Frodo, pale and worn, and yet himself again; and in his eyes there was peace now, neither strain of will, nor madness, nor any fear. His burden was taken away. There was the dear master of the sweet days in the Shire.\"\"\"\n",
        "\n",
        "tokens = word_tokenize(raw)\n",
        "\n",
        "\n",
        "# Try here\n",
        "\n",
        "porter = nltk.PorterStemmer()\n",
        "porter_res = [porter.stem(t) for t in tokens]\n",
        "\n",
        "lancaster = nltk.LancasterStemmer()\n",
        "lancaster_res = [lancaster.stem(t) for t in tokens]\n",
        "\n",
        "print(porter_res == lancaster_res)\n",
        "print(porter_res)\n",
        "print(lancaster_res)\n",
        "\n",
        "# The results are different. The lancaster stemmer removes more suffix and prefix. But that is not always the case, lancaster keeps the words \"his\" and \"was\" while porter slices them down to \"hi\" and \"wa\"\n"
      ],
      "execution_count": 141,
      "outputs": [
        {
          "output_type": "stream",
          "name": "stdout",
          "text": [
            "False\n",
            "['well', ',', 'thi', 'is', 'the', 'end', ',', 'sam', 'gamge', ',', \"'\", 'said', 'a', 'voic', 'by', 'hi', 'side', '.', 'and', 'there', 'wa', 'frodo', ',', 'pale', 'and', 'worn', ',', 'and', 'yet', 'himself', 'again', ';', 'and', 'in', 'hi', 'eye', 'there', 'wa', 'peac', 'now', ',', 'neither', 'strain', 'of', 'will', ',', 'nor', 'mad', ',', 'nor', 'ani', 'fear', '.', 'hi', 'burden', 'wa', 'taken', 'away', '.', 'there', 'wa', 'the', 'dear', 'master', 'of', 'the', 'sweet', 'day', 'in', 'the', 'shire', '.']\n",
            "['wel', ',', 'thi', 'is', 'the', 'end', ',', 'sam', 'gamg', ',', \"'\", 'said', 'a', 'voic', 'by', 'his', 'sid', '.', 'and', 'ther', 'was', 'frodo', ',', 'pal', 'and', 'worn', ',', 'and', 'yet', 'himself', 'again', ';', 'and', 'in', 'his', 'ey', 'ther', 'was', 'peac', 'now', ',', 'neith', 'strain', 'of', 'wil', ',', 'nor', 'mad', ',', 'nor', 'any', 'fear', '.', 'his', 'burd', 'was', 'tak', 'away', '.', 'ther', 'was', 'the', 'dear', 'mast', 'of', 'the', 'sweet', 'day', 'in', 'the', 'shir', '.']\n"
          ]
        }
      ]
    },
    {
      "cell_type": "markdown",
      "metadata": {
        "id": "0tZUwYZMxPEK"
      },
      "source": [
        "### Question 4\n",
        "\n",
        "Define a variable `silly` to contain the string: 'newly formed bland ideas are inexpressible in an infuriating\n",
        "way'. (This happens to be the legitimate interpretation that bilingual English-Spanish speakers can assign to Chomsky's famous nonsense phrase, colorless green ideas sleep furiously according to Wikipedia). Now write code to perform the following tasks:\n",
        "\n",
        "   \n",
        "1. Split silly into a list of strings, one per word, using Python's `split()` operation, and save this to a variable called `bland`.\n",
        "\n",
        "2. Extract the second letter of each word in silly and join them into a string, to get `'eoldrnnnna'`.\n",
        "\n",
        "3. Combine the words in bland back into a single string, using `join()`. Make sure the words in the resulting string are separated with whitespace.\n",
        "\n",
        "4. Print the words of silly in alphabetical order, one per line.\n",
        "\n",
        "\n",
        "\n"
      ]
    },
    {
      "cell_type": "code",
      "metadata": {
        "id": "FEg-ju5kxKKn",
        "colab": {
          "base_uri": "https://localhost:8080/"
        },
        "outputId": "bd0ff563-919e-45af-a1f3-e1faf813a61f"
      },
      "source": [
        "# Try here\n",
        "silly = \"newly formed bland ideas are inexpressible in an infuriating way\"\n",
        "print(\"\\n------- Splited Silly -------\")\n",
        "bland = silly.split()\n",
        "print(bland)\n",
        "print(\"\\n------- Extraction of second character -------\")\n",
        "print(\"\".join([c[1] for c in bland]))\n",
        "print(\"\\n------- Built bland back -------\")\n",
        "print(\" \".join([w for w in bland]))\n",
        "print(\"\\n------- Sorted Silly -------\")\n",
        "print(\"\\n\".join(sorted(silly.split())))"
      ],
      "execution_count": 142,
      "outputs": [
        {
          "output_type": "stream",
          "name": "stdout",
          "text": [
            "\n",
            "------- Splited Silly -------\n",
            "['newly', 'formed', 'bland', 'ideas', 'are', 'inexpressible', 'in', 'an', 'infuriating', 'way']\n",
            "\n",
            "------- Extraction of second character -------\n",
            "eoldrnnnna\n",
            "\n",
            "------- Built bland back -------\n",
            "newly formed bland ideas are inexpressible in an infuriating way\n",
            "\n",
            "------- Sorted Silly -------\n",
            "an\n",
            "are\n",
            "bland\n",
            "formed\n",
            "ideas\n",
            "in\n",
            "inexpressible\n",
            "infuriating\n",
            "newly\n",
            "way\n"
          ]
        }
      ]
    }
  ]
}